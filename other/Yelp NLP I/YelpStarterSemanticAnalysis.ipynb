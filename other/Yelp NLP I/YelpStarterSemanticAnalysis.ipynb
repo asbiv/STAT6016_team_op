{
 "cells": [
  {
   "cell_type": "markdown",
   "metadata": {},
   "source": [
    "# Import packages"
   ]
  },
  {
   "cell_type": "code",
   "execution_count": 1,
   "metadata": {
    "collapsed": true
   },
   "outputs": [],
   "source": [
    "import numpy as np\n",
    "import pandas as pd\n",
    "import re\n",
    "import time\n",
    "import nltk"
   ]
  },
  {
   "cell_type": "code",
   "execution_count": 2,
   "metadata": {},
   "outputs": [
    {
     "name": "stdout",
     "output_type": "stream",
     "text": [
      "[nltk_data] Downloading package stopwords to /home/ubuntu/nltk_data...\n",
      "[nltk_data]   Unzipping corpora/stopwords.zip.\n",
      "[nltk_data] Downloading package wordnet to /home/ubuntu/nltk_data...\n",
      "[nltk_data]   Unzipping corpora/wordnet.zip.\n"
     ]
    },
    {
     "data": {
      "text/plain": [
       "True"
      ]
     },
     "execution_count": 2,
     "metadata": {},
     "output_type": "execute_result"
    }
   ],
   "source": [
    "nltk.download('stopwords')\n",
    "nltk.download('wordnet')"
   ]
  },
  {
   "cell_type": "code",
   "execution_count": 3,
   "metadata": {
    "collapsed": true
   },
   "outputs": [],
   "source": [
    "from nltk.corpus import stopwords\n",
    "from nltk.stem import WordNetLemmatizer"
   ]
  },
  {
   "cell_type": "code",
   "execution_count": 4,
   "metadata": {
    "collapsed": true
   },
   "outputs": [],
   "source": [
    "import gensim\n",
    "from gensim import corpora, models\n",
    "from gensim.models.ldamulticore import LdaModel"
   ]
  },
  {
   "cell_type": "code",
   "execution_count": 5,
   "metadata": {
    "collapsed": true
   },
   "outputs": [],
   "source": [
    "import pyLDAvis\n",
    "import pyLDAvis.gensim"
   ]
  },
  {
   "cell_type": "markdown",
   "metadata": {},
   "source": [
    "# Load the review data"
   ]
  },
  {
   "cell_type": "code",
   "execution_count": 6,
   "metadata": {
    "collapsed": true
   },
   "outputs": [],
   "source": [
    "df = pd.read_csv('yelp_training_set_review.csv', encoding='utf-8')"
   ]
  },
  {
   "cell_type": "code",
   "execution_count": 7,
   "metadata": {},
   "outputs": [
    {
     "data": {
      "text/html": [
       "<div>\n",
       "<style>\n",
       "    .dataframe thead tr:only-child th {\n",
       "        text-align: right;\n",
       "    }\n",
       "\n",
       "    .dataframe thead th {\n",
       "        text-align: left;\n",
       "    }\n",
       "\n",
       "    .dataframe tbody tr th {\n",
       "        vertical-align: top;\n",
       "    }\n",
       "</style>\n",
       "<table border=\"1\" class=\"dataframe\">\n",
       "  <thead>\n",
       "    <tr style=\"text-align: right;\">\n",
       "      <th></th>\n",
       "      <th>business_id</th>\n",
       "      <th>date</th>\n",
       "      <th>review_id</th>\n",
       "      <th>stars</th>\n",
       "      <th>text</th>\n",
       "      <th>type</th>\n",
       "      <th>user_id</th>\n",
       "      <th>votes.cool</th>\n",
       "      <th>votes.funny</th>\n",
       "      <th>votes.useful</th>\n",
       "    </tr>\n",
       "  </thead>\n",
       "  <tbody>\n",
       "    <tr>\n",
       "      <th>0</th>\n",
       "      <td>9yKzy9PApeiPPOUJEtnvkg</td>\n",
       "      <td>2011-01-26</td>\n",
       "      <td>fWKvX83p0-ka4JS3dc6E5A</td>\n",
       "      <td>5</td>\n",
       "      <td>My wife took me here on my birthday for breakf...</td>\n",
       "      <td>review</td>\n",
       "      <td>rLtl8ZkDX5vH5nAx9C3q5Q</td>\n",
       "      <td>2</td>\n",
       "      <td>0</td>\n",
       "      <td>5</td>\n",
       "    </tr>\n",
       "    <tr>\n",
       "      <th>1</th>\n",
       "      <td>ZRJwVLyzEJq1VAihDhYiow</td>\n",
       "      <td>2011-07-27</td>\n",
       "      <td>IjZ33sJrzXqU-0X6U8NwyA</td>\n",
       "      <td>5</td>\n",
       "      <td>I have no idea why some people give bad review...</td>\n",
       "      <td>review</td>\n",
       "      <td>0a2KyEL0d3Yb1V6aivbIuQ</td>\n",
       "      <td>0</td>\n",
       "      <td>0</td>\n",
       "      <td>0</td>\n",
       "    </tr>\n",
       "    <tr>\n",
       "      <th>2</th>\n",
       "      <td>6oRAC4uyJCsJl1X0WZpVSA</td>\n",
       "      <td>2012-06-14</td>\n",
       "      <td>IESLBzqUCLdSzSqm0eCSxQ</td>\n",
       "      <td>4</td>\n",
       "      <td>love the gyro plate. Rice is so good and I als...</td>\n",
       "      <td>review</td>\n",
       "      <td>0hT2KtfLiobPvh6cDC8JQg</td>\n",
       "      <td>0</td>\n",
       "      <td>0</td>\n",
       "      <td>1</td>\n",
       "    </tr>\n",
       "    <tr>\n",
       "      <th>3</th>\n",
       "      <td>_1QQZuf4zZOyFCvXc0o6Vg</td>\n",
       "      <td>2010-05-27</td>\n",
       "      <td>G-WvGaISbqqaMHlNnByodA</td>\n",
       "      <td>5</td>\n",
       "      <td>Rosie, Dakota, and I LOVE Chaparral Dog Park!!...</td>\n",
       "      <td>review</td>\n",
       "      <td>uZetl9T0NcROGOyFfughhg</td>\n",
       "      <td>1</td>\n",
       "      <td>0</td>\n",
       "      <td>2</td>\n",
       "    </tr>\n",
       "    <tr>\n",
       "      <th>4</th>\n",
       "      <td>6ozycU1RpktNG2-1BroVtw</td>\n",
       "      <td>2012-01-05</td>\n",
       "      <td>1uJFq2r5QfJG_6ExMRCaGw</td>\n",
       "      <td>5</td>\n",
       "      <td>General Manager Scott Petello is a good egg!!!...</td>\n",
       "      <td>review</td>\n",
       "      <td>vYmM4KTsC8ZfQBg-j5MWkw</td>\n",
       "      <td>0</td>\n",
       "      <td>0</td>\n",
       "      <td>0</td>\n",
       "    </tr>\n",
       "  </tbody>\n",
       "</table>\n",
       "</div>"
      ],
      "text/plain": [
       "              business_id        date               review_id  stars  \\\n",
       "0  9yKzy9PApeiPPOUJEtnvkg  2011-01-26  fWKvX83p0-ka4JS3dc6E5A      5   \n",
       "1  ZRJwVLyzEJq1VAihDhYiow  2011-07-27  IjZ33sJrzXqU-0X6U8NwyA      5   \n",
       "2  6oRAC4uyJCsJl1X0WZpVSA  2012-06-14  IESLBzqUCLdSzSqm0eCSxQ      4   \n",
       "3  _1QQZuf4zZOyFCvXc0o6Vg  2010-05-27  G-WvGaISbqqaMHlNnByodA      5   \n",
       "4  6ozycU1RpktNG2-1BroVtw  2012-01-05  1uJFq2r5QfJG_6ExMRCaGw      5   \n",
       "\n",
       "                                                text    type  \\\n",
       "0  My wife took me here on my birthday for breakf...  review   \n",
       "1  I have no idea why some people give bad review...  review   \n",
       "2  love the gyro plate. Rice is so good and I als...  review   \n",
       "3  Rosie, Dakota, and I LOVE Chaparral Dog Park!!...  review   \n",
       "4  General Manager Scott Petello is a good egg!!!...  review   \n",
       "\n",
       "                  user_id  votes.cool  votes.funny  votes.useful  \n",
       "0  rLtl8ZkDX5vH5nAx9C3q5Q           2            0             5  \n",
       "1  0a2KyEL0d3Yb1V6aivbIuQ           0            0             0  \n",
       "2  0hT2KtfLiobPvh6cDC8JQg           0            0             1  \n",
       "3  uZetl9T0NcROGOyFfughhg           1            0             2  \n",
       "4  vYmM4KTsC8ZfQBg-j5MWkw           0            0             0  "
      ]
     },
     "execution_count": 7,
     "metadata": {},
     "output_type": "execute_result"
    }
   ],
   "source": [
    "df.head()"
   ]
  },
  {
   "cell_type": "code",
   "execution_count": 8,
   "metadata": {},
   "outputs": [
    {
     "data": {
      "text/plain": [
       "(229907, 10)"
      ]
     },
     "execution_count": 8,
     "metadata": {},
     "output_type": "execute_result"
    }
   ],
   "source": [
    "df.shape"
   ]
  },
  {
   "cell_type": "markdown",
   "metadata": {},
   "source": [
    "# Clean the reviews"
   ]
  },
  {
   "cell_type": "code",
   "execution_count": 9,
   "metadata": {},
   "outputs": [
    {
     "name": "stdout",
     "output_type": "stream",
     "text": [
      "CPU times: user 4min 37s, sys: 2.22 s, total: 4min 39s\n",
      "Wall time: 4min 39s\n"
     ]
    }
   ],
   "source": [
    "%%time\n",
    "wordnet_lemmatizer = WordNetLemmatizer()\n",
    "stopset = list(set(stopwords.words('english')))\n",
    "clean_reviews_text = []\n",
    "for review in df['text']:  # Loop through the tokens (the words or symbols) in each review. \n",
    "    try:    \n",
    "        cleaned_review = re.sub(\"[^a-zA-Z]\",\" \", review)  # Remove numbers and punctuation.\n",
    "        cleaned_review = cleaned_review.lower()  # Convert the text to lower case.\n",
    "        cleaned_review = ' '.join([word for word in cleaned_review.split() if word not in stopset])  # Keep only words that are not stopwords.\n",
    "        cleaned_review = ' '.join([wordnet_lemmatizer.lemmatize(word, pos='n') for word in cleaned_review.split()])  # Keep each noun's lemma.\n",
    "        cleaned_review = ' '.join([wordnet_lemmatizer.lemmatize(word, pos='v') for word in cleaned_review.split()])  # Keep each verb's lemma.\n",
    "        cleaned_review = re.sub(r\"(http\\S+)\",\" \", cleaned_review)  # Remove http links.\n",
    "        cleaned_review = ' '.join(cleaned_review.split())  # Remove white space.\n",
    "    except TypeError:\n",
    "        pass\n",
    "    clean_reviews_text.append(cleaned_review)"
   ]
  },
  {
   "cell_type": "code",
   "execution_count": 10,
   "metadata": {},
   "outputs": [
    {
     "data": {
      "text/html": [
       "<div>\n",
       "<style>\n",
       "    .dataframe thead tr:only-child th {\n",
       "        text-align: right;\n",
       "    }\n",
       "\n",
       "    .dataframe thead th {\n",
       "        text-align: left;\n",
       "    }\n",
       "\n",
       "    .dataframe tbody tr th {\n",
       "        vertical-align: top;\n",
       "    }\n",
       "</style>\n",
       "<table border=\"1\" class=\"dataframe\">\n",
       "  <thead>\n",
       "    <tr style=\"text-align: right;\">\n",
       "      <th></th>\n",
       "      <th>business_id</th>\n",
       "      <th>date</th>\n",
       "      <th>review_id</th>\n",
       "      <th>stars</th>\n",
       "      <th>text</th>\n",
       "      <th>type</th>\n",
       "      <th>user_id</th>\n",
       "      <th>votes.cool</th>\n",
       "      <th>votes.funny</th>\n",
       "      <th>votes.useful</th>\n",
       "      <th>cleanText</th>\n",
       "    </tr>\n",
       "  </thead>\n",
       "  <tbody>\n",
       "    <tr>\n",
       "      <th>0</th>\n",
       "      <td>9yKzy9PApeiPPOUJEtnvkg</td>\n",
       "      <td>2011-01-26</td>\n",
       "      <td>fWKvX83p0-ka4JS3dc6E5A</td>\n",
       "      <td>5</td>\n",
       "      <td>My wife took me here on my birthday for breakf...</td>\n",
       "      <td>review</td>\n",
       "      <td>rLtl8ZkDX5vH5nAx9C3q5Q</td>\n",
       "      <td>2</td>\n",
       "      <td>0</td>\n",
       "      <td>5</td>\n",
       "      <td>wife take birthday breakfast excellent weather...</td>\n",
       "    </tr>\n",
       "    <tr>\n",
       "      <th>1</th>\n",
       "      <td>ZRJwVLyzEJq1VAihDhYiow</td>\n",
       "      <td>2011-07-27</td>\n",
       "      <td>IjZ33sJrzXqU-0X6U8NwyA</td>\n",
       "      <td>5</td>\n",
       "      <td>I have no idea why some people give bad review...</td>\n",
       "      <td>review</td>\n",
       "      <td>0a2KyEL0d3Yb1V6aivbIuQ</td>\n",
       "      <td>0</td>\n",
       "      <td>0</td>\n",
       "      <td>0</td>\n",
       "      <td>idea people give bad review place go show plea...</td>\n",
       "    </tr>\n",
       "    <tr>\n",
       "      <th>2</th>\n",
       "      <td>6oRAC4uyJCsJl1X0WZpVSA</td>\n",
       "      <td>2012-06-14</td>\n",
       "      <td>IESLBzqUCLdSzSqm0eCSxQ</td>\n",
       "      <td>4</td>\n",
       "      <td>love the gyro plate. Rice is so good and I als...</td>\n",
       "      <td>review</td>\n",
       "      <td>0hT2KtfLiobPvh6cDC8JQg</td>\n",
       "      <td>0</td>\n",
       "      <td>0</td>\n",
       "      <td>1</td>\n",
       "      <td>love gyro plate rice good also dig candy selec...</td>\n",
       "    </tr>\n",
       "    <tr>\n",
       "      <th>3</th>\n",
       "      <td>_1QQZuf4zZOyFCvXc0o6Vg</td>\n",
       "      <td>2010-05-27</td>\n",
       "      <td>G-WvGaISbqqaMHlNnByodA</td>\n",
       "      <td>5</td>\n",
       "      <td>Rosie, Dakota, and I LOVE Chaparral Dog Park!!...</td>\n",
       "      <td>review</td>\n",
       "      <td>uZetl9T0NcROGOyFfughhg</td>\n",
       "      <td>1</td>\n",
       "      <td>0</td>\n",
       "      <td>2</td>\n",
       "      <td>rosie dakota love chaparral dog park convenien...</td>\n",
       "    </tr>\n",
       "    <tr>\n",
       "      <th>4</th>\n",
       "      <td>6ozycU1RpktNG2-1BroVtw</td>\n",
       "      <td>2012-01-05</td>\n",
       "      <td>1uJFq2r5QfJG_6ExMRCaGw</td>\n",
       "      <td>5</td>\n",
       "      <td>General Manager Scott Petello is a good egg!!!...</td>\n",
       "      <td>review</td>\n",
       "      <td>vYmM4KTsC8ZfQBg-j5MWkw</td>\n",
       "      <td>0</td>\n",
       "      <td>0</td>\n",
       "      <td>0</td>\n",
       "      <td>general manager scott petello good egg go deta...</td>\n",
       "    </tr>\n",
       "  </tbody>\n",
       "</table>\n",
       "</div>"
      ],
      "text/plain": [
       "              business_id        date               review_id  stars  \\\n",
       "0  9yKzy9PApeiPPOUJEtnvkg  2011-01-26  fWKvX83p0-ka4JS3dc6E5A      5   \n",
       "1  ZRJwVLyzEJq1VAihDhYiow  2011-07-27  IjZ33sJrzXqU-0X6U8NwyA      5   \n",
       "2  6oRAC4uyJCsJl1X0WZpVSA  2012-06-14  IESLBzqUCLdSzSqm0eCSxQ      4   \n",
       "3  _1QQZuf4zZOyFCvXc0o6Vg  2010-05-27  G-WvGaISbqqaMHlNnByodA      5   \n",
       "4  6ozycU1RpktNG2-1BroVtw  2012-01-05  1uJFq2r5QfJG_6ExMRCaGw      5   \n",
       "\n",
       "                                                text    type  \\\n",
       "0  My wife took me here on my birthday for breakf...  review   \n",
       "1  I have no idea why some people give bad review...  review   \n",
       "2  love the gyro plate. Rice is so good and I als...  review   \n",
       "3  Rosie, Dakota, and I LOVE Chaparral Dog Park!!...  review   \n",
       "4  General Manager Scott Petello is a good egg!!!...  review   \n",
       "\n",
       "                  user_id  votes.cool  votes.funny  votes.useful  \\\n",
       "0  rLtl8ZkDX5vH5nAx9C3q5Q           2            0             5   \n",
       "1  0a2KyEL0d3Yb1V6aivbIuQ           0            0             0   \n",
       "2  0hT2KtfLiobPvh6cDC8JQg           0            0             1   \n",
       "3  uZetl9T0NcROGOyFfughhg           1            0             2   \n",
       "4  vYmM4KTsC8ZfQBg-j5MWkw           0            0             0   \n",
       "\n",
       "                                           cleanText  \n",
       "0  wife take birthday breakfast excellent weather...  \n",
       "1  idea people give bad review place go show plea...  \n",
       "2  love gyro plate rice good also dig candy selec...  \n",
       "3  rosie dakota love chaparral dog park convenien...  \n",
       "4  general manager scott petello good egg go deta...  "
      ]
     },
     "execution_count": 10,
     "metadata": {},
     "output_type": "execute_result"
    }
   ],
   "source": [
    "df['cleanText'] = clean_reviews_text\n",
    "df.head()"
   ]
  },
  {
   "cell_type": "markdown",
   "metadata": {},
   "source": [
    "Look at a review, before and after cleaning."
   ]
  },
  {
   "cell_type": "code",
   "execution_count": 11,
   "metadata": {},
   "outputs": [
    {
     "name": "stdout",
     "output_type": "stream",
     "text": [
      "ORIGINAL: My wife took me here on my birthday for breakfast and it was excellent.  The weather was perfect which made sitting outside overlooking their grounds an absolute pleasure.  Our waitress was excellent and our food arrived quickly on the semi-busy Saturday morning.  It looked like the place fills up pretty quickly so the earlier you get here the better.\r\n",
      "\r\n",
      "Do yourself a favor and get their Bloody Mary.  It was phenomenal and simply the best I've ever had.  I'm pretty sure they only use ingredients from their garden and blend them fresh when you order it.  It was amazing.\r\n",
      "\r\n",
      "While EVERYTHING on the menu looks excellent, I had the white truffle scrambled eggs vegetable skillet and it was tasty and delicious.  It came with 2 pieces of their griddled bread with was amazing and it absolutely made the meal complete.  It was the best \"toast\" I've ever had.\r\n",
      "\r\n",
      "Anyway, I can't wait to go back!\n",
      " \n",
      "CLEANED: wife take birthday breakfast excellent weather perfect make sit outside overlook grind absolute pleasure waitress excellent food arrive quickly semi busy saturday morning look like place fill pretty quickly earlier get better favor get bloody mary phenomenal simply best ever pretty sure use ingredient garden blend fresh order amaze everything menu look excellent white truffle scramble egg vegetable skillet tasty delicious come piece griddle bread amaze absolutely make meal complete best toast ever anyway wait go back\n"
     ]
    }
   ],
   "source": [
    "print('ORIGINAL: ' + df.iloc[0]['text'])\n",
    "print(' ')\n",
    "print('CLEANED: ' + df.iloc[0]['cleanText'])"
   ]
  },
  {
   "cell_type": "markdown",
   "metadata": {},
   "source": [
    "# Perform semantic analysis using LDA."
   ]
  },
  {
   "cell_type": "markdown",
   "metadata": {},
   "source": [
    "Preprocess the reviews by creating a dictionary of words used and a bag-of-words corpus. Note that each of the steps below takes several minutes."
   ]
  },
  {
   "cell_type": "code",
   "execution_count": 12,
   "metadata": {},
   "outputs": [
    {
     "name": "stdout",
     "output_type": "stream",
     "text": [
      "CPU times: user 43 s, sys: 748 ms, total: 43.7 s\n",
      "Wall time: 43.8 s\n"
     ]
    }
   ],
   "source": [
    "%%time\n",
    "tokens_by_doc = [review.split() for review in clean_reviews_text]\n",
    "dictionary = corpora.Dictionary(tokens_by_doc)\n",
    "bow_corpus = [dictionary.doc2bow(tokens) for tokens in tokens_by_doc]"
   ]
  },
  {
   "cell_type": "markdown",
   "metadata": {},
   "source": [
    "Run the LDA model. This will take about 10 minutes."
   ]
  },
  {
   "cell_type": "code",
   "execution_count": 13,
   "metadata": {},
   "outputs": [
    {
     "name": "stdout",
     "output_type": "stream",
     "text": [
      "CPU times: user 10min 43s, sys: 222 ms, total: 10min 44s\n",
      "Wall time: 10min 44s\n"
     ]
    }
   ],
   "source": [
    "%%time\n",
    "lda_model = LdaModel(bow_corpus, num_topics=10, id2word=dictionary, random_state=201)"
   ]
  },
  {
   "cell_type": "markdown",
   "metadata": {},
   "source": [
    "Make a list of the most likely topic for each review. This will also take about 10 minutes."
   ]
  },
  {
   "cell_type": "code",
   "execution_count": 14,
   "metadata": {},
   "outputs": [
    {
     "name": "stdout",
     "output_type": "stream",
     "text": [
      "CPU times: user 6min 51s, sys: 153 ms, total: 6min 51s\n",
      "Wall time: 6min 51s\n"
     ]
    }
   ],
   "source": [
    "%%time\n",
    "topics_list = []\n",
    "for doc_topics in lda_model.get_document_topics(bow_corpus):\n",
    "    topics_list.append(sorted(doc_topics, key=lambda doc: -doc[1])[0][0])"
   ]
  },
  {
   "cell_type": "code",
   "execution_count": 15,
   "metadata": {},
   "outputs": [
    {
     "data": {
      "text/plain": [
       "[(1, 0.65749589578948586),\n",
       " (2, 0.027202527864085457),\n",
       " (3, 0.026109629012616129),\n",
       " (8, 0.28383360413610059)]"
      ]
     },
     "execution_count": 15,
     "metadata": {},
     "output_type": "execute_result"
    }
   ],
   "source": [
    "lda_model.get_document_topics(bow_corpus[1])"
   ]
  },
  {
   "cell_type": "markdown",
   "metadata": {},
   "source": [
    "Add a new column to the data frame called 'Top Topic'."
   ]
  },
  {
   "cell_type": "code",
   "execution_count": 16,
   "metadata": {},
   "outputs": [
    {
     "data": {
      "text/html": [
       "<div>\n",
       "<style>\n",
       "    .dataframe thead tr:only-child th {\n",
       "        text-align: right;\n",
       "    }\n",
       "\n",
       "    .dataframe thead th {\n",
       "        text-align: left;\n",
       "    }\n",
       "\n",
       "    .dataframe tbody tr th {\n",
       "        vertical-align: top;\n",
       "    }\n",
       "</style>\n",
       "<table border=\"1\" class=\"dataframe\">\n",
       "  <thead>\n",
       "    <tr style=\"text-align: right;\">\n",
       "      <th></th>\n",
       "      <th>business_id</th>\n",
       "      <th>date</th>\n",
       "      <th>review_id</th>\n",
       "      <th>stars</th>\n",
       "      <th>text</th>\n",
       "      <th>type</th>\n",
       "      <th>user_id</th>\n",
       "      <th>votes.cool</th>\n",
       "      <th>votes.funny</th>\n",
       "      <th>votes.useful</th>\n",
       "      <th>cleanText</th>\n",
       "      <th>Top Topic</th>\n",
       "    </tr>\n",
       "  </thead>\n",
       "  <tbody>\n",
       "    <tr>\n",
       "      <th>0</th>\n",
       "      <td>9yKzy9PApeiPPOUJEtnvkg</td>\n",
       "      <td>2011-01-26</td>\n",
       "      <td>fWKvX83p0-ka4JS3dc6E5A</td>\n",
       "      <td>5</td>\n",
       "      <td>My wife took me here on my birthday for breakf...</td>\n",
       "      <td>review</td>\n",
       "      <td>rLtl8ZkDX5vH5nAx9C3q5Q</td>\n",
       "      <td>2</td>\n",
       "      <td>0</td>\n",
       "      <td>5</td>\n",
       "      <td>wife take birthday breakfast excellent weather...</td>\n",
       "      <td>2</td>\n",
       "    </tr>\n",
       "    <tr>\n",
       "      <th>1</th>\n",
       "      <td>ZRJwVLyzEJq1VAihDhYiow</td>\n",
       "      <td>2011-07-27</td>\n",
       "      <td>IjZ33sJrzXqU-0X6U8NwyA</td>\n",
       "      <td>5</td>\n",
       "      <td>I have no idea why some people give bad review...</td>\n",
       "      <td>review</td>\n",
       "      <td>0a2KyEL0d3Yb1V6aivbIuQ</td>\n",
       "      <td>0</td>\n",
       "      <td>0</td>\n",
       "      <td>0</td>\n",
       "      <td>idea people give bad review place go show plea...</td>\n",
       "      <td>1</td>\n",
       "    </tr>\n",
       "    <tr>\n",
       "      <th>2</th>\n",
       "      <td>6oRAC4uyJCsJl1X0WZpVSA</td>\n",
       "      <td>2012-06-14</td>\n",
       "      <td>IESLBzqUCLdSzSqm0eCSxQ</td>\n",
       "      <td>4</td>\n",
       "      <td>love the gyro plate. Rice is so good and I als...</td>\n",
       "      <td>review</td>\n",
       "      <td>0hT2KtfLiobPvh6cDC8JQg</td>\n",
       "      <td>0</td>\n",
       "      <td>0</td>\n",
       "      <td>1</td>\n",
       "      <td>love gyro plate rice good also dig candy selec...</td>\n",
       "      <td>9</td>\n",
       "    </tr>\n",
       "    <tr>\n",
       "      <th>3</th>\n",
       "      <td>_1QQZuf4zZOyFCvXc0o6Vg</td>\n",
       "      <td>2010-05-27</td>\n",
       "      <td>G-WvGaISbqqaMHlNnByodA</td>\n",
       "      <td>5</td>\n",
       "      <td>Rosie, Dakota, and I LOVE Chaparral Dog Park!!...</td>\n",
       "      <td>review</td>\n",
       "      <td>uZetl9T0NcROGOyFfughhg</td>\n",
       "      <td>1</td>\n",
       "      <td>0</td>\n",
       "      <td>2</td>\n",
       "      <td>rosie dakota love chaparral dog park convenien...</td>\n",
       "      <td>6</td>\n",
       "    </tr>\n",
       "    <tr>\n",
       "      <th>4</th>\n",
       "      <td>6ozycU1RpktNG2-1BroVtw</td>\n",
       "      <td>2012-01-05</td>\n",
       "      <td>1uJFq2r5QfJG_6ExMRCaGw</td>\n",
       "      <td>5</td>\n",
       "      <td>General Manager Scott Petello is a good egg!!!...</td>\n",
       "      <td>review</td>\n",
       "      <td>vYmM4KTsC8ZfQBg-j5MWkw</td>\n",
       "      <td>0</td>\n",
       "      <td>0</td>\n",
       "      <td>0</td>\n",
       "      <td>general manager scott petello good egg go deta...</td>\n",
       "      <td>5</td>\n",
       "    </tr>\n",
       "  </tbody>\n",
       "</table>\n",
       "</div>"
      ],
      "text/plain": [
       "              business_id        date               review_id  stars  \\\n",
       "0  9yKzy9PApeiPPOUJEtnvkg  2011-01-26  fWKvX83p0-ka4JS3dc6E5A      5   \n",
       "1  ZRJwVLyzEJq1VAihDhYiow  2011-07-27  IjZ33sJrzXqU-0X6U8NwyA      5   \n",
       "2  6oRAC4uyJCsJl1X0WZpVSA  2012-06-14  IESLBzqUCLdSzSqm0eCSxQ      4   \n",
       "3  _1QQZuf4zZOyFCvXc0o6Vg  2010-05-27  G-WvGaISbqqaMHlNnByodA      5   \n",
       "4  6ozycU1RpktNG2-1BroVtw  2012-01-05  1uJFq2r5QfJG_6ExMRCaGw      5   \n",
       "\n",
       "                                                text    type  \\\n",
       "0  My wife took me here on my birthday for breakf...  review   \n",
       "1  I have no idea why some people give bad review...  review   \n",
       "2  love the gyro plate. Rice is so good and I als...  review   \n",
       "3  Rosie, Dakota, and I LOVE Chaparral Dog Park!!...  review   \n",
       "4  General Manager Scott Petello is a good egg!!!...  review   \n",
       "\n",
       "                  user_id  votes.cool  votes.funny  votes.useful  \\\n",
       "0  rLtl8ZkDX5vH5nAx9C3q5Q           2            0             5   \n",
       "1  0a2KyEL0d3Yb1V6aivbIuQ           0            0             0   \n",
       "2  0hT2KtfLiobPvh6cDC8JQg           0            0             1   \n",
       "3  uZetl9T0NcROGOyFfughhg           1            0             2   \n",
       "4  vYmM4KTsC8ZfQBg-j5MWkw           0            0             0   \n",
       "\n",
       "                                           cleanText  Top Topic  \n",
       "0  wife take birthday breakfast excellent weather...          2  \n",
       "1  idea people give bad review place go show plea...          1  \n",
       "2  love gyro plate rice good also dig candy selec...          9  \n",
       "3  rosie dakota love chaparral dog park convenien...          6  \n",
       "4  general manager scott petello good egg go deta...          5  "
      ]
     },
     "execution_count": 16,
     "metadata": {},
     "output_type": "execute_result"
    }
   ],
   "source": [
    "df['Top Topic'] = topics_list\n",
    "df.head()"
   ]
  },
  {
   "cell_type": "markdown",
   "metadata": {},
   "source": [
    "Create a pivot table of the average number of useful votes by top topic. Which topic gets the most useful votes? Do the same analysis for stars. Which topic gets the most stars?"
   ]
  },
  {
   "cell_type": "code",
   "execution_count": 17,
   "metadata": {},
   "outputs": [
    {
     "data": {
      "text/html": [
       "<div>\n",
       "<style>\n",
       "    .dataframe thead tr:only-child th {\n",
       "        text-align: right;\n",
       "    }\n",
       "\n",
       "    .dataframe thead th {\n",
       "        text-align: left;\n",
       "    }\n",
       "\n",
       "    .dataframe tbody tr th {\n",
       "        vertical-align: top;\n",
       "    }\n",
       "</style>\n",
       "<table border=\"1\" class=\"dataframe\">\n",
       "  <thead>\n",
       "    <tr style=\"text-align: right;\">\n",
       "      <th>Top Topic</th>\n",
       "      <th>0</th>\n",
       "      <th>1</th>\n",
       "      <th>2</th>\n",
       "      <th>3</th>\n",
       "      <th>4</th>\n",
       "      <th>5</th>\n",
       "      <th>6</th>\n",
       "      <th>7</th>\n",
       "      <th>8</th>\n",
       "      <th>9</th>\n",
       "    </tr>\n",
       "  </thead>\n",
       "  <tbody>\n",
       "    <tr>\n",
       "      <th>votes.useful</th>\n",
       "      <td>1.42551</td>\n",
       "      <td>1.643496</td>\n",
       "      <td>1.644544</td>\n",
       "      <td>1.506919</td>\n",
       "      <td>1.846467</td>\n",
       "      <td>1.275724</td>\n",
       "      <td>1.573795</td>\n",
       "      <td>1.186448</td>\n",
       "      <td>1.314423</td>\n",
       "      <td>1.11718</td>\n",
       "    </tr>\n",
       "  </tbody>\n",
       "</table>\n",
       "</div>"
      ],
      "text/plain": [
       "Top Topic           0         1         2         3         4         5  \\\n",
       "votes.useful  1.42551  1.643496  1.644544  1.506919  1.846467  1.275724   \n",
       "\n",
       "Top Topic            6         7         8        9  \n",
       "votes.useful  1.573795  1.186448  1.314423  1.11718  "
      ]
     },
     "execution_count": 17,
     "metadata": {},
     "output_type": "execute_result"
    }
   ],
   "source": [
    "pd.pivot_table(df, values='votes.useful', columns='Top Topic', aggfunc='mean')"
   ]
  },
  {
   "cell_type": "code",
   "execution_count": 18,
   "metadata": {},
   "outputs": [
    {
     "data": {
      "text/html": [
       "<div>\n",
       "<style>\n",
       "    .dataframe thead tr:only-child th {\n",
       "        text-align: right;\n",
       "    }\n",
       "\n",
       "    .dataframe thead th {\n",
       "        text-align: left;\n",
       "    }\n",
       "\n",
       "    .dataframe tbody tr th {\n",
       "        vertical-align: top;\n",
       "    }\n",
       "</style>\n",
       "<table border=\"1\" class=\"dataframe\">\n",
       "  <thead>\n",
       "    <tr style=\"text-align: right;\">\n",
       "      <th>Top Topic</th>\n",
       "      <th>0</th>\n",
       "      <th>1</th>\n",
       "      <th>2</th>\n",
       "      <th>3</th>\n",
       "      <th>4</th>\n",
       "      <th>5</th>\n",
       "      <th>6</th>\n",
       "      <th>7</th>\n",
       "      <th>8</th>\n",
       "      <th>9</th>\n",
       "    </tr>\n",
       "  </thead>\n",
       "  <tbody>\n",
       "    <tr>\n",
       "      <th>stars</th>\n",
       "      <td>4.1069</td>\n",
       "      <td>2.613003</td>\n",
       "      <td>4.138665</td>\n",
       "      <td>3.895518</td>\n",
       "      <td>4.163043</td>\n",
       "      <td>3.624386</td>\n",
       "      <td>3.956246</td>\n",
       "      <td>4.04478</td>\n",
       "      <td>3.850044</td>\n",
       "      <td>3.891745</td>\n",
       "    </tr>\n",
       "  </tbody>\n",
       "</table>\n",
       "</div>"
      ],
      "text/plain": [
       "Top Topic       0         1         2         3         4         5         6  \\\n",
       "stars      4.1069  2.613003  4.138665  3.895518  4.163043  3.624386  3.956246   \n",
       "\n",
       "Top Topic        7         8         9  \n",
       "stars      4.04478  3.850044  3.891745  "
      ]
     },
     "execution_count": 18,
     "metadata": {},
     "output_type": "execute_result"
    }
   ],
   "source": [
    "pd.pivot_table(df, values='stars', columns='Top Topic', aggfunc='mean')"
   ]
  },
  {
   "cell_type": "markdown",
   "metadata": {},
   "source": [
    "Look at the probability of the top 20 words appearing in Topic 0."
   ]
  },
  {
   "cell_type": "code",
   "execution_count": 19,
   "metadata": {
    "scrolled": true
   },
   "outputs": [
    {
     "data": {
      "text/plain": [
       "[('get', 0.014583716381568577),\n",
       " ('go', 0.011807179761282066),\n",
       " ('time', 0.010875527405797673),\n",
       " ('call', 0.0096648951492867979),\n",
       " ('take', 0.0096433997560053525),\n",
       " ('work', 0.0093190344065860325),\n",
       " ('service', 0.0082792584297509339),\n",
       " ('would', 0.0082012522852191981),\n",
       " ('car', 0.0076914782720942003),\n",
       " ('say', 0.007617794254765357),\n",
       " ('need', 0.0074760666105620037),\n",
       " ('tell', 0.0073642497473562765),\n",
       " ('make', 0.0071528496211106136),\n",
       " ('back', 0.0069438132115129166),\n",
       " ('day', 0.0064086920690013061),\n",
       " ('customer', 0.0061722227505412244),\n",
       " ('know', 0.0056777046532892998),\n",
       " ('give', 0.0055192946849838987),\n",
       " ('year', 0.0052047466414405297),\n",
       " ('one', 0.0050669229777149131)]"
      ]
     },
     "execution_count": 19,
     "metadata": {},
     "output_type": "execute_result"
    }
   ],
   "source": [
    "lda_model.show_topic(topicid=5, topn=20)"
   ]
  },
  {
   "cell_type": "markdown",
   "metadata": {},
   "source": [
    "# Visualize your LDA results"
   ]
  },
  {
   "cell_type": "markdown",
   "metadata": {},
   "source": [
    "Preparing the visualization will take several minutes."
   ]
  },
  {
   "cell_type": "code",
   "execution_count": 20,
   "metadata": {},
   "outputs": [
    {
     "name": "stdout",
     "output_type": "stream",
     "text": [
      "CPU times: user 6min 45s, sys: 1.28 s, total: 6min 46s\n",
      "Wall time: 6min 53s\n"
     ]
    }
   ],
   "source": [
    "%%time\n",
    "LDAvis_prepared = pyLDAvis.gensim.prepare(lda_model, bow_corpus, dictionary)"
   ]
  },
  {
   "cell_type": "markdown",
   "metadata": {},
   "source": [
    "The plot on the left below is generated using multidimensional scaling, which is a general purpose algorithm for plotting, in two dimensions, items that are multidimensional (e.g., topics which are described by probabilities of thousands of words). For further reading on multidimensional scaling, see https://en.wikipedia.org/wiki/Multidimensional_scaling. \n",
    "\n",
    "When you hover over a topic on the left plot, you can then see a ranking of the most salient words on the right plot. Using these two plots, you might be able to create names for your ten topics."
   ]
  },
  {
   "cell_type": "code",
   "execution_count": 21,
   "metadata": {},
   "outputs": [
    {
     "name": "stdout",
     "output_type": "stream",
     "text": [
      "CPU times: user 5.85 ms, sys: 3.99 ms, total: 9.84 ms\n",
      "Wall time: 9.44 ms\n"
     ]
    },
    {
     "data": {
      "text/html": [
       "\n",
       "<link rel=\"stylesheet\" type=\"text/css\" href=\"https://cdn.rawgit.com/bmabey/pyLDAvis/files/ldavis.v1.0.0.css\">\n",
       "\n",
       "\n",
       "<div id=\"ldavis_el1111401227883944729210681164\"></div>\n",
       "<script type=\"text/javascript\">\n",
       "\n",
       "var ldavis_el1111401227883944729210681164_data = {\"mdsDat\": {\"Freq\": [17.288424447372776, 13.09520296177392, 12.64989472945558, 11.53554188512533, 10.575235591851733, 9.354632937350123, 8.560738088885678, 7.556892780604054, 6.410503264821629, 2.972933312759162], \"cluster\": [1, 1, 1, 1, 1, 1, 1, 1, 1, 1], \"topics\": [1, 2, 3, 4, 5, 6, 7, 8, 9, 10], \"x\": [0.0389331771444643, 0.09785703752123982, 0.05443702550767071, 0.12128828210465276, -0.014668817043977486, 0.10308155694544006, -0.05441204344950113, -0.09131871103179971, 0.07717318213168174, -0.3323706898298714], \"y\": [-0.10927936269936123, 0.11662456881308232, -0.04796375829812168, 0.08399559883884725, -0.09387823204059162, 0.08075209050519842, -0.18365225587063913, -0.11347360342558087, 0.10721806501744824, 0.15965688915971837]}, \"tinfo\": {\"Category\": [\"Default\", \"Default\", \"Default\", \"Default\", \"Default\", \"Default\", \"Default\", \"Default\", \"Default\", \"Default\", \"Default\", \"Default\", \"Default\", \"Default\", \"Default\", \"Default\", \"Default\", \"Default\", \"Default\", \"Default\", \"Default\", \"Default\", \"Default\", \"Default\", \"Default\", \"Default\", \"Default\", \"Default\", \"Default\", \"Default\", \"Topic1\", \"Topic1\", \"Topic1\", \"Topic1\", \"Topic1\", \"Topic1\", \"Topic1\", \"Topic1\", \"Topic1\", \"Topic1\", \"Topic1\", \"Topic1\", \"Topic1\", \"Topic1\", \"Topic1\", \"Topic1\", \"Topic1\", \"Topic1\", \"Topic1\", \"Topic1\", \"Topic1\", \"Topic1\", \"Topic1\", \"Topic1\", \"Topic1\", \"Topic1\", \"Topic1\", \"Topic1\", \"Topic1\", \"Topic1\", \"Topic1\", \"Topic1\", \"Topic1\", \"Topic1\", \"Topic1\", \"Topic1\", \"Topic1\", \"Topic1\", \"Topic1\", \"Topic1\", \"Topic1\", \"Topic1\", \"Topic1\", \"Topic1\", \"Topic1\", \"Topic1\", \"Topic1\", \"Topic1\", \"Topic1\", \"Topic1\", \"Topic1\", \"Topic1\", \"Topic1\", \"Topic1\", \"Topic1\", \"Topic1\", \"Topic1\", \"Topic1\", \"Topic1\", \"Topic1\", \"Topic1\", \"Topic1\", \"Topic1\", \"Topic1\", \"Topic1\", \"Topic1\", \"Topic1\", \"Topic1\", \"Topic1\", \"Topic1\", \"Topic1\", \"Topic1\", \"Topic1\", \"Topic1\", \"Topic1\", \"Topic1\", \"Topic1\", \"Topic1\", \"Topic1\", \"Topic1\", \"Topic1\", \"Topic1\", \"Topic1\", \"Topic1\", \"Topic1\", \"Topic1\", \"Topic1\", \"Topic1\", \"Topic1\", \"Topic1\", \"Topic1\", \"Topic1\", \"Topic1\", \"Topic1\", \"Topic1\", \"Topic1\", \"Topic1\", \"Topic1\", \"Topic1\", \"Topic2\", \"Topic2\", \"Topic2\", \"Topic2\", \"Topic2\", \"Topic2\", \"Topic2\", \"Topic2\", \"Topic2\", \"Topic2\", \"Topic2\", \"Topic2\", \"Topic2\", \"Topic2\", \"Topic2\", \"Topic2\", \"Topic2\", \"Topic2\", \"Topic2\", \"Topic2\", \"Topic2\", \"Topic2\", \"Topic2\", \"Topic2\", \"Topic2\", \"Topic2\", \"Topic2\", \"Topic2\", \"Topic2\", \"Topic2\", \"Topic2\", \"Topic2\", \"Topic2\", \"Topic2\", \"Topic2\", \"Topic2\", \"Topic2\", \"Topic2\", \"Topic2\", \"Topic2\", \"Topic2\", \"Topic2\", \"Topic2\", \"Topic2\", \"Topic2\", \"Topic2\", \"Topic2\", \"Topic2\", \"Topic2\", \"Topic2\", \"Topic2\", \"Topic2\", \"Topic2\", \"Topic2\", \"Topic2\", \"Topic2\", \"Topic2\", \"Topic2\", \"Topic2\", \"Topic2\", \"Topic2\", \"Topic2\", \"Topic2\", \"Topic2\", \"Topic2\", \"Topic2\", \"Topic2\", \"Topic2\", \"Topic2\", \"Topic2\", \"Topic2\", \"Topic2\", \"Topic2\", \"Topic2\", \"Topic2\", \"Topic2\", \"Topic2\", \"Topic2\", \"Topic2\", \"Topic2\", \"Topic2\", \"Topic2\", \"Topic2\", \"Topic2\", \"Topic2\", \"Topic2\", \"Topic2\", \"Topic2\", \"Topic2\", \"Topic2\", \"Topic2\", \"Topic3\", \"Topic3\", \"Topic3\", \"Topic3\", \"Topic3\", \"Topic3\", \"Topic3\", \"Topic3\", \"Topic3\", \"Topic3\", \"Topic3\", \"Topic3\", \"Topic3\", \"Topic3\", \"Topic3\", \"Topic3\", \"Topic3\", \"Topic3\", \"Topic3\", \"Topic3\", \"Topic3\", \"Topic3\", \"Topic3\", \"Topic3\", \"Topic3\", \"Topic3\", \"Topic3\", \"Topic3\", \"Topic3\", \"Topic3\", \"Topic3\", \"Topic3\", \"Topic3\", \"Topic3\", \"Topic3\", \"Topic3\", \"Topic3\", \"Topic3\", \"Topic3\", \"Topic3\", \"Topic3\", \"Topic3\", \"Topic3\", \"Topic3\", \"Topic3\", \"Topic3\", \"Topic3\", \"Topic3\", \"Topic3\", \"Topic3\", \"Topic3\", \"Topic3\", \"Topic3\", \"Topic3\", \"Topic3\", \"Topic3\", \"Topic3\", \"Topic3\", \"Topic3\", \"Topic3\", \"Topic3\", \"Topic3\", \"Topic3\", \"Topic3\", \"Topic3\", \"Topic3\", \"Topic3\", \"Topic3\", \"Topic3\", \"Topic3\", \"Topic3\", \"Topic3\", \"Topic3\", \"Topic3\", \"Topic3\", \"Topic3\", \"Topic3\", \"Topic3\", \"Topic3\", \"Topic3\", \"Topic3\", \"Topic3\", \"Topic3\", \"Topic4\", \"Topic4\", \"Topic4\", \"Topic4\", \"Topic4\", \"Topic4\", \"Topic4\", \"Topic4\", \"Topic4\", \"Topic4\", \"Topic4\", \"Topic4\", \"Topic4\", \"Topic4\", \"Topic4\", \"Topic4\", \"Topic4\", \"Topic4\", \"Topic4\", \"Topic4\", \"Topic4\", \"Topic4\", \"Topic4\", \"Topic4\", \"Topic4\", \"Topic4\", \"Topic4\", \"Topic4\", \"Topic4\", \"Topic4\", \"Topic4\", \"Topic4\", \"Topic4\", \"Topic4\", \"Topic4\", \"Topic4\", \"Topic4\", \"Topic4\", \"Topic4\", \"Topic4\", \"Topic4\", \"Topic4\", \"Topic4\", \"Topic4\", \"Topic4\", \"Topic4\", \"Topic4\", \"Topic4\", \"Topic4\", \"Topic4\", \"Topic4\", \"Topic4\", \"Topic4\", \"Topic4\", \"Topic4\", \"Topic4\", \"Topic4\", \"Topic4\", \"Topic4\", \"Topic4\", \"Topic4\", \"Topic4\", \"Topic4\", \"Topic4\", \"Topic4\", \"Topic4\", \"Topic4\", \"Topic4\", \"Topic4\", \"Topic4\", \"Topic4\", \"Topic4\", \"Topic4\", \"Topic4\", \"Topic4\", \"Topic4\", \"Topic4\", \"Topic4\", \"Topic4\", \"Topic4\", \"Topic5\", \"Topic5\", \"Topic5\", \"Topic5\", \"Topic5\", \"Topic5\", \"Topic5\", \"Topic5\", \"Topic5\", \"Topic5\", \"Topic5\", \"Topic5\", \"Topic5\", \"Topic5\", \"Topic5\", \"Topic5\", \"Topic5\", \"Topic5\", \"Topic5\", \"Topic5\", \"Topic5\", \"Topic5\", \"Topic5\", \"Topic5\", \"Topic5\", \"Topic5\", \"Topic5\", \"Topic5\", \"Topic5\", \"Topic5\", \"Topic5\", \"Topic5\", \"Topic5\", \"Topic5\", \"Topic5\", \"Topic5\", \"Topic5\", \"Topic5\", \"Topic5\", \"Topic5\", \"Topic5\", \"Topic5\", \"Topic5\", \"Topic5\", \"Topic5\", \"Topic5\", \"Topic5\", \"Topic5\", \"Topic5\", \"Topic5\", \"Topic5\", \"Topic5\", \"Topic5\", \"Topic5\", \"Topic5\", \"Topic5\", \"Topic5\", \"Topic5\", \"Topic5\", \"Topic5\", \"Topic5\", \"Topic5\", \"Topic5\", \"Topic5\", \"Topic5\", \"Topic5\", \"Topic5\", \"Topic5\", \"Topic5\", \"Topic5\", \"Topic5\", \"Topic5\", \"Topic5\", \"Topic5\", \"Topic5\", \"Topic5\", \"Topic5\", \"Topic5\", \"Topic5\", \"Topic5\", \"Topic5\", \"Topic5\", \"Topic5\", \"Topic5\", \"Topic5\", \"Topic5\", \"Topic5\", \"Topic6\", \"Topic6\", \"Topic6\", \"Topic6\", \"Topic6\", \"Topic6\", \"Topic6\", \"Topic6\", \"Topic6\", \"Topic6\", \"Topic6\", \"Topic6\", \"Topic6\", \"Topic6\", \"Topic6\", \"Topic6\", \"Topic6\", \"Topic6\", \"Topic6\", \"Topic6\", \"Topic6\", \"Topic6\", \"Topic6\", \"Topic6\", \"Topic6\", \"Topic6\", \"Topic6\", \"Topic6\", \"Topic6\", \"Topic6\", \"Topic6\", \"Topic6\", \"Topic6\", \"Topic6\", \"Topic6\", \"Topic6\", \"Topic6\", \"Topic6\", \"Topic6\", \"Topic6\", \"Topic6\", \"Topic6\", \"Topic6\", \"Topic6\", \"Topic6\", \"Topic6\", \"Topic6\", \"Topic6\", \"Topic6\", \"Topic6\", \"Topic6\", \"Topic6\", \"Topic6\", \"Topic6\", \"Topic6\", \"Topic6\", \"Topic6\", \"Topic6\", \"Topic6\", \"Topic6\", \"Topic6\", \"Topic6\", \"Topic6\", \"Topic6\", \"Topic6\", \"Topic6\", \"Topic6\", \"Topic6\", \"Topic6\", \"Topic6\", \"Topic6\", \"Topic6\", \"Topic6\", \"Topic6\", \"Topic6\", \"Topic6\", \"Topic6\", \"Topic6\", \"Topic7\", \"Topic7\", \"Topic7\", \"Topic7\", \"Topic7\", \"Topic7\", \"Topic7\", \"Topic7\", \"Topic7\", \"Topic7\", \"Topic7\", \"Topic7\", \"Topic7\", \"Topic7\", \"Topic7\", \"Topic7\", \"Topic7\", \"Topic7\", \"Topic7\", \"Topic7\", \"Topic7\", \"Topic7\", \"Topic7\", \"Topic7\", \"Topic7\", \"Topic7\", \"Topic7\", \"Topic7\", \"Topic7\", \"Topic7\", \"Topic7\", \"Topic7\", \"Topic7\", \"Topic7\", \"Topic7\", \"Topic7\", \"Topic7\", \"Topic7\", \"Topic7\", \"Topic7\", \"Topic7\", \"Topic7\", \"Topic7\", \"Topic7\", \"Topic7\", \"Topic7\", \"Topic7\", \"Topic7\", \"Topic7\", \"Topic7\", \"Topic7\", \"Topic7\", \"Topic7\", \"Topic7\", \"Topic7\", \"Topic7\", \"Topic7\", \"Topic7\", \"Topic7\", \"Topic7\", \"Topic7\", \"Topic7\", \"Topic7\", \"Topic7\", \"Topic7\", \"Topic7\", \"Topic7\", \"Topic7\", \"Topic7\", \"Topic7\", \"Topic7\", \"Topic7\", \"Topic7\", \"Topic7\", \"Topic7\", \"Topic7\", \"Topic7\", \"Topic7\", \"Topic7\", \"Topic7\", \"Topic7\", \"Topic7\", \"Topic7\", \"Topic7\", \"Topic7\", \"Topic8\", \"Topic8\", \"Topic8\", \"Topic8\", \"Topic8\", \"Topic8\", \"Topic8\", \"Topic8\", \"Topic8\", \"Topic8\", \"Topic8\", \"Topic8\", \"Topic8\", \"Topic8\", \"Topic8\", \"Topic8\", \"Topic8\", \"Topic8\", \"Topic8\", \"Topic8\", \"Topic8\", \"Topic8\", \"Topic8\", \"Topic8\", \"Topic8\", \"Topic8\", \"Topic8\", \"Topic8\", \"Topic8\", \"Topic8\", \"Topic8\", \"Topic8\", \"Topic8\", \"Topic8\", \"Topic8\", \"Topic8\", \"Topic8\", \"Topic8\", \"Topic8\", \"Topic8\", \"Topic8\", \"Topic8\", \"Topic8\", \"Topic8\", \"Topic8\", \"Topic8\", \"Topic8\", \"Topic8\", \"Topic8\", \"Topic8\", \"Topic8\", \"Topic8\", \"Topic8\", \"Topic8\", \"Topic8\", \"Topic8\", \"Topic8\", \"Topic8\", \"Topic8\", \"Topic8\", \"Topic8\", \"Topic8\", \"Topic8\", \"Topic8\", \"Topic8\", \"Topic8\", \"Topic8\", \"Topic8\", \"Topic8\", \"Topic8\", \"Topic8\", \"Topic8\", \"Topic8\", \"Topic8\", \"Topic8\", \"Topic8\", \"Topic8\", \"Topic9\", \"Topic9\", \"Topic9\", \"Topic9\", \"Topic9\", \"Topic9\", \"Topic9\", \"Topic9\", \"Topic9\", \"Topic9\", \"Topic9\", \"Topic9\", \"Topic9\", \"Topic9\", \"Topic9\", \"Topic9\", \"Topic9\", \"Topic9\", \"Topic9\", \"Topic9\", \"Topic9\", \"Topic9\", \"Topic9\", \"Topic9\", \"Topic9\", \"Topic9\", \"Topic9\", \"Topic9\", \"Topic9\", \"Topic9\", \"Topic9\", \"Topic9\", \"Topic9\", \"Topic9\", \"Topic9\", \"Topic9\", \"Topic9\", \"Topic9\", \"Topic9\", \"Topic9\", \"Topic9\", \"Topic9\", \"Topic9\", \"Topic9\", \"Topic9\", \"Topic9\", \"Topic9\", \"Topic9\", \"Topic9\", \"Topic9\", \"Topic9\", \"Topic9\", \"Topic9\", \"Topic9\", \"Topic9\", \"Topic9\", \"Topic9\", \"Topic9\", \"Topic9\", \"Topic9\", \"Topic9\", \"Topic9\", \"Topic9\", \"Topic9\", \"Topic9\", \"Topic9\", \"Topic9\", \"Topic9\", \"Topic9\", \"Topic9\", \"Topic9\", \"Topic10\", \"Topic10\", \"Topic10\", \"Topic10\", \"Topic10\", \"Topic10\", \"Topic10\", \"Topic10\", \"Topic10\", \"Topic10\", \"Topic10\", \"Topic10\", \"Topic10\", \"Topic10\", \"Topic10\", \"Topic10\", \"Topic10\", \"Topic10\", \"Topic10\", \"Topic10\", \"Topic10\", \"Topic10\", \"Topic10\", \"Topic10\", \"Topic10\", \"Topic10\", \"Topic10\", \"Topic10\", \"Topic10\", \"Topic10\", \"Topic10\", \"Topic10\", \"Topic10\", \"Topic10\", \"Topic10\", \"Topic10\", \"Topic10\", \"Topic10\", \"Topic10\", \"Topic10\", \"Topic10\", \"Topic10\", \"Topic10\", \"Topic10\", \"Topic10\", \"Topic10\", \"Topic10\", \"Topic10\", \"Topic10\", \"Topic10\", \"Topic10\", \"Topic10\", \"Topic10\", \"Topic10\", \"Topic10\", \"Topic10\", \"Topic10\", \"Topic10\", \"Topic10\", \"Topic10\", \"Topic10\", \"Topic10\", \"Topic10\", \"Topic10\", \"Topic10\", \"Topic10\", \"Topic10\", \"Topic10\"], \"Freq\": [142713.0, 34586.0, 26362.0, 39184.0, 41316.0, 18947.0, 22550.0, 168375.0, 27642.0, 85782.0, 35262.0, 24463.0, 22087.0, 152521.0, 112752.0, 46454.0, 15619.0, 32421.0, 33029.0, 16129.0, 15243.0, 19433.0, 24688.0, 25995.0, 29290.0, 19600.0, 14549.0, 13459.0, 34799.0, 45210.0, 1046.5607673509905, 466.6583194866353, 424.5481378308154, 398.2037601750628, 374.41788613621674, 338.3684883334474, 336.17841629876136, 326.2311740151121, 309.73652043975534, 273.334642281678, 268.29293145232634, 266.80325083300164, 233.47753044961257, 233.2652696374576, 227.83011298503573, 231.72753351256674, 222.64088653800826, 216.49293624703495, 216.20150364842092, 217.95280554150912, 210.8063379394878, 204.147262784339, 202.96594381329794, 200.0385505209428, 199.6881316051301, 195.94971325962734, 195.0834974355046, 194.73735326296753, 192.1565122914785, 192.09190565323104, 569.6802036404113, 567.0231447645921, 342.00287419196025, 1519.7136258021121, 883.6173838870991, 357.15467786039034, 2283.5837360204364, 414.33673399724404, 3291.279364968682, 3414.2774338714203, 3087.968822570275, 1452.3985308482095, 9599.98502090416, 1199.0308179965111, 17694.386094141366, 325.1689340556166, 2801.2483850828944, 650.044170614734, 1473.5690439317798, 30045.400446212967, 21523.481433856876, 3749.878540910277, 25361.08706047865, 2984.219878856395, 4739.400919285054, 20410.068897253936, 1208.4039077084005, 12465.583721799636, 1807.5918755565704, 2669.799309306464, 6182.158320714554, 5781.856536180692, 13640.603218633903, 30599.053213025865, 38369.83442684432, 8995.26076777307, 16578.128815963933, 13783.612168723139, 11636.970141059053, 3720.904866806154, 24422.421122184, 19737.385052283807, 12129.034511664544, 6217.4251075224365, 5229.994646382019, 29316.587740841896, 26907.10609065087, 47096.87969585342, 10777.986963118448, 46241.84322035067, 33401.09341279153, 18450.373918770994, 20212.91124150617, 37121.00751370158, 23250.02215524017, 8765.118587606323, 11489.532050641055, 21669.44423283019, 14108.492688701544, 25001.950020889493, 17436.979505389605, 26396.637928348457, 15448.510187397467, 23477.552433250516, 14212.814977878184, 14307.654407645345, 14778.649414105974, 15237.265219906747, 14745.951803531223, 3982.4786192558295, 2090.135439707302, 1652.5720045198357, 1587.1049728031608, 1676.1861537674667, 1045.0597880090088, 1004.1052371381071, 1106.5900029361942, 1230.6769991762062, 952.8618411121772, 929.6183241613542, 2620.0582895490784, 903.4098316494077, 848.1614504857878, 802.2051201869418, 2216.544326191952, 729.8036213902062, 660.1377138917107, 642.0331859690642, 628.8801026696821, 596.2625567897074, 564.3104546604253, 555.0163292346756, 541.6575867082227, 534.3815842828064, 536.3583516779008, 562.0487630649781, 498.9707679605828, 734.021050182631, 467.9257639832467, 6580.746741302943, 2847.2472254768577, 2207.629910099954, 1732.0883761842535, 830.3283063491153, 2184.3827398858266, 1290.0074769251366, 1182.8136570926968, 639.7695066521269, 11745.688641676481, 2356.154462592584, 11692.876373467736, 9863.050238231113, 3471.8420738468462, 1529.8240223339017, 3405.621728729481, 3425.3328926251033, 1715.6330147238257, 4417.954364606338, 9326.299024121894, 6039.411212595244, 11620.244619776617, 2764.2532720461386, 17457.97237978027, 3431.6918465503923, 5248.481766652989, 10936.592178141342, 4131.015934024732, 4505.85860301101, 15851.624675073876, 4462.670449374798, 11460.372613955067, 11769.0513331599, 5372.4423107555, 12347.167833910431, 15532.99687868973, 6176.266682598428, 8952.90436996219, 10147.012359305909, 7627.039206498538, 8314.223572159653, 9516.54334116327, 18006.140864649566, 5950.232055231554, 6712.465283511635, 12706.484504528422, 9309.9856899628, 8258.355004476494, 18904.43206436752, 13273.277480340726, 11013.495294122537, 8864.622003665048, 13202.384803449886, 11508.597398610727, 11079.932432612359, 7902.224062412928, 11431.540030059668, 11502.720506772794, 10494.498968196722, 9134.849854837956, 9119.96784905847, 1649.589503868521, 1407.127680847734, 1034.994331393606, 880.2477234593424, 810.9019259655978, 735.0667035650029, 732.5350961135409, 661.197093418379, 565.6423994492343, 477.81195373257736, 475.48070415410814, 473.4005784354609, 451.27409343746115, 451.9458876438394, 438.3463189571243, 418.6209063162807, 384.4622258606892, 384.6769710697138, 554.7082595713287, 333.82690421415055, 332.5364485508307, 313.95271654212877, 302.95536623471116, 289.37633251353225, 283.3137361146286, 280.1022307979903, 272.76536482645326, 593.3418355750507, 271.0681403633688, 265.43357591267625, 23818.57313322443, 672.0746266069509, 435.59696226102557, 10482.533005448986, 3010.9134012142304, 3244.4115883658014, 2976.704029138485, 34430.28143070158, 1070.8537536617157, 4874.736470605716, 3472.2010359724545, 5773.852321426315, 1154.5437005173474, 10627.87703854339, 7387.985444439169, 3634.3513671531714, 8453.589721230139, 3091.782298658516, 12415.934447243722, 16623.618468347424, 26568.28999150398, 1984.483087112966, 20301.39929102392, 17754.906102724744, 9345.503421470365, 3622.9111135427593, 49181.107385175186, 9407.636161534372, 3211.0320816812837, 11084.050121413678, 6616.5019181501275, 3892.266279278529, 3683.470572987424, 52595.288852216974, 5657.423998833486, 10154.702956447576, 33215.176684918784, 15773.40620914563, 26652.410794539977, 11057.844473519895, 27241.605268475636, 16358.4457082198, 11283.55266873551, 11957.006561480477, 10165.929251568878, 15040.510532114706, 14766.81262751138, 16217.131407385066, 17261.501598579616, 10852.482020789734, 16166.54788842805, 10829.24216724392, 10144.006625478332, 10574.452379307046, 14547.751003932251, 6691.5542141251935, 5895.356183644869, 4777.632470473063, 4685.136431655487, 4506.242374212821, 3212.3673501367803, 2694.721495920754, 2101.507496890849, 1562.2582782138668, 1108.3567836236111, 1009.3492916435141, 811.6751740989042, 769.2988804568676, 761.1743984638713, 724.5150599763283, 715.3222799708619, 714.9050213960386, 681.7966037570045, 649.9989802568504, 577.47400106751, 558.4496752913584, 514.7123727794182, 491.61527803326146, 472.3833780112521, 460.9877515846622, 429.8103350938995, 437.3948398236445, 399.98313537628326, 528.7454625966557, 502.0509269903938, 1482.6979201261713, 4248.311250271911, 1403.205466096515, 2641.2475150540904, 3631.052016861165, 667.2765900167401, 28478.167561831466, 1885.0393879849648, 4074.9422767607725, 9876.397290800023, 2895.7603847592272, 8592.373606689092, 2093.132957427237, 2909.548613293832, 14471.44605962368, 61503.84961230984, 3695.524856777819, 8196.801054842317, 6271.8395335826635, 3667.875626837318, 14415.054955216498, 19252.88799862801, 6648.7165628288885, 38585.854943504084, 6813.6288770390065, 11671.63301646306, 8732.011881944454, 33359.820662580416, 15141.715685207299, 4823.18707061861, 12562.573921336585, 15141.452395062466, 14618.03233794839, 18296.95900445343, 10462.089132642273, 14389.609044271514, 16799.639203218914, 17855.186760508663, 10197.950660472157, 8780.961545002869, 11176.968068956736, 12975.389930069012, 10288.342805931075, 11036.997784245565, 8682.32645468535, 8936.966299480922, 9359.167071633514, 8965.188149937256, 22549.119768128152, 3451.529330604421, 3243.4135482629194, 1275.5697170122703, 1276.4514917947188, 1122.4844830399277, 1062.9155469040431, 956.1286193215593, 947.7628542109248, 889.7184815785163, 829.5826164773581, 766.7582821364936, 764.7912279398936, 756.0253645551433, 707.7829083636818, 698.7531919574373, 669.7923063466653, 626.1479848454215, 772.3162282043018, 3803.1406971450615, 559.1801026708433, 558.3662187743621, 555.7914940005281, 555.5394099663389, 539.7435494440259, 526.0189873198561, 511.95437190784173, 614.5254166449197, 476.0672628889548, 451.5691863576829, 3257.073591312785, 2593.306086968968, 1262.124389918899, 1337.493087627918, 732.6285582429664, 1235.6182822943995, 959.459861282766, 764.2142950347561, 1242.273809608297, 3368.9425025121163, 11365.96689202513, 16084.556229582342, 2515.6726467250382, 2540.702843618428, 2642.421013277776, 4447.810445986006, 4139.2680735380345, 2846.6872146809583, 922.6687409315816, 4613.13196941711, 2755.571748362054, 3381.5817227759303, 4072.3916028007375, 2766.8318230207283, 17749.362007342057, 2684.7632479586723, 7038.467018804556, 14166.273824238515, 7644.088758841301, 9063.743999443439, 6112.583299572189, 3398.719982477677, 3814.59993265201, 11809.76563185472, 20116.904734302436, 8905.190608385756, 10643.334798701575, 20054.711015271372, 14740.356487246472, 17452.66535221955, 9133.611542026636, 16960.68425514668, 10874.01946336182, 6740.123476721097, 10944.019434278203, 9518.424215825009, 7884.100578548695, 9972.120071664147, 6667.353953427213, 6292.251551321162, 8602.781501802212, 6642.998382805604, 8721.23506907339, 6634.751233564119, 6915.190950257875, 6758.423140143001, 6731.4490844214715, 34586.04743509635, 16128.579912537398, 26358.496921375965, 1746.5516750608958, 1353.8646335115145, 1310.1039100180074, 1307.679842784225, 1226.6623700852774, 923.2518583537084, 914.731942963808, 836.7689189497288, 800.4378236807913, 762.7086876943155, 637.7322792005434, 582.0557312036035, 563.7202415673307, 685.1813943237156, 545.4057839818241, 523.7554828567819, 514.6939197376104, 448.8126310996229, 435.8322347338427, 424.37773719427906, 407.30746831237525, 394.9671297754633, 381.3157929929807, 404.17117924926055, 365.0752496286946, 362.90645835682744, 348.7602721631773, 1143.885134834712, 1295.0982837790684, 783.9987109938211, 1500.4742978392544, 1285.4989723913752, 22960.589936338634, 3841.686826465976, 1815.4870317312195, 5491.277013495329, 3164.4239475864138, 5478.829246836641, 2638.918746846414, 5718.388422046652, 3496.933350623885, 21013.114781399046, 3129.529463291741, 5547.548642599993, 9341.467656860188, 5708.596111537388, 1882.9021658806657, 1997.6225245809655, 12303.666961215979, 2782.5558812529257, 7576.410950760919, 10909.29495324803, 24816.72575293569, 9076.35451502719, 8265.107004449164, 8273.104043432419, 4032.850636255006, 10502.413408537732, 19929.784360567806, 6580.835597475226, 13108.951255403283, 17517.125059025722, 15723.888942732498, 11431.49197387414, 14506.041730416528, 8193.561662691998, 6430.133866639078, 9365.402281862585, 9280.287268647458, 9465.63271909137, 8319.404098028781, 8031.133356656328, 8071.521837035167, 6825.025813539963, 7073.967742279988, 2997.811074985002, 2556.1673747863833, 4599.915609334418, 1833.819362246492, 1735.3887451931332, 999.7281402599456, 960.4000204288537, 956.7415565112925, 848.6883433729009, 832.9787115894763, 824.6404719051912, 788.515058649691, 788.6097506537776, 792.0103254035083, 692.3314142422856, 669.2101715657249, 661.0469359838756, 668.062388517697, 665.5654777880669, 554.9294647873693, 550.1787699700446, 528.013780320992, 1335.8750632760803, 498.9903920487708, 498.4341383421563, 1334.8824219436185, 497.3332815738688, 489.0759224678763, 479.79342719252963, 477.2982535224054, 708.8048290212217, 9844.621537803016, 1452.4538361163325, 1593.8528520043967, 3809.2596718619016, 4701.407729222009, 3116.4678003966596, 973.5636903731429, 2940.2519345951814, 2889.362097703519, 2272.2473798248584, 1109.5702944394725, 1816.4796681381572, 1490.2861370753685, 12370.474384941668, 1639.3283560763673, 3323.756928146496, 7900.067435222903, 3101.0636036656656, 5721.736183393644, 2201.691410851641, 11927.793797904731, 2166.1739035670585, 4043.3678251154747, 2167.817337001353, 9425.789049631487, 5176.335433421425, 9568.90779233125, 5063.711396486664, 12342.961596869467, 3172.0941396973103, 4323.524030145213, 4714.017009361489, 18666.264573885324, 8202.733693019907, 3895.039725809239, 13920.009593283483, 6661.757216559398, 10497.101080939814, 9750.310504432591, 15112.46759941516, 10596.944172653964, 8887.65601075132, 9155.209823855987, 5971.640380391303, 7064.359464735252, 7267.11453087645, 4832.536589885833, 6485.351360580467, 6212.800817451953, 5143.925925908603, 5186.244513429785, 5198.703408699411, 5403.048978945068, 4881.91577604543, 3129.8242208220786, 8694.617789004595, 2147.594000707072, 2132.1285226118885, 1778.2552852239405, 1393.7788204618093, 1370.1334510200882, 1319.3517194983017, 1295.0708605791633, 1981.858646915871, 1694.9154948920639, 935.4272891929837, 919.2944590922413, 862.4451836849557, 809.8772422794783, 1129.9850790944613, 712.9907148437431, 2313.028456990217, 669.937953409091, 671.4787883894961, 656.4271528365689, 599.1528959241501, 575.7716274270109, 571.9424607385473, 529.8607543371284, 517.5933642337949, 539.953375316525, 479.3852430608378, 526.8740006221146, 472.8545466951043, 2724.1491251273715, 5227.958918800344, 1724.1834441965602, 1537.2416044397694, 826.4979787605978, 770.4557211118687, 672.9092828643935, 2677.9588643315487, 6216.093796181779, 18425.001929638503, 1443.7212183729098, 1648.3527462092013, 3032.2368551322274, 8826.07990451628, 3840.286931410143, 12967.845503676865, 1450.652472021031, 1259.2169599486172, 2251.6808245749444, 1556.151018101842, 4159.931368743551, 2401.6809450987785, 8817.387114804056, 3026.9348865173697, 3184.4363834589562, 6487.279300316405, 4551.439901342223, 4311.169511287474, 3727.482036476009, 4600.584217416177, 4034.152617234557, 7068.753735784895, 4855.61130852609, 5591.796098710728, 5151.594618910307, 5294.3720495012685, 7250.028239333575, 4103.227480366647, 3405.2358781841986, 4800.749780981775, 4553.417949019694, 5414.004969120834, 5193.609831135353, 3638.016020339132, 4202.376701057097, 3927.7228088585366, 3723.339391427175, 3974.110350599466, 3520.9322542776667, 3100.741271501961, 2989.43303376161, 1823.421044562281, 3425.268448406724, 1421.428208425298, 1338.9290354458503, 1056.819360545641, 917.6360903979511, 848.099959838298, 834.679210178332, 789.22659428806, 771.9000182986875, 761.6055813548151, 640.454972917348, 600.6060187589529, 579.5582555374933, 579.5035670970879, 560.3371793455555, 526.192054757675, 532.5541255889035, 3216.009805656274, 486.32123434645274, 482.76606624143983, 461.07980494044324, 459.7105105147273, 453.1403648322931, 439.8294953790225, 8587.409094365514, 18850.855072442075, 2684.951497433138, 2836.3431632020324, 15221.355042625995, 1067.9714289310725, 907.85520026245, 982.7710723568309, 2129.4110544594814, 8893.178806396141, 13126.933431739319, 1638.6844503704215, 4628.38974245145, 10081.228531183422, 7756.187233687216, 2344.755573249737, 8485.597967086762, 2018.6712111954841, 4683.010197559535, 2376.6816966752285, 5707.067181965136, 3270.906374650616, 5501.445751624673, 9796.920982918276, 5547.521418575695, 2190.881713895844, 9064.581023286377, 5408.397766707344, 12328.710687450251, 10911.424201810583, 6184.251959360091, 8526.686656433547, 8043.9009982056905, 10383.619864750364, 10058.183112187315, 7866.41917264485, 5317.621137399594, 5580.239089937914, 5195.870209463764, 6516.5104749038865, 4425.336855526581, 4750.992817923966, 1499.382624096461, 782.4561445403799, 814.3108298249234, 588.5903038844166, 587.5022191437943, 572.4340415584652, 566.0827462673892, 551.3975655854746, 1421.1496938821142, 506.49692194386324, 496.7739864373932, 482.8757292563285, 472.4532792360252, 466.5569242652443, 447.9392540085424, 466.01953542185834, 406.1364850947265, 401.4778603096298, 367.6538286122109, 358.1141892667823, 347.0327392454598, 343.47335923024923, 316.6560243441467, 312.6314968144145, 325.15729432061914, 304.59038168979276, 295.55808578890947, 287.37730581855794, 363.99456557637524, 271.8811702466546, 1873.9348686718015, 546.4243061066454, 344.3080103288577, 1867.1103593769576, 337.88806185359545, 958.9097668421895, 530.697755311487, 1853.3789330499703, 1080.6434385761727, 703.3720213042432, 1021.6880088355076, 1988.8719660849038, 732.7156711539874, 1462.2190620796384, 1351.3242823310072, 3539.970103700823, 2473.431656477235, 1642.8684241374847, 1044.86833942175, 1465.4571223325347, 2007.4065715635181, 1290.9316557586699, 1018.0352916616596, 3622.63799767822, 1338.4722894843205, 1474.0723804618174, 1305.571909222112, 1385.7215426105463, 1000.9965584670581, 1517.023438986394, 2020.280505683861, 1382.5923355160019, 2028.6252265587057, 1668.038729819772, 1288.442473651612, 1266.740393147376, 1295.3663887942407, 1094.5726014112265], \"Term\": [\"food\", \"pizza\", \"burger\", \"bar\", \"chicken\", \"coffee\", \"store\", \"place\", \"sandwich\", \"order\", \"fry\", \"beer\", \"room\", \"good\", \"great\", \"drink\", \"taco\", \"cheese\", \"salad\", \"sushi\", \"ice\", \"shop\", \"dish\", \"flavor\", \"sauce\", \"park\", \"rice\", \"cream\", \"night\", \"u\", \"denny\", \"insult\", \"lousy\", \"poison\", \"rep\", \"comped\", \"einstein\", \"gai\", \"inattentive\", \"yogurtland\", \"uninspired\", \"taro\", \"vermicelli\", \"betty\", \"lucille\", \"nightclub\", \"usa\", \"ka\", \"avondale\", \"jumper\", \"torture\", \"marginal\", \"clutter\", \"roach\", \"remake\", \"fil\", \"roadhouse\", \"benihana\", \"vista\", \"clog\", \"kabob\", \"silverware\", \"gratuity\", \"disgust\", \"flag\", \"underwhelming\", \"awful\", \"comp\", \"terrible\", \"worst\", \"horrible\", \"ignore\", \"waitress\", \"blah\", \"minute\", \"shove\", \"min\", \"disappear\", \"apologize\", \"u\", \"ask\", \"empty\", \"wait\", \"refill\", \"bill\", \"table\", \"didnt\", \"server\", \"gross\", \"poor\", \"arrive\", \"waiter\", \"bad\", \"say\", \"order\", \"maybe\", \"star\", \"tell\", \"leave\", \"host\", \"take\", \"give\", \"sit\", \"finally\", \"manager\", \"come\", \"would\", \"get\", \"another\", \"go\", \"time\", \"want\", \"think\", \"food\", \"back\", \"ok\", \"review\", \"service\", \"could\", \"one\", \"even\", \"like\", \"know\", \"place\", \"people\", \"drink\", \"really\", \"good\", \"make\", \"pancake\", \"crepe\", \"omelet\", \"hash\", \"biscuit\", \"squash\", \"benedict\", \"fondue\", \"brie\", \"risotto\", \"beet\", \"mash\", \"fig\", \"mussel\", \"cornbread\", \"goat\", \"gnocchi\", \"halibut\", \"veg\", \"ribeye\", \"bisque\", \"toffee\", \"skillet\", \"tiramisu\", \"tenderloin\", \"braise\", \"kale\", \"cobbler\", \"pomegranate\", \"sirloin\", \"rib\", \"lobster\", \"filet\", \"pudding\", \"vinaigrette\", \"gravy\", \"asparagus\", \"truffle\", \"grit\", \"dessert\", \"scallop\", \"potato\", \"steak\", \"brunch\", \"scramble\", \"mac\", \"waffle\", \"brisket\", \"toast\", \"egg\", \"bacon\", \"breakfast\", \"chop\", \"salad\", \"salmon\", \"entree\", \"bread\", \"french\", \"butter\", \"cheese\", \"perfectly\", \"dinner\", \"meal\", \"cake\", \"delicious\", \"menu\", \"appetizer\", \"wine\", \"side\", \"cook\", \"sweet\", \"dish\", \"order\", \"pork\", \"plate\", \"restaurant\", \"sauce\", \"serve\", \"good\", \"try\", \"also\", \"bite\", \"great\", \"come\", \"make\", \"amaze\", \"food\", \"go\", \"like\", \"love\", \"one\", \"dj\", \"draft\", \"karaoke\", \"brewery\", \"hh\", \"vig\", \"harkins\", \"replacement\", \"amc\", \"jukebox\", \"bouncer\", \"dental\", \"guinness\", \"concession\", \"trivia\", \"casey\", \"stool\", \"dart\", \"hangout\", \"shampoo\", \"hanny\", \"arcade\", \"lon\", \"rowdy\", \"dan\", \"roomy\", \"carly\", \"ipa\", \"eric\", \"lend\", \"beer\", \"guitar\", \"whiskey\", \"music\", \"band\", \"theater\", \"tap\", \"bar\", \"football\", \"movie\", \"dance\", \"bartender\", \"ale\", \"patio\", \"game\", \"sport\", \"crowd\", \"vibe\", \"atmosphere\", \"happy\", \"drink\", \"hip\", \"night\", \"hour\", \"fun\", \"loud\", \"great\", \"cool\", \"outdoor\", \"wine\", \"watch\", \"hang\", \"tv\", \"place\", \"play\", \"seat\", \"good\", \"nice\", \"food\", \"friend\", \"go\", \"love\", \"friendly\", \"always\", \"staff\", \"really\", \"service\", \"time\", \"like\", \"pretty\", \"get\", \"back\", \"people\", \"thai\", \"rice\", \"chinese\", \"noodle\", \"curry\", \"pho\", \"pita\", \"gyro\", \"tofu\", \"vietnamese\", \"korean\", \"falafel\", \"ramen\", \"naan\", \"fusion\", \"wonton\", \"chow\", \"panda\", \"fajitas\", \"mongolian\", \"masala\", \"mein\", \"americanize\", \"tikka\", \"panang\", \"lentil\", \"machaca\", \"baba\", \"filipino\", \"sizzle\", \"palace\", \"kung\", \"lo\", \"buffet\", \"jungle\", \"greek\", \"asian\", \"chang\", \"chicken\", \"broth\", \"authentic\", \"soup\", \"indian\", \"spicy\", \"pad\", \"hummus\", \"dish\", \"food\", \"vegetarian\", \"beef\", \"shrimp\", \"spice\", \"lunch\", \"restaurant\", \"mexican\", \"good\", \"portion\", \"sauce\", \"meat\", \"place\", \"eat\", \"bowl\", \"price\", \"service\", \"try\", \"great\", \"menu\", \"order\", \"like\", \"go\", \"always\", \"taste\", \"really\", \"get\", \"love\", \"time\", \"fry\", \"best\", \"come\", \"also\", \"store\", \"clothe\", \"nail\", \"pedicure\", \"target\", \"aisle\", \"safeway\", \"walmart\", \"exhibit\", \"browse\", \"eclectic\", \"ikea\", \"accessory\", \"instructor\", \"jewelry\", \"aj\", \"pedi\", \"project\", \"retail\", \"grocery\", \"depot\", \"mart\", \"comic\", \"shopper\", \"pharmacy\", \"merchandise\", \"costume\", \"checkout\", \"bulk\", \"warranty\", \"shoe\", \"produce\", \"supply\", \"organize\", \"designer\", \"costco\", \"library\", \"associate\", \"toy\", \"sale\", \"buy\", \"shop\", \"stock\", \"brand\", \"shirt\", \"product\", \"market\", \"gift\", \"trader\", \"mall\", \"carry\", \"purchase\", \"sell\", \"section\", \"find\", \"wear\", \"item\", \"price\", \"selection\", \"location\", \"stuff\", \"book\", \"employee\", \"look\", \"like\", \"need\", \"always\", \"go\", \"one\", \"get\", \"thing\", \"place\", \"love\", \"new\", \"great\", \"really\", \"know\", \"time\", \"lot\", \"use\", \"make\", \"see\", \"good\", \"much\", \"also\", \"want\", \"even\", \"pizza\", \"sushi\", \"burger\", \"bianco\", \"sashimi\", \"pizzeria\", \"pepperoni\", \"oregano\", \"delux\", \"philly\", \"marinara\", \"ra\", \"calzone\", \"grimaldi\", \"nigiri\", \"margherita\", \"italy\", \"nom\", \"arena\", \"hana\", \"parm\", \"yellowtail\", \"smashburger\", \"arrange\", \"japan\", \"hotdog\", \"coal\", \"cheesesteak\", \"eel\", \"sakana\", \"cheeseburger\", \"subway\", \"cibo\", \"patty\", \"hamburger\", \"sandwich\", \"sub\", \"mayo\", \"crust\", \"bun\", \"italian\", \"chicago\", \"wing\", \"thin\", \"fry\", \"turkey\", \"slice\", \"roll\", \"onion\", \"pickle\", \"deli\", \"cheese\", \"tuna\", \"bread\", \"salad\", \"good\", \"lunch\", \"sauce\", \"fresh\", \"tomato\", \"eat\", \"place\", \"hot\", \"order\", \"get\", \"like\", \"try\", \"go\", \"best\", \"top\", \"make\", \"one\", \"great\", \"really\", \"love\", \"time\", \"taste\", \"also\", \"dr\", \"appointment\", \"phone\", \"repair\", \"doctor\", \"vehicle\", \"vet\", \"biz\", \"insurance\", \"dentist\", \"refund\", \"auto\", \"terminal\", \"message\", \"session\", \"haircut\", \"airline\", \"plane\", \"cell\", \"battery\", \"hospital\", \"brake\", \"fitness\", \"estimate\", \"stylist\", \"email\", \"thorough\", \"contract\", \"medical\", \"tony\", \"nurse\", \"car\", \"www\", \"http\", \"hair\", \"office\", \"airport\", \"address\", \"wash\", \"tire\", \"com\", \"quote\", \"flight\", \"schedule\", \"call\", \"patient\", \"company\", \"customer\", \"fix\", \"care\", \"professional\", \"work\", \"answer\", \"job\", \"massage\", \"tell\", \"dog\", \"need\", \"business\", \"take\", \"issue\", \"thank\", \"do\", \"get\", \"day\", \"month\", \"time\", \"year\", \"would\", \"say\", \"go\", \"service\", \"back\", \"make\", \"use\", \"give\", \"know\", \"guy\", \"one\", \"come\", \"new\", \"ask\", \"never\", \"even\", \"could\", \"resort\", \"hotel\", \"hike\", \"trail\", \"golf\", \"workout\", \"property\", \"yoga\", \"studio\", \"tour\", \"shower\", \"lake\", \"tub\", \"conference\", \"inn\", \"suite\", \"climb\", \"mountain\", \"architecture\", \"amenity\", \"casino\", \"locker\", \"landscape\", \"bedroom\", \"palm\", \"canyon\", \"performance\", \"oasis\", \"league\", \"reception\", \"spa\", \"class\", \"stadium\", \"museum\", \"zoo\", \"path\", \"river\", \"gym\", \"pool\", \"room\", \"field\", \"lobby\", \"bed\", \"stay\", \"view\", \"park\", \"tree\", \"shade\", \"ride\", \"facility\", \"beautiful\", \"train\", \"area\", \"event\", \"build\", \"phoenix\", \"water\", \"course\", \"play\", \"free\", \"kid\", \"nice\", \"walk\", \"see\", \"lot\", \"day\", \"one\", \"around\", \"light\", \"also\", \"well\", \"get\", \"like\", \"clean\", \"take\", \"make\", \"great\", \"yogurt\", \"carne\", \"asada\", \"donut\", \"latte\", \"cupcake\", \"boba\", \"guac\", \"torta\", \"gallo\", \"smoothie\", \"horchata\", \"chai\", \"pico\", \"lux\", \"barista\", \"barrio\", \"smoothy\", \"tostada\", \"del\", \"cone\", \"blanco\", \"bagel\", \"froyo\", \"relleno\", \"mojo\", \"baristas\", \"pastor\", \"fro\", \"burrito\", \"coffee\", \"cooky\", \"guacamole\", \"taco\", \"frost\", \"queso\", \"dairy\", \"gelato\", \"salsa\", \"ice\", \"espresso\", \"tortilla\", \"cream\", \"tea\", \"milk\", \"chip\", \"vanilla\", \"cup\", \"starbucks\", \"chocolate\", \"margarita\", \"bean\", \"flavor\", \"mexican\", \"chile\", \"love\", \"top\", \"place\", \"like\", \"taste\", \"make\", \"try\", \"get\", \"good\", \"one\", \"fresh\", \"also\", \"best\", \"go\", \"breakfast\", \"little\", \"pasty\", \"mignon\", \"church\", \"mechanic\", \"lip\", \"skimp\", \"gras\", \"outfit\", \"lee\", \"scott\", \"watermelon\", \"pao\", \"foie\", \"faux\", \"jacket\", \"robert\", \"tai\", \"finest\", \"chart\", \"manhattan\", \"collect\", \"banh\", \"yucca\", \"roy\", \"brian\", \"inspection\", \"mekong\", \"pete\", \"hawaii\", \"sauerkraut\", \"dim\", \"da\", \"mai\", \"sum\", \"jewish\", \"native\", \"ocean\", \"american\", \"mr\", \"coast\", \"g\", \"world\", \"r\", \"true\", \"grow\", \"phoenix\", \"fish\", \"chef\", \"create\", \"word\", \"style\", \"truly\", \"god\", \"know\", \"city\", \"life\", \"man\", \"arizona\", \"east\", \"real\", \"new\", \"valley\", \"make\", \"best\", \"mean\", \"old\", \"like\", \"name\"], \"Total\": [142713.0, 34586.0, 26362.0, 39184.0, 41316.0, 18947.0, 22550.0, 168375.0, 27642.0, 85782.0, 35262.0, 24463.0, 22087.0, 152521.0, 112752.0, 46454.0, 15619.0, 32421.0, 33029.0, 16129.0, 15243.0, 19433.0, 24688.0, 25995.0, 29290.0, 19600.0, 14549.0, 13459.0, 34799.0, 45210.0, 1047.54532393073, 467.55387347518257, 425.4436555626485, 399.0995398969397, 375.31359417908686, 339.26474070615626, 337.0742003110289, 327.12694380324956, 310.6319749217267, 274.23201335780175, 269.192545692706, 267.69923690416846, 234.3734878824626, 234.1608600640681, 228.7259531041586, 232.65805125785673, 223.53735990442772, 217.388994224111, 217.0973710527112, 218.85595264226484, 211.70194757239747, 205.04427708627207, 203.86288964649395, 200.93399309894764, 200.58357775295786, 196.84532506317368, 195.97907359497287, 195.63285711505625, 193.05236363133434, 192.98758189966307, 573.8842754419832, 573.2270092625, 344.5365093774213, 1556.3025552657161, 906.1255567703128, 360.9848812378171, 2499.2884539844245, 426.17142350469067, 3707.6426336682343, 3869.8774952396866, 3516.1556161907365, 1589.5285362310192, 11619.744425544657, 1313.306083531351, 22622.800028401267, 333.25938158722835, 3305.125406536263, 700.551729505942, 1700.2924003347348, 45210.32122647996, 31602.014874597633, 4741.942140696514, 40519.212638716046, 3817.8873579168926, 6395.356996932447, 33277.85083397517, 1410.4979087462038, 20156.679836600724, 2248.7241691378977, 3506.8399387553286, 9243.135574486936, 8801.272844111916, 23954.19483976442, 62087.73947721641, 85782.8709354485, 15301.392659804475, 32104.77727670836, 26163.994079975055, 21593.550472304236, 5397.696021732348, 57447.21546425811, 43898.48881252916, 24225.878950082177, 10332.265511356578, 8315.293483898835, 78038.68452517859, 71860.02140814632, 154073.47319776623, 21750.50268656879, 161825.97577770936, 106497.50701089778, 48542.369205016694, 55577.438705439876, 142713.87635452824, 70372.13934028476, 16557.05856514462, 25618.2130123105, 75696.69843942157, 36990.13070108077, 98850.9589705785, 54896.010673137724, 127206.7326036379, 48294.98915713713, 168375.90426424082, 39478.90099274932, 46454.855315311135, 77353.80505040872, 152521.29112798715, 81227.1608858964, 3983.68299782478, 2091.033203644477, 1653.4697892484453, 1588.0023686581462, 1677.5273537362593, 1045.976115014139, 1005.0025944033622, 1107.5966478235475, 1231.8049099713646, 953.7594344198575, 930.5159145956612, 2622.720403876319, 904.328432618316, 849.0927166580273, 803.1028230395335, 2219.208913603089, 730.7012924969769, 661.0351442846511, 642.9310204746339, 629.7776572090114, 597.1600034200386, 565.2080004663807, 555.913820309228, 542.5612825427172, 535.2795447226592, 537.2678468179141, 563.017709936838, 499.8682990605332, 735.3814044141393, 468.8363756739968, 6606.186118965086, 2854.179820527656, 2214.01647062156, 1747.4151697485843, 832.2243708638185, 2212.630695631073, 1300.5565940262343, 1197.9862813680572, 641.8159891089508, 13476.604105824557, 2500.2675034729523, 13835.07767186432, 11643.704684201004, 3889.0039421629344, 1614.4009516301246, 3823.72441384381, 3892.5330407200026, 1835.9210768330013, 5233.538253643605, 12717.670076529117, 8114.7745257074575, 18583.902987207137, 3398.0017564101963, 33029.502726971004, 4456.207802668975, 7531.005247021352, 19254.61052841693, 5661.807974360709, 6320.871517293723, 32421.38565203596, 6322.455038439014, 23048.04493059815, 26741.883085042355, 8737.944553606843, 29323.66177832465, 41146.85147571197, 11107.158207120272, 20135.060695587716, 24753.67149291809, 16096.246490336367, 18942.94599688221, 24688.35249080526, 85782.8709354485, 11169.655708540038, 14200.12383816391, 50521.17960060509, 29290.581070841585, 23438.597867742887, 152521.29112798715, 71410.06362176953, 55993.58592958042, 34073.6017372721, 112752.01791847195, 78038.68452517859, 81227.1608858964, 25278.85746549732, 142713.87635452824, 161825.97577770936, 127206.7326036379, 66268.85500896905, 98850.9589705785, 1650.486182539263, 1408.085073641459, 1035.8910342751403, 881.1430349849404, 811.7971509206749, 735.9710026479833, 733.4690341862643, 662.0932253240413, 566.5642679735125, 478.70714835555475, 476.3764347957992, 474.29625537933407, 452.16947708362636, 452.84536976390973, 439.2414981574454, 419.51614144887856, 385.3596305807967, 385.62558068457446, 556.1711038317205, 334.7226735419762, 333.43166529926367, 314.8808433273966, 303.86187375122614, 290.27215392415485, 284.2091638812906, 280.99867193919897, 273.66058366059815, 595.2893364023307, 271.9637495366919, 266.3292271332594, 24463.440160784958, 674.692796113455, 437.4815505923338, 10926.565299144022, 3114.6979144522556, 3370.3012158624333, 3090.8380477018545, 39184.14087696836, 1105.2104382935347, 5451.1370732823525, 3847.0113717827776, 6615.724925002311, 1217.767435744012, 13055.353711874652, 8960.6828773053, 4204.3060109407925, 11153.236758649093, 3723.541894784254, 18310.534124023176, 26161.81473083486, 46454.855315311135, 2394.615728931857, 34799.3434587003, 31196.004260176836, 14707.33725216814, 4899.445806019558, 112752.01791847195, 15768.116855232982, 4331.985264817588, 20135.060695587716, 10682.309176852474, 5625.756366056606, 5269.297639870863, 168375.90426424082, 9558.657868749071, 22012.786056429635, 152521.29112798715, 51664.94207322824, 142713.87635452824, 32278.050754948043, 161825.97577770936, 66268.85500896905, 35152.46902344306, 45311.75704962455, 32902.988509367555, 77353.80505040872, 75696.69843942157, 106497.50701089778, 127206.7326036379, 39725.15681936953, 154073.47319776623, 70372.13934028476, 39478.90099274932, 10575.348743189856, 14549.460269725882, 6692.469216145674, 5896.252813573531, 4778.530130171099, 4686.0349071796445, 4507.154233566509, 3213.2633223648218, 2695.6175401988835, 2102.403346334702, 1563.1579687311635, 1109.2523618267953, 1010.244906059028, 812.5707621998049, 770.2000016928456, 762.0699775908316, 725.410800345997, 716.2181818101551, 715.8006333871848, 682.6921715176458, 650.8945664093, 578.3695699247055, 559.345677973483, 515.6085195392666, 492.5108651877451, 473.2790454316248, 461.8833685192937, 430.70589138521825, 438.340266920334, 400.87889901827947, 530.0925015231096, 503.3900638579914, 1536.1536545273445, 4547.5971746419555, 1459.4581015262688, 2852.4887795261825, 4051.067447414059, 679.1964687282198, 41316.83128979124, 2131.6110734840995, 5040.438784015792, 13551.80972791888, 3476.2208474296035, 11921.26006835281, 2433.9231808540676, 3582.3999039320524, 24688.35249080526, 142713.87635452824, 5051.764203735439, 13412.58208206676, 9747.125118039923, 5061.820003111086, 31990.308311396482, 50521.17960060509, 12197.555046245468, 152521.29112798715, 12858.49722746006, 29290.581070841585, 19277.34200382358, 168375.90426424082, 51879.721678294976, 7973.280393248756, 47379.66760440269, 75696.69843942157, 71410.06362176953, 112752.01791847195, 41146.85147571197, 85782.8709354485, 127206.7326036379, 161825.97577770936, 45311.75704962455, 34460.6878730061, 77353.80505040872, 154073.47319776623, 66268.85500896905, 106497.50701089778, 35262.183280213416, 44330.54034335141, 78038.68452517859, 55993.58592958042, 22550.964098102653, 3452.451572680275, 3244.3094454024344, 1276.4654114834113, 1277.3519048918204, 1123.3804569263164, 1063.8132600199021, 957.0243426172734, 948.6586553634194, 890.624854189613, 830.4785973102855, 767.6540584439043, 765.6869826210258, 756.9212002669587, 708.6800325151368, 699.655670918308, 670.6879936880225, 627.043843341026, 773.4340982619378, 3808.952146155384, 560.0758798204431, 559.26195408458, 556.6871813700051, 556.4351178316911, 540.6393448995401, 526.9202958334624, 512.8500873514855, 615.6251592472759, 476.96333001728124, 452.46505825536576, 3269.6348551609904, 2606.9614410601134, 1269.1280406067565, 1347.5460647535483, 735.84302275009, 1251.702996189207, 968.1065007079156, 769.1367746085039, 1272.7578401698888, 3571.159314209416, 13176.479044770691, 19433.26586324625, 2703.5630187752877, 2739.2649762964575, 2859.8349740754074, 5245.118398757402, 5486.3479539836235, 3588.6741180564886, 955.8372879809452, 6677.000165907878, 3612.659005224428, 4638.948767138883, 5977.044243073571, 3742.941542214695, 45875.856598799284, 3762.166142738661, 15951.415960462125, 47379.66760440269, 19104.41975118435, 25679.287827654225, 14527.586773107096, 5872.544819460645, 7087.147377947392, 50705.45002075381, 127206.7326036379, 32121.862807572787, 45311.75704962455, 161825.97577770936, 98850.9589705785, 154073.47319776623, 41647.11056178795, 168375.90426424082, 66268.85500896905, 27430.565948743013, 112752.01791847195, 77353.80505040872, 48294.98915713713, 106497.50701089778, 30942.089703783025, 26433.36529805707, 81227.1608858964, 36846.60183133479, 152521.29112798715, 41028.6720886911, 55993.58592958042, 48542.369205016694, 54896.010673137724, 34586.94728249115, 16129.495496998914, 26362.87740428738, 1747.5215616804176, 1354.7593668653276, 1310.9986839873136, 1308.5745186545466, 1227.5571402818043, 924.1465806755475, 915.6320462437892, 837.6636429807911, 801.3325723307304, 763.6033806557513, 638.626963859477, 582.9504080348495, 564.6157787778844, 686.277248740297, 546.3005054941725, 524.6507937229513, 515.5886919595313, 449.7078766262947, 436.7269738067619, 425.27245044451456, 408.20326829384163, 395.8620196401601, 382.2179052242597, 405.1424991578299, 365.96991644622017, 363.80117630767637, 349.65494611954256, 1151.8786795795272, 1307.6372623173907, 791.2178374920608, 1568.559464945267, 1337.8374983094325, 27642.556603897476, 4239.646424028671, 1947.1538250311537, 6251.3485860919, 3615.701828061675, 6580.112533819696, 3022.322580728124, 7221.262120437717, 4467.17518934961, 35262.183280213416, 3982.5633158874853, 8133.405653357434, 17134.246688664585, 9536.93808097973, 2379.963233244028, 2640.890582314563, 32421.38565203596, 4430.234861655857, 19254.61052841693, 33029.502726971004, 152521.29112798715, 31990.308311396482, 29290.581070841585, 29651.04271933113, 9295.66502775655, 51879.721678294976, 168375.90426424082, 22585.426218099656, 85782.8709354485, 154073.47319776623, 127206.7326036379, 71410.06362176953, 161825.97577770936, 44330.54034335141, 24160.550231069683, 81227.1608858964, 98850.9589705785, 112752.01791847195, 77353.80505040872, 66268.85500896905, 106497.50701089778, 34460.6878730061, 55993.58592958042, 2998.753472621248, 2557.066211217895, 4601.86686220459, 1834.7157207176604, 1736.2853271183944, 1000.6572024630955, 961.2963548719622, 957.6394174242536, 849.5846834542594, 833.8755345588721, 825.5647654380558, 789.4114865506394, 789.506470857614, 792.9169961094552, 693.2281692971131, 670.106568244733, 661.9433253949093, 669.0469065641449, 666.5966143234381, 555.8258477775485, 551.0755375235467, 528.9101401168398, 1338.1570986642212, 499.88677132809175, 499.3306434217623, 1337.2859952681636, 498.229737324511, 489.9724041341553, 480.68981467855525, 478.2030197853053, 712.9311503429549, 10296.752344832454, 1476.967548891551, 1631.5274551706357, 4075.605763215928, 5094.01314127805, 3425.0086074838564, 1021.1965252356533, 3438.8255296000757, 3387.9781448567855, 2646.829772358603, 1189.1711046806145, 2117.258412363685, 1686.4874245791987, 20405.769476306625, 1900.8164987135954, 4617.171438108263, 16151.636969783554, 4809.75054322787, 11016.173768874285, 3073.641630754158, 30706.77230269214, 3073.091872404126, 7626.304379704482, 3091.970375355197, 26163.994079975055, 11857.2521307867, 32121.862807572787, 12298.417841534238, 57447.21546425811, 5746.001317840346, 10095.742529073577, 12017.867620124362, 154073.47319776623, 35437.223840953404, 8881.385821828186, 106497.50701089778, 25724.160378413315, 71860.02140814632, 62087.73947721641, 161825.97577770936, 75696.69843942157, 70372.13934028476, 81227.1608858964, 26433.36529805707, 43898.48881252916, 48294.98915713713, 15544.116099847544, 98850.9589705785, 78038.68452517859, 27430.565948743013, 31602.014874597633, 34994.254799538736, 54896.010673137724, 36990.13070108077, 3130.720496973329, 8697.128475705525, 2148.488283987933, 2133.0225116678266, 1779.1492604283067, 1394.6776259750166, 1371.0280965360046, 1320.245688701127, 1295.9648977138538, 1983.2747386556543, 1696.198120987795, 936.3214582800863, 920.1911739707638, 863.354975133139, 810.7714741799703, 1131.2491380833067, 713.886690331771, 2316.1020453587375, 670.8320233728251, 672.3752515461142, 657.321214187728, 600.0477125405192, 576.6658689851021, 572.8409876923314, 530.7553732896611, 518.4873723525205, 540.9577933983715, 480.27940120029285, 527.8683922725901, 473.7486511946919, 2734.8897534643074, 5291.2918689846765, 1728.3009241392722, 1541.775064878958, 828.5011605289701, 772.4741536068276, 674.201980650063, 2770.103668969135, 7003.427598972074, 22087.814934916594, 1519.4435095276342, 1765.4904943825834, 3403.0780750234358, 12131.77109762829, 4760.166810245891, 19600.231860902135, 1606.5038220972906, 1362.283062787918, 2917.055725354418, 1853.73074173694, 7196.3800556929855, 3455.6454593211433, 26808.786676048738, 5347.331156831569, 5956.964535977656, 22772.534599953095, 12398.712649547315, 12075.099002740095, 9558.657868749071, 16382.785977795633, 13619.111530145892, 51664.94207322824, 22559.459067445332, 36846.60183133479, 30942.089703783025, 35437.223840953404, 98850.9589705785, 26313.448500675484, 13396.46561486428, 55993.58592958042, 49013.26020104812, 154073.47319776623, 127206.7326036379, 18568.485861951372, 57447.21546425811, 81227.1608858964, 112752.01791847195, 3975.007415800486, 3521.827480294646, 3101.6364632396926, 2990.3458218871865, 1824.3163129796465, 3427.055184706016, 1422.3234649552257, 1339.837928731485, 1057.7145919026034, 918.5320035313201, 849.0004298179599, 835.5956462531169, 790.1218451166052, 772.7960830654764, 762.50184910017, 641.3501877649751, 601.5155030814117, 580.4536387901071, 580.3993084403104, 561.2700172649343, 527.0897193293412, 533.4681752078268, 3221.921395464665, 487.21642750015377, 483.66593034753447, 461.9750773336107, 460.6057295931651, 454.0358104719799, 440.72472028658166, 8605.151265308745, 18947.284960522178, 2701.298716825904, 2856.6165083441088, 15619.816295702787, 1079.8086994354428, 916.520599258994, 996.7640438671809, 2226.541837752839, 10079.932332446986, 15243.633967506836, 1717.5074109894, 5261.960575292053, 13459.203926496351, 10291.252519071291, 2701.7296750812084, 12490.985006294726, 2420.679494042742, 6710.226802509532, 2987.219844676399, 10013.558657555492, 5063.027640906683, 10957.400053844269, 25995.185485845785, 12197.555046245468, 3001.815253275355, 66268.85500896905, 24160.550231069683, 168375.90426424082, 127206.7326036379, 34460.6878730061, 81227.1608858964, 71410.06362176953, 154073.47319776623, 152521.29112798715, 98850.9589705785, 29651.04271933113, 55993.58592958042, 44330.54034335141, 161825.97577770936, 18583.902987207137, 48904.2431472535, 1500.274268749369, 783.3479515710662, 815.2407579044741, 589.4821376796306, 588.3963064412416, 573.3259473895359, 566.97437745035, 552.2912256682722, 1423.6311517157658, 507.38890890276167, 497.6658185947945, 483.76750149742685, 473.34492013158, 467.45282429577003, 448.8386506165165, 466.9729444570185, 407.03153117648054, 402.38827628720657, 368.54597147935476, 359.0058811375308, 347.9279856244394, 344.36511016868303, 317.54781704807016, 313.52317255873646, 326.1161553521888, 305.49135498509446, 296.451809734806, 288.26893455083854, 365.1857592246645, 272.7786581078742, 1885.42923155699, 548.9785620329417, 347.0575865431281, 2019.4165659652335, 340.37813272646775, 1074.4299197326259, 564.6251027742385, 3239.0282584641222, 1643.063907618803, 957.2062570050665, 1940.6048937272874, 5959.447438949737, 1176.7676584842839, 4021.5381637719993, 3609.804511863158, 22772.534599953095, 11932.174707567981, 6094.202849576287, 2493.6688933040746, 5045.706195044892, 9884.519506724479, 3876.726020509172, 2429.4880877177166, 48294.98915713713, 4917.911435381499, 6617.57831641819, 5990.243367714293, 7144.895632207021, 2928.688862719763, 10031.1855024512, 27430.565948743013, 9279.107654872121, 81227.1608858964, 44330.54034335141, 11579.398012735563, 17671.996057813612, 127206.7326036379, 11103.388168444935], \"loglift\": [30.0, 29.0, 28.0, 27.0, 26.0, 25.0, 24.0, 23.0, 22.0, 21.0, 20.0, 19.0, 18.0, 17.0, 16.0, 15.0, 14.0, 13.0, 12.0, 11.0, 10.0, 9.0, 8.0, 7.0, 6.0, 5.0, 4.0, 3.0, 2.0, 1.0, 1.7542, 1.7532, 1.753, 1.7529, 1.7527, 1.7525, 1.7525, 1.7524, 1.7522, 1.7519, 1.7518, 1.7518, 1.7513, 1.7513, 1.7512, 1.7511, 1.7511, 1.751, 1.751, 1.751, 1.7509, 1.7507, 1.7507, 1.7507, 1.7507, 1.7506, 1.7506, 1.7505, 1.7505, 1.7505, 1.7478, 1.7443, 1.7478, 1.7313, 1.73, 1.7445, 1.6649, 1.727, 1.636, 1.6299, 1.6253, 1.6649, 1.5642, 1.6641, 1.5094, 1.7306, 1.5897, 1.6803, 1.612, 1.3465, 1.3711, 1.5204, 1.2866, 1.5088, 1.4555, 1.2663, 1.6005, 1.2746, 1.5368, 1.4824, 1.3529, 1.335, 1.192, 1.0476, 0.9506, 1.2239, 1.0942, 1.1142, 1.1369, 1.3831, 0.8998, 0.9558, 1.0633, 1.2472, 1.2914, 0.7761, 0.7728, 0.5699, 1.053, 0.5025, 0.5956, 0.7878, 0.7437, 0.4085, 0.6476, 1.1191, 0.9533, 0.5043, 0.7913, 0.3805, 0.6083, 0.1826, 0.6153, -0.215, 0.7335, 0.5774, 0.0999, -0.5484, 0.0489, 2.0326, 2.0325, 2.0324, 2.0324, 2.0321, 2.032, 2.032, 2.032, 2.032, 2.032, 2.032, 2.0319, 2.0319, 2.0318, 2.0318, 2.0317, 2.0317, 2.0316, 2.0315, 2.0315, 2.0314, 2.0313, 2.0313, 2.0313, 2.0312, 2.0312, 2.0312, 2.0311, 2.0311, 2.031, 2.0291, 2.0305, 2.03, 2.0241, 2.0306, 2.0201, 2.0248, 2.0202, 2.0297, 1.8955, 1.9736, 1.8647, 1.867, 1.9195, 1.9791, 1.9171, 1.9051, 1.9652, 1.8635, 1.7228, 1.7375, 1.5634, 1.8265, 1.3953, 1.7717, 1.6718, 1.4673, 1.7177, 1.6944, 1.3174, 1.6846, 1.3342, 1.2122, 1.5465, 1.168, 1.0587, 1.446, 1.2224, 1.1411, 1.286, 1.2095, 1.0796, 0.4718, 1.4032, 1.2836, 0.6526, 0.8867, 0.9898, -0.055, 0.3502, 0.4068, 0.6865, -0.1119, 0.1188, 0.0408, 0.8701, -0.4915, -0.611, -0.462, 0.0513, -0.3502, 2.067, 2.0668, 2.0667, 2.0665, 2.0664, 2.0663, 2.0662, 2.0662, 2.0659, 2.0656, 2.0656, 2.0656, 2.0655, 2.0655, 2.0655, 2.0654, 2.0652, 2.0651, 2.0649, 2.0648, 2.0648, 2.0646, 2.0645, 2.0644, 2.0644, 2.0643, 2.0642, 2.0642, 2.0642, 2.0642, 2.0408, 2.0636, 2.0632, 2.026, 2.0336, 2.0295, 2.0299, 1.9382, 2.0359, 1.9558, 1.965, 1.9314, 2.0142, 1.8618, 1.8745, 1.9218, 1.7904, 1.8816, 1.679, 1.614, 1.5088, 1.8797, 1.5286, 1.5039, 1.6141, 1.7657, 1.2378, 1.5511, 1.7681, 1.4706, 1.5885, 1.6992, 1.7095, 0.9039, 1.543, 1.2938, 0.5432, 0.8811, 0.3896, 0.9963, 0.2857, 0.6685, 0.9312, 0.7353, 0.893, 0.4299, 0.4332, 0.1855, 0.0702, 0.7699, -0.187, 0.196, 0.7086, 2.1597, 2.1596, 2.1596, 2.1596, 2.1595, 2.1595, 2.1595, 2.1595, 2.1594, 2.1593, 2.1592, 2.1589, 2.1589, 2.1586, 2.1586, 2.1586, 2.1585, 2.1585, 2.1585, 2.1584, 2.1584, 2.1582, 2.1581, 2.158, 2.1579, 2.1578, 2.1578, 2.1577, 2.1576, 2.1575, 2.1572, 2.1571, 2.1243, 2.0917, 2.1204, 2.0828, 2.0503, 2.142, 1.7876, 2.0368, 1.9471, 1.8434, 1.977, 1.8323, 2.0089, 1.9517, 1.6256, 1.318, 1.8471, 1.6673, 1.7188, 1.8376, 1.3626, 1.195, 1.5529, 0.7853, 1.5247, 1.2396, 1.3678, 0.5409, 0.9283, 1.6571, 0.8323, 0.5504, 0.5736, 0.3413, 0.7903, 0.3744, 0.1353, -0.0445, 0.6684, 0.7925, 0.2252, -0.3146, 0.297, -0.1071, 0.7582, 0.5583, 0.0389, 0.3278, 2.2466, 2.2464, 2.2464, 2.246, 2.246, 2.2459, 2.2458, 2.2457, 2.2457, 2.2456, 2.2456, 2.2455, 2.2455, 2.2455, 2.2454, 2.2454, 2.2453, 2.2452, 2.2452, 2.2451, 2.2451, 2.2451, 2.245, 2.245, 2.245, 2.2449, 2.2449, 2.2449, 2.2448, 2.2447, 2.2428, 2.2414, 2.2411, 2.2392, 2.2423, 2.2337, 2.2377, 2.2402, 2.2224, 2.1884, 2.0988, 2.0575, 2.1746, 2.1714, 2.1676, 2.0818, 1.9649, 2.015, 2.2113, 1.8769, 1.9758, 1.9305, 1.863, 1.9445, 1.2971, 1.9093, 1.4285, 1.0393, 1.3307, 1.2053, 1.381, 1.6998, 1.6272, 0.7895, 0.4024, 0.9638, 0.798, 0.1586, 0.3436, 0.0687, 0.7294, -0.0486, 0.4393, 0.8431, -0.0857, 0.1515, 0.4342, -0.1217, 0.7118, 0.8113, 0.0015, 0.5335, -0.6149, 0.4247, 0.1551, 0.275, 0.148, 2.3693, 2.3692, 2.3691, 2.3687, 2.3686, 2.3686, 2.3686, 2.3686, 2.3683, 2.3683, 2.3682, 2.3682, 2.3681, 2.3679, 2.3678, 2.3677, 2.3677, 2.3677, 2.3676, 2.3676, 2.3673, 2.3672, 2.3672, 2.3671, 2.367, 2.3669, 2.3669, 2.3669, 2.3668, 2.3667, 2.3623, 2.3597, 2.3601, 2.3249, 2.3294, 2.1837, 2.2707, 2.2993, 2.2397, 2.236, 2.1861, 2.2336, 2.136, 2.1244, 1.8516, 2.1283, 1.9867, 1.7627, 1.8561, 2.135, 2.0901, 1.4004, 1.9042, 1.4366, 1.2615, 0.5535, 1.1095, 1.1041, 1.0928, 1.5342, 0.772, 0.2353, 1.1362, 0.4908, 0.195, 0.2787, 0.5372, -0.0427, 0.681, 1.0456, 0.2091, 0.0036, -0.1082, 0.1395, 0.2589, -0.2105, 0.7501, 0.3005, 2.4577, 2.4576, 2.4576, 2.4575, 2.4575, 2.4571, 2.4571, 2.457, 2.4569, 2.4569, 2.4569, 2.4568, 2.4568, 2.4568, 2.4567, 2.4566, 2.4566, 2.4565, 2.4564, 2.4564, 2.4564, 2.4563, 2.4563, 2.4562, 2.4562, 2.4562, 2.4562, 2.4562, 2.4561, 2.4561, 2.4522, 2.4131, 2.4412, 2.4346, 2.3904, 2.3778, 2.3636, 2.4102, 2.3013, 2.2988, 2.3054, 2.3887, 2.3048, 2.3343, 1.9575, 2.31, 2.1293, 1.7428, 2.0191, 1.8029, 2.1243, 1.5124, 2.1083, 1.8235, 2.1029, 1.437, 1.6291, 1.247, 1.5706, 0.9202, 1.8639, 1.6099, 1.5221, 0.3473, 0.9947, 1.6337, 0.4232, 1.1069, 0.5344, 0.6067, 0.087, 0.4918, 0.3888, 0.2751, 0.9704, 0.6312, 0.564, 1.2897, -0.2661, -0.0726, 0.7841, 0.6508, 0.5512, 0.1395, 0.4329, 2.5824, 2.5824, 2.5823, 2.5823, 2.5822, 2.5821, 2.5821, 2.582, 2.582, 2.582, 2.582, 2.5818, 2.5817, 2.5817, 2.5816, 2.5816, 2.5815, 2.5814, 2.5814, 2.5814, 2.5813, 2.5812, 2.5812, 2.5811, 2.581, 2.581, 2.5809, 2.5808, 2.5808, 2.5808, 2.5788, 2.5707, 2.5803, 2.5798, 2.5803, 2.5801, 2.5808, 2.5489, 2.4635, 2.4014, 2.5316, 2.5141, 2.4673, 2.2646, 2.368, 2.1696, 2.4807, 2.504, 2.3238, 2.4077, 2.0346, 2.2189, 1.4707, 2.0137, 1.9564, 1.327, 1.5806, 1.5528, 1.641, 1.3127, 1.366, 0.5936, 1.0467, 0.6972, 0.7899, 0.6816, -0.0299, 0.7244, 1.213, 0.1262, 0.2065, -0.7657, -0.6157, 0.9527, -0.0325, -0.4465, -0.8279, 2.747, 2.747, 2.7469, 2.7469, 2.7467, 2.7467, 2.7466, 2.7466, 2.7464, 2.7463, 2.7462, 2.7461, 2.7461, 2.7461, 2.7461, 2.7458, 2.7457, 2.7457, 2.7457, 2.7456, 2.7455, 2.7455, 2.7454, 2.7454, 2.7454, 2.7453, 2.7453, 2.7453, 2.7452, 2.7452, 2.7421, 2.7412, 2.7401, 2.7214, 2.7362, 2.7377, 2.7331, 2.7026, 2.622, 2.5977, 2.7003, 2.6189, 2.4582, 2.4644, 2.6055, 2.3606, 2.5656, 2.3875, 2.5186, 2.185, 2.3103, 2.0582, 1.7714, 1.9593, 2.4323, 0.7579, 1.2505, 0.133, 0.2912, 1.0294, 0.4932, 0.5637, 0.05, 0.0283, 0.2162, 1.0288, 0.4412, 0.6034, -0.465, 1.3123, 0.4157, 3.515, 3.5145, 3.5145, 3.5141, 3.5141, 3.5141, 3.514, 3.514, 3.5139, 3.5139, 3.5138, 3.5138, 3.5137, 3.5137, 3.5136, 3.5136, 3.5134, 3.5134, 3.5132, 3.5131, 3.513, 3.513, 3.5128, 3.5128, 3.5127, 3.5127, 3.5126, 3.5125, 3.5124, 3.5123, 3.5095, 3.511, 3.5077, 3.4372, 3.5083, 3.4019, 3.4537, 2.9574, 3.0966, 3.2075, 2.8741, 2.4182, 3.0419, 2.5039, 2.5331, 1.6542, 1.942, 2.2047, 2.6458, 2.2793, 1.9215, 2.416, 2.6458, 0.9255, 2.2143, 2.0139, 1.9921, 1.8754, 2.4421, 1.6267, 0.9072, 1.6118, -0.1743, 0.2356, 1.3198, 0.8801, -1.0714, 1.1987], \"logprob\": [30.0, 29.0, 28.0, 27.0, 26.0, 25.0, 24.0, 23.0, 22.0, 21.0, 20.0, 19.0, 18.0, 17.0, 16.0, 15.0, 14.0, 13.0, 12.0, 11.0, 10.0, 9.0, 8.0, 7.0, 6.0, 5.0, 4.0, 3.0, 2.0, 1.0, -7.8119, -8.6196, -8.7141, -8.7782, -8.8398, -8.941, -8.9475, -8.9776, -9.0295, -9.1545, -9.1731, -9.1787, -9.3121, -9.313, -9.3366, -9.3196, -9.3596, -9.3876, -9.389, -9.3809, -9.4142, -9.4463, -9.4521, -9.4667, -9.4684, -9.4873, -9.4917, -9.4935, -9.5069, -9.5072, -8.4201, -8.4248, -8.9304, -7.4389, -7.9811, -8.887, -7.0317, -8.7385, -6.6661, -6.6295, -6.7299, -7.4842, -5.5957, -7.6759, -4.9842, -8.9808, -6.8274, -8.2881, -7.4697, -4.4547, -4.7883, -6.5357, -4.6242, -6.7641, -6.3015, -4.8414, -7.6681, -5.3344, -7.2654, -6.8754, -6.0358, -6.1027, -5.2444, -4.4364, -4.2101, -5.6607, -5.0493, -5.2339, -5.4032, -6.5435, -4.6619, -4.8749, -5.3618, -6.0301, -6.203, -4.4793, -4.565, -4.0052, -5.4799, -4.0235, -4.3488, -4.9423, -4.8511, -4.2432, -4.7111, -5.6866, -5.416, -4.7815, -5.2106, -4.6385, -4.9988, -4.5842, -5.1199, -4.7014, -5.2033, -5.1966, -5.1642, -5.1337, -5.1664, -6.1977, -6.8424, -7.0773, -7.1177, -7.0631, -7.5356, -7.5755, -7.4783, -7.3721, -7.6279, -7.6526, -6.6164, -7.6812, -7.7443, -7.8, -6.7837, -7.8946, -7.9949, -8.0227, -8.0434, -8.0967, -8.1518, -8.1684, -8.1927, -8.2063, -8.2026, -8.1558, -8.2748, -7.8888, -8.3391, -5.6955, -6.5333, -6.7877, -7.0303, -7.7656, -6.7983, -7.325, -7.4117, -8.0263, -5.1161, -6.7226, -5.1206, -5.2908, -6.3349, -7.1545, -6.3542, -6.3484, -7.0398, -6.094, -5.3468, -5.7813, -5.1269, -6.5629, -4.7198, -6.3466, -5.9217, -5.1875, -6.1611, -6.0742, -4.8164, -6.0839, -5.1407, -5.1142, -5.8983, -5.0662, -4.8367, -5.7589, -5.3876, -5.2624, -5.5479, -5.4617, -5.3266, -4.6889, -5.7962, -5.6757, -5.0375, -5.3485, -5.4684, -4.6402, -4.9939, -5.1805, -5.3976, -4.9992, -5.1365, -5.1745, -5.5125, -5.1433, -5.137, -5.2288, -5.3675, -5.3692, -7.0445, -7.2035, -7.5106, -7.6726, -7.7546, -7.8528, -7.8563, -7.9587, -8.1148, -8.2836, -8.2885, -8.2928, -8.3407, -8.3392, -8.3698, -8.4158, -8.5009, -8.5004, -8.1343, -8.6422, -8.646, -8.7035, -8.7392, -8.7851, -8.8062, -8.8176, -8.8442, -8.067, -8.8504, -8.8714, -4.3746, -7.9424, -8.3761, -5.1953, -6.4428, -6.3681, -6.4542, -4.0061, -7.4766, -5.961, -6.3002, -5.7917, -7.4013, -5.1815, -5.5452, -6.2546, -5.4104, -6.4163, -5.026, -4.7342, -4.2653, -6.8597, -4.5343, -4.6684, -5.3101, -6.2578, -3.6495, -5.3035, -6.3784, -5.1395, -5.6555, -6.186, -6.2412, -3.5824, -5.8121, -5.2271, -4.042, -4.7867, -4.2622, -5.1419, -4.2403, -4.7503, -5.1217, -5.0637, -5.226, -4.8343, -4.8526, -4.759, -4.6966, -5.1606, -4.7621, -5.1628, -5.2281, -5.0944, -4.7754, -5.552, -5.6786, -5.8889, -5.9084, -5.9474, -6.2858, -6.4615, -6.7102, -7.0067, -7.3499, -7.4435, -7.6615, -7.7151, -7.7257, -7.7751, -7.7878, -7.7884, -7.8358, -7.8836, -8.0019, -8.0354, -8.117, -8.1629, -8.2028, -8.2272, -8.2972, -8.2797, -8.3691, -8.0901, -8.1419, -7.059, -6.0063, -7.1141, -6.4816, -6.1633, -7.8574, -4.1037, -6.8189, -6.048, -5.1627, -6.3896, -5.3019, -6.7142, -6.3848, -4.7806, -3.3337, -6.1457, -5.3491, -5.6167, -6.1532, -4.7845, -4.4952, -5.5584, -3.7999, -5.5339, -4.9957, -5.2858, -3.9455, -4.7354, -5.8794, -4.9221, -4.7354, -4.7706, -4.5461, -5.1051, -4.7863, -4.6315, -4.5705, -5.1306, -5.2802, -5.039, -4.8898, -5.1218, -5.0516, -5.2915, -5.2626, -5.2165, -5.2595, -4.2502, -6.1271, -6.1893, -7.1225, -7.1218, -7.2504, -7.3049, -7.4108, -7.4195, -7.4827, -7.5527, -7.6315, -7.634, -7.6456, -7.7115, -7.7244, -7.7667, -7.8341, -7.6243, -6.0301, -7.9472, -7.9486, -7.9533, -7.9537, -7.9826, -8.0083, -8.0354, -7.8528, -8.1081, -8.1609, -6.1851, -6.413, -7.1331, -7.0751, -7.677, -7.1543, -7.4073, -7.6348, -7.149, -6.1513, -4.9353, -4.588, -6.4434, -6.4335, -6.3942, -5.8735, -5.9454, -6.3197, -7.4464, -5.837, -6.3523, -6.1476, -5.9617, -6.3482, -4.4895, -6.3783, -5.4145, -4.715, -5.332, -5.1616, -5.5555, -6.1425, -6.0271, -4.897, -4.3643, -5.1793, -5.001, -4.3674, -4.6753, -4.5064, -5.1539, -4.535, -4.9795, -5.4578, -4.9731, -5.1127, -5.301, -5.0661, -5.4687, -5.5266, -5.2138, -5.4723, -5.2001, -5.4736, -5.4322, -5.4551, -5.4591, -3.6998, -4.4627, -3.9715, -6.6856, -6.9403, -6.9731, -6.975, -7.039, -7.3231, -7.3324, -7.4215, -7.4658, -7.5141, -7.6931, -7.7844, -7.8165, -7.6213, -7.8495, -7.89, -7.9074, -8.0444, -8.0738, -8.1004, -8.1414, -8.1722, -8.2074, -8.1492, -8.2509, -8.2569, -8.2966, -7.1088, -6.9847, -7.4866, -6.8375, -6.9921, -4.1095, -5.8973, -6.6469, -5.5401, -6.0913, -5.5424, -6.2729, -5.4996, -5.9914, -4.1981, -6.1024, -5.5299, -5.0088, -5.5013, -6.6104, -6.5513, -4.7334, -6.2199, -5.2182, -4.8536, -4.0317, -5.0376, -5.1312, -5.1302, -5.8488, -4.8916, -4.251, -5.3591, -4.67, -4.3801, -4.4881, -4.8069, -4.5687, -5.1399, -5.3823, -5.0062, -5.0154, -4.9956, -5.1247, -5.1599, -5.1549, -5.3227, -5.2868, -6.0567, -6.2161, -5.6285, -6.5482, -6.6033, -7.1548, -7.195, -7.1988, -7.3186, -7.3373, -7.3474, -7.3922, -7.3921, -7.3877, -7.5223, -7.5562, -7.5685, -7.5579, -7.5617, -7.7435, -7.7521, -7.7932, -6.865, -7.8497, -7.8509, -6.8657, -7.8531, -7.8698, -7.889, -7.8942, -7.4987, -4.8676, -6.7813, -6.6884, -5.8171, -5.6067, -6.0179, -7.1814, -6.0761, -6.0935, -6.3338, -7.0506, -6.5577, -6.7556, -4.6393, -6.6603, -5.9535, -5.0877, -6.0228, -5.4103, -6.3653, -4.6757, -6.3816, -5.7575, -6.3808, -4.9111, -5.5105, -4.896, -5.5325, -4.6415, -6.0002, -5.6905, -5.604, -4.2278, -5.0501, -5.7949, -4.5212, -5.2582, -4.8035, -4.8773, -4.439, -4.794, -4.9699, -4.9402, -5.3675, -5.1995, -5.1712, -5.5792, -5.285, -5.328, -5.5168, -5.5086, -5.5062, -5.4676, -5.569, -5.8889, -4.8671, -6.2655, -6.2727, -6.4542, -6.6978, -6.7149, -6.7527, -6.7713, -6.3458, -6.5022, -7.0966, -7.114, -7.1778, -7.2407, -6.9076, -7.3681, -6.1913, -7.4304, -7.4281, -7.4508, -7.5421, -7.5819, -7.5886, -7.665, -7.6884, -7.6461, -7.7651, -7.6706, -7.7788, -6.0277, -5.3758, -6.4851, -6.5999, -7.2204, -7.2906, -7.426, -6.0448, -5.2027, -4.1161, -6.6626, -6.5301, -5.9205, -4.8521, -5.6843, -4.4674, -6.6578, -6.7994, -6.2182, -6.5876, -5.6043, -6.1537, -4.8531, -5.9223, -5.8716, -5.16, -5.5144, -5.5686, -5.7141, -5.5037, -5.635, -5.0742, -5.4497, -5.3085, -5.3905, -5.3632, -5.0488, -5.6181, -5.8045, -5.4611, -5.514, -5.3409, -5.3824, -5.7384, -5.5942, -5.6618, -5.7152, -5.4855, -5.6066, -5.7337, -5.7702, -6.2646, -5.6341, -6.5137, -6.5734, -6.8101, -6.9513, -7.0301, -7.046, -7.102, -7.1242, -7.1376, -7.3109, -7.3751, -7.4108, -7.4109, -7.4445, -7.5074, -7.4954, -5.6972, -7.5862, -7.5935, -7.6395, -7.6425, -7.6569, -7.6867, -4.715, -3.9288, -5.8777, -5.8228, -4.1426, -6.7996, -6.962, -6.8827, -6.1095, -4.68, -4.2907, -6.3714, -5.3331, -4.5546, -4.8168, -6.0131, -4.7269, -6.1629, -5.3214, -5.9996, -5.1236, -5.6803, -5.1603, -4.5833, -5.152, -6.081, -4.6609, -5.1774, -4.3534, -4.4755, -5.0433, -4.7221, -4.7804, -4.5251, -4.5569, -4.8027, -5.1943, -5.1461, -5.2175, -4.991, -5.378, -5.307, -5.6919, -6.3422, -6.3023, -6.627, -6.6288, -6.6548, -6.6659, -6.6922, -5.7455, -6.7772, -6.7966, -6.8249, -6.8467, -6.8593, -6.9, -6.8605, -6.998, -7.0095, -7.0975, -7.1238, -7.1553, -7.1656, -7.2469, -7.2597, -7.2204, -7.2857, -7.3158, -7.3439, -7.1075, -7.3993, -5.4689, -6.7013, -7.1631, -5.4725, -7.182, -6.1389, -6.7305, -5.4799, -6.0194, -6.4488, -6.0755, -5.4094, -6.4079, -5.717, -5.7958, -4.8328, -5.1913, -5.6005, -6.053, -5.7148, -5.4001, -5.8416, -6.0791, -4.8097, -5.8054, -5.7089, -5.8303, -5.7707, -6.0959, -5.6802, -5.3937, -5.773, -5.3896, -5.5853, -5.8435, -5.8605, -5.8381, -6.0066]}, \"token.table\": {\"Topic\": [5, 1, 4, 5, 7, 8, 7, 3, 7, 8, 5, 5, 2, 3, 10, 1, 2, 3, 4, 5, 6, 7, 8, 9, 10, 1, 2, 3, 4, 5, 6, 7, 8, 9, 10, 1, 2, 3, 4, 5, 6, 7, 8, 9, 10, 3, 8, 1, 2, 3, 4, 5, 6, 7, 8, 9, 10, 4, 1, 2, 3, 4, 5, 6, 7, 8, 9, 10, 1, 2, 3, 4, 5, 6, 7, 10, 1, 7, 1, 2, 3, 4, 6, 7, 3, 8, 1, 2, 3, 4, 5, 6, 7, 8, 9, 10, 6, 1, 2, 3, 4, 5, 6, 7, 8, 9, 10, 1, 2, 3, 4, 5, 6, 7, 8, 9, 10, 6, 1, 2, 3, 4, 5, 6, 7, 8, 10, 9, 1, 4, 5, 10, 1, 2, 3, 4, 5, 6, 7, 8, 9, 10, 2, 6, 1, 5, 1, 2, 3, 4, 5, 6, 9, 10, 4, 6, 9, 10, 7, 1, 1, 3, 4, 5, 6, 7, 4, 1, 2, 3, 4, 5, 6, 7, 8, 9, 10, 1, 2, 6, 9, 1, 2, 3, 4, 5, 6, 7, 8, 9, 10, 1, 2, 9, 3, 5, 8, 10, 1, 2, 3, 4, 5, 6, 8, 9, 10, 9, 9, 9, 1, 2, 3, 7, 2, 4, 9, 1, 2, 3, 4, 5, 7, 8, 9, 10, 2, 5, 7, 8, 8, 1, 2, 4, 6, 9, 10, 1, 2, 3, 4, 6, 10, 2, 2, 1, 1, 2, 3, 4, 5, 6, 7, 8, 9, 10, 1, 6, 1, 2, 3, 4, 5, 6, 7, 8, 1, 2, 2, 1, 2, 3, 4, 5, 6, 7, 8, 9, 10, 7, 1, 4, 6, 9, 9, 1, 2, 3, 4, 5, 6, 7, 8, 9, 10, 3, 1, 2, 3, 4, 5, 6, 7, 8, 9, 2, 7, 3, 5, 7, 8, 9, 10, 1, 2, 4, 6, 9, 10, 1, 2, 3, 5, 8, 9, 3, 10, 2, 2, 4, 2, 4, 5, 2, 3, 2, 4, 8, 1, 2, 3, 4, 5, 6, 7, 8, 9, 10, 5, 2, 4, 6, 10, 1, 3, 6, 4, 9, 1, 2, 3, 4, 5, 6, 7, 8, 9, 10, 1, 2, 6, 9, 10, 1, 2, 3, 5, 6, 7, 8, 9, 2, 9, 10, 1, 2, 3, 4, 5, 6, 7, 8, 9, 10, 6, 8, 3, 5, 7, 8, 1, 2, 3, 4, 5, 6, 7, 8, 9, 10, 3, 9, 1, 2, 3, 4, 5, 6, 7, 8, 9, 10, 3, 8, 7, 9, 1, 4, 10, 5, 1, 2, 3, 4, 6, 9, 10, 1, 2, 6, 6, 1, 2, 4, 6, 10, 3, 4, 6, 8, 10, 1, 2, 3, 4, 6, 9, 10, 2, 4, 9, 4, 1, 2, 3, 4, 5, 6, 7, 9, 10, 2, 9, 1, 2, 4, 6, 4, 10, 3, 6, 1, 2, 3, 4, 5, 6, 7, 8, 9, 10, 5, 7, 8, 1, 2, 3, 4, 5, 6, 7, 8, 9, 8, 1, 5, 1, 6, 4, 6, 10, 2, 1, 2, 3, 5, 9, 10, 2, 4, 6, 7, 8, 10, 1, 2, 3, 4, 5, 6, 7, 8, 9, 10, 5, 1, 2, 7, 1, 2, 3, 4, 5, 6, 7, 8, 9, 10, 1, 3, 9, 8, 7, 1, 2, 4, 5, 6, 9, 10, 2, 9, 1, 2, 3, 4, 5, 6, 7, 8, 9, 10, 2, 5, 6, 5, 1, 2, 3, 4, 5, 6, 7, 8, 9, 10, 1, 2, 3, 4, 5, 6, 7, 8, 9, 10, 1, 2, 4, 6, 9, 1, 2, 3, 4, 5, 6, 7, 8, 9, 10, 2, 1, 2, 3, 4, 5, 6, 8, 9, 2, 6, 1, 2, 3, 4, 5, 6, 8, 9, 2, 9, 4, 1, 2, 3, 4, 5, 6, 7, 9, 6, 10, 2, 5, 6, 9, 3, 3, 5, 8, 3, 1, 2, 3, 4, 5, 6, 7, 8, 9, 10, 9, 2, 4, 5, 6, 9, 10, 1, 2, 3, 4, 6, 9, 10, 6, 1, 3, 7, 5, 5, 8, 1, 2, 4, 6, 9, 10, 1, 2, 3, 5, 6, 7, 3, 4, 10, 1, 2, 3, 4, 6, 8, 9, 10, 1, 2, 5, 7, 1, 5, 6, 7, 1, 2, 4, 6, 10, 3, 1, 2, 3, 4, 5, 6, 7, 8, 9, 10, 7, 3, 5, 6, 7, 8, 10, 9, 7, 3, 1, 2, 3, 4, 5, 6, 8, 9, 10, 1, 3, 4, 5, 6, 7, 8, 9, 10, 1, 2, 3, 4, 5, 6, 7, 8, 9, 10, 5, 6, 1, 2, 4, 9, 1, 5, 7, 1, 5, 6, 7, 9, 1, 2, 3, 4, 5, 6, 7, 8, 10, 1, 2, 4, 3, 2, 9, 7, 1, 2, 3, 4, 5, 6, 7, 8, 9, 10, 1, 2, 3, 5, 7, 8, 5, 7, 8, 4, 4, 10, 2, 8, 2, 1, 2, 10, 4, 1, 2, 3, 4, 5, 6, 7, 8, 9, 10, 1, 2, 3, 4, 5, 6, 7, 8, 9, 10, 10, 1, 2, 3, 4, 5, 6, 8, 9, 10, 3, 7, 1, 2, 3, 4, 5, 6, 7, 9, 1, 3, 7, 8, 10, 1, 2, 4, 6, 9, 10, 2, 3, 7, 8, 10, 2, 1, 2, 3, 4, 5, 6, 7, 8, 9, 10, 3, 8, 1, 2, 3, 4, 5, 6, 7, 8, 9, 1, 2, 3, 4, 5, 6, 9, 10, 1, 2, 3, 4, 5, 6, 8, 9, 10, 1, 2, 3, 4, 5, 6, 7, 8, 9, 10, 1, 2, 3, 4, 5, 6, 7, 8, 9, 10, 9, 2, 9, 9, 1, 2, 3, 4, 5, 6, 9, 10, 1, 2, 3, 4, 5, 6, 8, 9, 10, 4, 1, 2, 3, 4, 5, 6, 7, 8, 9, 10, 1, 9, 1, 3, 5, 6, 8, 2, 6, 9, 1, 2, 3, 4, 5, 6, 7, 8, 9, 10, 1, 2, 5, 7, 8, 1, 2, 3, 4, 5, 6, 7, 8, 9, 10, 2, 1, 2, 3, 4, 5, 6, 7, 8, 9, 10, 2, 4, 6, 1, 2, 3, 4, 5, 6, 7, 8, 9, 10, 8, 1, 2, 3, 4, 5, 6, 7, 8, 9, 10, 10, 1, 7, 1, 2, 4, 1, 2, 3, 4, 5, 6, 7, 8, 9, 10, 2, 4, 6, 6, 1, 2, 4, 5, 6, 9, 1, 3, 4, 5, 6, 7, 8, 9, 1, 2, 3, 4, 5, 6, 7, 8, 9, 10, 9, 2, 4, 9, 3, 3, 7, 1, 2, 3, 4, 5, 6, 7, 8, 9, 10, 5, 7, 8, 4, 3, 5, 7, 7, 2, 1, 3, 6, 6, 1, 2, 3, 4, 5, 6, 7, 8, 9, 10, 3, 10, 3, 1, 2, 3, 4, 5, 6, 7, 8, 9, 10, 3, 2, 10, 3, 8, 1, 2, 3, 5, 6, 8, 9, 10, 9, 1, 4, 5, 7, 7, 1, 2, 3, 5, 8, 1, 2, 3, 4, 5, 6, 7, 8, 9, 10, 6, 3, 8, 1, 2, 3, 4, 5, 6, 7, 8, 9, 10, 7, 8, 2, 3, 4, 1, 2, 3, 4, 6, 8, 9, 10, 1, 5, 7, 5, 1, 4, 5, 8, 10, 8, 10, 5, 1, 7, 3, 10, 1, 2, 3, 4, 5, 6, 7, 8, 9, 2, 3, 6, 10, 6, 1, 2, 3, 4, 5, 6, 7, 8, 9, 10, 10, 6, 5, 9, 10, 1, 2, 3, 4, 5, 6, 7, 8, 9, 10, 3, 1, 4, 8, 1, 1, 3, 2, 3, 1, 2, 3, 4, 5, 6, 7, 8, 9, 1, 2, 3, 4, 5, 6, 7, 8, 9, 10, 4, 4, 10, 8, 8, 9, 8, 1, 2, 3, 4, 5, 6, 7, 8, 9, 10, 5, 10, 3, 4, 3, 5, 1, 2, 3, 4, 5, 6, 7, 8, 9, 10, 1, 2, 3, 4, 5, 6, 7, 8, 9, 10, 1, 2, 3, 4, 5, 6, 7, 8, 9, 10, 10, 1, 2, 3, 4, 5, 6, 7, 8, 9, 10, 1, 4, 7, 1, 6, 8, 1, 2, 4, 1, 2, 3, 4, 5, 6, 7, 8, 9, 10, 8, 3, 1, 2, 3, 4, 5, 6, 7, 8, 9, 10, 1, 2, 3, 4, 5, 6, 7, 8, 9, 10, 1, 2, 3, 4, 5, 6, 7, 8, 1, 1, 2, 3, 4, 5, 6, 7, 8, 9, 10, 1, 1, 2, 3, 4, 5, 6, 7, 8, 9, 10, 9, 1, 2, 5, 6, 4, 4, 10, 1, 2, 3, 4, 5, 6, 7, 8, 9, 10, 1, 2, 3, 4, 5, 6, 8, 9, 10, 1, 2, 3, 4, 5, 6, 7, 8, 9, 10, 1, 2, 3, 5, 7, 10, 1, 2, 3, 4, 9, 6, 1, 6, 2, 4, 5, 6, 7, 9, 10, 5, 4, 2, 10, 5, 7, 8, 1, 2, 3, 4, 5, 6, 7, 8, 9, 10, 2, 4, 6, 9, 1, 2, 3, 4, 6, 8, 9, 10, 1, 2, 3, 4, 5, 6, 7, 8, 9, 10, 1, 2, 4, 5, 6, 9, 10, 10, 7, 4, 10, 1, 2, 3, 4, 6, 9, 10, 5, 7, 1, 4, 9, 10, 1, 2, 4, 5, 9, 1, 2, 3, 5, 6, 7, 8, 1, 2, 3, 4, 5, 6, 7, 8, 9, 4, 1, 2, 3, 4, 5, 6, 7, 8, 9, 10, 2, 8, 1, 3, 5, 8, 1, 2, 3, 4, 5, 6, 7, 8, 9, 10, 1, 2, 3, 4, 5, 6, 7, 8, 9, 10, 5, 8, 1, 3, 5, 8, 9, 10, 2, 4, 5, 1, 2, 3, 4, 5, 6, 7, 8, 9, 10, 8, 10, 1, 2, 3, 4, 5, 6, 7, 8, 9, 10, 1, 2, 3, 4, 5, 6, 7, 8, 9, 10, 1, 2, 3, 4, 5, 6, 7, 8, 9, 10, 1, 2, 3, 4, 5, 6, 7, 8, 9, 10, 1, 2, 3, 4, 5, 6, 7, 8, 9, 10, 1, 6, 6, 4, 1, 7, 8, 3, 10, 1, 3, 4, 5, 6, 7, 8, 1, 2, 3, 4, 5, 6, 7, 8, 9, 10, 1, 2, 3, 4, 5, 6, 7, 8, 9, 10, 2, 1, 2, 3, 4, 5, 6, 7, 8, 9, 10, 1, 2, 4, 6, 9, 1, 2, 3, 4, 5, 6, 7, 9, 10, 6, 5, 7, 8, 2, 3, 5, 8, 9, 10, 4, 5, 7, 8, 3, 4, 8, 4, 2, 4, 10, 1, 2, 3, 4, 5, 6, 7, 8, 9, 6, 9, 10, 5, 8, 2, 3, 4, 5, 7, 1, 2, 3, 4, 6, 8, 9, 1, 2, 4, 6, 10, 5, 5, 1, 2, 3, 4, 5, 6, 7, 8, 9, 10, 6, 1, 2, 3, 4, 5, 6, 7, 8, 9, 10, 8, 10, 5, 6, 4, 1, 2, 3, 4, 5, 6, 7, 8, 9, 10, 1, 7, 2, 4, 6, 9, 10, 9, 4, 6, 6, 1, 2, 3, 4, 5, 6, 7, 8, 9, 10, 7, 1, 2, 3, 4, 6, 8, 9, 10, 1, 3, 5, 7, 8, 9, 10, 1, 1, 2, 3, 8, 1, 3, 4, 5, 6, 7, 8, 10, 1, 2, 4, 9, 10, 1, 2, 3, 4, 5, 6, 8, 9, 10, 1, 2, 4, 6, 1, 2, 3, 4, 5, 6, 7, 8, 9, 10, 1, 2, 3, 4, 5, 6, 7, 8, 9, 10, 2, 5, 9, 10, 5, 6, 7, 8, 9, 10, 2, 3, 5, 7, 8, 10, 5, 8, 2, 4, 5, 7, 8, 9, 2, 9, 1, 7, 1, 2, 3, 4, 5, 8, 10, 6, 4, 1, 2, 3, 4, 5, 6, 7, 8, 9, 10, 1, 2, 3, 4, 5, 6, 7, 8, 9, 10, 8, 1, 2, 3, 4, 5, 6, 9, 7, 9, 1, 1, 7, 3, 8, 1, 2, 3, 4, 5, 6, 8, 9, 10, 5, 1, 2, 3, 4, 5, 6, 7, 8, 9, 10, 2, 4, 2, 4, 9, 3, 5, 7, 8, 9, 2, 8, 10, 1, 1, 10, 1, 2, 3, 4, 5, 6, 7, 8, 9, 10, 1, 2, 3, 4, 5, 6, 7, 8, 3, 3, 10, 5, 6, 1, 2, 3, 4, 6, 9, 5, 7, 2, 4, 6, 4, 9, 1, 2, 3, 4, 6, 9, 10, 6, 1, 2, 4, 6, 9, 10, 10, 1, 2, 3, 4, 5, 6, 7, 8, 9, 10, 2, 4, 6, 3, 5, 7, 8, 10, 2, 8, 1, 2, 3, 4, 5, 6, 7, 8, 9, 1, 2, 3, 4, 5, 6, 8, 9, 10, 1, 2, 3, 4, 5, 6, 7, 8, 9, 10, 2, 3, 4, 5, 6, 9, 10, 1, 2, 3, 4, 5, 6, 7, 8, 9, 10, 1, 2, 3, 4, 5, 6, 7, 8, 9, 10, 1, 2, 3, 4, 6, 10, 1, 2, 3, 4, 5, 6, 7, 8, 9, 10, 7, 1, 2, 3, 5, 8, 3, 1, 3, 5, 8, 10, 5, 8, 3, 5, 6, 7, 8, 9, 5, 1, 3, 8, 1, 2, 4, 6, 10, 1, 2, 3, 4, 5, 6, 7, 8, 9, 10, 1, 2, 2, 1, 2, 3, 4, 5, 6, 7, 8, 9, 10, 4, 2, 10, 1, 2, 4, 6, 9, 10, 6, 9, 9, 1, 2, 4, 6, 5, 7, 8, 1, 2, 4, 6, 9, 10, 1, 2, 4, 6, 9, 3, 5, 6, 8, 10, 2, 3, 8, 1, 2, 3, 4, 5, 6, 7, 8, 9, 10, 1, 2, 3, 4, 5, 6, 7, 8, 9, 10, 5, 8, 9, 1, 2, 3, 4, 5, 6, 7, 8, 9, 10, 1, 2, 3, 4, 6, 9, 2, 3, 4, 5, 7, 8, 9, 3, 5, 9, 8, 1, 2, 3, 4, 5, 6, 7, 8, 9, 10, 1, 2, 3, 4, 5, 6, 7, 8, 9, 10, 7, 1, 4, 6, 7, 9, 5, 6, 8, 1, 4, 10, 5, 7, 8, 6, 1, 2, 3, 4, 5, 6, 7, 8, 9, 10, 1, 2, 3, 4, 5, 6, 8, 9, 10, 4, 9, 10, 1, 2, 3, 4, 5, 6, 7, 8, 9, 10, 1, 3, 6, 10, 5, 1, 1, 2, 3, 4, 5, 6, 9, 10, 1, 2, 4, 6, 9, 1, 2, 3, 4, 5, 6, 7, 8, 9, 10, 2, 7, 1, 3, 4, 5, 6, 7, 4, 1, 2, 3, 4, 5, 6, 7, 8, 9, 10, 1, 3, 5, 8, 1, 2, 4, 6, 7, 8, 9, 1, 2, 3, 4, 5, 6, 7, 8, 9, 10, 1, 2, 3, 4, 5, 6, 7, 8, 9, 10, 7, 4, 1, 2, 3, 4, 5, 6, 7, 8, 9, 10, 2, 1, 3, 4, 5, 6, 7, 8, 1, 2, 6, 9, 2, 4, 2, 4, 6, 9, 7, 1, 2, 3, 4, 5, 6, 7, 8, 9, 10, 9, 2, 4, 9, 1, 9, 3, 8, 5, 8, 5, 10, 8, 1, 2, 3, 5, 7, 8, 2, 3, 5, 8, 3, 1, 2, 3, 4, 5, 6, 7, 8, 9, 10, 2, 6, 1, 2, 3, 4, 5, 6, 7, 8, 9, 10, 1, 2, 3, 4, 5, 6, 7, 8, 9, 10, 8, 2, 6, 2, 6, 9, 1, 3, 4, 5, 6, 7, 8, 1, 2, 3, 4, 5, 6, 7, 8, 9, 10, 1, 9, 1, 1, 1, 2, 3, 4, 5, 6, 7, 8, 9, 10, 1, 2, 3, 4, 5, 6, 7, 8, 9, 10, 2, 9, 2, 1, 2, 4, 6, 9, 10, 7, 1, 7, 2, 3, 4, 5, 6, 8, 9, 10, 4, 1, 2, 3, 8, 3, 2, 6, 1, 1, 2, 4, 8, 1, 2, 3, 4, 5, 6, 7, 8, 9, 10, 1, 2, 3, 4, 6, 1, 2, 3, 4, 6, 1, 2, 3, 4, 5, 6, 7, 8, 9, 10, 5, 1, 2, 3, 4, 5, 6, 7, 8, 9, 10, 5, 1, 2, 3, 4, 5, 6, 7, 8, 9, 10, 1, 2, 3, 4, 5, 6, 7, 8, 9, 10, 1, 2, 3, 4, 5, 6, 7, 8, 9, 10, 10, 1, 3, 5, 7, 8, 10, 1, 2, 3, 4, 5, 6, 7, 8, 9, 10, 3, 9, 1, 2, 3, 5, 6, 10, 1, 3, 4, 6, 10, 4, 1, 2, 3, 4, 5, 6, 7, 8, 9, 10, 1, 2, 3, 4, 5, 6, 7, 8, 9, 10, 8, 1, 2, 3, 4, 5, 6, 7, 8, 9, 10, 1, 4, 5, 6, 7, 8, 1, 2, 3, 4, 5, 6, 7, 8, 9, 10, 7, 8, 1, 2, 3, 4, 5, 6, 7, 8, 9, 10, 6, 8, 9, 1, 10, 5, 8], \"Freq\": [0.9991027892120169, 0.0009792434416766528, 0.0009792434416766528, 0.016647138508503096, 0.9537831121930599, 0.027418816366946278, 0.998574915164608, 0.0002919700691598082, 0.9097787355019624, 0.08963481123206113, 0.9987711581434366, 0.9990628662847147, 0.001642349714153813, 0.9484569599238272, 0.0492704914246144, 0.021180997435876977, 0.19668324178862828, 0.12976486287443686, 0.1601076239566923, 0.12349628774796736, 0.12633589870269285, 0.05641717613822544, 0.08574196348199441, 0.09965427124130989, 0.0005893532170184993, 0.005715955788612396, 0.03325847634532386, 0.2638829473530441, 0.22506300051069195, 0.23488385118996807, 0.10754383226991585, 0.05700507259453984, 0.0024055566832384212, 0.06971700515917591, 0.0005075945294906761, 0.0027691124923482718, 0.3125932416362292, 0.1635358720481108, 0.14854310583953945, 0.06317532357543129, 0.10249672096677674, 0.03995433738959649, 0.06036665233319233, 0.09992540222388192, 0.006606311231745162, 0.9990040530167376, 0.9979546368743468, 0.0058659568499749345, 0.05464601907608228, 0.00524848770787231, 0.21920154544643175, 0.016054197694668242, 0.09972126644957388, 0.0024698765684104985, 0.023463827399899738, 0.000926203713153937, 0.5720851601580818, 0.997594192595966, 0.49552877721099986, 0.0866186877217966, 0.047769010903899504, 0.04615985269250732, 0.08156133334313544, 0.04211396918957839, 0.14762877190800897, 0.02395346937529513, 0.025700555433378076, 0.0029884366782997763, 0.2076085019550304, 0.04490591421597836, 0.000325405175478104, 0.0009762155264343122, 0.03872321588189438, 0.000650810350956208, 0.7048276100855734, 0.0019524310528686243, 0.8669097148877541, 0.13291831449432323, 0.09462366344311669, 0.5560378167694469, 0.18015409186458278, 0.14684224079516967, 0.022237911389581182, 0.9995830333945919, 0.9972026137948293, 0.9987597142893658, 0.026521155492471995, 0.024656095331257368, 0.28815179490765985, 0.13674621102025644, 0.0909776346640495, 0.05792876860732631, 0.01294351751882951, 0.3288847088285873, 0.0329742636502746, 0.00022380721934575523, 0.998759567829235, 0.0020994008551202, 0.03750929527814757, 0.07389891010023103, 0.13100261335950047, 0.07725795146842335, 0.10608972321207409, 0.02477293009041836, 0.2911169185766677, 0.06242218542557394, 0.19398463901310647, 0.2795908715579845, 0.03302493779854405, 0.1696470912919455, 0.060539385400553127, 0.16409859771474478, 0.05787914875395004, 0.0441219249529455, 0.1559278708716067, 0.03272091075321798, 0.0024322163626085374, 0.9970522815780704, 0.6688206561703655, 0.17504882265992416, 0.00703224565691908, 0.001839202710271144, 0.00010818839472183199, 0.004219347394151448, 0.11284049569487077, 0.0297518085485038, 0.00032456518416549597, 0.999794797602093, 0.002221636671525926, 0.896306972701182, 0.02098212411996708, 0.08022576869399177, 0.6810641690223569, 0.04914243620739304, 0.002974493885057917, 0.02968165174664177, 0.03765582684275448, 0.02689701917339606, 0.16410346050968466, 0.0008543759031549336, 0.006708433017364664, 0.0009176630070923361, 0.9918830183363622, 0.007689015646018311, 0.0052006354812978856, 0.9933213769278962, 0.003222188910513145, 0.14073865800665042, 0.6780796188632409, 0.146254608514478, 0.00016384011409388872, 0.02293761597314442, 0.008465072561517585, 0.00010922674272925916, 0.8084613611264587, 0.04741650682434936, 0.024997823681456147, 0.11903725562598165, 0.9994787426359383, 0.9949452586763717, 0.9138601014055795, 0.0008002277595495442, 0.022406377267387236, 0.02320660502693678, 0.007202049835945898, 0.03240922426175654, 0.998361082587127, 0.33038643159012876, 0.11599761036861166, 0.15388192119094643, 0.09702703461924297, 0.06133108983840842, 0.06873458793984744, 0.12629998296658343, 0.013741233520329226, 0.03214340250567188, 0.0004547254112208224, 0.000369696039057654, 0.7441981266230575, 0.2548438029237428, 0.000492928052076872, 0.5694618454616425, 0.005301785380370105, 0.10365616613747221, 0.11663927836814231, 0.05677502454569561, 0.0730978441025831, 0.05047132696746029, 0.009893882953919015, 0.014444234185890206, 0.0002087317078885868, 0.0012414952163732477, 0.0003103738040933119, 0.9981621539640911, 0.966706911135396, 0.0012842336913123826, 0.03178478385998147, 0.9960358638887246, 0.06346955539509629, 0.024423146165302428, 0.8786718103149035, 0.0008932185117926699, 0.00012760264454180997, 0.008625938771026354, 0.00038280793362542993, 0.021462764811932437, 0.0019140396681271495, 0.9978947729481762, 0.9986849282276621, 0.9991429928592516, 0.12606328247538326, 0.0010580851047094519, 0.8727690563703393, 0.9985141968822598, 0.09673827685319494, 0.4010987988394262, 0.5020351518579484, 0.00013895875318715412, 0.21524710868690172, 0.11102804379653615, 0.0004168762595614624, 0.06364310895971659, 0.00027791750637430824, 0.5780684132585612, 0.0005558350127486165, 0.030848843207548216, 0.08727393067464509, 0.017924948724422057, 0.0035262194211977817, 0.8909581070893061, 0.9985319002822768, 0.0003727842983108547, 0.16260851092319484, 0.6111425786508152, 0.22128475947732337, 0.00156569405290559, 0.002907717526824667, 0.00040877325242383777, 8.175465048476755e-05, 0.9736570099483391, 4.0877325242383774e-05, 0.02436288584446073, 0.0014307063834834322, 0.9994455606964171, 0.9990023962038054, 0.9967650775826269, 0.005323643659024218, 0.13744474921370575, 0.13645220548066736, 0.2015991668673705, 0.09250958748160304, 0.18483871246629002, 0.04867975854311128, 0.03830316497043696, 0.11721039174699083, 0.037626430607001674, 0.995042467542396, 0.9997015420628539, 0.7410063272891687, 0.057854471638951764, 0.007974535279963621, 0.013290892133272702, 0.003752722484688763, 0.00953816964858394, 0.16652706025806388, 0.0001563634368620318, 0.0005961154658806355, 0.9990895208159453, 0.9980574663182479, 0.12065058550893078, 0.2601720847814817, 0.10624060314821926, 0.1721567342727774, 0.06069214566588879, 0.13412142441639835, 0.010330577985683199, 0.05288551571079865, 0.07789021015341821, 0.004871806663702872, 0.9993322983446385, 0.912963105124745, 0.057107783890205065, 0.028934610504370566, 0.9991223933693056, 0.9990695049418541, 0.025372305291947464, 0.028607699926491103, 0.07458436052263752, 0.007662776766024402, 0.5787950717270431, 0.007151924981622776, 0.1004675175989866, 0.1716461995589466, 0.005619369628417895, 0.0001702839281338756, 0.9971106152713259, 0.09694880424053882, 0.08064434815868882, 0.12566973072318227, 0.6048953206366349, 0.005267593503366921, 0.004013404573993845, 0.0002508377858746153, 0.025961710838022685, 0.056313082928851135, 0.9976401959927005, 0.9982792159805468, 0.0007301228677424413, 0.9276211034667716, 0.04271218776293281, 0.021173563164530798, 0.0032855529048409857, 0.004745798640325869, 0.003791299745703134, 0.5680197988870572, 0.03323879229109597, 0.39346420374584856, 0.0013503259368257737, 0.0001038712259096749, 0.05138855926321865, 0.6252723127105766, 0.002744310494684975, 5.381000969970539e-05, 0.08238312485024896, 0.23810929292119634, 0.9987027815694418, 0.9965774300540756, 0.9993465605106385, 0.9346807015038645, 0.06481760109496497, 0.11540566806960482, 0.8843076598016467, 0.9992984092160986, 0.892773587179495, 0.10696826390169063, 0.0002198963456077731, 0.9341196761418202, 0.06552911099111638, 0.011750951273459547, 0.02031235862983722, 0.1353038103772628, 0.03659581968020259, 0.11969183225680939, 0.09316825652528642, 0.01712281471275534, 0.5345004122099314, 0.028370153788780907, 0.0030216731846038837, 0.9979802849471754, 0.00470171513260911, 0.11533030648811758, 0.875072157622072, 0.00470171513260911, 7.586425295422194e-05, 7.586425295422194e-05, 0.9998149896836911, 0.0019755608560345344, 0.9978906512216792, 0.120991172943785, 0.011790134460247867, 0.04976249854945996, 0.06675655442664481, 0.22547615764322299, 0.018538970047838024, 0.41176028211513926, 0.055372976327095154, 0.0357769597414418, 0.0038216297905631015, 0.0017402663493324166, 0.7128763790992608, 0.01629522127102172, 0.2687920479559796, 0.00015820603175749242, 0.010928564414721157, 0.0010624993180978902, 7.58928084355636e-05, 0.8625976606786158, 0.008575887353218686, 0.0771070933705326, 7.58928084355636e-05, 0.03954015319492863, 0.614789893325948, 0.3847586785855989, 0.0002288867808361683, 0.2133710274957031, 0.022640655650669462, 0.022738667146992707, 0.0315597018160847, 0.01837715556060833, 0.050475920606470874, 0.6062011047592667, 0.014211666966870441, 0.010683253099233642, 0.00975214388416282, 0.9992098245358302, 0.999060011142973, 0.0005827080033648834, 0.0012625340072905805, 0.9561267155212128, 0.041954976242271604, 0.22421578052616387, 0.058277947812873356, 0.04783875155355804, 0.043663073049831906, 0.04529703420346387, 0.033133101170870365, 0.5194180956156719, 0.0045387809823110095, 0.019789085082876, 0.003812576025141248, 0.9975861205447935, 0.9997650423539267, 0.06726347536498375, 0.0030448486790733385, 0.0478871655890625, 0.026573224835549136, 0.7628729963205565, 0.02989487793999278, 0.016054656671477603, 0.014117025693885479, 0.025742811559438226, 0.006643306208887284, 0.9987696743989493, 0.9979900022101665, 0.99910498446794, 0.9985801618781472, 0.01619560834966833, 0.9820427972026159, 0.9985185797116077, 0.9989845131605078, 0.0027759455121976963, 0.4889365362150876, 0.00021590687317093194, 0.00990087232683845, 0.3795025953564495, 0.11862540488791488, 6.168767804883769e-05, 0.006077028878210703, 0.000868146982601529, 0.9931601480961492, 0.9973497372252926, 0.08713198643148529, 0.4970297305102993, 0.03478715842462313, 0.11141736118075049, 0.26960047779082924, 0.00033087136574252925, 0.0023160995601977045, 0.8731695341945346, 0.03937369252336098, 0.08470306963008749, 0.012343637788264108, 0.20250826936157998, 2.4203211349537465e-05, 0.689259052812128, 0.09579631052146928, 4.840642269907493e-05, 2.4203211349537465e-05, 0.1535737415875249, 0.1162629844122477, 0.7298916872413602, 0.9999298889347833, 0.0553198966816289, 0.06620774899523459, 0.022656339740811837, 0.13041405455046814, 0.00016011547520008366, 0.042590716403222255, 0.00016011547520008366, 0.679369961273955, 0.0031222517664016313, 0.4300169547367669, 0.5699272551515858, 0.005002940321596412, 0.813419238170146, 0.11683337103963386, 0.0644496429664479, 0.9994336997108382, 0.9984780472609547, 0.0075832466303064165, 0.9908775596933718, 0.010166917533382, 0.025620632184122638, 0.05612138478426863, 0.040057655081525076, 0.06608496396698299, 0.02480727878145208, 0.00061001505200292, 0.4652381463275603, 0.03924430167885452, 0.2720667131933023, 0.008126559839204463, 0.003779795274048588, 0.9880384846363008, 0.025042429601264907, 0.004416084359792951, 0.07695834817248937, 0.1990469243145701, 0.25080127882385095, 0.02374991710571575, 0.1770203572029199, 0.19592335245032633, 0.04701514202560057, 0.9987579396789722, 0.9948826660765328, 0.9998692023129742, 0.9957673039561529, 0.9971800066391336, 0.013581189952387858, 0.25072966065946817, 0.7344289643483588, 0.9982629443352077, 0.0007388921436063189, 0.00401112877957716, 5.277801025759421e-05, 0.000263890051287971, 0.9949182713659084, 0.9973328227024513, 0.007178398927812048, 0.013601176915854406, 0.004911536108502979, 0.8583853875783669, 0.06725026363950233, 0.04873755061514495, 0.37567265745671424, 0.14747813946411037, 0.09667000470216776, 0.11992770069029533, 0.06533938944543391, 0.07430929974388531, 0.07961436097754086, 0.012839785884354731, 0.026384350435016357, 0.0017811679021210655, 0.9987655879405847, 0.971440075909837, 0.011732368066543925, 0.01407884167985271, 0.007796981438217906, 0.061509520234830146, 0.11024065422369206, 0.00021658281772827517, 0.049380882442046733, 0.012561803428239959, 0.7199212861287866, 0.01970903641327304, 0.0017326625418262014, 0.016893459782805462, 0.9962721127355475, 0.9981332043554946, 0.9979325733563392, 0.9984305700758486, 0.9980153899975782, 0.11729442644491622, 0.4738371771691611, 0.2515493287475984, 0.0001242525703865638, 0.15351405071259958, 6.21262851932819e-05, 0.003665450826403632, 0.0059230768890307746, 0.9939663404404768, 0.031963233442980035, 0.030631432049522532, 0.5966470242689607, 0.012049631655091679, 0.1622260935459185, 0.02467003533595086, 0.0013318013934575015, 0.08168381879872676, 0.05606249675316339, 0.002663602786915003, 0.9986267972071625, 0.9874546947342824, 0.011983673479784981, 0.9983424252574946, 0.38139903083899607, 0.13930742882856156, 0.05066216216276429, 0.06277350082280612, 0.08194077562184555, 0.05333855173272889, 0.13198115030875948, 0.06234095301351892, 0.031062339554437657, 0.005190573711446501, 0.10062029302818062, 0.3672019582608666, 0.021449099501480478, 0.033126022396108845, 0.031055645996352046, 0.021697544669451296, 0.02492733185307191, 0.3570157063740631, 0.01175973795061864, 0.03122127610833259, 7.4298599342221e-05, 0.2498661895878892, 0.000148597198684442, 0.0008172845927644309, 0.7490041799689298, 0.002807108842234906, 0.1467716908939965, 0.054538114649135314, 0.014436559760065231, 0.07940107868035877, 0.09504068508709611, 0.031680228362365365, 0.0910305295981891, 0.06496451892029353, 0.41906124859078236, 0.9995058884561583, 0.07827324200959039, 0.015959492643421638, 0.7579862404914974, 0.02178739726040145, 0.06903825469345316, 0.007531445966558526, 0.0450990157283207, 0.004303683409462015, 0.12141380208562282, 0.8783704706879512, 0.2563251661414401, 0.030848435692603544, 0.0022353938907683727, 0.0026824726689220475, 0.0028314989283066056, 0.00655715541292056, 0.0005961050375382327, 0.697889972697886, 0.0002917957097576715, 0.9994003059200249, 0.999889059991952, 0.31043293069180417, 0.0002476529163875582, 0.0011763513528409012, 0.006438975826076512, 0.181034281879305, 0.005881756764204506, 0.48911450986542737, 0.005757930306010728, 0.0036431295105472427, 0.9945743563793973, 0.0020064929230798985, 0.009029218153859543, 0.0020064929230798985, 0.9861912716937701, 0.9957455140968092, 0.9025187774246193, 0.005198840883782369, 0.09201948364294793, 0.9983777510727792, 0.11789862599709772, 0.09862510719479572, 0.0994434557237368, 0.055111540586963104, 0.09831469913209394, 0.06464953378634535, 0.23147975803116147, 0.14939093490393376, 0.08369730127031877, 0.0013827268247625151, 0.9977372437046913, 0.0011359804226991873, 0.0003786601408997291, 0.17531964523657456, 0.7565629615176588, 0.01249578464969106, 0.05414840014866126, 0.0004092258358016567, 0.4210592828869213, 0.037716981199719356, 0.24205708187667993, 0.15212970445926588, 0.1465028492169931, 0.00013640861193388556, 0.9987593086426729, 0.9994794268865772, 0.9972669921707534, 0.9989500416757816, 0.9980790463235303, 0.9961363732994781, 0.0027179710049098993, 0.021370368806450806, 0.8715845555575389, 0.03057149982033935, 0.004600565506944271, 0.07160557603550358, 0.00022260800840052925, 0.856435158470951, 0.002835878008181957, 0.0014179390040909784, 0.040411261616592885, 0.05459065165750267, 0.04324713962477484, 0.0010607664114491305, 0.004243065645796522, 0.9939381275278353, 0.1502079681996764, 0.4972222170907833, 0.16665187921864735, 0.16430894730565412, 0.02117316247297576, 0.00026032576811035776, 8.677525603678591e-05, 4.3387628018392956e-05, 0.9278401188994377, 0.03140381940890405, 0.011419570694146926, 0.02712148039859895, 0.9766738445921795, 0.0025701943278741567, 0.0032127429098426957, 0.01670626313118202, 0.018996812370313927, 0.38548542287479237, 0.5861468482106883, 0.008546540320119912, 0.0007695936781150631, 0.9997054307122312, 0.20278139825064756, 0.1318869578281807, 0.055583903993201705, 0.04942640564664942, 0.06565224588418585, 0.05599995117877957, 0.39224928656280367, 0.02288259520678214, 0.014395232620993856, 0.009069828645597284, 0.9992597258651448, 0.010795081237047754, 0.0006746925773154847, 0.38508078850281285, 0.43652609752311855, 0.16622738373610252, 0.0006746925773154847, 0.9995499443986258, 0.9997487380579541, 0.9992293976679598, 0.30799794559438015, 0.03560445918458937, 0.5719100795744683, 0.005876673130225453, 0.00019373647682061933, 0.014164289083107502, 8.610510080916415e-05, 0.064126773827625, 4.3052550404582074e-05, 0.00034144972268284506, 0.0409739667219414, 0.18779734747556479, 0.07102154231803177, 0.16013991993825433, 0.013316539184630957, 0.1423845343587464, 0.04233976561267279, 0.3417911724055279, 0.2616243796403897, 0.15352819449168967, 0.03407882584573852, 0.29186741004308414, 0.0006168113275246791, 0.20242976755200565, 7.710141594058489e-05, 0.0014842022568562591, 0.053354179830884745, 0.0009444923452721649, 0.9994237090373724, 0.9977977632843089, 0.015726151000654328, 0.7333104211605114, 0.23935201822995888, 0.011558720985480933, 0.9968131636594029, 0.0014955663987185805, 0.9982905711446525, 0.2188468670520588, 0.5382983867205702, 0.0012699044509790647, 0.21362614875358932, 0.02779679742698619, 0.7908152163681158, 0.03817001444336773, 0.07465295642515013, 0.011176855058002704, 0.07676179700213177, 0.00042176811539632844, 0.00021088405769816422, 0.007591826077133912, 0.00021088405769816422, 0.05205148411695013, 0.6968525220554956, 0.2509625127067238, 0.9964563308958134, 0.04541465119796295, 0.9542899142751446, 0.9982260556210844, 0.3176369245449096, 0.10492565724486319, 0.13152139675484587, 0.06208101386987738, 0.12261364564499551, 0.05687116352751091, 0.09842245244687427, 0.06062371307480984, 0.03408262234464219, 0.011202999862081746, 0.002057100949498288, 0.04712631266123351, 0.31454943609601094, 0.05890789082654188, 0.011033541456399908, 0.5660767794664834, 0.9993056982512144, 0.16021744329584345, 0.8393883561223313, 0.998881485500514, 0.9988709856567419, 0.9990312941280177, 0.049360176623687746, 0.950347933928068, 0.9985310285838633, 0.9957056381049314, 0.9972825538105093, 0.0027100069397024713, 0.9969424052009861, 0.6017073402891809, 0.09378388495097575, 0.02274428582402405, 0.032325921128612906, 0.04171398804321006, 0.05623161729258711, 0.11072111907524898, 0.009097714329609619, 0.030680589813683504, 0.0009678419499584702, 0.05381915855200885, 0.05163936274188293, 0.10009622360098203, 0.14362674592919655, 0.3868919583392487, 0.07167168623694009, 0.09377481575161688, 0.03707832673024182, 0.04427165290365734, 0.017111397109488436, 0.9965499087100249, 0.03545036930541356, 0.14909268792985986, 0.0020951754908636855, 0.40503932589376773, 0.00016761403926909485, 0.1523611616956072, 0.00025142105890364226, 0.04818903628986477, 0.2072547595562358, 0.0007472964131029329, 0.9983880079055184, 0.06861062689927652, 0.012890481417439831, 0.0020791099060386824, 0.0831643962415473, 0.033681580477826656, 0.07921408742007381, 0.6447319818625955, 0.07547168958920418, 0.9755822395638255, 0.0011035998185111148, 0.0066215989110666885, 0.005517999092555574, 0.012139598003622262, 0.0014233404881894868, 0.26893441494412706, 0.2322353115459441, 0.11959906966975985, 0.37687748007547034, 0.0009232478842310185, 0.011807722597304627, 0.12894033076256653, 0.8577129694682082, 0.0004723089038921851, 0.9971586889932057, 0.9994613130829532, 0.2601078531970109, 0.08010433387430912, 0.1867512864256549, 0.4309601951194461, 0.002592600029172006, 0.03440450308982311, 1.4014054211740574e-05, 5.6056216846962295e-05, 0.003783794637169955, 0.0012262297435273002, 0.9690462222322509, 0.03076337213435717, 0.054813631894911036, 0.012818332625758705, 0.07868014645049035, 0.00689748374624159, 0.09546605822231721, 0.10199730389353713, 0.14704458712120344, 0.28084356386245624, 0.22145195602977422, 0.025433571864693885, 0.7296255928684059, 0.0007064881073526079, 0.00017662202683815198, 0.024373839703664975, 0.18227393169697284, 0.013776518093375855, 0.023490729569474213, 0.0003709818944353178, 0.24771472860249175, 0.0006745125353369415, 0.2602943873865257, 0.031735814787603095, 0.27901211024212585, 0.00033725626766847075, 0.17935288314609274, 0.0005058844015027061, 0.2638015555723946, 0.15459421753449784, 0.34258574298526595, 0.0908357206034364, 0.02844037909752886, 0.03850914076059736, 0.04489118661472693, 0.01115308984216818, 0.022027352438282157, 0.0031600421219476513, 0.002702512871475538, 0.06483186141150264, 0.3210016341234734, 0.1986204723014969, 0.16254903734327603, 0.06494565142714372, 0.08867086968830791, 0.02893111147674339, 0.06773350681035006, 2.844750391026882e-05, 0.9983556168891311, 0.010186989608206656, 0.989064081960428, 0.9975033118107386, 0.013186931628845691, 0.14324127238128942, 0.00014179496375102895, 0.24621277505728664, 0.0004821028767534984, 0.5959075146600742, 0.0002835899275020579, 0.0005671798550041158, 0.0009519058249606763, 0.022981726345479188, 0.6354651314344629, 0.040048037921559886, 0.1341507280462439, 0.005711434949764059, 0.1453016248529261, 0.01047096407456744, 0.004895515671226335, 0.9984419609319553, 0.008244851928240307, 0.1319176308518449, 0.04740789858738176, 0.003607122718605134, 0.01185197464684544, 0.04277016937774659, 0.133978843833905, 0.005668335700665211, 0.08811685498306827, 0.5266399169163496, 0.9965550260392878, 0.9994208111102555, 0.0016739795622039547, 0.8244907337041878, 0.004240748224250019, 0.00033479591244079093, 0.16929513305755994, 0.04266706261216262, 0.00044912697486486965, 0.9561913294873075, 0.30567883635327053, 0.05405862428575897, 0.10493045729713835, 0.08421306880870726, 0.11327712446384336, 0.11369251069920037, 0.12114999170584428, 0.035139079347232455, 0.06739641668667562, 0.0004673095147766414, 0.008916942287679823, 0.06130397822779879, 0.7933292091570143, 0.12177199311612759, 0.014490031217479713, 0.44960545417150716, 0.05681288963387236, 0.03660718269512145, 0.09287335647044813, 0.06945569386274132, 0.07243985125730318, 0.1609167010319464, 0.02303040554123695, 0.035354292185954254, 0.002893038084804246, 0.999040247356645, 0.2857514053461965, 0.07108253137185455, 0.1683413300558169, 0.11033457338472251, 0.12392942420781909, 0.08963950274538139, 0.09338426619937981, 0.016598076959471558, 0.0402716558246002, 0.0006735630635079671, 0.9990046391804084, 0.00045061102353649454, 0.00045061102353649454, 0.2922426348124145, 0.02469656068837306, 0.009467014930543007, 0.0028812654136435236, 0.060506573686514, 0.05474404285922695, 0.058448526962482907, 0.011113452309767877, 0.06668071385860726, 0.41901831301272957, 0.9993540393412355, 0.09990080655174877, 0.12394335151632596, 0.21777287455643074, 0.252987630216301, 0.057178902273269085, 0.16271170940439386, 0.013112923351282899, 0.005815581506293966, 0.0659448915336017, 0.0006228638591859378, 0.9982814435905699, 0.9926379082959749, 0.005804900048514473, 0.0018078028149470032, 0.9870603369610638, 0.01084681688968202, 0.0015254715895583239, 0.11708881351947087, 0.4361873153841158, 0.16227647484970145, 0.09706256439608311, 0.08395415155092496, 0.033276566302458316, 0.033019364697242086, 0.03525435795636243, 0.0003458918139114804, 0.00841370531314993, 0.9258581555012069, 0.06520621617691195, 0.9990182627810014, 0.0015580789774158243, 0.9971705455461276, 0.0002625393970909724, 0.9984373271369681, 0.0002625393970909724, 0.0010501575883638896, 0.8040114589479154, 0.0004446966034003957, 0.042690873926437986, 0.04180148071963719, 0.08404765804267479, 0.002668179620402374, 0.0017787864136015828, 0.022234830170019784, 0.013020095643833496, 0.029918517649659946, 0.017729491940539226, 0.07784355055143004, 0.21219985666332888, 0.11025527800522832, 0.011357955774407942, 0.09585006580354019, 0.05706680218361064, 0.37425849393232025, 0.9993746044103422, 0.0014002579584330257, 0.005601031833732103, 0.9927828925290152, 0.9974136310766282, 0.9960088559875446, 0.002964312071391502, 0.3151031534078698, 0.00038599814627342157, 0.11386945315065937, 0.002058656780124915, 0.1412109885116934, 0.10338317017689809, 0.3109215068232411, 0.0015439925850936863, 0.007333964779195011, 0.004181646584628734, 0.00036099731977617266, 0.03248975877985554, 0.9667508223605904, 0.9996068413204642, 0.0004907245980587349, 0.06477564694375301, 0.9345849970028607, 0.9983486682608834, 0.9984340555965882, 0.03064647242419945, 0.00822222430893156, 0.9605052942706412, 0.9988582139819748, 0.07323459694874644, 0.0023108003891594755, 0.6918180857391291, 0.0001777538760891904, 0.10114195549474934, 0.0033773236456946178, 0.040350129872246225, 0.0629248721355734, 0.019375172493721754, 0.005154862406586522, 0.99789434613979, 0.0017980078308825044, 0.9987053860080258, 0.013263605891644, 0.0956737912011093, 0.6354299260596249, 0.0586732998376759, 0.027865039466883214, 0.07174578748880629, 0.07736466375990621, 0.0003440128329244841, 0.01922649499566839, 0.00045868377723264547, 0.999360526260274, 0.9993687864212739, 0.9967529970851492, 0.9990180417364476, 0.9997727313704375, 0.0020880176888465945, 0.02255059103954322, 0.8285254189343287, 0.060552512976551245, 0.00041760353776931894, 0.013780916746387525, 0.026309022879467094, 0.04510118207908644, 0.9992871596976506, 0.8782318921781445, 0.0008532045584632232, 0.003981621272828375, 0.11688902450946158, 0.9980482938357598, 0.6893682017324448, 0.12431229867306383, 0.11931016444925947, 0.0007410569220450898, 0.065954066062013, 0.06167694098611558, 0.027849817573773653, 0.04378929980995571, 0.28792903606081094, 0.012928691147125448, 0.291382590545317, 0.007128490666736977, 0.13641540213799144, 0.12047591990180939, 0.01044921613260824, 0.9968135840639252, 0.00022996095844585724, 0.9997552668433644, 0.1661110171925148, 0.019970506312415426, 0.5691434022101699, 0.0024682648251299964, 0.012116936414274528, 0.06436721777741601, 0.1430952490828611, 0.0212206664186501, 0.001442492430270777, 3.20553873393506e-05, 0.9769985757507765, 0.022678135070752028, 0.18562975040003046, 0.0019539973726318996, 0.8123046220512611, 0.03444060655871718, 0.09426886023786019, 0.00026240462139975, 0.0020336358158480625, 0.000393606932099625, 0.007281728243843062, 0.8611463662786295, 0.000131202310699875, 0.9134784100465931, 0.040263511186626695, 0.045925567447246074, 0.999147977612168, 0.9979655187722194, 0.8330886117725713, 0.05379405055299408, 0.10873877598412707, 0.004602699512555643, 0.9990484690143415, 0.9983915911953762, 0.9987829641095614, 0.9988153804158101, 0.9993118008532331, 0.9961542459064252, 0.001679855389386889, 0.289940761904693, 0.004350851769278107, 0.043160449551238815, 0.02036198628022154, 0.04229027919738319, 0.019491815926365917, 0.5520360724860062, 0.027845451323379882, 0.0003480681415422485, 0.1641309315682888, 0.0001519730847854526, 0.8326605315394948, 0.002887488610923599, 0.9981388735490774, 0.028524113541254444, 0.20988732337608765, 0.0018180204235085252, 0.23490077678918772, 0.44121474967768964, 0.0612484811644079, 0.000689593953744613, 6.269035943132845e-05, 0.02106396076892636, 0.000564213234881956, 0.9981315098078908, 0.9978224239826198, 0.9990404237682226, 0.005875818120217569, 0.9930132623167692, 0.0974259566635329, 0.035797155005578035, 0.1328297363393793, 0.019406516266760255, 0.15695675656291908, 0.01101450923248555, 0.5301388193683223, 0.014948262529801817, 0.0002622502198210845, 0.0011801259891948803, 0.9985227954961944, 0.9960889679630329, 0.9613157092572742, 0.03768522024885965, 0.9936105586712497, 0.9932316050322312, 0.005227534763327533, 0.9981924015552688, 0.9991398378346196, 0.19399209663214337, 0.014097835939958944, 0.11696798256434686, 0.052720032317138135, 0.1842998344234216, 0.09552752373899263, 0.005800672079462273, 0.29620140719684573, 0.04038442586967406, 0.31988825900206075, 0.04118439686420473, 0.05563724201815893, 0.06089658681630272, 0.1632467495612821, 0.07354800284648326, 0.15047109703980682, 0.01474273030030858, 0.04538773148634327, 0.07501813466013763, 0.999259211957891, 0.9972385949628447, 0.0019865310656630372, 0.9985886703029175, 0.9988453123014304, 0.9992784623092601, 0.9983549076146585, 0.5389109130027296, 0.07576336286607079, 0.03135195394885692, 0.03626082709299109, 0.05904540810161384, 0.023942334108654397, 0.18019269248892508, 0.047792047969306264, 0.004075290912111387, 0.002685987192073414, 0.001404858272165225, 0.9981518023733924, 0.9950090827523248, 0.9972974813823453, 0.008263553642238845, 0.9905934928633816, 0.16274835725449088, 0.04382267744085641, 0.04986718467407799, 0.014960155402223396, 0.0844719885842715, 0.059991734289724125, 0.15020600474555612, 0.13796587759828244, 0.07328965020281158, 0.222740091544215, 0.00641960368297271, 0.2854484242289261, 0.2654431476354762, 0.057104614156675844, 0.02306578532602985, 0.025305181959624983, 0.013884259128289814, 0.2541715179130474, 0.036427518573147466, 0.032620544296035746, 0.207512601414346, 0.08249563356601684, 0.13570036464804486, 0.1320684814092894, 0.15814414526849255, 0.12360980962378969, 0.023685853243225533, 0.04083117216903864, 0.08577376194385457, 0.010180278775299392, 0.9993264634109644, 0.0859639108889082, 0.1603132876710372, 0.16605921035414453, 0.15824802720486694, 0.1248766897713041, 0.11851732338537392, 0.016460739359079712, 0.07093454016974847, 0.09714903440371143, 0.0014927130102022595, 0.011066601280345676, 0.9653982175736845, 0.023435155652496726, 0.000566414830995572, 0.06570412039548636, 0.9334516414807028, 0.00035036334880089254, 0.997484454036141, 0.0014014533952035702, 0.09322688448633232, 0.0018692107165179412, 0.14634362234738382, 0.12114821956431907, 0.3529692903024712, 0.10409167177609285, 0.052649435181922014, 0.05155906226395321, 0.07597562724846882, 0.00019470944963728554, 0.9982539512798352, 0.9971636002220806, 0.23476766294604776, 0.08855063899762722, 0.1188826841598434, 0.09521658910479827, 0.23291381883340256, 0.05938217684228409, 0.07588927814317807, 0.05618725400985299, 0.029602340564685626, 0.008598681203333066, 0.05503829949118752, 0.048122153812318394, 0.21663048824981207, 0.15629196496734166, 0.21546702449074998, 0.07610992090531217, 0.016191537313614182, 0.16650459129688674, 0.04941489132238739, 0.00022622906426207439, 0.23961893783121344, 0.009184712267806308, 0.739471389916939, 0.00040820943412472476, 0.00040820943412472476, 0.0028574660388730735, 0.00020410471706236238, 0.007960083965432133, 0.9989571931398019, 0.0008752226063382275, 0.13784756049827085, 0.2468429550772539, 0.15524638231047733, 0.1640891486434808, 0.12118815088797077, 0.005990747839935799, 0.027931673178138952, 0.1367912573526902, 0.00319908952661559, 0.9968261008674079, 0.07792985224565259, 0.13538475333971978, 0.026445509426322542, 0.4506052226719142, 0.002344460055525048, 0.2837109261859378, 0.0005314109459190108, 0.001813049109606037, 0.021225178369353434, 3.1259467407000636e-05, 0.999341838841752, 0.004968977348684027, 0.8907545710325155, 0.07479618535387535, 0.029290813844874263, 0.9980874641099861, 0.005762732403924743, 0.9911899734750558, 0.18154026115370936, 0.13640757450041366, 0.08795087655514036, 0.0818691670061147, 0.10591284868475259, 0.11529394721988935, 0.11270860510390678, 0.048358208721807294, 0.10497720106182556, 0.02497932930156492, 0.0001497678560959013, 0.006290249956027854, 0.061255053143223624, 0.1779242130419307, 0.6908791201703925, 0.02695821409726223, 0.023363785550960598, 0.011082821351096695, 0.0019469821292467165, 0.29898618304107316, 0.026209285727218586, 0.054755705213552205, 0.021368080083337446, 0.11268323481447481, 0.07745929030209824, 0.12086320297137743, 0.022870523214197108, 0.04707655143360281, 0.21802119210030238, 0.6289615646311238, 0.00036078101221670585, 0.00024052067481113723, 0.0007215620244334117, 0.3698005375221235, 0.997198148580899, 0.02903401095666848, 0.03397176792208829, 0.23523474183259974, 0.055697898569935456, 0.6460561213555279, 0.998909384397267, 0.9949070654342979, 0.9992077452729958, 0.1252199105419792, 0.059055678334208536, 0.7544180636582998, 0.01038942489212928, 0.00018227061214261893, 0.045567653035654736, 0.004921306527850711, 0.9977435366819372, 0.9986256354631521, 0.9989627549042978, 0.0007625669884765632, 0.015200663102925354, 0.7011710129179184, 0.28331448676941723, 0.587854988103739, 0.0351601982879168, 0.05352453977286963, 0.05535443856852329, 0.10619948367632863, 0.09012251568594289, 0.014181715666315885, 0.01405100860948348, 0.040257773504380576, 0.0032676764208101118, 0.012839252697254163, 0.013866392913034495, 0.9321297458206522, 0.04108560863121332, 0.21670126900081096, 0.44009615787239764, 0.0002991561953419306, 0.2884987558828743, 0.05339938086853461, 3.739452441774132e-05, 0.0006731014395193438, 0.00026176167092418926, 0.40459788970438865, 0.023058193500762384, 0.056047818659156506, 0.04922535691173992, 0.13748555825173675, 0.08808748078942932, 0.03601223479332552, 0.04387101984414715, 0.05026168021514497, 0.11123203456547547, 0.007884904462962344, 0.2565187669036104, 0.45296701164859987, 0.007418035119760626, 0.26616739999644595, 0.006795542662158335, 0.0022305979730748732, 0.9991820995941821, 0.9985649484189372, 0.9976320159359632, 0.9984759420588117, 0.11667964443971901, 0.3775015449035941, 0.12105421973635501, 0.2542600375189211, 0.11466247916404797, 0.01377991218440339, 0.0020414684717634654, 0.9982534439444836, 0.9988435156341022, 8.198364313246614e-05, 0.5451092431877673, 0.4548452520989221, 0.9982792428723879, 0.002590932788192288, 0.05366932204112597, 0.061442120405702835, 0.014435196962785606, 0.8679624840444166, 0.847471625270467, 0.0003025603803179104, 0.0006051207606358208, 0.001512801901589552, 0.01573313977653134, 0.12737792011384028, 0.006958888747311939, 0.7821313001832877, 0.005658008727447769, 0.00026521915909911417, 0.00013260957954955708, 0.012995738795856594, 0.011979065352643323, 0.1504676695955641, 0.03633502479657864, 0.9978893291403541, 0.9989861147578314, 0.06271543779024168, 0.038620099034206275, 0.10077256161986768, 0.08332033027787943, 0.14614836310903714, 0.03704376846138153, 0.4385576843680275, 0.07724019806841255, 0.014299570196338766, 0.0011259504091605328, 0.0008635198107992789, 0.9986606611893661, 0.012474461582206081, 0.8943088266655095, 0.0880550229332194, 0.005136543004437798, 0.04382057183907437, 0.050515381425599616, 0.018258571599614318, 0.013998238226370979, 0.0012172381066409546, 0.03164819077266482, 0.15641509670336268, 0.013389619173050501, 0.012781000119730023, 0.6579171966394359, 0.24212336140262627, 0.08774351731925252, 0.08767039772148648, 0.14019464211676125, 0.16171617705923347, 0.11275041975523949, 0.042872457490156994, 0.06400402124454364, 0.05486407152378817, 0.006068926614581633, 0.0025944121753675095, 0.9969028783849655, 9.152006807467111e-05, 0.9594048736267773, 0.005399684016405596, 0.03432002552800167, 9.152006807467111e-05, 0.0007321605445973689, 0.9987130773393886, 0.9992975846211107, 0.9995963870202671, 0.2325416315118899, 0.08673028317039115, 0.0940253537174334, 0.048273553249563506, 0.16958787456889568, 0.08168677760700392, 0.1259975764853346, 0.021344836045049536, 0.041338733099906065, 0.09861854628408963, 0.10703350482702305, 0.8925663576444792, 0.15058279866819146, 0.051771592761050735, 0.05796675028326907, 0.0443000460005864, 0.2772255162580618, 0.038291677147379674, 0.29789679562867977, 0.046759430142572576, 0.030820130386915348, 0.004327270832102256, 0.36717455689810446, 0.039606501351138045, 0.08667136983982807, 0.11061815781403707, 0.1326503457950814, 0.07132599377520964, 0.14856724424571913, 0.010487435783454303, 0.029547707357198225, 0.003343405958212952, 0.049725550779695246, 0.06605769649032829, 0.12511590196181385, 0.08005667852801375, 0.24571129930729177, 0.09299844577639485, 0.18752803021316156, 0.032336190279757836, 0.04680909618851077, 0.07364047842740791, 0.04277562136559868, 0.14712103981896632, 0.3052940614477774, 0.1344044863179716, 0.10539061463153158, 0.061782707420357914, 0.02810416390174176, 0.13682392191557333, 0.038246437926888234, 3.871096956162777e-05, 0.19799224109434765, 0.13273238920388852, 0.5833730749573806, 0.0050863028553990615, 0.0007184043581072121, 0.010345022756743854, 0.0006321958351343467, 0.06778863523099654, 0.0008908214040529431, 0.0004023064405400388, 0.9971715947318436, 0.9983696588564825, 0.9976194320138948, 0.9997875237692239, 0.004207979969113221, 0.9944859327004244, 0.9973361314328796, 0.05844586051498108, 0.9404470282865137, 0.00039261775431898764, 0.009226517226496209, 0.032194655854156984, 0.022968138627660777, 0.005889266314784814, 0.9228480315267804, 0.006478192946263296, 0.5293814698736279, 0.04125128852523535, 0.06981916476599132, 0.1495434705541475, 0.03448680197351301, 0.1308807353355564, 0.013106192693962038, 0.006220911739530368, 0.024883646958121473, 0.0003623832081279826, 0.09285878033423607, 0.034234955577216834, 0.2956655254395999, 0.03678135723172056, 0.20806930852467156, 0.04498642922956592, 0.04334541482999685, 0.12658445558055215, 0.04577864307763375, 0.07169535325013839, 0.999715876726929, 0.2529262261121965, 0.09226010647721111, 0.10211332398914134, 0.08492583266186264, 0.14911337384584342, 0.09387870483646044, 0.06560381474832391, 0.07334273815348472, 0.07957434183659459, 0.00625183616260049, 0.000629132741457793, 0.28772337376003065, 0.10915453064292707, 0.59861980349709, 0.0037747964487467576, 0.4472920943491548, 0.20990204458824294, 0.0005945242849050532, 0.16774910705458268, 0.00027977613407296624, 0.1528160558984381, 0.002401411817459627, 0.018908203727764635, 8.160137243794849e-05, 0.9995461390239835, 0.9921738744007411, 0.0014841793184753047, 0.005194627614663566, 0.054940168410296225, 0.7412305914515176, 0.0013850462624444427, 0.20106254909818494, 0.0011542052187037022, 0.9976620565233318, 0.8599285369662172, 0.003697733794885788, 0.06738092692902992, 0.06861350486065851, 0.0018864632061889382, 0.9979390360739484, 0.9985767957750871, 0.9989627331621398, 0.9995775271712887, 0.998299147046119, 0.998413490995052, 0.002142831793933017, 0.0037754655416915063, 0.1964772675818107, 0.0015305941385235836, 0.11193745133069141, 0.003418326909369337, 0.003928524955543865, 0.6616248262791278, 0.015152881971383479, 0.998425918995226, 0.9977186590835133, 0.9991506428018451, 0.001294541694800805, 0.9967971049966199, 0.08049172558400294, 0.02314794722677209, 0.0005260897096993657, 0.03314365171106003, 0.8622610341972603, 0.004595815733849194, 0.1773218903976814, 0.8140721603224872, 0.00030638771558994627, 7.659692889748657e-05, 0.0019915201513346506, 0.0016851324357447044, 0.012113024991795883, 0.023588522352444616, 0.0006375276311471518, 0.9562914467207276, 0.006375276311471518, 0.9989741971013387, 0.9996353904467569, 0.3600150876188361, 0.008536205201403487, 0.2569473755579732, 0.04288366589310416, 0.15907231057808277, 0.033030301432136935, 0.049646772091248764, 0.07358360863524371, 0.01342489245324584, 0.002836958405214215, 0.999560958396823, 0.0004744992224951728, 0.7058966766653187, 0.01028081648739541, 0.0836700295666488, 0.017556471232321392, 0.08129753345417294, 0.03258227994466853, 0.021194298604784386, 0.019296301714803694, 0.027679121312218412, 0.9982294489328744, 0.9955980877619862, 0.9988174280958799, 0.9993097158991081, 0.999779150774558, 0.0014930266040772656, 0.043692984442849386, 0.1558456299373593, 0.17117110890274062, 0.0375891403850041, 0.07175310209006623, 0.014974178587951399, 0.2848606935485065, 0.06310233029585384, 0.15545041701275059, 0.00021730311413679964, 0.9995943250292784, 0.11428747982347956, 0.06302618372618358, 0.7911886930426912, 0.0033613964653964575, 0.028151695397695332, 0.9989698665884555, 0.9997439107901138, 0.9999726115611357, 0.9992382265523897, 0.13943800392694425, 0.03584242072148856, 0.31236654811047077, 0.1981281118921058, 0.10073294082140308, 0.11836610521611717, 0.00834442437675086, 0.011949453271190555, 0.07322306629249918, 0.0016154330466023015, 0.9984352269566251, 0.24570208258487491, 0.4726719341672916, 0.000845063052742476, 0.2781665881943984, 0.002042235710794317, 7.042192106187301e-05, 7.042192106187301e-05, 0.000352109605309365, 0.008473993013686593, 0.5918194873879636, 0.00795090702518742, 0.00041846879079933787, 0.3899082958272831, 0.00010461719769983447, 0.0011507891746981793, 0.9972449482221312, 0.0013598385735585413, 0.9981215129919694, 0.11237354693514812, 0.8875653973937493, 0.7613692231837802, 0.0017109420745702927, 0.021957089956985424, 0.047906378087968195, 0.0017109420745702927, 0.15512541476103986, 0.008269553360423081, 0.0017109420745702927, 8.952827429008624e-05, 0.532693232026013, 0.46671089387421955, 0.00035811309716034495, 8.952827429008624e-05, 0.06322667304106049, 0.34094186299140117, 0.011898746587063044, 0.5299219558447554, 7.776958553635976e-05, 0.0517945439672156, 0.001322082954118116, 0.0006999262698272378, 0.00023330875660907929, 0.0003614002117363057, 0.8451705351665245, 0.006505203811253502, 0.14788496664249628, 0.17321517524242733, 0.04425407325623997, 0.2731770210333994, 0.18401437741929136, 0.09802352745153496, 0.12921283164065972, 0.0034990421971657316, 0.038237734514350696, 0.056110539981887884, 0.0002265566890251193, 0.034255200216921425, 0.03575373331328706, 0.20555230740147737, 0.26515593365692164, 0.2989890118748669, 0.09713027196443154, 0.04377405129383551, 0.005508692086639859, 0.013803389366522865, 8.442439979524689e-05, 0.0015343533421704203, 0.9946445540619749, 0.0023015300132556305, 0.0011507650066278153, 0.8480266148145972, 0.021543841608374432, 0.07092308918863087, 0.0001906534655608357, 0.053382970357033994, 0.005719603966825071, 0.06409335363916953, 0.09532666302678515, 0.041319065544033154, 0.7164140340784331, 0.06539474153032018, 0.017243389557746118, 0.9983352944899927, 0.9992501273032973, 0.9911783015190362, 0.00858410769213946, 0.7290444817923439, 0.26988873187581747, 0.0006466982393190514, 0.00021556607977301712, 0.008728663607198782, 0.9907033194170617, 0.06643282845425148, 0.9334232858761918, 0.07053218993705757, 0.0025493562627852133, 0.10282403593233694, 0.029742489732494153, 0.1529613757671128, 0.018695279260424896, 0.6228927135405204, 0.9983370545804041, 0.9987677185486791, 0.07077927128618106, 0.06848642165296674, 0.07476683586568422, 0.1596022722946139, 0.10158320766284296, 0.15601346417306108, 0.038180930848742745, 0.05363274359431748, 0.12570797336883707, 0.15122838667765728, 0.19105718187190732, 0.1107249991699632, 0.19444421628901534, 0.14449192244281128, 0.12304501367188672, 0.10754480654931978, 0.03150459112401638, 0.041846680947247035, 0.054541596205262666, 0.000814439573579414, 0.9984197291268188, 0.7815840857149132, 0.06810049004218413, 0.00576234915741558, 0.0801490382804167, 0.0002619249617007082, 0.022263621744560196, 0.0416460689104126, 0.9993159041401722, 0.9986231605210316, 0.9970906005392096, 0.9965000090605296, 0.9996099010274025, 0.9983488347528306, 0.9997698622492729, 0.21782943484297015, 0.2514984824275128, 0.06593274397655008, 0.38108769732228115, 0.00015834943014482155, 0.03774654541077184, 0.035727590176425364, 0.0002771115027534377, 0.009738489953906526, 0.998145804193065, 0.4485090351336617, 0.07119934552513481, 0.03341372794381327, 0.10039732274706509, 0.048324994386029, 0.07521992260248617, 0.14895652550653202, 0.023616010988325963, 0.02974446342661882, 0.020610336862539023, 0.9961874947947982, 0.003784331768708396, 0.9987651876815419, 0.9998996340964674, 6.87310719065485e-05, 0.09804406460738813, 0.005484982635378357, 0.12444054354014647, 0.7720113059295037, 0.0003428114147111473, 0.9992037463615556, 0.9982171801855224, 0.0014832350374227672, 0.9953517417110817, 0.9950041931670913, 0.9979164864505162, 0.06233130755065825, 0.008404221242785382, 0.0012839782454255445, 0.36138151343977143, 0.0011088903028675158, 0.5451654904781823, 0.0030348576710058322, 0.012022705388984645, 0.00029181323759671463, 0.004960825039144149, 0.020101580953493108, 0.055460442946011386, 0.08946109000923959, 4.527383097633583e-05, 0.00036219064781068663, 4.527383097633583e-05, 0.00036219064781068663, 0.8341703357389876, 0.9964459905368697, 0.9956173752564387, 0.9983313113526291, 0.9992355237047084, 0.9981268787219768, 0.00862864943368574, 0.5285577607483708, 3.0275962925213128e-05, 0.1324270618348822, 0.33028047955115, 6.0551925850426257e-05, 0.9433911241637871, 0.05628424338287955, 0.7701615705498424, 0.0004488121040500247, 0.2293429851695626, 0.1176595200130762, 0.8822479860676953, 0.0012661636367985282, 0.1279548795244684, 0.0006873459742620582, 0.0019535096110605862, 0.830639521843743, 0.037478443649236436, 3.617610390852938e-05, 0.9994394821073763, 0.0009559387003036842, 0.317849617850975, 0.3984898753551644, 0.2821726199289268, 0.0004779693501518421, 3.4140667867988725e-05, 0.9971454581041077, 0.4928348214582453, 0.06353911469828354, 0.03362982800760862, 0.06329752110627485, 0.06682478754960161, 0.07719720576650772, 0.1570358348056437, 0.01000197470915946, 0.030859554819242394, 0.004767446882304671, 0.9422991726794993, 0.035596191158096535, 0.021597689017272055, 0.00059294838812659, 0.00059294838812659, 0.8834930983086192, 0.11503198729655847, 0.9972626344833488, 0.9477199567152748, 0.05203168389809351, 0.41166983483006747, 0.09885163987974253, 0.4613227954865742, 0.0012265598698313642, 0.00018171257330835023, 0.0023168353096814655, 9.085628665417511e-05, 0.02103323036044154, 0.0033616826062044794, 0.05744145281862583, 0.03286185440321385, 0.06732672609438935, 0.02003771609952064, 0.7392581392983147, 0.0008015086439808255, 0.07961652530209534, 0.0008015086439808255, 0.0018701868359552597, 0.24420162383462982, 0.0329474073499934, 0.15637805696100657, 0.04825411059990796, 0.18028799590280573, 0.04084501487787485, 0.10701122502555516, 0.15176433435021672, 0.02428989256857009, 0.014031144645755014, 0.04977905701328847, 0.4047231007641918, 0.062236907243743415, 0.4001168368134354, 0.03632667252073838, 0.04355013189806099, 0.003192978420410722, 0.00619035069765077, 0.02425948246376653, 0.0038480558390802085, 0.0010038406536730978, 0.6812731902928091, 0.055545849503244746, 0.14806649641678193, 0.0033461355122436595, 0.07411690159619706, 0.0021749880829583785, 0.2047050777983266, 0.35232482960787437, 0.06019984676395141, 0.18431136642116944, 0.00012799400445914544, 0.07816167205638481, 0.00012799400445914544, 0.0011946107082853575, 0.10440044297050964, 0.014505987172036484, 0.6184550283605784, 0.2666113687156865, 0.08612529514150201, 0.026790126368900397, 0.0019348424599761398, 4.961134512759333e-05, 0.28626083365235844, 0.10917252892625827, 0.1950811634382933, 0.20002193374545937, 0.02437358614096642, 0.039341213836204876, 0.13999289557497083, 0.003130915943311134, 0.0023118577640483056, 0.0002906335474803584, 0.9982283332508568, 0.0007340618314328124, 0.0014681236628656248, 0.07193805948041561, 0.0007340618314328124, 0.9241838457739108, 0.9978409782213766, 0.012238468414183792, 0.005594728417912591, 0.9238295300078165, 0.0017483526305976846, 0.05629695470524545, 0.9961356984126082, 0.0036701345965462996, 0.00010291630928502656, 0.8277044174248261, 5.145815464251328e-05, 0.021046385248787932, 0.003087489278550797, 0.14794219459722568, 0.9992180259337573, 0.9752163568572592, 0.02100465999384866, 0.9992936432525363, 0.001641509656051023, 0.3531297647579763, 0.643471785172001, 0.0015389153025478339, 0.00010259435350318893, 0.09028963645410835, 0.409918989306415, 0.04435705629825994, 0.17318643019184007, 0.025410371959567857, 0.13476788689525973, 0.014987675670905682, 0.08019012454648998, 0.025410371959567857, 0.001494727762327521, 0.9891369227864689, 0.0087225478199865, 0.9982160606186018, 0.5006629491128889, 0.09205032373004719, 0.35094701899231445, 0.007306236457497018, 0.002765637529109041, 0.014199691194231494, 0.006109169467285643, 0.019029237327153253, 0.006109169467285643, 0.0008255634415250869, 0.9978075697662515, 0.9983561835021125, 0.9976872712711273, 0.0007376983585619176, 0.28081717515923665, 0.03528657148454506, 0.6821250822169198, 0.000491798905707945, 0.000491798905707945, 0.9970079170583833, 0.9988216380312382, 0.9992184754133807, 0.004870198248432423, 0.24151755859271698, 0.7287587560836153, 0.024793736537474152, 0.0014625818078893918, 0.0021938727118340877, 0.9960182111726759, 0.00019755740018123557, 0.16417019955060677, 0.7246405438647721, 0.03714079123407229, 0.07309623806705716, 0.0005926722005437067, 8.388375006218385e-05, 0.11777278508730614, 0.7207291805342837, 0.1606373813690821, 0.0006710700004974708, 0.8643519264637981, 0.07516103708380853, 0.007373392878474887, 0.051138047382970994, 0.0021406624485894835, 0.9990667903404986, 0.0017358088270965075, 0.9975114726381263, 0.07357994242105807, 0.03868949471375751, 0.3089688949411303, 0.11497435860341292, 0.1834787742238445, 0.028082555471729723, 0.14533634227901682, 0.07783487506828984, 0.028811972496969457, 0.00024313900841324435, 0.516371749198433, 0.04940074763112045, 0.06896169940435098, 0.09509488178928797, 0.05036633601483087, 0.07743395877110053, 0.0361628423705743, 0.04715809073992204, 0.043887549440257696, 0.015169082027966997, 0.19114763214284133, 0.013055617606954137, 0.7957231551725638, 0.1486180365167357, 0.0016485639103353932, 0.07682307822162933, 0.001978276692402472, 0.013683080455783763, 0.006264542859274494, 0.020771905270225953, 0.727511253631009, 0.002637702256536629, 8.242819551676966e-05, 0.0431134259769701, 0.8470671721331795, 8.58833186792233e-05, 0.0419969428341402, 0.06655957197639806, 0.001116483142829903, 0.027741169515617562, 0.0033289403418741074, 0.0033289403418741074, 0.9306237666839171, 0.0029590580816658734, 0.020713406571661114, 0.011836232326663493, 0.9964717877200902, 0.9999129040295524, 4.434400213000809e-05, 0.9992554599931248, 0.031388557998092946, 0.18612864216413008, 0.01397341507371243, 0.15425824226694362, 0.4207856470226802, 0.12369569895301101, 0.0016520293683206812, 0.002478044052481022, 0.06146925941293201, 0.004267742534828427, 0.000607009778868682, 0.07516804428323846, 0.05493438498761573, 0.22530179625675917, 0.09428885231760195, 0.254539433938934, 0.0036420586732120925, 0.04147900155602661, 0.046942089565844745, 0.20304477103157414, 0.9973351456809384, 0.08514861002417372, 0.0011793436291436803, 0.9062076446340039, 0.0068401930490333464, 0.0007076061774862082, 0.008412118801590155, 0.9903358043690228, 0.998895788698303, 0.013370198331068278, 0.06189906634753833, 0.9245244549668324, 0.994383513421271, 0.0047276553728428095, 0.0007879425621404683, 0.9999692800683688, 0.0039592574466687565, 0.43889688548805394, 0.01647051097814203, 0.13345337100238155, 0.02085208921912212, 0.16174886422124093, 0.011508241644983853, 0.003272986155912839, 0.20498395553886375, 0.004909479233869259, 0.613320857222015, 0.18646035860179339, 0.18252380630899165, 0.011869756913409893, 0.00018030010501382117, 0.0035459020652718162, 0.0013222007701013552, 0.00045075026253455294, 0.0003005001750230353, 0.025480453320663888, 0.9744672864166458, 0.9974657217009724, 0.42512069214555087, 0.06449398756855565, 0.04116822688249233, 0.0705343151492004, 0.052691848952771375, 0.04574634259923461, 0.2148581075731936, 0.07314540776331196, 0.010235483047317332, 0.001984430386724789, 0.01326501077288243, 0.963169196850512, 0.0071178106586198405, 0.016176842405954184, 0.9989416347314761, 0.997387975728826, 0.10649816432929654, 0.2410282705501736, 0.010794909299863301, 0.25481209290887, 0.00029018573386729304, 0.19805176336442748, 0.179450857823534, 0.009082813470046271, 0.04712740252959682, 0.030317009462338573, 0.16878411998744264, 9.716990212288004e-05, 0.7536497608650575, 0.5268308790265994, 0.0347424019903641, 0.003592723638167465, 0.009784438844370968, 0.032105189958092244, 0.022932278541494457, 0.36026609588687797, 0.0016817004263762602, 0.007109006347863282, 0.0009555116058956025, 0.9976095766496696, 0.9993584968884881, 0.8876259999049531, 0.000269713157066227, 0.017261642052238527, 0.007012542083721902, 0.006203402612523221, 0.08145337343400055, 0.9998724634787364, 0.11995155349025385, 0.12797473749744673, 0.04714858749905932, 0.02169231231574368, 0.08221287316012445, 0.03080506452144422, 0.42829935366792543, 0.02892308308765824, 0.04536565771968313, 0.06765227996188554, 0.00029670938469637885, 0.9625252439550529, 0.003263803231660167, 0.033824869855387185, 0.011640465796813946, 0.06469412721690827, 0.06558954766281704, 0.7828213248357379, 0.00022385511147719127, 0.07387218678747312, 0.0011192755573859563, 0.25677651716400124, 0.09040243006568772, 0.07083324533699303, 0.10776257799065246, 0.21931893657901505, 0.10778658926025822, 0.0517202747308078, 0.036497129800755736, 0.05409739042177807, 0.004826265190757831, 0.3636907434171047, 0.09651398346061198, 0.07760343226428401, 0.09968073608720923, 0.1089111002772342, 0.10862321367481627, 0.04897670823635082, 0.039638386570419126, 0.05005628299541807, 0.006315512340543401, 0.9975317865787886, 0.9988198031719678, 0.3136317547469173, 0.06907203939757264, 0.1522758649959809, 0.103636228769849, 0.09363599468088558, 0.07579520147052832, 0.13070728499377532, 0.033324723738714694, 0.027230684373703188, 0.0006948519460875986, 0.9989654946624891, 0.04191290319141139, 0.051358064473982966, 0.004132258061125067, 0.03010645158819691, 0.018299999984982437, 0.8527209670421655, 0.0011806451603214474, 0.005732259619792387, 0.8441707666747588, 0.12706508823873125, 0.023120113799829294, 0.9978627328958828, 0.999770909563514, 0.5214258458676186, 0.041739886155691366, 0.4338581465616064, 0.0027970026805360193, 0.9974842906976091, 0.04163812456167975, 0.22826466894399983, 0.062001899198207026, 0.023302449431635886, 0.04623239079065237, 0.266136322993639, 0.028641731805847306, 0.07210100694477746, 0.22383596185841362, 0.007822669525007429, 0.9993244000715562, 0.011592637217091717, 0.10870472931436823, 0.8795200826344339, 0.996684264927901, 0.9993120108268505, 0.0005042165770123414, 0.9993572556384607, 0.975833705989363, 0.023570862463511186, 0.9656455252438323, 0.03347850141690426, 0.9995206278123023, 0.13022169238634854, 0.0005787630772726601, 0.0384877446386319, 0.002893815386363301, 0.1328261262340755, 0.6950944558044648, 0.05788968486772008, 0.01182692486544819, 0.027388668109458964, 0.9032035778823854, 0.9971735408365254, 0.06564652360587854, 0.11140016127058176, 0.039785771882350635, 0.08379878202720102, 0.11239480556764053, 0.06490054038308447, 0.0494835537786736, 0.06291125178896693, 0.04600229873896792, 0.3635424905749789, 0.9874904399147681, 0.011686277395441043, 0.02527906266306862, 0.17102059740422954, 0.057780714658442554, 0.06526125360975878, 0.06577715284778059, 0.046946830659984576, 0.10008445217623085, 0.10111625065227448, 0.03379140009042846, 0.3330129581430774, 0.1315500858500316, 0.1858701606863391, 0.08400776719335103, 0.20470504097889738, 0.05245759224975712, 0.16007547704403993, 0.06167197978321686, 0.005727484044354155, 0.1126451874151218, 0.0012883338192679272, 0.9987055146751477, 0.371763586227664, 0.6281834004077649, 0.21343037952695643, 0.7859259857874984, 0.0005021891282987209, 0.003985350882649069, 0.6989546333712628, 0.00018977861345947946, 0.006072915630703343, 0.0005693358403784384, 0.013853838782542, 0.2761278825835426, 0.664560639803693, 0.15372595928226546, 0.030524003425831128, 0.0058836122545442605, 0.004445887455501491, 0.004047748280381954, 0.09387236995596182, 0.042357584464106236, 4.423768612439294e-05, 0.0005529710765549117, 0.9889610855054292, 0.00831059735718848, 0.9955699156169527, 0.9975961069565398, 0.09593935435025383, 0.04267334057850407, 0.02583855639638145, 0.12692292344049746, 0.23803249904250673, 0.08988639823982772, 0.2259265868216545, 0.0926858904408998, 0.05795705475732999, 0.004199238301608113, 0.0004310759341066321, 0.016165347528998703, 0.09612993330577896, 0.2403248332644474, 0.12371879308860341, 0.12317994817097012, 0.018859572117165154, 0.16952061108743308, 0.06272154841251497, 0.14904450421736803, 0.16565596601568086, 0.8340633301388021, 0.9985519123436499, 0.003365161023831961, 0.11184211638029752, 0.7316255967107604, 0.14193061494632447, 0.010689335016877993, 0.00039590129692140716, 0.9993432291683128, 0.9941397472262247, 0.9986514513808441, 0.06257482971424987, 0.8303921608431786, 0.0010742460036781093, 0.04565545515631965, 0.0013428075045976366, 0.0018799305064366913, 0.053175177182066415, 0.0037598610128733827, 0.9998081498798006, 0.0008403066866039883, 0.04810755780807833, 0.14411259675258398, 0.8066944191398288, 0.9986806509434616, 0.9973271981190485, 0.0012015990338783717, 0.9945488176806578, 0.09325547046168574, 0.879889769507641, 0.026204016493366244, 0.0005138042449679655, 0.625900612287999, 0.09854584381002247, 0.08277554724237801, 0.010365453143052702, 0.01831230055272644, 0.07450786437827644, 0.08593454248597501, 0.0015301383211173037, 0.0020730906286105404, 4.9359300681203344e-05, 0.6569504323307258, 0.32813435637688276, 0.0007953395064536632, 0.013861631398192416, 0.0002272398589867609, 0.826179961316147, 0.1014652264991393, 0.054304120374009245, 0.016437538813685842, 0.0015490874274677758, 0.39070085739418886, 0.008821133494604446, 0.10713909375104998, 0.0034132024074600116, 0.20319636150385317, 0.0062944771670041776, 0.04751886988048224, 0.2152533881899457, 0.016622738997370188, 0.001063855295831692, 0.9989296587645075, 0.38008033604781805, 0.05844378934242059, 0.09082787000730785, 0.06851746328970422, 0.1392185859626642, 0.08419448961666301, 0.09500978373184482, 0.028820183746932113, 0.05005936133312726, 0.004799930531118786, 0.9989721675809422, 0.015993832640412067, 0.03256925919502093, 0.011050284369739245, 0.012504269155231252, 0.03693121355149695, 0.013085863069428053, 0.8549430538692995, 0.011050284369739245, 0.00726992392746003, 0.004652751313574419, 0.13854682311639288, 0.006833728437497757, 0.6194353571359268, 0.0027147688313347252, 0.05017641702053147, 0.02265427783389667, 0.04221933596317107, 0.108590753253389, 0.0019658670847596286, 0.006927341155819644, 0.43786803948539094, 0.07895981039900493, 0.005968361562335408, 0.05686074191143869, 0.0020163383656538543, 0.009597770620512345, 0.015727439252100062, 0.3670542360836276, 0.02500259573410779, 0.00096784241551385, 0.998662117087578, 0.037744212938089806, 0.05236345034368797, 0.7136845897096559, 0.007974129493962635, 0.11376424744720026, 0.07442520861031793, 0.104012668797963, 0.1785231172974061, 0.13971729225744423, 0.1313522090469372, 0.1284958391701787, 0.10423709785970832, 0.07045032274605066, 0.09289322892058172, 0.04131535000311398, 0.008997565111789268, 0.9966134558352738, 0.0022858106785212705, 0.0002979876788409586, 0.44464728144385035, 0.5504825720455307, 0.0038738398249324613, 0.0002979876788409586, 0.0003973169051212781, 0.0009693596331572707, 0.20647360186249863, 0.0004154398427816874, 0.7918283403418962, 0.0001384799475938958, 0.9985959588721574, 0.31095746350447984, 0.09096843578620538, 0.032106506748072486, 0.018035136506633312, 0.0382503444591234, 0.04241229903757724, 0.07610431229172739, 0.026953610603320115, 0.07352786421935119, 0.29034587892547037, 0.11508861840520325, 0.009183641876136761, 0.10147598612071684, 0.03940498819193433, 0.17807146730041068, 0.05334328153585821, 0.3884485116970188, 0.05197550508622082, 0.06171277076340129, 0.0013026442377498952, 0.9995141343329841, 0.04060779165839054, 0.09715665855457901, 0.09094802925143666, 0.04664862016955607, 0.12148777339121798, 0.06913392629445, 0.010068047518609225, 0.1110841242886551, 0.07886637222910559, 0.3337557752418958, 0.8821984686077379, 0.005426528365776947, 0.011369868956865984, 0.0007752183379681352, 0.0997447594852334, 0.0005168122253120901, 0.3744362925690657, 0.10846086387495069, 0.06793763631479462, 0.09134425333271444, 0.060951832662597384, 0.07894514764724085, 0.1460756592372796, 0.04984690972543923, 0.020261613780078035, 0.001739492941284172, 0.9830953977896882, 0.016249510707267573, 0.0667077165884877, 0.032809622844221224, 0.0846674864392344, 0.12256959813723876, 0.2022223436441218, 0.0605656307953752, 0.25897832628933865, 0.12571838895522683, 0.012167549704077303, 0.03362597601925516, 0.9983354043822272, 0.9990564720553244, 0.9997465625355864, 0.9955074050519612, 0.998274851790314, 0.0012069989127855096, 0.996981101960831], \"Term\": [\"accessory\", \"address\", \"address\", \"address\", \"address\", \"address\", \"airline\", \"airport\", \"airport\", \"airport\", \"aisle\", \"aj\", \"ale\", \"ale\", \"ale\", \"also\", \"also\", \"also\", \"also\", \"also\", \"also\", \"also\", \"also\", \"also\", \"also\", \"always\", \"always\", \"always\", \"always\", \"always\", \"always\", \"always\", \"always\", \"always\", \"always\", \"amaze\", \"amaze\", \"amaze\", \"amaze\", \"amaze\", \"amaze\", \"amaze\", \"amaze\", \"amaze\", \"amaze\", \"amc\", \"amenity\", \"american\", \"american\", \"american\", \"american\", \"american\", \"american\", \"american\", \"american\", \"american\", \"american\", \"americanize\", \"another\", \"another\", \"another\", \"another\", \"another\", \"another\", \"another\", \"another\", \"another\", \"another\", \"answer\", \"answer\", \"answer\", \"answer\", \"answer\", \"answer\", \"answer\", \"answer\", \"apologize\", \"apologize\", \"appetizer\", \"appetizer\", \"appetizer\", \"appetizer\", \"appetizer\", \"appointment\", \"arcade\", \"architecture\", \"area\", \"area\", \"area\", \"area\", \"area\", \"area\", \"area\", \"area\", \"area\", \"area\", \"arena\", \"arizona\", \"arizona\", \"arizona\", \"arizona\", \"arizona\", \"arizona\", \"arizona\", \"arizona\", \"arizona\", \"arizona\", \"around\", \"around\", \"around\", \"around\", \"around\", \"around\", \"around\", \"around\", \"around\", \"around\", \"arrange\", \"arrive\", \"arrive\", \"arrive\", \"arrive\", \"arrive\", \"arrive\", \"arrive\", \"arrive\", \"arrive\", \"asada\", \"asian\", \"asian\", \"asian\", \"asian\", \"ask\", \"ask\", \"ask\", \"ask\", \"ask\", \"ask\", \"ask\", \"ask\", \"ask\", \"ask\", \"asparagus\", \"asparagus\", \"associate\", \"associate\", \"atmosphere\", \"atmosphere\", \"atmosphere\", \"atmosphere\", \"atmosphere\", \"atmosphere\", \"atmosphere\", \"atmosphere\", \"authentic\", \"authentic\", \"authentic\", \"authentic\", \"auto\", \"avondale\", \"awful\", \"awful\", \"awful\", \"awful\", \"awful\", \"awful\", \"baba\", \"back\", \"back\", \"back\", \"back\", \"back\", \"back\", \"back\", \"back\", \"back\", \"back\", \"bacon\", \"bacon\", \"bacon\", \"bacon\", \"bad\", \"bad\", \"bad\", \"bad\", \"bad\", \"bad\", \"bad\", \"bad\", \"bad\", \"bad\", \"bagel\", \"bagel\", \"bagel\", \"band\", \"band\", \"band\", \"banh\", \"bar\", \"bar\", \"bar\", \"bar\", \"bar\", \"bar\", \"bar\", \"bar\", \"bar\", \"barista\", \"baristas\", \"barrio\", \"bartender\", \"bartender\", \"bartender\", \"battery\", \"bean\", \"bean\", \"bean\", \"beautiful\", \"beautiful\", \"beautiful\", \"beautiful\", \"beautiful\", \"beautiful\", \"beautiful\", \"beautiful\", \"beautiful\", \"bed\", \"bed\", \"bed\", \"bed\", \"bedroom\", \"beef\", \"beef\", \"beef\", \"beef\", \"beef\", \"beef\", \"beer\", \"beer\", \"beer\", \"beer\", \"beer\", \"beer\", \"beet\", \"benedict\", \"benihana\", \"best\", \"best\", \"best\", \"best\", \"best\", \"best\", \"best\", \"best\", \"best\", \"best\", \"betty\", \"bianco\", \"bill\", \"bill\", \"bill\", \"bill\", \"bill\", \"bill\", \"bill\", \"bill\", \"biscuit\", \"biscuit\", \"bisque\", \"bite\", \"bite\", \"bite\", \"bite\", \"bite\", \"bite\", \"bite\", \"bite\", \"bite\", \"bite\", \"biz\", \"blah\", \"blah\", \"blah\", \"blanco\", \"boba\", \"book\", \"book\", \"book\", \"book\", \"book\", \"book\", \"book\", \"book\", \"book\", \"book\", \"bouncer\", \"bowl\", \"bowl\", \"bowl\", \"bowl\", \"bowl\", \"bowl\", \"bowl\", \"bowl\", \"bowl\", \"braise\", \"brake\", \"brand\", \"brand\", \"brand\", \"brand\", \"brand\", \"brand\", \"bread\", \"bread\", \"bread\", \"bread\", \"bread\", \"bread\", \"breakfast\", \"breakfast\", \"breakfast\", \"breakfast\", \"breakfast\", \"breakfast\", \"brewery\", \"brian\", \"brie\", \"brisket\", \"brisket\", \"broth\", \"broth\", \"browse\", \"brunch\", \"brunch\", \"buffet\", \"buffet\", \"buffet\", \"build\", \"build\", \"build\", \"build\", \"build\", \"build\", \"build\", \"build\", \"build\", \"build\", \"bulk\", \"bun\", \"bun\", \"bun\", \"bun\", \"burger\", \"burger\", \"burger\", \"burrito\", \"burrito\", \"business\", \"business\", \"business\", \"business\", \"business\", \"business\", \"business\", \"business\", \"business\", \"business\", \"butter\", \"butter\", \"butter\", \"butter\", \"butter\", \"buy\", \"buy\", \"buy\", \"buy\", \"buy\", \"buy\", \"buy\", \"buy\", \"cake\", \"cake\", \"cake\", \"call\", \"call\", \"call\", \"call\", \"call\", \"call\", \"call\", \"call\", \"call\", \"call\", \"calzone\", \"canyon\", \"car\", \"car\", \"car\", \"car\", \"care\", \"care\", \"care\", \"care\", \"care\", \"care\", \"care\", \"care\", \"care\", \"care\", \"carly\", \"carne\", \"carry\", \"carry\", \"carry\", \"carry\", \"carry\", \"carry\", \"carry\", \"carry\", \"carry\", \"carry\", \"casey\", \"casino\", \"cell\", \"chai\", \"chang\", \"chang\", \"chart\", \"checkout\", \"cheese\", \"cheese\", \"cheese\", \"cheese\", \"cheese\", \"cheese\", \"cheese\", \"cheeseburger\", \"cheeseburger\", \"cheeseburger\", \"cheesesteak\", \"chef\", \"chef\", \"chef\", \"chef\", \"chef\", \"chicago\", \"chicago\", \"chicago\", \"chicago\", \"chicago\", \"chicken\", \"chicken\", \"chicken\", \"chicken\", \"chicken\", \"chicken\", \"chicken\", \"chile\", \"chile\", \"chile\", \"chinese\", \"chip\", \"chip\", \"chip\", \"chip\", \"chip\", \"chip\", \"chip\", \"chip\", \"chip\", \"chocolate\", \"chocolate\", \"chop\", \"chop\", \"chop\", \"chop\", \"chow\", \"church\", \"cibo\", \"cibo\", \"city\", \"city\", \"city\", \"city\", \"city\", \"city\", \"city\", \"city\", \"city\", \"city\", \"class\", \"class\", \"class\", \"clean\", \"clean\", \"clean\", \"clean\", \"clean\", \"clean\", \"clean\", \"clean\", \"clean\", \"climb\", \"clog\", \"clothe\", \"clutter\", \"coal\", \"coast\", \"coast\", \"coast\", \"cobbler\", \"coffee\", \"coffee\", \"coffee\", \"coffee\", \"coffee\", \"collect\", \"com\", \"com\", \"com\", \"com\", \"com\", \"com\", \"come\", \"come\", \"come\", \"come\", \"come\", \"come\", \"come\", \"come\", \"come\", \"come\", \"comic\", \"comp\", \"comp\", \"comp\", \"company\", \"company\", \"company\", \"company\", \"company\", \"company\", \"company\", \"company\", \"company\", \"company\", \"comped\", \"concession\", \"cone\", \"conference\", \"contract\", \"cook\", \"cook\", \"cook\", \"cook\", \"cook\", \"cook\", \"cook\", \"cooky\", \"cooky\", \"cool\", \"cool\", \"cool\", \"cool\", \"cool\", \"cool\", \"cool\", \"cool\", \"cool\", \"cool\", \"cornbread\", \"costco\", \"costco\", \"costume\", \"could\", \"could\", \"could\", \"could\", \"could\", \"could\", \"could\", \"could\", \"could\", \"could\", \"course\", \"course\", \"course\", \"course\", \"course\", \"course\", \"course\", \"course\", \"course\", \"course\", \"cream\", \"cream\", \"cream\", \"cream\", \"cream\", \"create\", \"create\", \"create\", \"create\", \"create\", \"create\", \"create\", \"create\", \"create\", \"create\", \"crepe\", \"crowd\", \"crowd\", \"crowd\", \"crowd\", \"crowd\", \"crowd\", \"crowd\", \"crowd\", \"crust\", \"crust\", \"cup\", \"cup\", \"cup\", \"cup\", \"cup\", \"cup\", \"cup\", \"cup\", \"cupcake\", \"cupcake\", \"curry\", \"customer\", \"customer\", \"customer\", \"customer\", \"customer\", \"customer\", \"customer\", \"customer\", \"da\", \"da\", \"dairy\", \"dairy\", \"dairy\", \"dairy\", \"dan\", \"dance\", \"dance\", \"dance\", \"dart\", \"day\", \"day\", \"day\", \"day\", \"day\", \"day\", \"day\", \"day\", \"day\", \"day\", \"del\", \"deli\", \"deli\", \"deli\", \"deli\", \"deli\", \"deli\", \"delicious\", \"delicious\", \"delicious\", \"delicious\", \"delicious\", \"delicious\", \"delicious\", \"delux\", \"denny\", \"dental\", \"dentist\", \"depot\", \"designer\", \"designer\", \"dessert\", \"dessert\", \"dessert\", \"dessert\", \"dessert\", \"dessert\", \"didnt\", \"didnt\", \"didnt\", \"didnt\", \"didnt\", \"didnt\", \"dim\", \"dim\", \"dim\", \"dinner\", \"dinner\", \"dinner\", \"dinner\", \"dinner\", \"dinner\", \"dinner\", \"dinner\", \"disappear\", \"disappear\", \"disappear\", \"disappear\", \"disgust\", \"disgust\", \"disgust\", \"disgust\", \"dish\", \"dish\", \"dish\", \"dish\", \"dish\", \"dj\", \"do\", \"do\", \"do\", \"do\", \"do\", \"do\", \"do\", \"do\", \"do\", \"do\", \"doctor\", \"dog\", \"dog\", \"dog\", \"dog\", \"dog\", \"dog\", \"donut\", \"dr\", \"draft\", \"drink\", \"drink\", \"drink\", \"drink\", \"drink\", \"drink\", \"drink\", \"drink\", \"drink\", \"east\", \"east\", \"east\", \"east\", \"east\", \"east\", \"east\", \"east\", \"east\", \"eat\", \"eat\", \"eat\", \"eat\", \"eat\", \"eat\", \"eat\", \"eat\", \"eat\", \"eat\", \"eclectic\", \"eel\", \"egg\", \"egg\", \"egg\", \"egg\", \"einstein\", \"email\", \"email\", \"employee\", \"employee\", \"employee\", \"employee\", \"employee\", \"empty\", \"empty\", \"empty\", \"empty\", \"empty\", \"empty\", \"empty\", \"empty\", \"empty\", \"entree\", \"entree\", \"entree\", \"eric\", \"espresso\", \"espresso\", \"estimate\", \"even\", \"even\", \"even\", \"even\", \"even\", \"even\", \"even\", \"even\", \"even\", \"even\", \"event\", \"event\", \"event\", \"event\", \"event\", \"event\", \"exhibit\", \"facility\", \"facility\", \"fajitas\", \"falafel\", \"faux\", \"field\", \"field\", \"fig\", \"fil\", \"filet\", \"filet\", \"filipino\", \"finally\", \"finally\", \"finally\", \"finally\", \"finally\", \"finally\", \"finally\", \"finally\", \"finally\", \"finally\", \"find\", \"find\", \"find\", \"find\", \"find\", \"find\", \"find\", \"find\", \"find\", \"find\", \"finest\", \"fish\", \"fish\", \"fish\", \"fish\", \"fish\", \"fish\", \"fish\", \"fish\", \"fish\", \"fitness\", \"fitness\", \"fix\", \"fix\", \"fix\", \"fix\", \"fix\", \"fix\", \"fix\", \"fix\", \"flag\", \"flag\", \"flag\", \"flag\", \"flag\", \"flavor\", \"flavor\", \"flavor\", \"flavor\", \"flavor\", \"flavor\", \"flight\", \"flight\", \"flight\", \"flight\", \"foie\", \"fondue\", \"food\", \"food\", \"food\", \"food\", \"food\", \"food\", \"food\", \"food\", \"food\", \"food\", \"football\", \"football\", \"free\", \"free\", \"free\", \"free\", \"free\", \"free\", \"free\", \"free\", \"free\", \"french\", \"french\", \"french\", \"french\", \"french\", \"french\", \"french\", \"french\", \"fresh\", \"fresh\", \"fresh\", \"fresh\", \"fresh\", \"fresh\", \"fresh\", \"fresh\", \"fresh\", \"friend\", \"friend\", \"friend\", \"friend\", \"friend\", \"friend\", \"friend\", \"friend\", \"friend\", \"friend\", \"friendly\", \"friendly\", \"friendly\", \"friendly\", \"friendly\", \"friendly\", \"friendly\", \"friendly\", \"friendly\", \"friendly\", \"fro\", \"frost\", \"frost\", \"froyo\", \"fry\", \"fry\", \"fry\", \"fry\", \"fry\", \"fry\", \"fry\", \"fry\", \"fun\", \"fun\", \"fun\", \"fun\", \"fun\", \"fun\", \"fun\", \"fun\", \"fun\", \"fusion\", \"g\", \"g\", \"g\", \"g\", \"g\", \"g\", \"g\", \"g\", \"g\", \"g\", \"gai\", \"gallo\", \"game\", \"game\", \"game\", \"game\", \"game\", \"gelato\", \"gelato\", \"gelato\", \"get\", \"get\", \"get\", \"get\", \"get\", \"get\", \"get\", \"get\", \"get\", \"get\", \"gift\", \"gift\", \"gift\", \"gift\", \"gift\", \"give\", \"give\", \"give\", \"give\", \"give\", \"give\", \"give\", \"give\", \"give\", \"give\", \"gnocchi\", \"go\", \"go\", \"go\", \"go\", \"go\", \"go\", \"go\", \"go\", \"go\", \"go\", \"goat\", \"goat\", \"goat\", \"god\", \"god\", \"god\", \"god\", \"god\", \"god\", \"god\", \"god\", \"god\", \"god\", \"golf\", \"good\", \"good\", \"good\", \"good\", \"good\", \"good\", \"good\", \"good\", \"good\", \"good\", \"gras\", \"gratuity\", \"gratuity\", \"gravy\", \"gravy\", \"gravy\", \"great\", \"great\", \"great\", \"great\", \"great\", \"great\", \"great\", \"great\", \"great\", \"great\", \"greek\", \"greek\", \"greek\", \"grimaldi\", \"grit\", \"grit\", \"grocery\", \"grocery\", \"grocery\", \"grocery\", \"gross\", \"gross\", \"gross\", \"gross\", \"gross\", \"gross\", \"gross\", \"gross\", \"grow\", \"grow\", \"grow\", \"grow\", \"grow\", \"grow\", \"grow\", \"grow\", \"grow\", \"grow\", \"guac\", \"guacamole\", \"guacamole\", \"guacamole\", \"guinness\", \"guitar\", \"guitar\", \"guy\", \"guy\", \"guy\", \"guy\", \"guy\", \"guy\", \"guy\", \"guy\", \"guy\", \"guy\", \"gym\", \"gym\", \"gym\", \"gyro\", \"hair\", \"hair\", \"hair\", \"haircut\", \"halibut\", \"hamburger\", \"hamburger\", \"hamburger\", \"hana\", \"hang\", \"hang\", \"hang\", \"hang\", \"hang\", \"hang\", \"hang\", \"hang\", \"hang\", \"hang\", \"hangout\", \"hangout\", \"hanny\", \"happy\", \"happy\", \"happy\", \"happy\", \"happy\", \"happy\", \"happy\", \"happy\", \"happy\", \"happy\", \"harkins\", \"hash\", \"hawaii\", \"hh\", \"hike\", \"hip\", \"hip\", \"hip\", \"hip\", \"hip\", \"hip\", \"hip\", \"hip\", \"horchata\", \"horrible\", \"horrible\", \"horrible\", \"horrible\", \"hospital\", \"host\", \"host\", \"host\", \"host\", \"host\", \"hot\", \"hot\", \"hot\", \"hot\", \"hot\", \"hot\", \"hot\", \"hot\", \"hot\", \"hot\", \"hotdog\", \"hotel\", \"hotel\", \"hour\", \"hour\", \"hour\", \"hour\", \"hour\", \"hour\", \"hour\", \"hour\", \"hour\", \"hour\", \"http\", \"http\", \"hummus\", \"hummus\", \"hummus\", \"ice\", \"ice\", \"ice\", \"ice\", \"ice\", \"ice\", \"ice\", \"ice\", \"ignore\", \"ignore\", \"ignore\", \"ikea\", \"inattentive\", \"indian\", \"indian\", \"indian\", \"indian\", \"inn\", \"inspection\", \"instructor\", \"insult\", \"insurance\", \"ipa\", \"ipa\", \"issue\", \"issue\", \"issue\", \"issue\", \"issue\", \"issue\", \"issue\", \"issue\", \"issue\", \"italian\", \"italian\", \"italian\", \"italian\", \"italy\", \"item\", \"item\", \"item\", \"item\", \"item\", \"item\", \"item\", \"item\", \"item\", \"item\", \"jacket\", \"japan\", \"jewelry\", \"jewish\", \"jewish\", \"job\", \"job\", \"job\", \"job\", \"job\", \"job\", \"job\", \"job\", \"job\", \"job\", \"jukebox\", \"jumper\", \"jungle\", \"jungle\", \"ka\", \"kabob\", \"kabob\", \"kale\", \"karaoke\", \"kid\", \"kid\", \"kid\", \"kid\", \"kid\", \"kid\", \"kid\", \"kid\", \"kid\", \"know\", \"know\", \"know\", \"know\", \"know\", \"know\", \"know\", \"know\", \"know\", \"know\", \"korean\", \"kung\", \"kung\", \"lake\", \"landscape\", \"latte\", \"league\", \"leave\", \"leave\", \"leave\", \"leave\", \"leave\", \"leave\", \"leave\", \"leave\", \"leave\", \"leave\", \"lee\", \"lee\", \"lend\", \"lentil\", \"library\", \"library\", \"life\", \"life\", \"life\", \"life\", \"life\", \"life\", \"life\", \"life\", \"life\", \"life\", \"light\", \"light\", \"light\", \"light\", \"light\", \"light\", \"light\", \"light\", \"light\", \"light\", \"like\", \"like\", \"like\", \"like\", \"like\", \"like\", \"like\", \"like\", \"like\", \"like\", \"lip\", \"little\", \"little\", \"little\", \"little\", \"little\", \"little\", \"little\", \"little\", \"little\", \"little\", \"lo\", \"lo\", \"lo\", \"lobby\", \"lobby\", \"lobby\", \"lobster\", \"lobster\", \"lobster\", \"location\", \"location\", \"location\", \"location\", \"location\", \"location\", \"location\", \"location\", \"location\", \"location\", \"locker\", \"lon\", \"look\", \"look\", \"look\", \"look\", \"look\", \"look\", \"look\", \"look\", \"look\", \"look\", \"lot\", \"lot\", \"lot\", \"lot\", \"lot\", \"lot\", \"lot\", \"lot\", \"lot\", \"lot\", \"loud\", \"loud\", \"loud\", \"loud\", \"loud\", \"loud\", \"loud\", \"loud\", \"lousy\", \"love\", \"love\", \"love\", \"love\", \"love\", \"love\", \"love\", \"love\", \"love\", \"love\", \"lucille\", \"lunch\", \"lunch\", \"lunch\", \"lunch\", \"lunch\", \"lunch\", \"lunch\", \"lunch\", \"lunch\", \"lunch\", \"lux\", \"mac\", \"mac\", \"mac\", \"mac\", \"machaca\", \"mai\", \"mai\", \"make\", \"make\", \"make\", \"make\", \"make\", \"make\", \"make\", \"make\", \"make\", \"make\", \"mall\", \"mall\", \"mall\", \"mall\", \"mall\", \"mall\", \"mall\", \"mall\", \"mall\", \"man\", \"man\", \"man\", \"man\", \"man\", \"man\", \"man\", \"man\", \"man\", \"man\", \"manager\", \"manager\", \"manager\", \"manager\", \"manager\", \"manhattan\", \"margarita\", \"margarita\", \"margarita\", \"margarita\", \"margarita\", \"margherita\", \"marginal\", \"marinara\", \"market\", \"market\", \"market\", \"market\", \"market\", \"market\", \"market\", \"mart\", \"masala\", \"mash\", \"mash\", \"massage\", \"massage\", \"massage\", \"maybe\", \"maybe\", \"maybe\", \"maybe\", \"maybe\", \"maybe\", \"maybe\", \"maybe\", \"maybe\", \"maybe\", \"mayo\", \"mayo\", \"mayo\", \"mayo\", \"meal\", \"meal\", \"meal\", \"meal\", \"meal\", \"meal\", \"meal\", \"meal\", \"mean\", \"mean\", \"mean\", \"mean\", \"mean\", \"mean\", \"mean\", \"mean\", \"mean\", \"mean\", \"meat\", \"meat\", \"meat\", \"meat\", \"meat\", \"meat\", \"meat\", \"mechanic\", \"medical\", \"mein\", \"mekong\", \"menu\", \"menu\", \"menu\", \"menu\", \"menu\", \"menu\", \"menu\", \"merchandise\", \"message\", \"mexican\", \"mexican\", \"mexican\", \"mignon\", \"milk\", \"milk\", \"milk\", \"milk\", \"milk\", \"min\", \"min\", \"min\", \"min\", \"min\", \"min\", \"min\", \"minute\", \"minute\", \"minute\", \"minute\", \"minute\", \"minute\", \"minute\", \"minute\", \"mojo\", \"mongolian\", \"month\", \"month\", \"month\", \"month\", \"month\", \"month\", \"month\", \"month\", \"month\", \"month\", \"mountain\", \"mountain\", \"movie\", \"movie\", \"movie\", \"movie\", \"mr\", \"mr\", \"mr\", \"mr\", \"mr\", \"mr\", \"mr\", \"mr\", \"mr\", \"mr\", \"much\", \"much\", \"much\", \"much\", \"much\", \"much\", \"much\", \"much\", \"much\", \"much\", \"museum\", \"museum\", \"music\", \"music\", \"music\", \"music\", \"music\", \"music\", \"mussel\", \"naan\", \"nail\", \"name\", \"name\", \"name\", \"name\", \"name\", \"name\", \"name\", \"name\", \"name\", \"name\", \"native\", \"native\", \"need\", \"need\", \"need\", \"need\", \"need\", \"need\", \"need\", \"need\", \"need\", \"need\", \"never\", \"never\", \"never\", \"never\", \"never\", \"never\", \"never\", \"never\", \"never\", \"never\", \"new\", \"new\", \"new\", \"new\", \"new\", \"new\", \"new\", \"new\", \"new\", \"new\", \"nice\", \"nice\", \"nice\", \"nice\", \"nice\", \"nice\", \"nice\", \"nice\", \"nice\", \"nice\", \"night\", \"night\", \"night\", \"night\", \"night\", \"night\", \"night\", \"night\", \"night\", \"night\", \"nightclub\", \"nigiri\", \"nom\", \"noodle\", \"nurse\", \"nurse\", \"oasis\", \"ocean\", \"ocean\", \"office\", \"office\", \"office\", \"office\", \"office\", \"office\", \"office\", \"ok\", \"ok\", \"ok\", \"ok\", \"ok\", \"ok\", \"ok\", \"ok\", \"ok\", \"ok\", \"old\", \"old\", \"old\", \"old\", \"old\", \"old\", \"old\", \"old\", \"old\", \"old\", \"omelet\", \"one\", \"one\", \"one\", \"one\", \"one\", \"one\", \"one\", \"one\", \"one\", \"one\", \"onion\", \"onion\", \"onion\", \"onion\", \"onion\", \"order\", \"order\", \"order\", \"order\", \"order\", \"order\", \"order\", \"order\", \"order\", \"oregano\", \"organize\", \"organize\", \"organize\", \"outdoor\", \"outdoor\", \"outdoor\", \"outdoor\", \"outdoor\", \"outfit\", \"pad\", \"pad\", \"pad\", \"pad\", \"palace\", \"palace\", \"palm\", \"panang\", \"pancake\", \"panda\", \"pao\", \"park\", \"park\", \"park\", \"park\", \"park\", \"park\", \"park\", \"park\", \"park\", \"parm\", \"pastor\", \"pasty\", \"path\", \"path\", \"patient\", \"patient\", \"patient\", \"patient\", \"patient\", \"patio\", \"patio\", \"patio\", \"patio\", \"patio\", \"patio\", \"patio\", \"patty\", \"patty\", \"patty\", \"patty\", \"patty\", \"pedi\", \"pedicure\", \"people\", \"people\", \"people\", \"people\", \"people\", \"people\", \"people\", \"people\", \"people\", \"people\", \"pepperoni\", \"perfectly\", \"perfectly\", \"perfectly\", \"perfectly\", \"perfectly\", \"perfectly\", \"perfectly\", \"perfectly\", \"perfectly\", \"perfectly\", \"performance\", \"pete\", \"pharmacy\", \"philly\", \"pho\", \"phoenix\", \"phoenix\", \"phoenix\", \"phoenix\", \"phoenix\", \"phoenix\", \"phoenix\", \"phoenix\", \"phoenix\", \"phoenix\", \"phone\", \"phone\", \"pickle\", \"pickle\", \"pickle\", \"pickle\", \"pickle\", \"pico\", \"pita\", \"pizza\", \"pizzeria\", \"place\", \"place\", \"place\", \"place\", \"place\", \"place\", \"place\", \"place\", \"place\", \"place\", \"plane\", \"plate\", \"plate\", \"plate\", \"plate\", \"plate\", \"plate\", \"plate\", \"plate\", \"play\", \"play\", \"play\", \"play\", \"play\", \"play\", \"play\", \"poison\", \"pomegranate\", \"pomegranate\", \"pool\", \"pool\", \"poor\", \"poor\", \"poor\", \"poor\", \"poor\", \"poor\", \"poor\", \"poor\", \"pork\", \"pork\", \"pork\", \"pork\", \"pork\", \"portion\", \"portion\", \"portion\", \"portion\", \"portion\", \"portion\", \"portion\", \"portion\", \"portion\", \"potato\", \"potato\", \"potato\", \"potato\", \"pretty\", \"pretty\", \"pretty\", \"pretty\", \"pretty\", \"pretty\", \"pretty\", \"pretty\", \"pretty\", \"pretty\", \"price\", \"price\", \"price\", \"price\", \"price\", \"price\", \"price\", \"price\", \"price\", \"price\", \"produce\", \"produce\", \"produce\", \"produce\", \"product\", \"product\", \"product\", \"product\", \"product\", \"product\", \"professional\", \"professional\", \"professional\", \"professional\", \"professional\", \"professional\", \"project\", \"property\", \"pudding\", \"pudding\", \"purchase\", \"purchase\", \"purchase\", \"purchase\", \"queso\", \"queso\", \"quote\", \"quote\", \"r\", \"r\", \"r\", \"r\", \"r\", \"r\", \"r\", \"ra\", \"ramen\", \"real\", \"real\", \"real\", \"real\", \"real\", \"real\", \"real\", \"real\", \"real\", \"real\", \"really\", \"really\", \"really\", \"really\", \"really\", \"really\", \"really\", \"really\", \"really\", \"really\", \"reception\", \"refill\", \"refill\", \"refill\", \"refill\", \"refill\", \"refill\", \"refill\", \"refund\", \"relleno\", \"remake\", \"rep\", \"repair\", \"replacement\", \"resort\", \"restaurant\", \"restaurant\", \"restaurant\", \"restaurant\", \"restaurant\", \"restaurant\", \"restaurant\", \"restaurant\", \"restaurant\", \"retail\", \"review\", \"review\", \"review\", \"review\", \"review\", \"review\", \"review\", \"review\", \"review\", \"review\", \"rib\", \"rib\", \"ribeye\", \"rice\", \"rice\", \"ride\", \"ride\", \"ride\", \"ride\", \"ride\", \"risotto\", \"river\", \"river\", \"roach\", \"roadhouse\", \"robert\", \"roll\", \"roll\", \"roll\", \"roll\", \"roll\", \"roll\", \"roll\", \"roll\", \"roll\", \"roll\", \"room\", \"room\", \"room\", \"room\", \"room\", \"room\", \"room\", \"room\", \"roomy\", \"rowdy\", \"roy\", \"safeway\", \"sakana\", \"salad\", \"salad\", \"salad\", \"salad\", \"salad\", \"salad\", \"sale\", \"sale\", \"salmon\", \"salmon\", \"salmon\", \"salsa\", \"salsa\", \"sandwich\", \"sandwich\", \"sandwich\", \"sandwich\", \"sandwich\", \"sandwich\", \"sandwich\", \"sashimi\", \"sauce\", \"sauce\", \"sauce\", \"sauce\", \"sauce\", \"sauce\", \"sauerkraut\", \"say\", \"say\", \"say\", \"say\", \"say\", \"say\", \"say\", \"say\", \"say\", \"say\", \"scallop\", \"scallop\", \"scallop\", \"schedule\", \"schedule\", \"schedule\", \"schedule\", \"scott\", \"scramble\", \"scramble\", \"seat\", \"seat\", \"seat\", \"seat\", \"seat\", \"seat\", \"seat\", \"seat\", \"seat\", \"section\", \"section\", \"section\", \"section\", \"section\", \"section\", \"section\", \"section\", \"section\", \"see\", \"see\", \"see\", \"see\", \"see\", \"see\", \"see\", \"see\", \"see\", \"see\", \"selection\", \"selection\", \"selection\", \"selection\", \"selection\", \"selection\", \"selection\", \"sell\", \"sell\", \"sell\", \"sell\", \"sell\", \"sell\", \"sell\", \"sell\", \"sell\", \"sell\", \"serve\", \"serve\", \"serve\", \"serve\", \"serve\", \"serve\", \"serve\", \"serve\", \"serve\", \"serve\", \"server\", \"server\", \"server\", \"server\", \"server\", \"server\", \"service\", \"service\", \"service\", \"service\", \"service\", \"service\", \"service\", \"service\", \"service\", \"service\", \"session\", \"shade\", \"shade\", \"shade\", \"shade\", \"shade\", \"shampoo\", \"shirt\", \"shirt\", \"shirt\", \"shirt\", \"shirt\", \"shoe\", \"shoe\", \"shop\", \"shop\", \"shop\", \"shop\", \"shop\", \"shop\", \"shopper\", \"shove\", \"shove\", \"shower\", \"shrimp\", \"shrimp\", \"shrimp\", \"shrimp\", \"shrimp\", \"side\", \"side\", \"side\", \"side\", \"side\", \"side\", \"side\", \"side\", \"side\", \"side\", \"silverware\", \"silverware\", \"sirloin\", \"sit\", \"sit\", \"sit\", \"sit\", \"sit\", \"sit\", \"sit\", \"sit\", \"sit\", \"sit\", \"sizzle\", \"skillet\", \"skimp\", \"slice\", \"slice\", \"slice\", \"slice\", \"slice\", \"slice\", \"smashburger\", \"smoothie\", \"smoothy\", \"soup\", \"soup\", \"soup\", \"soup\", \"spa\", \"spa\", \"spa\", \"spice\", \"spice\", \"spice\", \"spice\", \"spice\", \"spice\", \"spicy\", \"spicy\", \"spicy\", \"spicy\", \"spicy\", \"sport\", \"sport\", \"sport\", \"sport\", \"sport\", \"squash\", \"stadium\", \"stadium\", \"staff\", \"staff\", \"staff\", \"staff\", \"staff\", \"staff\", \"staff\", \"staff\", \"staff\", \"staff\", \"star\", \"star\", \"star\", \"star\", \"star\", \"star\", \"star\", \"star\", \"star\", \"star\", \"starbucks\", \"starbucks\", \"starbucks\", \"stay\", \"stay\", \"stay\", \"stay\", \"stay\", \"stay\", \"stay\", \"stay\", \"stay\", \"stay\", \"steak\", \"steak\", \"steak\", \"steak\", \"steak\", \"steak\", \"stock\", \"stock\", \"stock\", \"stock\", \"stock\", \"stock\", \"stock\", \"stool\", \"store\", \"store\", \"studio\", \"stuff\", \"stuff\", \"stuff\", \"stuff\", \"stuff\", \"stuff\", \"stuff\", \"stuff\", \"stuff\", \"stuff\", \"style\", \"style\", \"style\", \"style\", \"style\", \"style\", \"style\", \"style\", \"style\", \"style\", \"stylist\", \"sub\", \"sub\", \"sub\", \"sub\", \"sub\", \"subway\", \"subway\", \"suite\", \"sum\", \"sum\", \"sum\", \"supply\", \"supply\", \"supply\", \"sushi\", \"sweet\", \"sweet\", \"sweet\", \"sweet\", \"sweet\", \"sweet\", \"sweet\", \"sweet\", \"sweet\", \"sweet\", \"table\", \"table\", \"table\", \"table\", \"table\", \"table\", \"table\", \"table\", \"table\", \"taco\", \"taco\", \"tai\", \"take\", \"take\", \"take\", \"take\", \"take\", \"take\", \"take\", \"take\", \"take\", \"take\", \"tap\", \"tap\", \"tap\", \"tap\", \"target\", \"taro\", \"taste\", \"taste\", \"taste\", \"taste\", \"taste\", \"taste\", \"taste\", \"taste\", \"tea\", \"tea\", \"tea\", \"tea\", \"tea\", \"tell\", \"tell\", \"tell\", \"tell\", \"tell\", \"tell\", \"tell\", \"tell\", \"tell\", \"tell\", \"tenderloin\", \"terminal\", \"terrible\", \"terrible\", \"terrible\", \"terrible\", \"terrible\", \"terrible\", \"thai\", \"thank\", \"thank\", \"thank\", \"thank\", \"thank\", \"thank\", \"thank\", \"thank\", \"thank\", \"thank\", \"theater\", \"theater\", \"theater\", \"theater\", \"thin\", \"thin\", \"thin\", \"thin\", \"thin\", \"thin\", \"thin\", \"thing\", \"thing\", \"thing\", \"thing\", \"thing\", \"thing\", \"thing\", \"thing\", \"thing\", \"thing\", \"think\", \"think\", \"think\", \"think\", \"think\", \"think\", \"think\", \"think\", \"think\", \"think\", \"thorough\", \"tikka\", \"time\", \"time\", \"time\", \"time\", \"time\", \"time\", \"time\", \"time\", \"time\", \"time\", \"tiramisu\", \"tire\", \"tire\", \"tire\", \"tire\", \"tire\", \"tire\", \"tire\", \"toast\", \"toast\", \"toast\", \"toast\", \"toffee\", \"tofu\", \"tomato\", \"tomato\", \"tomato\", \"tomato\", \"tony\", \"top\", \"top\", \"top\", \"top\", \"top\", \"top\", \"top\", \"top\", \"top\", \"top\", \"torta\", \"tortilla\", \"tortilla\", \"tortilla\", \"torture\", \"tostada\", \"tour\", \"tour\", \"toy\", \"toy\", \"trader\", \"trader\", \"trail\", \"train\", \"train\", \"train\", \"train\", \"train\", \"train\", \"tree\", \"tree\", \"tree\", \"tree\", \"trivia\", \"true\", \"true\", \"true\", \"true\", \"true\", \"true\", \"true\", \"true\", \"true\", \"true\", \"truffle\", \"truffle\", \"truly\", \"truly\", \"truly\", \"truly\", \"truly\", \"truly\", \"truly\", \"truly\", \"truly\", \"truly\", \"try\", \"try\", \"try\", \"try\", \"try\", \"try\", \"try\", \"try\", \"try\", \"try\", \"tub\", \"tuna\", \"tuna\", \"turkey\", \"turkey\", \"turkey\", \"tv\", \"tv\", \"tv\", \"tv\", \"tv\", \"tv\", \"tv\", \"u\", \"u\", \"u\", \"u\", \"u\", \"u\", \"u\", \"u\", \"u\", \"u\", \"underwhelming\", \"underwhelming\", \"uninspired\", \"usa\", \"use\", \"use\", \"use\", \"use\", \"use\", \"use\", \"use\", \"use\", \"use\", \"use\", \"valley\", \"valley\", \"valley\", \"valley\", \"valley\", \"valley\", \"valley\", \"valley\", \"valley\", \"valley\", \"vanilla\", \"vanilla\", \"veg\", \"vegetarian\", \"vegetarian\", \"vegetarian\", \"vegetarian\", \"vegetarian\", \"vegetarian\", \"vehicle\", \"vermicelli\", \"vet\", \"vibe\", \"vibe\", \"vibe\", \"vibe\", \"vibe\", \"vibe\", \"vibe\", \"vibe\", \"vietnamese\", \"view\", \"view\", \"view\", \"view\", \"vig\", \"vinaigrette\", \"vinaigrette\", \"vista\", \"waffle\", \"waffle\", \"waffle\", \"waffle\", \"wait\", \"wait\", \"wait\", \"wait\", \"wait\", \"wait\", \"wait\", \"wait\", \"wait\", \"wait\", \"waiter\", \"waiter\", \"waiter\", \"waiter\", \"waiter\", \"waitress\", \"waitress\", \"waitress\", \"waitress\", \"waitress\", \"walk\", \"walk\", \"walk\", \"walk\", \"walk\", \"walk\", \"walk\", \"walk\", \"walk\", \"walk\", \"walmart\", \"want\", \"want\", \"want\", \"want\", \"want\", \"want\", \"want\", \"want\", \"want\", \"want\", \"warranty\", \"wash\", \"wash\", \"wash\", \"wash\", \"wash\", \"wash\", \"wash\", \"wash\", \"wash\", \"wash\", \"watch\", \"watch\", \"watch\", \"watch\", \"watch\", \"watch\", \"watch\", \"watch\", \"watch\", \"watch\", \"water\", \"water\", \"water\", \"water\", \"water\", \"water\", \"water\", \"water\", \"water\", \"water\", \"watermelon\", \"wear\", \"wear\", \"wear\", \"wear\", \"wear\", \"wear\", \"well\", \"well\", \"well\", \"well\", \"well\", \"well\", \"well\", \"well\", \"well\", \"well\", \"whiskey\", \"whiskey\", \"wine\", \"wine\", \"wine\", \"wine\", \"wine\", \"wine\", \"wing\", \"wing\", \"wing\", \"wing\", \"wing\", \"wonton\", \"word\", \"word\", \"word\", \"word\", \"word\", \"word\", \"word\", \"word\", \"word\", \"word\", \"work\", \"work\", \"work\", \"work\", \"work\", \"work\", \"work\", \"work\", \"work\", \"work\", \"workout\", \"world\", \"world\", \"world\", \"world\", \"world\", \"world\", \"world\", \"world\", \"world\", \"world\", \"worst\", \"worst\", \"worst\", \"worst\", \"worst\", \"worst\", \"would\", \"would\", \"would\", \"would\", \"would\", \"would\", \"would\", \"would\", \"would\", \"would\", \"www\", \"www\", \"year\", \"year\", \"year\", \"year\", \"year\", \"year\", \"year\", \"year\", \"year\", \"year\", \"yellowtail\", \"yoga\", \"yogurt\", \"yogurtland\", \"yucca\", \"zoo\", \"zoo\"]}, \"R\": 30, \"lambda.step\": 0.01, \"plot.opts\": {\"xlab\": \"PC1\", \"ylab\": \"PC2\"}, \"topic.order\": [2, 3, 8, 10, 4, 9, 6, 7, 1, 5]};\n",
       "\n",
       "function LDAvis_load_lib(url, callback){\n",
       "  var s = document.createElement('script');\n",
       "  s.src = url;\n",
       "  s.async = true;\n",
       "  s.onreadystatechange = s.onload = callback;\n",
       "  s.onerror = function(){console.warn(\"failed to load library \" + url);};\n",
       "  document.getElementsByTagName(\"head\")[0].appendChild(s);\n",
       "}\n",
       "\n",
       "if(typeof(LDAvis) !== \"undefined\"){\n",
       "   // already loaded: just create the visualization\n",
       "   !function(LDAvis){\n",
       "       new LDAvis(\"#\" + \"ldavis_el1111401227883944729210681164\", ldavis_el1111401227883944729210681164_data);\n",
       "   }(LDAvis);\n",
       "}else if(typeof define === \"function\" && define.amd){\n",
       "   // require.js is available: use it to load d3/LDAvis\n",
       "   require.config({paths: {d3: \"https://cdnjs.cloudflare.com/ajax/libs/d3/3.5.5/d3.min\"}});\n",
       "   require([\"d3\"], function(d3){\n",
       "      window.d3 = d3;\n",
       "      LDAvis_load_lib(\"https://cdn.rawgit.com/bmabey/pyLDAvis/files/ldavis.v1.0.0.js\", function(){\n",
       "        new LDAvis(\"#\" + \"ldavis_el1111401227883944729210681164\", ldavis_el1111401227883944729210681164_data);\n",
       "      });\n",
       "    });\n",
       "}else{\n",
       "    // require.js not available: dynamically load d3 & LDAvis\n",
       "    LDAvis_load_lib(\"https://cdnjs.cloudflare.com/ajax/libs/d3/3.5.5/d3.min.js\", function(){\n",
       "         LDAvis_load_lib(\"https://cdn.rawgit.com/bmabey/pyLDAvis/files/ldavis.v1.0.0.js\", function(){\n",
       "                 new LDAvis(\"#\" + \"ldavis_el1111401227883944729210681164\", ldavis_el1111401227883944729210681164_data);\n",
       "            })\n",
       "         });\n",
       "}\n",
       "</script>"
      ],
      "text/plain": [
       "<IPython.core.display.HTML object>"
      ]
     },
     "execution_count": 21,
     "metadata": {},
     "output_type": "execute_result"
    }
   ],
   "source": [
    "%%time\n",
    "pyLDAvis.display(LDAvis_prepared)"
   ]
  }
 ],
 "metadata": {
  "kernelspec": {
   "display_name": "Python 3",
   "language": "python",
   "name": "python3"
  },
  "language_info": {
   "codemirror_mode": {
    "name": "ipython",
    "version": 3
   },
   "file_extension": ".py",
   "mimetype": "text/x-python",
   "name": "python",
   "nbconvert_exporter": "python",
   "pygments_lexer": "ipython3",
   "version": "3.6.2"
  }
 },
 "nbformat": 4,
 "nbformat_minor": 1
}
