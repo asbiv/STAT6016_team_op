{
 "cells": [
  {
   "cell_type": "markdown",
   "metadata": {},
   "source": [
    "# Import packages"
   ]
  },
  {
   "cell_type": "code",
   "execution_count": null,
   "metadata": {
    "collapsed": true
   },
   "outputs": [],
   "source": [
    "import matplotlib.pyplot as plt\n",
    "%matplotlib inline\n",
    "import time\n",
    "import numpy as np\n",
    "import pandas as pd"
   ]
  },
  {
   "cell_type": "code",
   "execution_count": null,
   "metadata": {},
   "outputs": [],
   "source": [
    "import tweepy"
   ]
  },
  {
   "cell_type": "markdown",
   "metadata": {},
   "source": [
    "# Obtain key codes to access Twitter's API"
   ]
  },
  {
   "cell_type": "markdown",
   "metadata": {},
   "source": [
    "Sign in with your existing Twitter account (or make a new one) at https://twitter.com/. Go to apps.twitter.com. Select \"Create new app\" to make a new application. Fill out the form and feel free to use very generic information (i.e. - \"http://www.darden.virginia.edu/\" as your website). You can ignore the callback URL field.\n",
    "\n",
    "Go to Keys and Access Tokens tab. After submitting, you should have the option to \"Create Access Token\". This is how you actually get to access the API. For access type, \"read only\" should suffice, because you are not using the code to write tweets back to the site. You will get OAuth settings, which you should save in a safe place.\n",
    "\n",
    "Put your codes in place of xxx in \"xxx\" below. Be sure to keep the quotation marks."
   ]
  },
  {
   "cell_type": "code",
   "execution_count": null,
   "metadata": {
    "collapsed": true
   },
   "outputs": [],
   "source": [
    "consumer_key = \"xxxx\"\n",
    "consumer_secret = \"xxxx\"\n",
    "access_token = \"xxxx\"\n",
    "access_token_secret = \"xxxx\""
   ]
  },
  {
   "cell_type": "markdown",
   "metadata": {},
   "source": [
    "The cell below will provide access to Twitter's API. Note that we have changed our \"wait on rate limit\" settings because we will be pulling down a fair amount of information from Twitter."
   ]
  },
  {
   "cell_type": "code",
   "execution_count": null,
   "metadata": {},
   "outputs": [],
   "source": [
    "auth = tweepy.OAuthHandler(consumer_key, consumer_secret)\n",
    "auth.set_access_token(access_token, access_token_secret)\n",
    "api = tweepy.API(auth, wait_on_rate_limit=True, wait_on_rate_limit_notify=True, compression=True)"
   ]
  },
  {
   "cell_type": "markdown",
   "metadata": {},
   "source": [
    "# Obtain User's Followers"
   ]
  },
  {
   "cell_type": "code",
   "execution_count": null,
   "metadata": {
    "collapsed": true
   },
   "outputs": [],
   "source": [
    "startingScreenName = \"ChrisGrant360\""
   ]
  },
  {
   "cell_type": "markdown",
   "metadata": {},
   "source": [
    "Use Tweepy to translate this user's screen name into her ID on Twitter. Use the ID to pull each one of her follower's screen names and store them in the list called followerScreenNames. \n",
    "\n",
    "The try and except lines are used to handle exceptions when a follower is private or has been suspended. The code skips over those users and continues the loop. \n",
    "\n",
    "Note that you may reach a rate limit when running this loop. Twitter will put your loop to sleep for a few minutes and resume later automatically.  This loop will take about 15 minutes to complete.  "
   ]
  },
  {
   "cell_type": "code",
   "execution_count": null,
   "metadata": {},
   "outputs": [],
   "source": [
    "start_time = time.time()\n",
    "followerScreenNames = []\n",
    "for fid in tweepy.Cursor(api.followers_ids, screen_name=startingScreenName).items():\n",
    "    try:\n",
    "        fsn = api.get_user(id=fid).screen_name\n",
    "        followerScreenNames.append(fsn)\n",
    "    except:\n",
    "        pass\n",
    "time.time() - start_time"
   ]
  },
  {
   "cell_type": "markdown",
   "metadata": {},
   "source": [
    "Store the relationship between the user and her followers in a master data frame (master_df). In a network, there is typically a source and a target which represents where the relationship is originating from and where it ends. In this case, the startingScreenName is the source and the followerScreenNames that we pulled from Twitter is the target. We store these in two columns in master_df called 'source' and 'target' and print master_df to check the data frame."
   ]
  },
  {
   "cell_type": "code",
   "execution_count": null,
   "metadata": {},
   "outputs": [],
   "source": [
    "source_list = np.repeat(startingScreenName, len(followerScreenNames))\n",
    "target_list = followerScreenNames\n",
    "master_df = pd.DataFrame()\n",
    "master_df['source'] = source_list\n",
    "master_df['target'] = target_list\n",
    "master_df"
   ]
  },
  {
   "cell_type": "markdown",
   "metadata": {},
   "source": [
    "How many followers does she have?"
   ]
  },
  {
   "cell_type": "markdown",
   "metadata": {},
   "source": [
    "# Obtain Followers of User's Followers"
   ]
  },
  {
   "cell_type": "markdown",
   "metadata": {},
   "source": [
    "To fill out the network, we want to pull followers of the targets (or the followers of the user's followers), starting with the first target, i.e., the screen name in the first row, second column in master_df above. The .ix notation after master_df allows you to choose which row and column to start from. Similar to the code above, we use tweepy to obtain the followers of a user. We then store the information in two columns (again source and target) in an intermediate dataframe and append it to the master data frame."
   ]
  },
  {
   "cell_type": "markdown",
   "metadata": {},
   "source": [
    "WARNING: DO NOT RUN THE LOOP BELOW UNLESS YOU PLAN TO LET IT RUN FOR SEVERAL HOURS. SKIP DOWN TWO CELLS TO LOAD IN THE RESULTING DATA."
   ]
  },
  {
   "cell_type": "code",
   "execution_count": null,
   "metadata": {},
   "outputs": [],
   "source": [
    "start_time = time.time()\n",
    "for i in range(0, len(followerScreenNames)):\n",
    "    this_screen_name = master_df.ix[i, 'target']\n",
    "    followerScreenNames1 = []\n",
    "    try:\n",
    "        for fid in tweepy.Cursor(api.followers_ids, screen_name=this_screen_name).items():  \n",
    "            fsn = api.get_user(id=fid).screen_name\n",
    "            followerScreenNames1.append(fsn)\n",
    "    except Exception:\n",
    "        pass\n",
    "    intermediate_df = pd.DataFrame(columns=['source', 'target'])    \n",
    "    intermediate_df['source'] = np.repeat(this_screen_name, len(followerScreenNames1))\n",
    "    intermediate_df['target'] = followerScreenNames1\n",
    "    master_df = pd.concat([master_df, intermediate_df])\n",
    "    master_df = master_df.reset_index(drop=True)\n",
    "time.time() - start_time"
   ]
  },
  {
   "cell_type": "markdown",
   "metadata": {},
   "source": [
    "If you finish the loop, write the resulting data frame to a text file and a csv file (to be used in Gephi)."
   ]
  },
  {
   "cell_type": "code",
   "execution_count": null,
   "metadata": {},
   "outputs": [],
   "source": [
    "master_df.tail()"
   ]
  },
  {
   "cell_type": "code",
   "execution_count": null,
   "metadata": {},
   "outputs": [],
   "source": [
    "master_df.to_csv('ChrisGrant360Edges.csv', header=False, index=False, sep=',')"
   ]
  },
  {
   "cell_type": "markdown",
   "metadata": {},
   "source": [
    "SKIP DOWN TO HERE. Load the data with the user's followers and the followers of the user's followers.  Look at the resulting data frame."
   ]
  },
  {
   "cell_type": "code",
   "execution_count": null,
   "metadata": {
    "scrolled": true
   },
   "outputs": [],
   "source": [
    "master_df2 = pd.read_csv('ChrisGrant360Edges.csv', header=None)\n",
    "master_df2"
   ]
  }
 ],
 "metadata": {
  "anaconda-cloud": {},
  "kernelspec": {
   "display_name": "Python 3",
   "language": "python",
   "name": "python3"
  },
  "language_info": {
   "codemirror_mode": {
    "name": "ipython",
    "version": 3
   },
   "file_extension": ".py",
   "mimetype": "text/x-python",
   "name": "python",
   "nbconvert_exporter": "python",
   "pygments_lexer": "ipython3",
   "version": "3.6.2"
  }
 },
 "nbformat": 4,
 "nbformat_minor": 1
}
