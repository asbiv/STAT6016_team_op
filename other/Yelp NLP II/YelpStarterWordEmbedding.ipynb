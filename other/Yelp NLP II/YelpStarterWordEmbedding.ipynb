{
 "cells": [
  {
   "cell_type": "markdown",
   "metadata": {},
   "source": [
    "# Neural Networks for NLP"
   ]
  },
  {
   "cell_type": "markdown",
   "metadata": {},
   "source": [
    "We'll start with some standard library imports."
   ]
  },
  {
   "cell_type": "markdown",
   "metadata": {},
   "source": [
    "## Load some Yelp reviews"
   ]
  },
  {
   "cell_type": "code",
   "execution_count": 1,
   "metadata": {
    "collapsed": true
   },
   "outputs": [],
   "source": [
    "import numpy as np\n",
    "import pandas as pd"
   ]
  },
  {
   "cell_type": "markdown",
   "metadata": {},
   "source": [
    "Let's read in the Yelp reviews data from disk and preview the first several rows."
   ]
  },
  {
   "cell_type": "code",
   "execution_count": 2,
   "metadata": {
    "collapsed": true
   },
   "outputs": [],
   "source": [
    "reviews_df = pd.read_csv('yelp_training_set_review.csv')"
   ]
  },
  {
   "cell_type": "code",
   "execution_count": 3,
   "metadata": {},
   "outputs": [
    {
     "data": {
      "text/html": [
       "<div>\n",
       "<style>\n",
       "    .dataframe thead tr:only-child th {\n",
       "        text-align: right;\n",
       "    }\n",
       "\n",
       "    .dataframe thead th {\n",
       "        text-align: left;\n",
       "    }\n",
       "\n",
       "    .dataframe tbody tr th {\n",
       "        vertical-align: top;\n",
       "    }\n",
       "</style>\n",
       "<table border=\"1\" class=\"dataframe\">\n",
       "  <thead>\n",
       "    <tr style=\"text-align: right;\">\n",
       "      <th></th>\n",
       "      <th>business_id</th>\n",
       "      <th>date</th>\n",
       "      <th>review_id</th>\n",
       "      <th>stars</th>\n",
       "      <th>text</th>\n",
       "      <th>type</th>\n",
       "      <th>user_id</th>\n",
       "      <th>votes.cool</th>\n",
       "      <th>votes.funny</th>\n",
       "      <th>votes.useful</th>\n",
       "    </tr>\n",
       "  </thead>\n",
       "  <tbody>\n",
       "    <tr>\n",
       "      <th>0</th>\n",
       "      <td>9yKzy9PApeiPPOUJEtnvkg</td>\n",
       "      <td>2011-01-26</td>\n",
       "      <td>fWKvX83p0-ka4JS3dc6E5A</td>\n",
       "      <td>5</td>\n",
       "      <td>My wife took me here on my birthday for breakf...</td>\n",
       "      <td>review</td>\n",
       "      <td>rLtl8ZkDX5vH5nAx9C3q5Q</td>\n",
       "      <td>2</td>\n",
       "      <td>0</td>\n",
       "      <td>5</td>\n",
       "    </tr>\n",
       "    <tr>\n",
       "      <th>1</th>\n",
       "      <td>ZRJwVLyzEJq1VAihDhYiow</td>\n",
       "      <td>2011-07-27</td>\n",
       "      <td>IjZ33sJrzXqU-0X6U8NwyA</td>\n",
       "      <td>5</td>\n",
       "      <td>I have no idea why some people give bad review...</td>\n",
       "      <td>review</td>\n",
       "      <td>0a2KyEL0d3Yb1V6aivbIuQ</td>\n",
       "      <td>0</td>\n",
       "      <td>0</td>\n",
       "      <td>0</td>\n",
       "    </tr>\n",
       "    <tr>\n",
       "      <th>2</th>\n",
       "      <td>6oRAC4uyJCsJl1X0WZpVSA</td>\n",
       "      <td>2012-06-14</td>\n",
       "      <td>IESLBzqUCLdSzSqm0eCSxQ</td>\n",
       "      <td>4</td>\n",
       "      <td>love the gyro plate. Rice is so good and I als...</td>\n",
       "      <td>review</td>\n",
       "      <td>0hT2KtfLiobPvh6cDC8JQg</td>\n",
       "      <td>0</td>\n",
       "      <td>0</td>\n",
       "      <td>1</td>\n",
       "    </tr>\n",
       "    <tr>\n",
       "      <th>3</th>\n",
       "      <td>_1QQZuf4zZOyFCvXc0o6Vg</td>\n",
       "      <td>2010-05-27</td>\n",
       "      <td>G-WvGaISbqqaMHlNnByodA</td>\n",
       "      <td>5</td>\n",
       "      <td>Rosie, Dakota, and I LOVE Chaparral Dog Park!!...</td>\n",
       "      <td>review</td>\n",
       "      <td>uZetl9T0NcROGOyFfughhg</td>\n",
       "      <td>1</td>\n",
       "      <td>0</td>\n",
       "      <td>2</td>\n",
       "    </tr>\n",
       "    <tr>\n",
       "      <th>4</th>\n",
       "      <td>6ozycU1RpktNG2-1BroVtw</td>\n",
       "      <td>2012-01-05</td>\n",
       "      <td>1uJFq2r5QfJG_6ExMRCaGw</td>\n",
       "      <td>5</td>\n",
       "      <td>General Manager Scott Petello is a good egg!!!...</td>\n",
       "      <td>review</td>\n",
       "      <td>vYmM4KTsC8ZfQBg-j5MWkw</td>\n",
       "      <td>0</td>\n",
       "      <td>0</td>\n",
       "      <td>0</td>\n",
       "    </tr>\n",
       "  </tbody>\n",
       "</table>\n",
       "</div>"
      ],
      "text/plain": [
       "              business_id        date               review_id  stars  \\\n",
       "0  9yKzy9PApeiPPOUJEtnvkg  2011-01-26  fWKvX83p0-ka4JS3dc6E5A      5   \n",
       "1  ZRJwVLyzEJq1VAihDhYiow  2011-07-27  IjZ33sJrzXqU-0X6U8NwyA      5   \n",
       "2  6oRAC4uyJCsJl1X0WZpVSA  2012-06-14  IESLBzqUCLdSzSqm0eCSxQ      4   \n",
       "3  _1QQZuf4zZOyFCvXc0o6Vg  2010-05-27  G-WvGaISbqqaMHlNnByodA      5   \n",
       "4  6ozycU1RpktNG2-1BroVtw  2012-01-05  1uJFq2r5QfJG_6ExMRCaGw      5   \n",
       "\n",
       "                                                text    type  \\\n",
       "0  My wife took me here on my birthday for breakf...  review   \n",
       "1  I have no idea why some people give bad review...  review   \n",
       "2  love the gyro plate. Rice is so good and I als...  review   \n",
       "3  Rosie, Dakota, and I LOVE Chaparral Dog Park!!...  review   \n",
       "4  General Manager Scott Petello is a good egg!!!...  review   \n",
       "\n",
       "                  user_id  votes.cool  votes.funny  votes.useful  \n",
       "0  rLtl8ZkDX5vH5nAx9C3q5Q           2            0             5  \n",
       "1  0a2KyEL0d3Yb1V6aivbIuQ           0            0             0  \n",
       "2  0hT2KtfLiobPvh6cDC8JQg           0            0             1  \n",
       "3  uZetl9T0NcROGOyFfughhg           1            0             2  \n",
       "4  vYmM4KTsC8ZfQBg-j5MWkw           0            0             0  "
      ]
     },
     "execution_count": 3,
     "metadata": {},
     "output_type": "execute_result"
    }
   ],
   "source": [
    "reviews_df.head()"
   ]
  },
  {
   "cell_type": "markdown",
   "metadata": {},
   "source": [
    "The two columns we'll focus on in this notebook are:\n",
    "\n",
    "- `text` : the natural-language text the user wrote as part of their review\n",
    "- `votes.useful` : the number of members of the Yelp user community marked the review as \"useful\" "
   ]
  },
  {
   "cell_type": "code",
   "execution_count": 4,
   "metadata": {},
   "outputs": [
    {
     "name": "stdout",
     "output_type": "stream",
     "text": [
      "<class 'pandas.core.frame.DataFrame'>\n",
      "RangeIndex: 229907 entries, 0 to 229906\n",
      "Data columns (total 10 columns):\n",
      "business_id     229907 non-null object\n",
      "date            229907 non-null object\n",
      "review_id       229907 non-null object\n",
      "stars           229907 non-null int64\n",
      "text            229901 non-null object\n",
      "type            229907 non-null object\n",
      "user_id         229907 non-null object\n",
      "votes.cool      229907 non-null int64\n",
      "votes.funny     229907 non-null int64\n",
      "votes.useful    229907 non-null int64\n",
      "dtypes: int64(4), object(6)\n",
      "memory usage: 17.5+ MB\n"
     ]
    }
   ],
   "source": [
    "reviews_df.info()"
   ]
  },
  {
   "cell_type": "markdown",
   "metadata": {},
   "source": [
    "It looks like there are a few reviews with missing data in the `text` column. Let's drop these rows from the dataset."
   ]
  },
  {
   "cell_type": "code",
   "execution_count": 5,
   "metadata": {},
   "outputs": [
    {
     "name": "stdout",
     "output_type": "stream",
     "text": [
      "<class 'pandas.core.frame.DataFrame'>\n",
      "Int64Index: 229901 entries, 0 to 229906\n",
      "Data columns (total 10 columns):\n",
      "business_id     229901 non-null object\n",
      "date            229901 non-null object\n",
      "review_id       229901 non-null object\n",
      "stars           229901 non-null int64\n",
      "text            229901 non-null object\n",
      "type            229901 non-null object\n",
      "user_id         229901 non-null object\n",
      "votes.cool      229901 non-null int64\n",
      "votes.funny     229901 non-null int64\n",
      "votes.useful    229901 non-null int64\n",
      "dtypes: int64(4), object(6)\n",
      "memory usage: 19.3+ MB\n"
     ]
    }
   ],
   "source": [
    "reviews_df = reviews_df.dropna(subset=['text'])\n",
    "\n",
    "reviews_df.info()"
   ]
  },
  {
   "cell_type": "markdown",
   "metadata": {},
   "source": [
    "## Import and explore spaCy (an NLP library)"
   ]
  },
  {
   "cell_type": "markdown",
   "metadata": {},
   "source": [
    "[spaCy](https://spacy.io) is an industrial-strength natural language processing (NLP) library for Python. spaCy's goal is to take recent advancements in natural language processing out of research papers and put them in the hands of users to build production software.\n",
    "\n",
    "spaCy is written in optimized Cython, which means it's _fast_. According to a few independent sources, it's the fastest syntactic parser available in any programming language. Key pieces of the spaCy parsing pipeline are written in pure C, enabling efficient multithreading (i.e., spaCy can release the GIL)."
   ]
  },
  {
   "cell_type": "code",
   "execution_count": 6,
   "metadata": {
    "collapsed": true
   },
   "outputs": [],
   "source": [
    "import spacy"
   ]
  },
  {
   "cell_type": "markdown",
   "metadata": {},
   "source": [
    "If you want to use many of spaCy's most powerful features, you need to download and install a [spaCy model](https://spacy.io/models/). In this notebook, we'll use the `en_core_web_md` model.\n",
    "\n",
    "The next code cell downloads and installs the `en_core_web_md` model, and loads it into memory with the reference `nlp`. If you receive a warning message that \"linking was unsuccessful,\" you can disregard this message."
   ]
  },
  {
   "cell_type": "code",
   "execution_count": 7,
   "metadata": {
    "scrolled": true
   },
   "outputs": [
    {
     "name": "stdout",
     "output_type": "stream",
     "text": [
      "\n",
      "\u001b[93m    Error: Couldn't link model to 'en_core_web_md'\u001b[0m\n",
      "    Creating a symlink in spacy/data failed. Make sure you have the required\n",
      "    permissions and try re-running the command as admin, or use a\n",
      "    virtualenv. You can still import the model as a module and call its\n",
      "    load() method, or create the symlink manually.\n",
      "\n",
      "    /usr/local/anaconda/lib/python3.6/site-packages/en_core_web_md -->\n",
      "    /usr/local/anaconda/lib/python3.6/site-packages/spacy/data/en_core_web_md\n",
      "\n",
      "\n",
      "\u001b[93m    Creating a shortcut link for 'en' didn't work (maybe you don't have\n",
      "    admin permissions?), but you can still load the model via its full\n",
      "    package name: nlp = spacy.load('{name}')\u001b[0m\n",
      "    Download successful but linking failed\n",
      "\n"
     ]
    }
   ],
   "source": [
    "spacy.cli.download('en_core_web_md')\n",
    "\n",
    "import en_core_web_md\n",
    "\n",
    "nlp = en_core_web_md.load()"
   ]
  },
  {
   "cell_type": "markdown",
   "metadata": {},
   "source": [
    "Let's grab a sample review to play with."
   ]
  },
  {
   "cell_type": "code",
   "execution_count": 8,
   "metadata": {},
   "outputs": [
    {
     "name": "stdout",
     "output_type": "stream",
     "text": [
      "Back in the day, resorts and hotels were some of the best culinary destinations around. The Fairmont Scottsdale, formerly known as the Fairmont Scottsdale Princess, was one of those shining examples of upscale greatness with its Marquesa and La Hacienda restaurants. With new owners came new ideas, and both establishments were shuttered to make way for culinary concepts, including the fantastic Bourbon Steak by Chef Michael Mina. \r\n",
      "\r\n",
      "Now, with the help of chef Richard Sandoval, La Hacienda is re-opening with an updated look and menu.\r\n",
      "\r\n",
      "Sandoval grew up in Mexico City working with his restaurateur father. His upbringing helped to fuel a passion that led to multiple accolades and a reputation for innovative Latin cuisine. He opened his own restaurant in 1997 and over the years he's opened several more star-awarded restaurants.\r\n",
      "\r\n",
      "La Hacienda has always been known for great margaritas. The traditional La Hacienda ($10) is still the tops, but one of the new comers, the El Pina Diablo ($11) uses pineapple and serrano chile infused tequila and is refreshing and subtly spicy. \r\n",
      "\r\n",
      "In the bar, the daily happy hour runs from 5 to 7 p.m. and features $5 margaritas and snacks ranging from guacamole to tacos.\r\n",
      "\r\n",
      "The dinner menu has been designed to combine \"the bold taste of classic Mexican cuisine with timeless European cooking techniques.\" Starting at the top, you can't go wrong with crunchy Chips and Guacamole ($9.50). The appetizer was fresh and delicious, thanks in part to the tableside preparation of the guacamole. Diners can request their preferred level of spiciness while severs prepare the guacamole.\r\n",
      "\r\n",
      "The Queso Fundido ($9) is served in a searing hot cast iron skillet for good reason -- to keep that cheese molten. A winning combination of melted Oaxaca, Chihuahua and Monterrey cheeses, with chorizo or mushrooms atop, fills the soft house-made flour tortillas perfectly.\r\n",
      "\r\n",
      "Ceviche is one of those dishes that can be disastrous or outstanding, Sandoval and Hamrick served up the latter. The Ceviche Tasting ($10) offers two selections tender rock shrimp with avocado accented with chile habanero or mahi mahi, bathed in a citrus tomato broth, and hinted with just enough chile serrano for another layer of flavor. Both were outstanding, especially when tasted with the accompanied bowl of house-made corn nuts. It's a great texture!\r\n",
      "\r\n",
      "Ever heard of huitlacoche? Also known as corn smut, a type of fungus that grows on corn and is considered a delicacy in Mexico. Call it whatever you like, it's delicious earthen taste shouldn't be missed when eating the Tamal de Huitalcoche ($9). A tamal is the same as tamale, though in this case the masa has been infused with the complex flavors of the huitalcoche, filled with goat cheese and zucchini and drizzled with truffle oil. I felt like a Mayan king eating this.\r\n",
      "\r\n",
      "After trying the Chipotle BBQ Chicken Salad ($12), I felt confused. With so many original dishes, why bother with a salad like this? While the ingredients were top notch and it tasted fine, the ordinariness left me scratching my head. \r\n",
      "\r\n",
      "Making up for this was the Quesadilla ($9), which might sound typical, but after one bite that idea was dispelled. With various fillings, these crispy-on-the-outside, dreamy-on-the-inside quesadillas made for great dipping into the red and green salsas. Fantástico!\r\n",
      "\r\n",
      "Huachinango a la Veracruzana ($26) is a traditional Veracruz style red snapper dish. This gorgeous piece of fish gets a spin with the smoked bacon fufu. A mash of plantains had just enough sweet to balance out the acidic flavor of the tomato, olive and caper sauce.\r\n",
      "\r\n",
      "My favorite entrée, and an instant classic, was the Costilla de Res ($27). The melt-in-your-mouth beef short rib was not only braised, but received a second flavor enhancing method in a smoker. The generous serving of meaty richness was countered by a creamy potato puree and chile habanero and guava sauces.\r\n",
      "\r\n",
      "Desserts are surprisingly light yet still satisfyingly delicious. The Flan de Coco ($9) was perfectly luscious and silky. By contrast, the Churros ($9) had a delightful crunch with a sponge-like interior that absorbed the three different dipping sauces perfectly. La Hacienda also offers house-made ice cream ($8) that includes an avocado version that so good, you might ask for another scoop.\r\n",
      "\r\n",
      "After dessert, coffee is spectacular. The server wheeled out a cart and became not only a mixologist but a pyrotechnician. The columns of burning cinnamon are so beautiful and leave a wonderfully smoky cinnamon smell lingering. These chocolaty rich coffee libations might be a little over the top and full of liquor, but they really shouldn't be missed.\r\n",
      "\r\n",
      "If you have a little too much to drink at La Hacienda you are at one of Scottsdale's finest resorts. Perhaps you can book a night in one of their romantic rooms and make it a mini staycation.\r\n",
      "\r\n",
      "The team at La Hacienda has done a great job paying close attention to the past, but they've set in motion an evolution for a bright and tasty future.\n"
     ]
    }
   ],
   "source": [
    "sample_review = reviews_df.loc[86251, 'text']\n",
    "\n",
    "print(sample_review)"
   ]
  },
  {
   "cell_type": "markdown",
   "metadata": {},
   "source": [
    "Hand the review text to spaCy, and be prepared to wait..."
   ]
  },
  {
   "cell_type": "code",
   "execution_count": 9,
   "metadata": {},
   "outputs": [
    {
     "name": "stdout",
     "output_type": "stream",
     "text": [
      "CPU times: user 1.88 s, sys: 313 ms, total: 2.2 s\n",
      "Wall time: 509 ms\n"
     ]
    }
   ],
   "source": [
    "%%time\n",
    "parsed_review = nlp(sample_review)"
   ]
  },
  {
   "cell_type": "markdown",
   "metadata": {},
   "source": [
    "...1/5th of a second or so. Let's take a look at what we got during that time..."
   ]
  },
  {
   "cell_type": "code",
   "execution_count": 10,
   "metadata": {},
   "outputs": [
    {
     "name": "stdout",
     "output_type": "stream",
     "text": [
      "Back in the day, resorts and hotels were some of the best culinary destinations around. The Fairmont Scottsdale, formerly known as the Fairmont Scottsdale Princess, was one of those shining examples of upscale greatness with its Marquesa and La Hacienda restaurants. With new owners came new ideas, and both establishments were shuttered to make way for culinary concepts, including the fantastic Bourbon Steak by Chef Michael Mina. \r\n",
      "\r\n",
      "Now, with the help of chef Richard Sandoval, La Hacienda is re-opening with an updated look and menu.\r\n",
      "\r\n",
      "Sandoval grew up in Mexico City working with his restaurateur father. His upbringing helped to fuel a passion that led to multiple accolades and a reputation for innovative Latin cuisine. He opened his own restaurant in 1997 and over the years he's opened several more star-awarded restaurants.\r\n",
      "\r\n",
      "La Hacienda has always been known for great margaritas. The traditional La Hacienda ($10) is still the tops, but one of the new comers, the El Pina Diablo ($11) uses pineapple and serrano chile infused tequila and is refreshing and subtly spicy. \r\n",
      "\r\n",
      "In the bar, the daily happy hour runs from 5 to 7 p.m. and features $5 margaritas and snacks ranging from guacamole to tacos.\r\n",
      "\r\n",
      "The dinner menu has been designed to combine \"the bold taste of classic Mexican cuisine with timeless European cooking techniques.\" Starting at the top, you can't go wrong with crunchy Chips and Guacamole ($9.50). The appetizer was fresh and delicious, thanks in part to the tableside preparation of the guacamole. Diners can request their preferred level of spiciness while severs prepare the guacamole.\r\n",
      "\r\n",
      "The Queso Fundido ($9) is served in a searing hot cast iron skillet for good reason -- to keep that cheese molten. A winning combination of melted Oaxaca, Chihuahua and Monterrey cheeses, with chorizo or mushrooms atop, fills the soft house-made flour tortillas perfectly.\r\n",
      "\r\n",
      "Ceviche is one of those dishes that can be disastrous or outstanding, Sandoval and Hamrick served up the latter. The Ceviche Tasting ($10) offers two selections tender rock shrimp with avocado accented with chile habanero or mahi mahi, bathed in a citrus tomato broth, and hinted with just enough chile serrano for another layer of flavor. Both were outstanding, especially when tasted with the accompanied bowl of house-made corn nuts. It's a great texture!\r\n",
      "\r\n",
      "Ever heard of huitlacoche? Also known as corn smut, a type of fungus that grows on corn and is considered a delicacy in Mexico. Call it whatever you like, it's delicious earthen taste shouldn't be missed when eating the Tamal de Huitalcoche ($9). A tamal is the same as tamale, though in this case the masa has been infused with the complex flavors of the huitalcoche, filled with goat cheese and zucchini and drizzled with truffle oil. I felt like a Mayan king eating this.\r\n",
      "\r\n",
      "After trying the Chipotle BBQ Chicken Salad ($12), I felt confused. With so many original dishes, why bother with a salad like this? While the ingredients were top notch and it tasted fine, the ordinariness left me scratching my head. \r\n",
      "\r\n",
      "Making up for this was the Quesadilla ($9), which might sound typical, but after one bite that idea was dispelled. With various fillings, these crispy-on-the-outside, dreamy-on-the-inside quesadillas made for great dipping into the red and green salsas. Fantástico!\r\n",
      "\r\n",
      "Huachinango a la Veracruzana ($26) is a traditional Veracruz style red snapper dish. This gorgeous piece of fish gets a spin with the smoked bacon fufu. A mash of plantains had just enough sweet to balance out the acidic flavor of the tomato, olive and caper sauce.\r\n",
      "\r\n",
      "My favorite entrée, and an instant classic, was the Costilla de Res ($27). The melt-in-your-mouth beef short rib was not only braised, but received a second flavor enhancing method in a smoker. The generous serving of meaty richness was countered by a creamy potato puree and chile habanero and guava sauces.\r\n",
      "\r\n",
      "Desserts are surprisingly light yet still satisfyingly delicious. The Flan de Coco ($9) was perfectly luscious and silky. By contrast, the Churros ($9) had a delightful crunch with a sponge-like interior that absorbed the three different dipping sauces perfectly. La Hacienda also offers house-made ice cream ($8) that includes an avocado version that so good, you might ask for another scoop.\r\n",
      "\r\n",
      "After dessert, coffee is spectacular. The server wheeled out a cart and became not only a mixologist but a pyrotechnician. The columns of burning cinnamon are so beautiful and leave a wonderfully smoky cinnamon smell lingering. These chocolaty rich coffee libations might be a little over the top and full of liquor, but they really shouldn't be missed.\r\n",
      "\r\n",
      "If you have a little too much to drink at La Hacienda you are at one of Scottsdale's finest resorts. Perhaps you can book a night in one of their romantic rooms and make it a mini staycation.\r\n",
      "\r\n",
      "The team at La Hacienda has done a great job paying close attention to the past, but they've set in motion an evolution for a bright and tasty future.\n"
     ]
    }
   ],
   "source": [
    "print(parsed_review)"
   ]
  },
  {
   "cell_type": "markdown",
   "metadata": {},
   "source": [
    "Looks the same! But in that fraction of a second, spaCy has created a [`Doc`](https://spacy.io/api/doc) object for us:"
   ]
  },
  {
   "cell_type": "code",
   "execution_count": 11,
   "metadata": {},
   "outputs": [
    {
     "data": {
      "text/plain": [
       "spacy.tokens.doc.Doc"
      ]
     },
     "execution_count": 11,
     "metadata": {},
     "output_type": "execute_result"
    }
   ],
   "source": [
    "type(parsed_review)"
   ]
  },
  {
   "cell_type": "markdown",
   "metadata": {},
   "source": [
    "A `Doc` object is a sequence of [`Token`](https://spacy.io/api/token) objects. Print out the first token in the parsed review:"
   ]
  },
  {
   "cell_type": "code",
   "execution_count": 12,
   "metadata": {},
   "outputs": [
    {
     "data": {
      "text/plain": [
       "Back"
      ]
     },
     "execution_count": 12,
     "metadata": {},
     "output_type": "execute_result"
    }
   ],
   "source": [
    "parsed_review[0]"
   ]
  },
  {
   "cell_type": "code",
   "execution_count": 13,
   "metadata": {
    "scrolled": true
   },
   "outputs": [
    {
     "data": {
      "text/plain": [
       "spacy.tokens.token.Token"
      ]
     },
     "execution_count": 13,
     "metadata": {},
     "output_type": "execute_result"
    }
   ],
   "source": [
    "type(parsed_review[0])"
   ]
  },
  {
   "cell_type": "markdown",
   "metadata": {},
   "source": [
    "Print out the first 10 tokens in the parsed review."
   ]
  },
  {
   "cell_type": "code",
   "execution_count": 14,
   "metadata": {},
   "outputs": [
    {
     "data": {
      "text/plain": [
       "Back in the day, resorts and hotels were some"
      ]
     },
     "execution_count": 14,
     "metadata": {},
     "output_type": "execute_result"
    }
   ],
   "source": [
    "parsed_review[0:10]"
   ]
  },
  {
   "cell_type": "code",
   "execution_count": 15,
   "metadata": {},
   "outputs": [
    {
     "data": {
      "text/plain": [
       "[Back, in, the, day, ,, resorts, and, hotels, were, some]"
      ]
     },
     "execution_count": 15,
     "metadata": {},
     "output_type": "execute_result"
    }
   ],
   "source": [
    "list(parsed_review[0:10])"
   ]
  },
  {
   "cell_type": "markdown",
   "metadata": {},
   "source": [
    "Let's look at the length of the parsed review in tokens."
   ]
  },
  {
   "cell_type": "code",
   "execution_count": 16,
   "metadata": {},
   "outputs": [
    {
     "data": {
      "text/plain": [
       "1009"
      ]
     },
     "execution_count": 16,
     "metadata": {},
     "output_type": "execute_result"
    }
   ],
   "source": [
    "len(parsed_review)"
   ]
  },
  {
   "cell_type": "markdown",
   "metadata": {},
   "source": [
    "While creating a `Doc` object from text, spaCy handles many tasks commonly associated with building an end-to-end natural language processing pipeline, including:\n",
    "\n",
    "* Tokenization\n",
    "* Text normalization, such as lowercasing, stemming/lemmatization\n",
    "* Part-of-speech tagging\n",
    "* Syntactic dependency parsing\n",
    "* Sentence boundary detection\n",
    "* Named entity recognition and annotation\n",
    "* Making built-in word vectors available\n",
    "\n",
    "...among others."
   ]
  },
  {
   "cell_type": "markdown",
   "metadata": {},
   "source": [
    "For our purposes, we will primarily use spaCy for tokenization, lemmatization, and sentence segmentation."
   ]
  },
  {
   "cell_type": "markdown",
   "metadata": {},
   "source": [
    "Here's how lemmatization works with spaCy:"
   ]
  },
  {
   "cell_type": "code",
   "execution_count": 17,
   "metadata": {},
   "outputs": [
    {
     "data": {
      "text/html": [
       "<div>\n",
       "<style>\n",
       "    .dataframe thead tr:only-child th {\n",
       "        text-align: right;\n",
       "    }\n",
       "\n",
       "    .dataframe thead th {\n",
       "        text-align: left;\n",
       "    }\n",
       "\n",
       "    .dataframe tbody tr th {\n",
       "        vertical-align: top;\n",
       "    }\n",
       "</style>\n",
       "<table border=\"1\" class=\"dataframe\">\n",
       "  <thead>\n",
       "    <tr style=\"text-align: right;\">\n",
       "      <th></th>\n",
       "      <th>token_text</th>\n",
       "      <th>token_lemma</th>\n",
       "    </tr>\n",
       "  </thead>\n",
       "  <tbody>\n",
       "    <tr>\n",
       "      <th>0</th>\n",
       "      <td>Back</td>\n",
       "      <td>back</td>\n",
       "    </tr>\n",
       "    <tr>\n",
       "      <th>1</th>\n",
       "      <td>in</td>\n",
       "      <td>in</td>\n",
       "    </tr>\n",
       "    <tr>\n",
       "      <th>2</th>\n",
       "      <td>the</td>\n",
       "      <td>the</td>\n",
       "    </tr>\n",
       "    <tr>\n",
       "      <th>3</th>\n",
       "      <td>day</td>\n",
       "      <td>day</td>\n",
       "    </tr>\n",
       "    <tr>\n",
       "      <th>4</th>\n",
       "      <td>,</td>\n",
       "      <td>,</td>\n",
       "    </tr>\n",
       "    <tr>\n",
       "      <th>5</th>\n",
       "      <td>resorts</td>\n",
       "      <td>resort</td>\n",
       "    </tr>\n",
       "    <tr>\n",
       "      <th>6</th>\n",
       "      <td>and</td>\n",
       "      <td>and</td>\n",
       "    </tr>\n",
       "    <tr>\n",
       "      <th>7</th>\n",
       "      <td>hotels</td>\n",
       "      <td>hotel</td>\n",
       "    </tr>\n",
       "    <tr>\n",
       "      <th>8</th>\n",
       "      <td>were</td>\n",
       "      <td>be</td>\n",
       "    </tr>\n",
       "    <tr>\n",
       "      <th>9</th>\n",
       "      <td>some</td>\n",
       "      <td>some</td>\n",
       "    </tr>\n",
       "    <tr>\n",
       "      <th>10</th>\n",
       "      <td>of</td>\n",
       "      <td>of</td>\n",
       "    </tr>\n",
       "    <tr>\n",
       "      <th>11</th>\n",
       "      <td>the</td>\n",
       "      <td>the</td>\n",
       "    </tr>\n",
       "    <tr>\n",
       "      <th>12</th>\n",
       "      <td>best</td>\n",
       "      <td>good</td>\n",
       "    </tr>\n",
       "    <tr>\n",
       "      <th>13</th>\n",
       "      <td>culinary</td>\n",
       "      <td>culinary</td>\n",
       "    </tr>\n",
       "    <tr>\n",
       "      <th>14</th>\n",
       "      <td>destinations</td>\n",
       "      <td>destination</td>\n",
       "    </tr>\n",
       "    <tr>\n",
       "      <th>15</th>\n",
       "      <td>around</td>\n",
       "      <td>around</td>\n",
       "    </tr>\n",
       "    <tr>\n",
       "      <th>16</th>\n",
       "      <td>.</td>\n",
       "      <td>.</td>\n",
       "    </tr>\n",
       "    <tr>\n",
       "      <th>17</th>\n",
       "      <td>The</td>\n",
       "      <td>the</td>\n",
       "    </tr>\n",
       "    <tr>\n",
       "      <th>18</th>\n",
       "      <td>Fairmont</td>\n",
       "      <td>fairmont</td>\n",
       "    </tr>\n",
       "    <tr>\n",
       "      <th>19</th>\n",
       "      <td>Scottsdale</td>\n",
       "      <td>scottsdale</td>\n",
       "    </tr>\n",
       "    <tr>\n",
       "      <th>20</th>\n",
       "      <td>,</td>\n",
       "      <td>,</td>\n",
       "    </tr>\n",
       "    <tr>\n",
       "      <th>21</th>\n",
       "      <td>formerly</td>\n",
       "      <td>formerly</td>\n",
       "    </tr>\n",
       "    <tr>\n",
       "      <th>22</th>\n",
       "      <td>known</td>\n",
       "      <td>know</td>\n",
       "    </tr>\n",
       "    <tr>\n",
       "      <th>23</th>\n",
       "      <td>as</td>\n",
       "      <td>as</td>\n",
       "    </tr>\n",
       "    <tr>\n",
       "      <th>24</th>\n",
       "      <td>the</td>\n",
       "      <td>the</td>\n",
       "    </tr>\n",
       "    <tr>\n",
       "      <th>25</th>\n",
       "      <td>Fairmont</td>\n",
       "      <td>fairmont</td>\n",
       "    </tr>\n",
       "    <tr>\n",
       "      <th>26</th>\n",
       "      <td>Scottsdale</td>\n",
       "      <td>scottsdale</td>\n",
       "    </tr>\n",
       "    <tr>\n",
       "      <th>27</th>\n",
       "      <td>Princess</td>\n",
       "      <td>princess</td>\n",
       "    </tr>\n",
       "    <tr>\n",
       "      <th>28</th>\n",
       "      <td>,</td>\n",
       "      <td>,</td>\n",
       "    </tr>\n",
       "    <tr>\n",
       "      <th>29</th>\n",
       "      <td>was</td>\n",
       "      <td>be</td>\n",
       "    </tr>\n",
       "    <tr>\n",
       "      <th>...</th>\n",
       "      <td>...</td>\n",
       "      <td>...</td>\n",
       "    </tr>\n",
       "    <tr>\n",
       "      <th>979</th>\n",
       "      <td>at</td>\n",
       "      <td>at</td>\n",
       "    </tr>\n",
       "    <tr>\n",
       "      <th>980</th>\n",
       "      <td>La</td>\n",
       "      <td>la</td>\n",
       "    </tr>\n",
       "    <tr>\n",
       "      <th>981</th>\n",
       "      <td>Hacienda</td>\n",
       "      <td>hacienda</td>\n",
       "    </tr>\n",
       "    <tr>\n",
       "      <th>982</th>\n",
       "      <td>has</td>\n",
       "      <td>have</td>\n",
       "    </tr>\n",
       "    <tr>\n",
       "      <th>983</th>\n",
       "      <td>done</td>\n",
       "      <td>do</td>\n",
       "    </tr>\n",
       "    <tr>\n",
       "      <th>984</th>\n",
       "      <td>a</td>\n",
       "      <td>a</td>\n",
       "    </tr>\n",
       "    <tr>\n",
       "      <th>985</th>\n",
       "      <td>great</td>\n",
       "      <td>great</td>\n",
       "    </tr>\n",
       "    <tr>\n",
       "      <th>986</th>\n",
       "      <td>job</td>\n",
       "      <td>job</td>\n",
       "    </tr>\n",
       "    <tr>\n",
       "      <th>987</th>\n",
       "      <td>paying</td>\n",
       "      <td>pay</td>\n",
       "    </tr>\n",
       "    <tr>\n",
       "      <th>988</th>\n",
       "      <td>close</td>\n",
       "      <td>close</td>\n",
       "    </tr>\n",
       "    <tr>\n",
       "      <th>989</th>\n",
       "      <td>attention</td>\n",
       "      <td>attention</td>\n",
       "    </tr>\n",
       "    <tr>\n",
       "      <th>990</th>\n",
       "      <td>to</td>\n",
       "      <td>to</td>\n",
       "    </tr>\n",
       "    <tr>\n",
       "      <th>991</th>\n",
       "      <td>the</td>\n",
       "      <td>the</td>\n",
       "    </tr>\n",
       "    <tr>\n",
       "      <th>992</th>\n",
       "      <td>past</td>\n",
       "      <td>past</td>\n",
       "    </tr>\n",
       "    <tr>\n",
       "      <th>993</th>\n",
       "      <td>,</td>\n",
       "      <td>,</td>\n",
       "    </tr>\n",
       "    <tr>\n",
       "      <th>994</th>\n",
       "      <td>but</td>\n",
       "      <td>but</td>\n",
       "    </tr>\n",
       "    <tr>\n",
       "      <th>995</th>\n",
       "      <td>they</td>\n",
       "      <td>-PRON-</td>\n",
       "    </tr>\n",
       "    <tr>\n",
       "      <th>996</th>\n",
       "      <td>'ve</td>\n",
       "      <td>have</td>\n",
       "    </tr>\n",
       "    <tr>\n",
       "      <th>997</th>\n",
       "      <td>set</td>\n",
       "      <td>set</td>\n",
       "    </tr>\n",
       "    <tr>\n",
       "      <th>998</th>\n",
       "      <td>in</td>\n",
       "      <td>in</td>\n",
       "    </tr>\n",
       "    <tr>\n",
       "      <th>999</th>\n",
       "      <td>motion</td>\n",
       "      <td>motion</td>\n",
       "    </tr>\n",
       "    <tr>\n",
       "      <th>1000</th>\n",
       "      <td>an</td>\n",
       "      <td>an</td>\n",
       "    </tr>\n",
       "    <tr>\n",
       "      <th>1001</th>\n",
       "      <td>evolution</td>\n",
       "      <td>evolution</td>\n",
       "    </tr>\n",
       "    <tr>\n",
       "      <th>1002</th>\n",
       "      <td>for</td>\n",
       "      <td>for</td>\n",
       "    </tr>\n",
       "    <tr>\n",
       "      <th>1003</th>\n",
       "      <td>a</td>\n",
       "      <td>a</td>\n",
       "    </tr>\n",
       "    <tr>\n",
       "      <th>1004</th>\n",
       "      <td>bright</td>\n",
       "      <td>bright</td>\n",
       "    </tr>\n",
       "    <tr>\n",
       "      <th>1005</th>\n",
       "      <td>and</td>\n",
       "      <td>and</td>\n",
       "    </tr>\n",
       "    <tr>\n",
       "      <th>1006</th>\n",
       "      <td>tasty</td>\n",
       "      <td>tasty</td>\n",
       "    </tr>\n",
       "    <tr>\n",
       "      <th>1007</th>\n",
       "      <td>future</td>\n",
       "      <td>future</td>\n",
       "    </tr>\n",
       "    <tr>\n",
       "      <th>1008</th>\n",
       "      <td>.</td>\n",
       "      <td>.</td>\n",
       "    </tr>\n",
       "  </tbody>\n",
       "</table>\n",
       "<p>1009 rows × 2 columns</p>\n",
       "</div>"
      ],
      "text/plain": [
       "        token_text  token_lemma\n",
       "0             Back         back\n",
       "1               in           in\n",
       "2              the          the\n",
       "3              day          day\n",
       "4                ,            ,\n",
       "5          resorts       resort\n",
       "6              and          and\n",
       "7           hotels        hotel\n",
       "8             were           be\n",
       "9             some         some\n",
       "10              of           of\n",
       "11             the          the\n",
       "12            best         good\n",
       "13        culinary     culinary\n",
       "14    destinations  destination\n",
       "15          around       around\n",
       "16               .            .\n",
       "17             The          the\n",
       "18        Fairmont     fairmont\n",
       "19      Scottsdale   scottsdale\n",
       "20               ,            ,\n",
       "21        formerly     formerly\n",
       "22           known         know\n",
       "23              as           as\n",
       "24             the          the\n",
       "25        Fairmont     fairmont\n",
       "26      Scottsdale   scottsdale\n",
       "27        Princess     princess\n",
       "28               ,            ,\n",
       "29             was           be\n",
       "...            ...          ...\n",
       "979             at           at\n",
       "980             La           la\n",
       "981       Hacienda     hacienda\n",
       "982            has         have\n",
       "983           done           do\n",
       "984              a            a\n",
       "985          great        great\n",
       "986            job          job\n",
       "987         paying          pay\n",
       "988          close        close\n",
       "989      attention    attention\n",
       "990             to           to\n",
       "991            the          the\n",
       "992           past         past\n",
       "993              ,            ,\n",
       "994            but          but\n",
       "995           they       -PRON-\n",
       "996            've         have\n",
       "997            set          set\n",
       "998             in           in\n",
       "999         motion       motion\n",
       "1000            an           an\n",
       "1001     evolution    evolution\n",
       "1002           for          for\n",
       "1003             a            a\n",
       "1004        bright       bright\n",
       "1005           and          and\n",
       "1006         tasty        tasty\n",
       "1007        future       future\n",
       "1008             .            .\n",
       "\n",
       "[1009 rows x 2 columns]"
      ]
     },
     "execution_count": 17,
     "metadata": {},
     "output_type": "execute_result"
    }
   ],
   "source": [
    "token_text = [token.text for token in parsed_review]\n",
    "token_lemma = [token.lemma_ for token in parsed_review]\n",
    "\n",
    "pd.DataFrame(\n",
    "    list(zip(token_text, token_lemma)),\n",
    "    columns=['token_text', 'token_lemma']\n",
    "    )"
   ]
  },
  {
   "cell_type": "markdown",
   "metadata": {},
   "source": [
    "...and this is how you use sentence segmentation:"
   ]
  },
  {
   "cell_type": "code",
   "execution_count": 18,
   "metadata": {},
   "outputs": [
    {
     "name": "stdout",
     "output_type": "stream",
     "text": [
      "Sentence 1:\n",
      "Back in the day, resorts and hotels were some of the best culinary destinations around.\n",
      "\n",
      "Sentence 2:\n",
      "The Fairmont Scottsdale, formerly known as the Fairmont Scottsdale Princess, was one of those shining examples of upscale greatness with its Marquesa and La Hacienda restaurants.\n",
      "\n",
      "Sentence 3:\n",
      "With new owners came new ideas, and both establishments were shuttered to make way for culinary concepts, including the fantastic Bourbon Steak by Chef Michael Mina. \r\n",
      "\r\n",
      "\n",
      "\n",
      "Sentence 4:\n",
      "Now, with the help of chef Richard Sandoval, La Hacienda is re-opening with an updated look and menu.\r\n",
      "\r\n",
      "\n",
      "\n",
      "Sentence 5:\n",
      "Sandoval grew up in Mexico City working with his restaurateur father.\n",
      "\n",
      "Sentence 6:\n",
      "His upbringing helped to fuel a passion that led to multiple accolades and a reputation for innovative Latin cuisine.\n",
      "\n",
      "Sentence 7:\n",
      "He opened his own restaurant in 1997 and over the years he's opened several more star-awarded restaurants.\r\n",
      "\r\n",
      "\n",
      "\n",
      "Sentence 8:\n",
      "La Hacienda has always been known for great margaritas.\n",
      "\n",
      "Sentence 9:\n",
      "The traditional La Hacienda ($10) is still the tops, but one of the new comers, the El Pina Diablo ($11) uses pineapple and serrano chile infused tequila and is refreshing and subtly spicy. \r\n",
      "\r\n",
      "\n",
      "\n",
      "Sentence 10:\n",
      "In the bar, the daily happy hour runs from 5 to 7 p.m. and features $5 margaritas and snacks ranging from guacamole to tacos.\r\n",
      "\r\n",
      "\n",
      "\n",
      "Sentence 11:\n",
      "The dinner menu has been designed to combine \"the bold taste of classic Mexican cuisine with timeless European cooking techniques.\"\n",
      "\n",
      "Sentence 12:\n",
      "Starting at the top, you can't go wrong with crunchy Chips and Guacamole ($9.50).\n",
      "\n",
      "Sentence 13:\n",
      "The appetizer was fresh and delicious, thanks in part to the tableside preparation of the guacamole.\n",
      "\n",
      "Sentence 14:\n",
      "Diners can request their preferred level of spiciness while severs prepare the guacamole.\r\n",
      "\r\n",
      "\n",
      "\n",
      "Sentence 15:\n",
      "The Queso Fundido ($9) is served in a searing hot cast iron skillet for good reason -- to keep that cheese molten.\n",
      "\n",
      "Sentence 16:\n",
      "A winning combination of melted Oaxaca, Chihuahua and Monterrey cheeses, with chorizo or mushrooms atop, fills the soft house-made flour tortillas perfectly.\r\n",
      "\r\n",
      "\n",
      "\n",
      "Sentence 17:\n",
      "Ceviche is one of those dishes that can be disastrous or outstanding, Sandoval and Hamrick served up the latter.\n",
      "\n",
      "Sentence 18:\n",
      "The Ceviche Tasting ($10) offers two selections tender rock shrimp with avocado accented with chile habanero or mahi mahi, bathed in a citrus tomato broth, and hinted with just enough chile serrano for another layer of flavor.\n",
      "\n",
      "Sentence 19:\n",
      "Both were outstanding, especially when tasted with the accompanied bowl of house-made corn nuts.\n",
      "\n",
      "Sentence 20:\n",
      "It's a great texture!\r\n",
      "\r\n",
      "\n",
      "\n",
      "Sentence 21:\n",
      "Ever heard of huitlacoche?\n",
      "\n",
      "Sentence 22:\n",
      "Also known as corn smut, a type of fungus that grows on corn and is considered a delicacy in Mexico.\n",
      "\n",
      "Sentence 23:\n",
      "Call it whatever you like, it's delicious earthen taste shouldn't be missed when eating the Tamal de Huitalcoche ($9).\n",
      "\n",
      "Sentence 24:\n",
      "A tamal is the same as tamale, though in this case the masa has been infused with the complex flavors of the huitalcoche, filled with goat cheese and zucchini and drizzled with truffle oil.\n",
      "\n",
      "Sentence 25:\n",
      "I felt like a Mayan king eating this.\r\n",
      "\r\n",
      "\n",
      "\n",
      "Sentence 26:\n",
      "After trying the Chipotle BBQ Chicken Salad ($12), I felt confused.\n",
      "\n",
      "Sentence 27:\n",
      "With so many original dishes, why bother with a salad like this?\n",
      "\n",
      "Sentence 28:\n",
      "While the ingredients were top notch and it tasted fine, the ordinariness left me scratching my head. \r\n",
      "\r\n",
      "\n",
      "\n",
      "Sentence 29:\n",
      "Making up for this was the Quesadilla ($9), which might sound typical, but after one bite that idea was dispelled.\n",
      "\n",
      "Sentence 30:\n",
      "With various fillings, these crispy-on-the-outside, dreamy-on-the-inside quesadillas made for great dipping into the red and green salsas.\n",
      "\n",
      "Sentence 31:\n",
      "Fantástico!\r\n",
      "\r\n",
      "\n",
      "\n",
      "Sentence 32:\n",
      "Huachinango a la Veracruzana ($26) is a traditional Veracruz style red snapper dish.\n",
      "\n",
      "Sentence 33:\n",
      "This gorgeous piece of fish gets a spin with the smoked bacon fufu.\n",
      "\n",
      "Sentence 34:\n",
      "A mash of plantains had just enough sweet to balance out the acidic flavor of the tomato, olive and caper sauce.\r\n",
      "\r\n",
      "\n",
      "\n",
      "Sentence 35:\n",
      "My favorite entrée, and an instant classic, was the Costilla de Res ($27).\n",
      "\n",
      "Sentence 36:\n",
      "The melt-in-your-mouth beef short rib was not only braised, but received a second flavor enhancing method in a smoker.\n",
      "\n",
      "Sentence 37:\n",
      "The generous serving of meaty richness was countered by a creamy potato puree and chile habanero and guava sauces.\r\n",
      "\r\n",
      "\n",
      "\n",
      "Sentence 38:\n",
      "Desserts are surprisingly light yet still satisfyingly delicious.\n",
      "\n",
      "Sentence 39:\n",
      "The Flan de Coco ($9) was perfectly luscious and silky.\n",
      "\n",
      "Sentence 40:\n",
      "By contrast, the Churros ($9) had a delightful crunch with a sponge-like interior that absorbed the three different dipping sauces perfectly.\n",
      "\n",
      "Sentence 41:\n",
      "La Hacienda also offers house-made ice cream ($8) that includes an avocado version that so good, you might ask for another scoop.\r\n",
      "\r\n",
      "\n",
      "\n",
      "Sentence 42:\n",
      "After dessert, coffee is spectacular.\n",
      "\n",
      "Sentence 43:\n",
      "The server wheeled out a cart and became not only a mixologist but a pyrotechnician.\n",
      "\n",
      "Sentence 44:\n",
      "The columns of burning cinnamon are so beautiful and leave a wonderfully smoky cinnamon smell lingering.\n",
      "\n",
      "Sentence 45:\n",
      "These chocolaty rich coffee libations might be a little over the top and full of liquor, but they really shouldn't be missed.\r\n",
      "\r\n",
      "\n",
      "\n",
      "Sentence 46:\n",
      "If you have a little too much to drink at La Hacienda you are at one of Scottsdale's finest resorts.\n",
      "\n",
      "Sentence 47:\n",
      "Perhaps you can book a night in one of their romantic rooms and make it a mini staycation.\r\n",
      "\r\n",
      "\n",
      "\n",
      "Sentence 48:\n",
      "The team at La Hacienda has done a great job paying close attention to the past, but they've set in motion an evolution for a bright and tasty future.\n",
      "\n"
     ]
    }
   ],
   "source": [
    "for num, sentence in enumerate(parsed_review.sents):\n",
    "    print(f'Sentence {num+1}:')\n",
    "    print(sentence)\n",
    "    print('')"
   ]
  },
  {
   "cell_type": "markdown",
   "metadata": {},
   "source": [
    "If the text you'd like to process is general-purpose English language text (i.e., not domain-specific, like medical literature), spaCy is ready to use out-of-the-box.\n",
    "\n",
    "It has become a core part of the Python data science ecosystem &mdash; it is doing for natural language computing what other great libraries have done for numerical computing."
   ]
  },
  {
   "cell_type": "markdown",
   "metadata": {},
   "source": [
    "## Phrase Modeling"
   ]
  },
  {
   "cell_type": "markdown",
   "metadata": {},
   "source": [
    "_Phrase modeling_ is an approach to learning combinations of tokens that together represent meaningful multi-word concepts. We can develop phrase models by looping over the the words in our reviews and looking for words that _co-occur_ (i.e., appear one after another) together much more frequently than you would expect them to by random chance. The formula our phrase models will use to determine whether two tokens $A$ and $B$ constitute a phrase is:\n",
    "\n",
    "$$\\frac{count(A\\ B) - count_{min}}{count(A) * count(B)} * N > threshold$$\n",
    "\n",
    "...where:\n",
    "* $count(A)$ is the number of times token $A$ appears in the corpus\n",
    "* $count(B)$ is the number of times token $B$ appears in the corpus\n",
    "* $count(A\\ B)$ is the number of times the tokens $A\\ B$ appear in the corpus *in order*\n",
    "* $N$ is the total size of the corpus vocabulary\n",
    "* $count_{min}$ is a user-defined parameter to ensure that accepted phrases occur a minimum number of times\n",
    "* $threshold$ is a user-defined parameter to control how strong of a relationship between two tokens the model requires before accepting them as a phrase\n",
    "\n",
    "Once our phrase model has been trained on our corpus, we can apply it to new text. When our model encounters two tokens in new text that identifies as a phrase, it will merge the two into a single new token.\n",
    "\n",
    "Phrase modeling is superficially similar to named entity detection in that you would expect named entities to become phrases in the model (so _new york_ would become *new\\_york*). But you would also expect multi-word expressions that represent common concepts, but aren't specifically named entities (such as _happy hour_) to also become phrases in the model.\n",
    "\n",
    "We turn to the indispensible [**gensim**](https://radimrehurek.com/gensim/index.html) library to help us with phrase modeling &mdash; the [**Phrases**](https://radimrehurek.com/gensim/models/phrases.html) class in particular."
   ]
  },
  {
   "cell_type": "code",
   "execution_count": 19,
   "metadata": {
    "collapsed": true
   },
   "outputs": [],
   "source": [
    "from gensim.models.phrases import Phrases, Phraser"
   ]
  },
  {
   "cell_type": "markdown",
   "metadata": {},
   "source": [
    "As we're performing phrase modeling, we'll be doing some iterative data transformation at the same time. Our roadmap for data preparation includes:\n",
    "\n",
    "1. Segment text of complete reviews into sentences & normalize text\n",
    "1. First-order phrase modeling $\\rightarrow$ _apply first-order phrase model to transform sentences_\n",
    "1. Second-order phrase modeling $\\rightarrow$ _apply second-order phrase model to transform sentences_\n",
    "1. Apply text normalization and second-order phrase model to text of complete reviews\n",
    "\n",
    "We'll use this transformed data as the input for some higher-level modeling approaches in the following sections."
   ]
  },
  {
   "cell_type": "markdown",
   "metadata": {},
   "source": [
    "First, let's define a few helper functions that we'll use for text normalization. In particular, the `lemmatized_sentence_corpus` generator function will use spaCy to:\n",
    "\n",
    "- Iterate over the reviews in the `reviews_df` DataFrame\n",
    "- Segment the review text into individual sentences\n",
    "- Remove excess whitespace\n",
    "- Lemmatize the text\n",
    "\n",
    "... and do so efficiently in parallel, thanks to spaCy's `nlp.pipe()` function."
   ]
  },
  {
   "cell_type": "code",
   "execution_count": 20,
   "metadata": {
    "collapsed": true
   },
   "outputs": [],
   "source": [
    "from multiprocessing import cpu_count\n",
    "\n",
    "CPU_COUNT = cpu_count()"
   ]
  },
  {
   "cell_type": "markdown",
   "metadata": {},
   "source": [
    "Let's use the `lemmatized_sentence_corpus` generator (defined below) to loop over the original review text, segmenting the reviews into individual sentences and normalizing the text. We'll write this data back out to a new file (`unigram_sentences`), with one normalized sentence per line. We'll use this data for learning our phrase models."
   ]
  },
  {
   "cell_type": "code",
   "execution_count": 21,
   "metadata": {
    "collapsed": true
   },
   "outputs": [],
   "source": [
    "def custom_lemmatize(token):\n",
    "    \n",
    "    if token.lemma_ == '-PRON-':\n",
    "        # For pronouns (I, she, his, etc.), just lowercase them\n",
    "        # spaCy's lemmatizer would return -PRON- for all pronouns\n",
    "        return token.lower_\n",
    "    \n",
    "    else:\n",
    "        return token.lemma_        \n",
    "\n",
    "\n",
    "def lemmatized_sentence_corpus(texts):\n",
    "    \"\"\"\n",
    "    generator function to use spaCy to parse reviews,\n",
    "    lemmatize the text, and yield sentences\n",
    "    \"\"\"\n",
    "    \n",
    "    for parsed_review in nlp.pipe(texts, batch_size=10000, n_threads=CPU_COUNT):\n",
    "        \n",
    "        for sent in parsed_review.sents:\n",
    "            yield ' '.join([\n",
    "                custom_lemmatize(token) for token in sent\n",
    "                if not token.is_space\n",
    "                ])"
   ]
  },
  {
   "cell_type": "markdown",
   "metadata": {},
   "source": [
    "Let's use the `lemmatized_sentence_corpus` generator to loop over the original review text, segmenting the reviews into individual sentences and normalizing the text. We'll write this data back out to a new file (`unigram_sentences`), with one normalized sentence per line. We'll use this data for learning our phrase models."
   ]
  },
  {
   "cell_type": "code",
   "execution_count": 22,
   "metadata": {
    "collapsed": true
   },
   "outputs": [],
   "source": [
    "unigram_sentences_filepath = 'unigram_sentences.txt'"
   ]
  },
  {
   "cell_type": "markdown",
   "metadata": {},
   "source": [
    "For certain code cells in this notebook, there is a significant amount of data and computational heavy lifting involved. The code in these cells will take quite a while to complete, so we have pre-executed these steps and saved their results to disk. You'll see this pattern throughout the notebook:\n",
    "\n",
    "```\n",
    "execute = False\n",
    "\n",
    "if execute:\n",
    "\n",
    "    <some long-running computationally intense step>\n",
    "    \n",
    "    <save results from long-running step to disk>\n",
    "```\n",
    "\n",
    "You can see how long each cell originally took by looking at `Wall time` in the cell output. Instead of having to re-run all the computation, we can simply load the saved results from disk.\n",
    "\n",
    "If you'd like to run the computational heavy-lifting steps yourself, you can set `execute` to `True`, but that's not necessary to follow the notebook."
   ]
  },
  {
   "cell_type": "code",
   "execution_count": 23,
   "metadata": {},
   "outputs": [
    {
     "name": "stdout",
     "output_type": "stream",
     "text": [
      "CPU times: user 0 ns, sys: 0 ns, total: 0 ns\n",
      "Wall time: 8.82 µs\n"
     ]
    }
   ],
   "source": [
    "%%time\n",
    "\n",
    "# this is a bit time consuming\n",
    "# set execute to True if you\n",
    "# want to execute data prep yourself.\n",
    "execute = False\n",
    "\n",
    "if execute:\n",
    "\n",
    "    with open(unigram_sentences_filepath, 'w') as f:\n",
    "        for sentence in lemmatized_sentence_corpus(reviews_df['text']):\n",
    "            f.write(sentence + '\\n')"
   ]
  },
  {
   "cell_type": "markdown",
   "metadata": {},
   "source": [
    "```CPU times: user 9h 24min 13s, sys: 37min 46s, total: 10h 1min 59s\n",
    "Wall time: 1h 27min 36s```"
   ]
  },
  {
   "cell_type": "markdown",
   "metadata": {},
   "source": [
    "If your data is organized like our `unigram_sentences` file now is &mdash; a large text file with one document/sentence per line &mdash; gensim's [**LineSentence**](https://radimrehurek.com/gensim/models/word2vec.html#gensim.models.word2vec.LineSentence) class provides a convenient iterator for working with other gensim components. It *streams* the documents/sentences from disk, so that you never have to hold the entire corpus in RAM at once. This allows you to scale your modeling pipeline up to potentially very large corpora."
   ]
  },
  {
   "cell_type": "code",
   "execution_count": 24,
   "metadata": {
    "collapsed": true
   },
   "outputs": [],
   "source": [
    "from gensim.models.word2vec import LineSentence\n",
    "\n",
    "unigram_sentences = LineSentence(unigram_sentences_filepath)"
   ]
  },
  {
   "cell_type": "markdown",
   "metadata": {},
   "source": [
    "Let's take a look at a few sample sentences in our new, transformed file."
   ]
  },
  {
   "cell_type": "code",
   "execution_count": 25,
   "metadata": {},
   "outputs": [
    {
     "name": "stdout",
     "output_type": "stream",
     "text": [
      "i have snickerdoodle with cookie and cream ice cream .\n",
      "\n",
      "it be marvelous .\n",
      "\n",
      "wonderful vietnamese sandwich shoppe .\n",
      "\n",
      "their baguette be great hot out of the oven with butter or in one of their many sandwich choice .\n",
      "\n",
      "they have a modest selection of bake good along with some of the good egg roll around .\n",
      "\n",
      "br cash or your atm card as no credit card be accept but they have an atm on premise .\n",
      "\n",
      "they have a limited time thing go on right now with bbq chicken pizza ( not sure how long it be go to last ) but let me just say it be amazing .\n",
      "\n",
      "probably the good bbq chicken pizza i have ever have .\n",
      "\n",
      "i have try other thing too , like the tomato basil soup , and many of their sandwich ... very good , very fresh - every time .\n",
      "\n",
      "the 5 star be for the pizza , but if i be to rate jason 's deli over all they would get about a 4 .\n",
      "\n"
     ]
    }
   ],
   "source": [
    "from itertools import islice\n",
    "\n",
    "start, end = 121, 131\n",
    "\n",
    "for unigram_sentence in islice(unigram_sentences, start, end):\n",
    "    print(' '.join(unigram_sentence))\n",
    "    print('')"
   ]
  },
  {
   "cell_type": "markdown",
   "metadata": {},
   "source": [
    "Next, we'll learn a phrase model that will link individual words into two-word phrases. We'd expect words that together represent a specific concept, like \"`credit card`\", to be linked together to form a new, single token: \"`credit_card`\"."
   ]
  },
  {
   "cell_type": "code",
   "execution_count": 26,
   "metadata": {
    "collapsed": true
   },
   "outputs": [],
   "source": [
    "bigram_model_filepath = 'bigram_model'"
   ]
  },
  {
   "cell_type": "code",
   "execution_count": 27,
   "metadata": {},
   "outputs": [
    {
     "name": "stdout",
     "output_type": "stream",
     "text": [
      "CPU times: user 3 µs, sys: 1e+03 ns, total: 4 µs\n",
      "Wall time: 7.87 µs\n"
     ]
    }
   ],
   "source": [
    "%%time\n",
    "\n",
    "# this is a bit time consuming\n",
    "# set execute to True if you\n",
    "# want to execute data prep yourself.\n",
    "execute = False\n",
    "\n",
    "if execute:\n",
    "\n",
    "    bigram_model = Phrases(unigram_sentences)\n",
    "\n",
    "    bigram_model.save(bigram_model_filepath)"
   ]
  },
  {
   "cell_type": "markdown",
   "metadata": {},
   "source": [
    "```CPU times: user 2min 5s, sys: 924 ms, total: 2min 5s\n",
    "Wall time: 2min 5s```"
   ]
  },
  {
   "cell_type": "code",
   "execution_count": 28,
   "metadata": {
    "collapsed": true
   },
   "outputs": [],
   "source": [
    "# load the finished model from disk\n",
    "bigram_model = Phrases.load(bigram_model_filepath)\n",
    "bigram_model = Phraser(bigram_model)"
   ]
  },
  {
   "cell_type": "markdown",
   "metadata": {},
   "source": [
    "Now that we have a trained phrase model for word pairs, let's apply it to the review sentences data, and write a new file out to disk."
   ]
  },
  {
   "cell_type": "code",
   "execution_count": 29,
   "metadata": {
    "collapsed": true
   },
   "outputs": [],
   "source": [
    "bigram_sentences_filepath = 'bigram_sentences.txt'"
   ]
  },
  {
   "cell_type": "code",
   "execution_count": 30,
   "metadata": {},
   "outputs": [
    {
     "name": "stdout",
     "output_type": "stream",
     "text": [
      "CPU times: user 0 ns, sys: 0 ns, total: 0 ns\n",
      "Wall time: 8.34 µs\n"
     ]
    }
   ],
   "source": [
    "%%time\n",
    "\n",
    "# this is a bit time consuming\n",
    "# set execute to True if you\n",
    "# want to execute data prep yourself.\n",
    "execute = False\n",
    "\n",
    "if execute:\n",
    "\n",
    "    with open(bigram_sentences_filepath, 'w') as f:\n",
    "        \n",
    "        for unigram_sentence in unigram_sentences:\n",
    "            \n",
    "            bigram_sentence = ' '.join(bigram_model[unigram_sentence])\n",
    "            \n",
    "            f.write(bigram_sentence + '\\n')"
   ]
  },
  {
   "cell_type": "markdown",
   "metadata": {},
   "source": [
    "```CPU times: user 2min 31s, sys: 281 ms, total: 2min 32s\n",
    "Wall time: 2min 32s```"
   ]
  },
  {
   "cell_type": "markdown",
   "metadata": {},
   "source": [
    "Let's explore the same sample sentences after they've been transformed by the phrase model. "
   ]
  },
  {
   "cell_type": "code",
   "execution_count": 31,
   "metadata": {
    "collapsed": true
   },
   "outputs": [],
   "source": [
    "bigram_sentences = LineSentence(bigram_sentences_filepath)"
   ]
  },
  {
   "cell_type": "code",
   "execution_count": 32,
   "metadata": {},
   "outputs": [
    {
     "name": "stdout",
     "output_type": "stream",
     "text": [
      "i have snickerdoodle with cookie and cream ice_cream .\n",
      "\n",
      "it be marvelous .\n",
      "\n",
      "wonderful vietnamese sandwich shoppe .\n",
      "\n",
      "their baguette be great hot out of the oven with butter or in one of their many sandwich choice .\n",
      "\n",
      "they have a modest selection of bake good along with some of the good egg_roll around .\n",
      "\n",
      "br_cash or your atm card as no credit_card be accept but they have an_atm on premise .\n",
      "\n",
      "they have a limited time thing go on right now with bbq chicken pizza ( not sure how long it be go to last ) but let me just say it be amazing .\n",
      "\n",
      "probably the good bbq chicken pizza i have ever have .\n",
      "\n",
      "i have try other thing too , like the tomato_basil soup , and many of their sandwich ... very good , very fresh - every time .\n",
      "\n",
      "the 5_star be for the pizza , but if i be to rate jason 's deli over all they would get about a 4 .\n",
      "\n"
     ]
    }
   ],
   "source": [
    "for bigram_sentence in islice(bigram_sentences, start, end):\n",
    "    print(' '.join(bigram_sentence))\n",
    "    print('')"
   ]
  },
  {
   "cell_type": "markdown",
   "metadata": {},
   "source": [
    "Looks like the phrase modeling worked! We now see two-word phrases, such as \"`credit_card`\" and \"`ice_cream`\", linked together in the text as a single token. Next, we'll train a _second-order_ phrase model. We'll apply the second-order phrase model on top of the already-transformed data, so that incomplete word combinations like \"`tomato_basil soup`\" will become fully joined to \"`tomato_basil_soup`\"."
   ]
  },
  {
   "cell_type": "code",
   "execution_count": 33,
   "metadata": {
    "collapsed": true
   },
   "outputs": [],
   "source": [
    "trigram_model_filepath = 'trigram_model'"
   ]
  },
  {
   "cell_type": "code",
   "execution_count": 34,
   "metadata": {},
   "outputs": [
    {
     "name": "stdout",
     "output_type": "stream",
     "text": [
      "CPU times: user 4 µs, sys: 0 ns, total: 4 µs\n",
      "Wall time: 7.87 µs\n"
     ]
    }
   ],
   "source": [
    "%%time\n",
    "\n",
    "# this is a bit time consuming\n",
    "# set execute to True if you\n",
    "# want to execute data prep yourself.\n",
    "execute = False\n",
    "\n",
    "if execute:\n",
    "\n",
    "    trigram_model = Phrases(bigram_sentences)\n",
    "\n",
    "    trigram_model.save(trigram_model_filepath)"
   ]
  },
  {
   "cell_type": "markdown",
   "metadata": {},
   "source": [
    "```CPU times: user 2min 14s, sys: 973 ms, total: 2min 15s\n",
    "Wall time: 2min 15s```"
   ]
  },
  {
   "cell_type": "code",
   "execution_count": 35,
   "metadata": {
    "collapsed": true
   },
   "outputs": [],
   "source": [
    "# load the finished model from disk\n",
    "trigram_model = Phrases.load(trigram_model_filepath)\n",
    "trigram_model = Phraser(trigram_model)"
   ]
  },
  {
   "cell_type": "markdown",
   "metadata": {},
   "source": [
    "We'll apply our trained second-order phrase model to our first-order transformed sentences, write the results out to a new file, and explore a few of the second-order transformed sentences."
   ]
  },
  {
   "cell_type": "code",
   "execution_count": 36,
   "metadata": {
    "collapsed": true
   },
   "outputs": [],
   "source": [
    "trigram_sentences_filepath = 'trigram_sentences.txt'"
   ]
  },
  {
   "cell_type": "code",
   "execution_count": 37,
   "metadata": {},
   "outputs": [
    {
     "name": "stdout",
     "output_type": "stream",
     "text": [
      "CPU times: user 6 µs, sys: 1 µs, total: 7 µs\n",
      "Wall time: 9.78 µs\n"
     ]
    }
   ],
   "source": [
    "%%time\n",
    "\n",
    "# this is a bit time consuming\n",
    "# set execute to True if you\n",
    "# want to execute data prep yourself.\n",
    "execute = False\n",
    "\n",
    "if execute:\n",
    "\n",
    "    with open(trigram_sentences_filepath, 'w') as f:\n",
    "        \n",
    "        for bigram_sentence in bigram_sentences:\n",
    "            \n",
    "            trigram_sentence = ' '.join(trigram_model[bigram_sentence])\n",
    "            \n",
    "            f.write(trigram_sentence + '\\n')"
   ]
  },
  {
   "cell_type": "markdown",
   "metadata": {},
   "source": [
    "```CPU times: user 2min 30s, sys: 376 ms, total: 2min 31s\n",
    "Wall time: 2min 31s```"
   ]
  },
  {
   "cell_type": "code",
   "execution_count": 38,
   "metadata": {
    "collapsed": true
   },
   "outputs": [],
   "source": [
    "trigram_sentences = LineSentence(trigram_sentences_filepath)"
   ]
  },
  {
   "cell_type": "code",
   "execution_count": 39,
   "metadata": {},
   "outputs": [
    {
     "name": "stdout",
     "output_type": "stream",
     "text": [
      "i have snickerdoodle with cookie and cream ice_cream .\n",
      "\n",
      "it be marvelous .\n",
      "\n",
      "wonderful vietnamese sandwich shoppe .\n",
      "\n",
      "their baguette be great hot out of the oven with butter or in one of their many sandwich choice .\n",
      "\n",
      "they have a modest selection of bake good along with some of the good egg_roll around .\n",
      "\n",
      "br_cash or your atm_card as no credit_card be accept but they have an_atm on premise .\n",
      "\n",
      "they have a limited time thing go on right now with bbq chicken pizza ( not sure how long it be go to last ) but let me just say it be amazing .\n",
      "\n",
      "probably the good bbq chicken pizza i have ever have .\n",
      "\n",
      "i have try other thing too , like the tomato_basil_soup , and many of their sandwich ... very good , very fresh - every time .\n",
      "\n",
      "the 5_star be for the pizza , but if i be to rate jason_'s deli over all they would get about a 4 .\n",
      "\n"
     ]
    }
   ],
   "source": [
    "for trigram_sentence in islice(trigram_sentences, start, end):\n",
    "    print(' '.join(trigram_sentence))\n",
    "    print('')"
   ]
  },
  {
   "cell_type": "markdown",
   "metadata": {},
   "source": [
    "Looks like the second-order phrase model was successful. We're now seeing three-word phrases, such as \"`tomato_basil_soup`\"."
   ]
  },
  {
   "cell_type": "markdown",
   "metadata": {},
   "source": [
    "The final step of our text preparation process circles back to the complete text of the reviews. We're going to run the complete text of the reviews through a pipeline that applies our text normalization and phrase models.\n",
    "\n",
    "We'll write the transformed text out to a new file, with one review per line. We'll use this pre-processed review text later as the input to a neural network model to predict useful votes."
   ]
  },
  {
   "cell_type": "code",
   "execution_count": 40,
   "metadata": {
    "collapsed": true
   },
   "outputs": [],
   "source": [
    "transformed_reviews_filepath = 'transformed_reviews.txt'"
   ]
  },
  {
   "cell_type": "code",
   "execution_count": 41,
   "metadata": {},
   "outputs": [
    {
     "name": "stdout",
     "output_type": "stream",
     "text": [
      "CPU times: user 0 ns, sys: 0 ns, total: 0 ns\n",
      "Wall time: 10.3 µs\n"
     ]
    }
   ],
   "source": [
    "%%time\n",
    "\n",
    "# this is a bit time consuming - make the if statement True\n",
    "# if you want to execute data prep yourself.\n",
    "\n",
    "execute = False\n",
    "\n",
    "if execute:\n",
    "\n",
    "    with open(transformed_reviews_filepath, 'w') as f:\n",
    "        \n",
    "        pipe = nlp.pipe(reviews_df['text'], batch_size=10000, n_threads=CPU_COUNT)\n",
    "        \n",
    "        for parsed_review in pipe:\n",
    "            \n",
    "            # lemmatize the text, removing punctuation and whitespace\n",
    "            unigram_review = [\n",
    "                custom_lemmatize(token) for token in parsed_review\n",
    "                if not token.is_space\n",
    "                ]\n",
    "            \n",
    "            # apply the first-order and second-order phrase models\n",
    "            bigram_review = bigram_model[unigram_review]\n",
    "            trigram_review = trigram_model[bigram_review]\n",
    "                        \n",
    "            # write the transformed review as a line in the new file\n",
    "            trigram_review = ' '.join(trigram_review)\n",
    "            \n",
    "            f.write(trigram_review + '\\n')"
   ]
  },
  {
   "cell_type": "markdown",
   "metadata": {},
   "source": [
    "```CPU times: user 9h 19min 37s, sys: 37min 10s, total: 9h 56min 48s\n",
    "Wall time: 1h 30min 8s```"
   ]
  },
  {
   "cell_type": "markdown",
   "metadata": {},
   "source": [
    "## Word Vector Embedding with Word2Vec"
   ]
  },
  {
   "cell_type": "markdown",
   "metadata": {},
   "source": [
    "Pop quiz! Can you complete this text snippet?\n",
    "\n",
    "<br><br>"
   ]
  },
  {
   "cell_type": "markdown",
   "metadata": {},
   "source": [
    "![word2vec quiz](https://s3.amazonaws.com/skipgram-images/word2vec-1.png)"
   ]
  },
  {
   "cell_type": "markdown",
   "metadata": {},
   "source": [
    "<br><br><br>\n",
    "You just demonstrated the core machine learning concept behind word vector embedding models!\n",
    "<br><br><br>"
   ]
  },
  {
   "cell_type": "markdown",
   "metadata": {},
   "source": [
    "![word2vec quiz 2](https://s3.amazonaws.com/skipgram-images/word2vec-2.png)"
   ]
  },
  {
   "cell_type": "markdown",
   "metadata": {},
   "source": [
    "The goal of *word vector embedding models*, or *word vector models* for short, is to learn dense, numerical vector representations for each term in a corpus vocabulary. If the model is successful, the vectors it learns about each term should encode some information about the *meaning* or *concept* the term represents, and the relationship between it and other terms in the vocabulary. Word vector models are also fully unsupervised &mdash; they learn all of these meanings and relationships solely by analyzing the text of the corpus, without any advance knowledge provided.\n",
    "\n",
    "Perhaps the best-known word vector model is [word2vec](https://arxiv.org/pdf/1301.3781v3.pdf), originally proposed in 2013. The general idea of word2vec is, for a given *focus word*, to use the *context* of the word &mdash; i.e., the other words immediately before and after it &mdash; to provide hints about what the focus word might mean. To do this, word2vec uses a *sliding window* technique, where it considers snippets of text only a few tokens long at a time.\n",
    "\n",
    "At the start of the learning process, the model initializes random vectors for all terms in the corpus vocabulary. The model then slides the window across every snippet of text in the corpus, with each word taking turns as the focus word. Each time the model considers a new snippet, it tries to learn some information about the focus word based on the surrouding context, and it \"nudges\" the words' vector representations accordingly. One complete pass sliding the window across all of the corpus text is known as a training *epoch*. It's common to train a word2vec model for multiple passes/epochs over the corpus. Over time, the model rearranges the terms' vector representations such that terms that frequently appear in similar contexts have vector representations that are *close* to each other in vector space."
   ]
  },
  {
   "cell_type": "markdown",
   "metadata": {},
   "source": [
    "Under the hood, the word2vec model we're training is really a small neural network with one hidden layer. It looks something like this:"
   ]
  },
  {
   "cell_type": "markdown",
   "metadata": {},
   "source": [
    "<img src=\"https://dlwt-images.s3.amazonaws.com/1_2_full_skipgram.png?0\" height=\"75%\" width=\"75%\" style=\"display: block; margin-left: auto; margin-right: auto; padding: 20px\">"
   ]
  },
  {
   "cell_type": "markdown",
   "metadata": {},
   "source": [
    "The word vectors the model learns are the weight matrix for the neurons in the hidden layer. If we pulled out the weight matrix and inspected it, it would looks something like this:"
   ]
  },
  {
   "cell_type": "markdown",
   "metadata": {},
   "source": [
    "<img src=\"https://dlwt-images.s3.amazonaws.com/1_2_W%28h%29.png\" height=\"80%\" width=\"80%\" style=\"display: block; margin-left: auto; margin-right: auto; padding: 20px\">"
   ]
  },
  {
   "cell_type": "markdown",
   "metadata": {},
   "source": [
    "For a deeper dive into word2vec's machine learning process, see [here](https://arxiv.org/pdf/1411.2738v4.pdf).\n",
    "\n",
    "Word2vec has a number of user-defined hyperparameters, including:\n",
    "- The dimensionality of the vectors. Typical choices include a few dozen to several hundred.\n",
    "- The width of the sliding window, in tokens. Five is a common default choice, but narrower and wider windows are possible.\n",
    "- The number of training epochs.\n",
    "\n",
    "For using word2vec in Python, [gensim](https://rare-technologies.com/deep-learning-with-word2vec-and-gensim/) comes to the rescue again! It offers a [highly-optimized](https://rare-technologies.com/word2vec-in-python-part-two-optimizing/), [parallelized](https://rare-technologies.com/parallelizing-word2vec-in-python/) implementation of the word2vec algorithm with its [Word2Vec](https://radimrehurek.com/gensim/models/word2vec.html) class."
   ]
  },
  {
   "cell_type": "code",
   "execution_count": 42,
   "metadata": {
    "collapsed": true
   },
   "outputs": [],
   "source": [
    "from gensim.models import Word2Vec\n",
    "\n",
    "trigram_sentences = LineSentence(trigram_sentences_filepath)\n",
    "word2vec_filepath = 'word2vec_model'"
   ]
  },
  {
   "cell_type": "markdown",
   "metadata": {},
   "source": [
    "We'll train our word2vec model using the normalized sentences with our phrase models applied. We'll use 100-dimensional vectors, and set up our training process to run for twelve epochs."
   ]
  },
  {
   "cell_type": "code",
   "execution_count": 43,
   "metadata": {},
   "outputs": [
    {
     "name": "stdout",
     "output_type": "stream",
     "text": [
      "CPU times: user 4 µs, sys: 1 µs, total: 5 µs\n",
      "Wall time: 8.34 µs\n"
     ]
    }
   ],
   "source": [
    "%%time\n",
    "\n",
    "# this is a bit time consuming\n",
    "# set execute to True if you\n",
    "# want to execute data prep yourself.\n",
    "execute = False\n",
    "\n",
    "if execute:\n",
    "\n",
    "    # initiate the model and perform the first epoch of training\n",
    "    word2vec = Word2Vec(\n",
    "        trigram_sentences,\n",
    "        size=100,\n",
    "        window=5,\n",
    "        min_count=20,\n",
    "        sg=1,\n",
    "        workers=CPU_COUNT-1\n",
    "        )\n",
    "    \n",
    "    word2vec.save(word2vec_filepath)\n",
    "\n",
    "    # perform another 11 epochs of training\n",
    "    for i in range(1,12):\n",
    "\n",
    "        word2vec.train(\n",
    "            trigram_sentences,\n",
    "            total_examples=word2vec.corpus_count,\n",
    "            epochs=1\n",
    "            )\n",
    "        \n",
    "        word2vec.save(word2vec_filepath)"
   ]
  },
  {
   "cell_type": "markdown",
   "metadata": {},
   "source": [
    "```CPU times: user 57min 15s, sys: 10.4 s, total: 57min 25s\n",
    "Wall time: 9min 52s```"
   ]
  },
  {
   "cell_type": "code",
   "execution_count": 44,
   "metadata": {
    "collapsed": true
   },
   "outputs": [],
   "source": [
    "# load the finished model from disk\n",
    "word2vec = Word2Vec.load(word2vec_filepath)\n",
    "word2vec.init_sims()"
   ]
  },
  {
   "cell_type": "code",
   "execution_count": 45,
   "metadata": {},
   "outputs": [
    {
     "name": "stdout",
     "output_type": "stream",
     "text": [
      "12 training epochs so far.\n",
      "23,940 terms in the word2vec vocabulary.\n"
     ]
    }
   ],
   "source": [
    "print(f'{word2vec.train_count} training epochs so far.')\n",
    "print(f'{len(word2vec.wv.vocab):,} terms in the word2vec vocabulary.')"
   ]
  },
  {
   "cell_type": "markdown",
   "metadata": {},
   "source": [
    "Let's take a peek at the word vectors our model has learned. We'll create a pandas DataFrame with the terms as the row labels, and the 100 dimensions of the word vector model as the columns."
   ]
  },
  {
   "cell_type": "code",
   "execution_count": 46,
   "metadata": {},
   "outputs": [
    {
     "data": {
      "text/html": [
       "<div>\n",
       "<style>\n",
       "    .dataframe thead tr:only-child th {\n",
       "        text-align: right;\n",
       "    }\n",
       "\n",
       "    .dataframe thead th {\n",
       "        text-align: left;\n",
       "    }\n",
       "\n",
       "    .dataframe tbody tr th {\n",
       "        vertical-align: top;\n",
       "    }\n",
       "</style>\n",
       "<table border=\"1\" class=\"dataframe\">\n",
       "  <thead>\n",
       "    <tr style=\"text-align: right;\">\n",
       "      <th></th>\n",
       "      <th>0</th>\n",
       "      <th>1</th>\n",
       "      <th>2</th>\n",
       "      <th>3</th>\n",
       "      <th>4</th>\n",
       "      <th>5</th>\n",
       "      <th>6</th>\n",
       "      <th>7</th>\n",
       "      <th>8</th>\n",
       "      <th>9</th>\n",
       "      <th>...</th>\n",
       "      <th>90</th>\n",
       "      <th>91</th>\n",
       "      <th>92</th>\n",
       "      <th>93</th>\n",
       "      <th>94</th>\n",
       "      <th>95</th>\n",
       "      <th>96</th>\n",
       "      <th>97</th>\n",
       "      <th>98</th>\n",
       "      <th>99</th>\n",
       "    </tr>\n",
       "  </thead>\n",
       "  <tbody>\n",
       "    <tr>\n",
       "      <th>.</th>\n",
       "      <td>-0.254288</td>\n",
       "      <td>-0.008166</td>\n",
       "      <td>0.096933</td>\n",
       "      <td>0.120253</td>\n",
       "      <td>0.203089</td>\n",
       "      <td>0.109891</td>\n",
       "      <td>0.088139</td>\n",
       "      <td>-0.015824</td>\n",
       "      <td>-0.048591</td>\n",
       "      <td>0.144771</td>\n",
       "      <td>...</td>\n",
       "      <td>0.027867</td>\n",
       "      <td>-0.092910</td>\n",
       "      <td>0.063256</td>\n",
       "      <td>-0.030933</td>\n",
       "      <td>-0.052652</td>\n",
       "      <td>0.007322</td>\n",
       "      <td>-0.079695</td>\n",
       "      <td>0.090100</td>\n",
       "      <td>0.084017</td>\n",
       "      <td>0.076051</td>\n",
       "    </tr>\n",
       "    <tr>\n",
       "      <th>be</th>\n",
       "      <td>-0.169987</td>\n",
       "      <td>-0.037755</td>\n",
       "      <td>0.031239</td>\n",
       "      <td>0.086343</td>\n",
       "      <td>-0.041922</td>\n",
       "      <td>-0.004628</td>\n",
       "      <td>0.190583</td>\n",
       "      <td>0.079585</td>\n",
       "      <td>0.024429</td>\n",
       "      <td>0.043859</td>\n",
       "      <td>...</td>\n",
       "      <td>-0.299139</td>\n",
       "      <td>0.029100</td>\n",
       "      <td>0.102870</td>\n",
       "      <td>-0.106142</td>\n",
       "      <td>-0.061285</td>\n",
       "      <td>-0.032494</td>\n",
       "      <td>0.003788</td>\n",
       "      <td>0.081990</td>\n",
       "      <td>-0.135785</td>\n",
       "      <td>-0.035845</td>\n",
       "    </tr>\n",
       "    <tr>\n",
       "      <th>the</th>\n",
       "      <td>-0.224838</td>\n",
       "      <td>-0.031757</td>\n",
       "      <td>0.066099</td>\n",
       "      <td>-0.000337</td>\n",
       "      <td>-0.089664</td>\n",
       "      <td>0.152004</td>\n",
       "      <td>0.063224</td>\n",
       "      <td>0.059955</td>\n",
       "      <td>0.083353</td>\n",
       "      <td>0.011475</td>\n",
       "      <td>...</td>\n",
       "      <td>-0.064983</td>\n",
       "      <td>-0.119364</td>\n",
       "      <td>0.097833</td>\n",
       "      <td>0.074799</td>\n",
       "      <td>-0.110316</td>\n",
       "      <td>0.068887</td>\n",
       "      <td>0.100405</td>\n",
       "      <td>0.083792</td>\n",
       "      <td>-0.023126</td>\n",
       "      <td>-0.128029</td>\n",
       "    </tr>\n",
       "    <tr>\n",
       "      <th>,</th>\n",
       "      <td>-0.084222</td>\n",
       "      <td>-0.241057</td>\n",
       "      <td>0.153468</td>\n",
       "      <td>0.030384</td>\n",
       "      <td>0.073891</td>\n",
       "      <td>-0.003068</td>\n",
       "      <td>0.075903</td>\n",
       "      <td>0.008140</td>\n",
       "      <td>-0.059969</td>\n",
       "      <td>-0.059622</td>\n",
       "      <td>...</td>\n",
       "      <td>-0.092725</td>\n",
       "      <td>-0.075149</td>\n",
       "      <td>0.058186</td>\n",
       "      <td>-0.079363</td>\n",
       "      <td>-0.098208</td>\n",
       "      <td>-0.010734</td>\n",
       "      <td>-0.072859</td>\n",
       "      <td>0.155270</td>\n",
       "      <td>-0.037007</td>\n",
       "      <td>-0.040295</td>\n",
       "    </tr>\n",
       "    <tr>\n",
       "      <th>and</th>\n",
       "      <td>-0.130864</td>\n",
       "      <td>-0.106706</td>\n",
       "      <td>0.319187</td>\n",
       "      <td>-0.020662</td>\n",
       "      <td>-0.026065</td>\n",
       "      <td>0.130232</td>\n",
       "      <td>0.028848</td>\n",
       "      <td>-0.036718</td>\n",
       "      <td>-0.045193</td>\n",
       "      <td>0.106748</td>\n",
       "      <td>...</td>\n",
       "      <td>-0.077935</td>\n",
       "      <td>-0.116944</td>\n",
       "      <td>-0.068429</td>\n",
       "      <td>0.034556</td>\n",
       "      <td>-0.185711</td>\n",
       "      <td>-0.035680</td>\n",
       "      <td>-0.154883</td>\n",
       "      <td>0.071010</td>\n",
       "      <td>0.014853</td>\n",
       "      <td>0.087299</td>\n",
       "    </tr>\n",
       "    <tr>\n",
       "      <th>i</th>\n",
       "      <td>-0.036812</td>\n",
       "      <td>-0.001789</td>\n",
       "      <td>0.098743</td>\n",
       "      <td>0.033161</td>\n",
       "      <td>0.108806</td>\n",
       "      <td>-0.060845</td>\n",
       "      <td>0.010600</td>\n",
       "      <td>0.112932</td>\n",
       "      <td>-0.107017</td>\n",
       "      <td>0.162365</td>\n",
       "      <td>...</td>\n",
       "      <td>-0.008071</td>\n",
       "      <td>-0.045966</td>\n",
       "      <td>-0.033461</td>\n",
       "      <td>-0.155408</td>\n",
       "      <td>-0.019195</td>\n",
       "      <td>0.029607</td>\n",
       "      <td>-0.256207</td>\n",
       "      <td>-0.087891</td>\n",
       "      <td>0.060058</td>\n",
       "      <td>-0.122758</td>\n",
       "    </tr>\n",
       "    <tr>\n",
       "      <th>a</th>\n",
       "      <td>-0.159124</td>\n",
       "      <td>0.026329</td>\n",
       "      <td>0.090037</td>\n",
       "      <td>0.041029</td>\n",
       "      <td>0.130571</td>\n",
       "      <td>-0.074993</td>\n",
       "      <td>0.253993</td>\n",
       "      <td>-0.123532</td>\n",
       "      <td>0.067198</td>\n",
       "      <td>0.206722</td>\n",
       "      <td>...</td>\n",
       "      <td>0.043978</td>\n",
       "      <td>-0.077543</td>\n",
       "      <td>-0.067460</td>\n",
       "      <td>-0.005895</td>\n",
       "      <td>-0.068900</td>\n",
       "      <td>0.058941</td>\n",
       "      <td>-0.233234</td>\n",
       "      <td>0.064196</td>\n",
       "      <td>-0.157664</td>\n",
       "      <td>-0.109600</td>\n",
       "    </tr>\n",
       "    <tr>\n",
       "      <th>to</th>\n",
       "      <td>-0.069858</td>\n",
       "      <td>0.147919</td>\n",
       "      <td>0.108706</td>\n",
       "      <td>0.095508</td>\n",
       "      <td>-0.095533</td>\n",
       "      <td>-0.012318</td>\n",
       "      <td>0.081875</td>\n",
       "      <td>0.158887</td>\n",
       "      <td>0.032820</td>\n",
       "      <td>0.106667</td>\n",
       "      <td>...</td>\n",
       "      <td>-0.114423</td>\n",
       "      <td>-0.008895</td>\n",
       "      <td>-0.083843</td>\n",
       "      <td>0.157734</td>\n",
       "      <td>-0.086326</td>\n",
       "      <td>0.115300</td>\n",
       "      <td>0.068325</td>\n",
       "      <td>0.003174</td>\n",
       "      <td>0.103649</td>\n",
       "      <td>-0.079623</td>\n",
       "    </tr>\n",
       "    <tr>\n",
       "      <th>have</th>\n",
       "      <td>-0.052769</td>\n",
       "      <td>0.006958</td>\n",
       "      <td>0.188641</td>\n",
       "      <td>-0.106268</td>\n",
       "      <td>0.022796</td>\n",
       "      <td>-0.091381</td>\n",
       "      <td>0.042286</td>\n",
       "      <td>-0.018741</td>\n",
       "      <td>0.029946</td>\n",
       "      <td>0.037364</td>\n",
       "      <td>...</td>\n",
       "      <td>-0.145475</td>\n",
       "      <td>0.107154</td>\n",
       "      <td>0.170398</td>\n",
       "      <td>-0.025789</td>\n",
       "      <td>-0.090797</td>\n",
       "      <td>-0.070032</td>\n",
       "      <td>-0.169535</td>\n",
       "      <td>-0.065836</td>\n",
       "      <td>-0.068351</td>\n",
       "      <td>-0.168688</td>\n",
       "    </tr>\n",
       "    <tr>\n",
       "      <th>it</th>\n",
       "      <td>-0.147424</td>\n",
       "      <td>0.040524</td>\n",
       "      <td>-0.021452</td>\n",
       "      <td>-0.023354</td>\n",
       "      <td>0.014061</td>\n",
       "      <td>-0.041111</td>\n",
       "      <td>0.062585</td>\n",
       "      <td>-0.015974</td>\n",
       "      <td>-0.083464</td>\n",
       "      <td>0.055700</td>\n",
       "      <td>...</td>\n",
       "      <td>-0.011148</td>\n",
       "      <td>-0.220539</td>\n",
       "      <td>0.076913</td>\n",
       "      <td>-0.036763</td>\n",
       "      <td>-0.141299</td>\n",
       "      <td>0.095313</td>\n",
       "      <td>-0.154693</td>\n",
       "      <td>-0.034851</td>\n",
       "      <td>-0.034097</td>\n",
       "      <td>-0.139978</td>\n",
       "    </tr>\n",
       "    <tr>\n",
       "      <th>of</th>\n",
       "      <td>-0.116245</td>\n",
       "      <td>-0.057022</td>\n",
       "      <td>0.102051</td>\n",
       "      <td>0.068979</td>\n",
       "      <td>-0.117034</td>\n",
       "      <td>0.088000</td>\n",
       "      <td>0.015665</td>\n",
       "      <td>0.131196</td>\n",
       "      <td>-0.041459</td>\n",
       "      <td>0.097331</td>\n",
       "      <td>...</td>\n",
       "      <td>-0.028372</td>\n",
       "      <td>-0.008502</td>\n",
       "      <td>-0.048226</td>\n",
       "      <td>0.167795</td>\n",
       "      <td>-0.070317</td>\n",
       "      <td>0.145727</td>\n",
       "      <td>-0.092282</td>\n",
       "      <td>-0.046559</td>\n",
       "      <td>-0.072093</td>\n",
       "      <td>-0.151417</td>\n",
       "    </tr>\n",
       "    <tr>\n",
       "      <th>not</th>\n",
       "      <td>-0.028029</td>\n",
       "      <td>0.059914</td>\n",
       "      <td>0.053211</td>\n",
       "      <td>0.127409</td>\n",
       "      <td>0.061184</td>\n",
       "      <td>-0.146929</td>\n",
       "      <td>0.123728</td>\n",
       "      <td>0.073398</td>\n",
       "      <td>0.002686</td>\n",
       "      <td>-0.052973</td>\n",
       "      <td>...</td>\n",
       "      <td>-0.078730</td>\n",
       "      <td>-0.031932</td>\n",
       "      <td>0.178455</td>\n",
       "      <td>0.031951</td>\n",
       "      <td>-0.137206</td>\n",
       "      <td>-0.016284</td>\n",
       "      <td>-0.201291</td>\n",
       "      <td>0.032437</td>\n",
       "      <td>-0.211178</td>\n",
       "      <td>-0.094082</td>\n",
       "    </tr>\n",
       "    <tr>\n",
       "      <th>for</th>\n",
       "      <td>-0.072769</td>\n",
       "      <td>0.227003</td>\n",
       "      <td>0.059333</td>\n",
       "      <td>-0.032289</td>\n",
       "      <td>0.134825</td>\n",
       "      <td>0.043138</td>\n",
       "      <td>0.121079</td>\n",
       "      <td>0.049012</td>\n",
       "      <td>-0.019052</td>\n",
       "      <td>0.022416</td>\n",
       "      <td>...</td>\n",
       "      <td>-0.063334</td>\n",
       "      <td>-0.074183</td>\n",
       "      <td>-0.064450</td>\n",
       "      <td>0.006609</td>\n",
       "      <td>0.002746</td>\n",
       "      <td>-0.023285</td>\n",
       "      <td>0.018982</td>\n",
       "      <td>-0.034134</td>\n",
       "      <td>-0.002575</td>\n",
       "      <td>-0.106469</td>\n",
       "    </tr>\n",
       "    <tr>\n",
       "      <th>in</th>\n",
       "      <td>0.153031</td>\n",
       "      <td>-0.028704</td>\n",
       "      <td>-0.012960</td>\n",
       "      <td>0.120877</td>\n",
       "      <td>0.001708</td>\n",
       "      <td>0.154358</td>\n",
       "      <td>0.064325</td>\n",
       "      <td>0.203225</td>\n",
       "      <td>0.070433</td>\n",
       "      <td>0.089105</td>\n",
       "      <td>...</td>\n",
       "      <td>0.013702</td>\n",
       "      <td>-0.089008</td>\n",
       "      <td>0.044212</td>\n",
       "      <td>-0.020910</td>\n",
       "      <td>-0.070783</td>\n",
       "      <td>0.146732</td>\n",
       "      <td>-0.068713</td>\n",
       "      <td>-0.104801</td>\n",
       "      <td>0.046713</td>\n",
       "      <td>-0.052775</td>\n",
       "    </tr>\n",
       "    <tr>\n",
       "      <th>!</th>\n",
       "      <td>0.015920</td>\n",
       "      <td>-0.007115</td>\n",
       "      <td>-0.068639</td>\n",
       "      <td>0.090752</td>\n",
       "      <td>0.035376</td>\n",
       "      <td>0.099293</td>\n",
       "      <td>0.024236</td>\n",
       "      <td>-0.171282</td>\n",
       "      <td>-0.155684</td>\n",
       "      <td>0.067542</td>\n",
       "      <td>...</td>\n",
       "      <td>-0.077179</td>\n",
       "      <td>-0.111616</td>\n",
       "      <td>0.171760</td>\n",
       "      <td>-0.020728</td>\n",
       "      <td>0.087132</td>\n",
       "      <td>0.030464</td>\n",
       "      <td>-0.147284</td>\n",
       "      <td>0.038236</td>\n",
       "      <td>0.187549</td>\n",
       "      <td>0.085674</td>\n",
       "    </tr>\n",
       "    <tr>\n",
       "      <th>that</th>\n",
       "      <td>-0.009020</td>\n",
       "      <td>0.076674</td>\n",
       "      <td>0.087441</td>\n",
       "      <td>0.024179</td>\n",
       "      <td>-0.108594</td>\n",
       "      <td>-0.209398</td>\n",
       "      <td>0.097588</td>\n",
       "      <td>0.030460</td>\n",
       "      <td>0.037259</td>\n",
       "      <td>0.028843</td>\n",
       "      <td>...</td>\n",
       "      <td>-0.058589</td>\n",
       "      <td>-0.160952</td>\n",
       "      <td>0.065222</td>\n",
       "      <td>0.009797</td>\n",
       "      <td>-0.166165</td>\n",
       "      <td>0.207121</td>\n",
       "      <td>-0.060879</td>\n",
       "      <td>-0.068779</td>\n",
       "      <td>0.012976</td>\n",
       "      <td>-0.166199</td>\n",
       "    </tr>\n",
       "    <tr>\n",
       "      <th>you</th>\n",
       "      <td>-0.008593</td>\n",
       "      <td>0.077229</td>\n",
       "      <td>0.162490</td>\n",
       "      <td>-0.001409</td>\n",
       "      <td>-0.068088</td>\n",
       "      <td>0.080187</td>\n",
       "      <td>0.097681</td>\n",
       "      <td>0.160474</td>\n",
       "      <td>-0.160049</td>\n",
       "      <td>0.198934</td>\n",
       "      <td>...</td>\n",
       "      <td>0.055350</td>\n",
       "      <td>-0.078875</td>\n",
       "      <td>0.091349</td>\n",
       "      <td>-0.071281</td>\n",
       "      <td>0.008958</td>\n",
       "      <td>0.001028</td>\n",
       "      <td>-0.243446</td>\n",
       "      <td>-0.061607</td>\n",
       "      <td>-0.142132</td>\n",
       "      <td>-0.158324</td>\n",
       "    </tr>\n",
       "    <tr>\n",
       "      <th>my</th>\n",
       "      <td>-0.005201</td>\n",
       "      <td>0.111229</td>\n",
       "      <td>-0.074745</td>\n",
       "      <td>-0.102532</td>\n",
       "      <td>0.064264</td>\n",
       "      <td>0.075235</td>\n",
       "      <td>0.018320</td>\n",
       "      <td>0.051427</td>\n",
       "      <td>-0.027090</td>\n",
       "      <td>0.139025</td>\n",
       "      <td>...</td>\n",
       "      <td>-0.024804</td>\n",
       "      <td>-0.127248</td>\n",
       "      <td>0.068173</td>\n",
       "      <td>-0.063541</td>\n",
       "      <td>-0.083094</td>\n",
       "      <td>0.026758</td>\n",
       "      <td>-0.279338</td>\n",
       "      <td>0.159026</td>\n",
       "      <td>0.177395</td>\n",
       "      <td>0.035129</td>\n",
       "    </tr>\n",
       "    <tr>\n",
       "      <th>with</th>\n",
       "      <td>-0.039787</td>\n",
       "      <td>-0.002619</td>\n",
       "      <td>0.189819</td>\n",
       "      <td>-0.151708</td>\n",
       "      <td>-0.082709</td>\n",
       "      <td>0.065047</td>\n",
       "      <td>0.124531</td>\n",
       "      <td>0.031408</td>\n",
       "      <td>0.034773</td>\n",
       "      <td>-0.031225</td>\n",
       "      <td>...</td>\n",
       "      <td>0.079845</td>\n",
       "      <td>-0.019438</td>\n",
       "      <td>-0.024237</td>\n",
       "      <td>0.174277</td>\n",
       "      <td>-0.247447</td>\n",
       "      <td>-0.118780</td>\n",
       "      <td>0.024092</td>\n",
       "      <td>0.005244</td>\n",
       "      <td>-0.059696</td>\n",
       "      <td>-0.060294</td>\n",
       "    </tr>\n",
       "    <tr>\n",
       "      <th>but</th>\n",
       "      <td>-0.111960</td>\n",
       "      <td>-0.081612</td>\n",
       "      <td>0.162756</td>\n",
       "      <td>0.061740</td>\n",
       "      <td>0.058034</td>\n",
       "      <td>-0.025575</td>\n",
       "      <td>0.136825</td>\n",
       "      <td>0.052041</td>\n",
       "      <td>0.062357</td>\n",
       "      <td>0.002552</td>\n",
       "      <td>...</td>\n",
       "      <td>-0.065209</td>\n",
       "      <td>-0.075470</td>\n",
       "      <td>-0.003502</td>\n",
       "      <td>-0.195081</td>\n",
       "      <td>-0.000105</td>\n",
       "      <td>-0.010880</td>\n",
       "      <td>-0.195400</td>\n",
       "      <td>-0.054093</td>\n",
       "      <td>-0.114218</td>\n",
       "      <td>-0.033690</td>\n",
       "    </tr>\n",
       "    <tr>\n",
       "      <th>this</th>\n",
       "      <td>-0.113050</td>\n",
       "      <td>0.150875</td>\n",
       "      <td>-0.075848</td>\n",
       "      <td>0.108963</td>\n",
       "      <td>-0.003334</td>\n",
       "      <td>-0.108763</td>\n",
       "      <td>0.124957</td>\n",
       "      <td>0.096957</td>\n",
       "      <td>0.136000</td>\n",
       "      <td>-0.065902</td>\n",
       "      <td>...</td>\n",
       "      <td>0.048325</td>\n",
       "      <td>-0.233468</td>\n",
       "      <td>0.157574</td>\n",
       "      <td>0.000088</td>\n",
       "      <td>-0.058896</td>\n",
       "      <td>0.235687</td>\n",
       "      <td>-0.209736</td>\n",
       "      <td>-0.032646</td>\n",
       "      <td>0.022783</td>\n",
       "      <td>-0.159577</td>\n",
       "    </tr>\n",
       "    <tr>\n",
       "      <th>they</th>\n",
       "      <td>-0.110876</td>\n",
       "      <td>-0.052425</td>\n",
       "      <td>0.122954</td>\n",
       "      <td>0.082089</td>\n",
       "      <td>0.060970</td>\n",
       "      <td>-0.096973</td>\n",
       "      <td>-0.019732</td>\n",
       "      <td>-0.007418</td>\n",
       "      <td>-0.069265</td>\n",
       "      <td>0.210709</td>\n",
       "      <td>...</td>\n",
       "      <td>-0.112594</td>\n",
       "      <td>-0.043078</td>\n",
       "      <td>0.082907</td>\n",
       "      <td>-0.102599</td>\n",
       "      <td>-0.194757</td>\n",
       "      <td>0.018308</td>\n",
       "      <td>-0.103851</td>\n",
       "      <td>-0.014974</td>\n",
       "      <td>-0.036729</td>\n",
       "      <td>-0.108376</td>\n",
       "    </tr>\n",
       "    <tr>\n",
       "      <th>good</th>\n",
       "      <td>-0.010751</td>\n",
       "      <td>0.003195</td>\n",
       "      <td>0.061726</td>\n",
       "      <td>0.012054</td>\n",
       "      <td>0.018434</td>\n",
       "      <td>0.043065</td>\n",
       "      <td>-0.025598</td>\n",
       "      <td>-0.088500</td>\n",
       "      <td>-0.019108</td>\n",
       "      <td>0.067020</td>\n",
       "      <td>...</td>\n",
       "      <td>-0.000666</td>\n",
       "      <td>0.000682</td>\n",
       "      <td>0.049886</td>\n",
       "      <td>0.065574</td>\n",
       "      <td>0.009957</td>\n",
       "      <td>0.028708</td>\n",
       "      <td>-0.165895</td>\n",
       "      <td>-0.035162</td>\n",
       "      <td>-0.053935</td>\n",
       "      <td>-0.040618</td>\n",
       "    </tr>\n",
       "    <tr>\n",
       "      <th>we</th>\n",
       "      <td>-0.127540</td>\n",
       "      <td>-0.039386</td>\n",
       "      <td>0.069177</td>\n",
       "      <td>0.054355</td>\n",
       "      <td>0.101220</td>\n",
       "      <td>-0.056925</td>\n",
       "      <td>-0.012542</td>\n",
       "      <td>0.040202</td>\n",
       "      <td>-0.109838</td>\n",
       "      <td>0.118005</td>\n",
       "      <td>...</td>\n",
       "      <td>-0.021304</td>\n",
       "      <td>0.007585</td>\n",
       "      <td>-0.013805</td>\n",
       "      <td>-0.067316</td>\n",
       "      <td>-0.099122</td>\n",
       "      <td>0.028271</td>\n",
       "      <td>-0.109085</td>\n",
       "      <td>-0.030749</td>\n",
       "      <td>-0.009849</td>\n",
       "      <td>-0.189756</td>\n",
       "    </tr>\n",
       "    <tr>\n",
       "      <th>do</th>\n",
       "      <td>0.088346</td>\n",
       "      <td>0.017565</td>\n",
       "      <td>0.067525</td>\n",
       "      <td>-0.033308</td>\n",
       "      <td>-0.042622</td>\n",
       "      <td>0.000333</td>\n",
       "      <td>0.208777</td>\n",
       "      <td>-0.021872</td>\n",
       "      <td>-0.035658</td>\n",
       "      <td>0.002089</td>\n",
       "      <td>...</td>\n",
       "      <td>-0.061098</td>\n",
       "      <td>0.023965</td>\n",
       "      <td>0.018958</td>\n",
       "      <td>-0.023734</td>\n",
       "      <td>0.018893</td>\n",
       "      <td>0.126058</td>\n",
       "      <td>-0.059949</td>\n",
       "      <td>-0.039346</td>\n",
       "      <td>-0.045478</td>\n",
       "      <td>-0.109674</td>\n",
       "    </tr>\n",
       "    <tr>\n",
       "      <th>on</th>\n",
       "      <td>0.034108</td>\n",
       "      <td>-0.059613</td>\n",
       "      <td>0.203343</td>\n",
       "      <td>0.071404</td>\n",
       "      <td>-0.067242</td>\n",
       "      <td>0.051876</td>\n",
       "      <td>0.197740</td>\n",
       "      <td>0.135977</td>\n",
       "      <td>-0.026019</td>\n",
       "      <td>0.076386</td>\n",
       "      <td>...</td>\n",
       "      <td>0.073342</td>\n",
       "      <td>-0.016444</td>\n",
       "      <td>-0.093454</td>\n",
       "      <td>0.188277</td>\n",
       "      <td>-0.019787</td>\n",
       "      <td>0.147751</td>\n",
       "      <td>-0.134598</td>\n",
       "      <td>-0.012672</td>\n",
       "      <td>0.085532</td>\n",
       "      <td>0.003268</td>\n",
       "    </tr>\n",
       "    <tr>\n",
       "      <th>-</th>\n",
       "      <td>-0.107891</td>\n",
       "      <td>-0.124730</td>\n",
       "      <td>0.073622</td>\n",
       "      <td>0.003487</td>\n",
       "      <td>-0.010522</td>\n",
       "      <td>0.046858</td>\n",
       "      <td>0.083362</td>\n",
       "      <td>-0.066744</td>\n",
       "      <td>-0.064284</td>\n",
       "      <td>-0.107305</td>\n",
       "      <td>...</td>\n",
       "      <td>-0.142191</td>\n",
       "      <td>-0.128903</td>\n",
       "      <td>-0.051688</td>\n",
       "      <td>-0.003151</td>\n",
       "      <td>-0.102432</td>\n",
       "      <td>0.112567</td>\n",
       "      <td>-0.245901</td>\n",
       "      <td>0.016943</td>\n",
       "      <td>0.097135</td>\n",
       "      <td>0.050772</td>\n",
       "    </tr>\n",
       "    <tr>\n",
       "      <th>place</th>\n",
       "      <td>-0.072572</td>\n",
       "      <td>0.101745</td>\n",
       "      <td>-0.002463</td>\n",
       "      <td>0.137321</td>\n",
       "      <td>-0.037302</td>\n",
       "      <td>-0.027995</td>\n",
       "      <td>0.040581</td>\n",
       "      <td>0.066791</td>\n",
       "      <td>-0.127034</td>\n",
       "      <td>-0.004785</td>\n",
       "      <td>...</td>\n",
       "      <td>-0.138536</td>\n",
       "      <td>-0.186387</td>\n",
       "      <td>0.240998</td>\n",
       "      <td>0.008538</td>\n",
       "      <td>0.076003</td>\n",
       "      <td>-0.065291</td>\n",
       "      <td>-0.283148</td>\n",
       "      <td>0.080416</td>\n",
       "      <td>-0.070483</td>\n",
       "      <td>-0.041105</td>\n",
       "    </tr>\n",
       "    <tr>\n",
       "      <th>go</th>\n",
       "      <td>-0.056979</td>\n",
       "      <td>0.019585</td>\n",
       "      <td>0.063406</td>\n",
       "      <td>-0.110641</td>\n",
       "      <td>-0.081678</td>\n",
       "      <td>-0.147352</td>\n",
       "      <td>0.132148</td>\n",
       "      <td>0.002229</td>\n",
       "      <td>-0.076421</td>\n",
       "      <td>0.214568</td>\n",
       "      <td>...</td>\n",
       "      <td>-0.054014</td>\n",
       "      <td>-0.141861</td>\n",
       "      <td>0.166002</td>\n",
       "      <td>0.009919</td>\n",
       "      <td>0.181963</td>\n",
       "      <td>0.110672</td>\n",
       "      <td>-0.194917</td>\n",
       "      <td>-0.070442</td>\n",
       "      <td>0.036393</td>\n",
       "      <td>-0.015277</td>\n",
       "    </tr>\n",
       "    <tr>\n",
       "      <th>so</th>\n",
       "      <td>-0.057930</td>\n",
       "      <td>-0.064302</td>\n",
       "      <td>0.085985</td>\n",
       "      <td>-0.034025</td>\n",
       "      <td>0.008980</td>\n",
       "      <td>-0.022764</td>\n",
       "      <td>0.193141</td>\n",
       "      <td>0.026369</td>\n",
       "      <td>-0.044061</td>\n",
       "      <td>0.060970</td>\n",
       "      <td>...</td>\n",
       "      <td>-0.129624</td>\n",
       "      <td>-0.079995</td>\n",
       "      <td>-0.023068</td>\n",
       "      <td>0.036023</td>\n",
       "      <td>-0.135313</td>\n",
       "      <td>0.055976</td>\n",
       "      <td>-0.191369</td>\n",
       "      <td>-0.046893</td>\n",
       "      <td>-0.071527</td>\n",
       "      <td>0.024945</td>\n",
       "    </tr>\n",
       "    <tr>\n",
       "      <th>...</th>\n",
       "      <td>...</td>\n",
       "      <td>...</td>\n",
       "      <td>...</td>\n",
       "      <td>...</td>\n",
       "      <td>...</td>\n",
       "      <td>...</td>\n",
       "      <td>...</td>\n",
       "      <td>...</td>\n",
       "      <td>...</td>\n",
       "      <td>...</td>\n",
       "      <td>...</td>\n",
       "      <td>...</td>\n",
       "      <td>...</td>\n",
       "      <td>...</td>\n",
       "      <td>...</td>\n",
       "      <td>...</td>\n",
       "      <td>...</td>\n",
       "      <td>...</td>\n",
       "      <td>...</td>\n",
       "      <td>...</td>\n",
       "      <td>...</td>\n",
       "    </tr>\n",
       "    <tr>\n",
       "      <th>mango_lemonade</th>\n",
       "      <td>0.117700</td>\n",
       "      <td>-0.163586</td>\n",
       "      <td>0.090167</td>\n",
       "      <td>0.022168</td>\n",
       "      <td>-0.190930</td>\n",
       "      <td>-0.067859</td>\n",
       "      <td>-0.013369</td>\n",
       "      <td>-0.177154</td>\n",
       "      <td>-0.039387</td>\n",
       "      <td>0.095124</td>\n",
       "      <td>...</td>\n",
       "      <td>0.065652</td>\n",
       "      <td>-0.075142</td>\n",
       "      <td>-0.041146</td>\n",
       "      <td>-0.002097</td>\n",
       "      <td>-0.056011</td>\n",
       "      <td>-0.147545</td>\n",
       "      <td>-0.106158</td>\n",
       "      <td>-0.035662</td>\n",
       "      <td>-0.043170</td>\n",
       "      <td>0.181901</td>\n",
       "    </tr>\n",
       "    <tr>\n",
       "      <th>proper_temperature</th>\n",
       "      <td>0.063529</td>\n",
       "      <td>-0.122419</td>\n",
       "      <td>-0.074329</td>\n",
       "      <td>-0.024282</td>\n",
       "      <td>-0.117734</td>\n",
       "      <td>0.130729</td>\n",
       "      <td>0.161275</td>\n",
       "      <td>0.095504</td>\n",
       "      <td>0.046662</td>\n",
       "      <td>0.107188</td>\n",
       "      <td>...</td>\n",
       "      <td>0.067250</td>\n",
       "      <td>0.116292</td>\n",
       "      <td>-0.094147</td>\n",
       "      <td>0.041815</td>\n",
       "      <td>-0.088402</td>\n",
       "      <td>0.031001</td>\n",
       "      <td>0.021841</td>\n",
       "      <td>0.011320</td>\n",
       "      <td>-0.088031</td>\n",
       "      <td>-0.183428</td>\n",
       "    </tr>\n",
       "    <tr>\n",
       "      <th>stewardess</th>\n",
       "      <td>0.035735</td>\n",
       "      <td>0.193419</td>\n",
       "      <td>0.045338</td>\n",
       "      <td>0.015221</td>\n",
       "      <td>-0.139772</td>\n",
       "      <td>0.084004</td>\n",
       "      <td>0.073915</td>\n",
       "      <td>-0.065431</td>\n",
       "      <td>0.071323</td>\n",
       "      <td>-0.006385</td>\n",
       "      <td>...</td>\n",
       "      <td>-0.088564</td>\n",
       "      <td>0.102465</td>\n",
       "      <td>0.043440</td>\n",
       "      <td>-0.068528</td>\n",
       "      <td>-0.013787</td>\n",
       "      <td>0.124121</td>\n",
       "      <td>0.010681</td>\n",
       "      <td>-0.002531</td>\n",
       "      <td>0.091423</td>\n",
       "      <td>-0.081411</td>\n",
       "    </tr>\n",
       "    <tr>\n",
       "      <th>scop</th>\n",
       "      <td>0.027196</td>\n",
       "      <td>0.186026</td>\n",
       "      <td>-0.115418</td>\n",
       "      <td>0.068632</td>\n",
       "      <td>-0.025751</td>\n",
       "      <td>-0.076825</td>\n",
       "      <td>0.144311</td>\n",
       "      <td>0.165415</td>\n",
       "      <td>-0.078594</td>\n",
       "      <td>0.090775</td>\n",
       "      <td>...</td>\n",
       "      <td>-0.134952</td>\n",
       "      <td>-0.190418</td>\n",
       "      <td>0.033782</td>\n",
       "      <td>0.034904</td>\n",
       "      <td>0.074676</td>\n",
       "      <td>0.168433</td>\n",
       "      <td>-0.166941</td>\n",
       "      <td>-0.047646</td>\n",
       "      <td>0.017784</td>\n",
       "      <td>-0.094015</td>\n",
       "    </tr>\n",
       "    <tr>\n",
       "      <th>spontaneously</th>\n",
       "      <td>0.015049</td>\n",
       "      <td>0.060245</td>\n",
       "      <td>0.082024</td>\n",
       "      <td>0.026028</td>\n",
       "      <td>-0.076437</td>\n",
       "      <td>0.139282</td>\n",
       "      <td>0.068989</td>\n",
       "      <td>0.222726</td>\n",
       "      <td>0.011868</td>\n",
       "      <td>0.135953</td>\n",
       "      <td>...</td>\n",
       "      <td>-0.075005</td>\n",
       "      <td>-0.055069</td>\n",
       "      <td>0.089894</td>\n",
       "      <td>0.137033</td>\n",
       "      <td>0.034510</td>\n",
       "      <td>0.038039</td>\n",
       "      <td>-0.100744</td>\n",
       "      <td>0.062949</td>\n",
       "      <td>0.086101</td>\n",
       "      <td>0.041080</td>\n",
       "    </tr>\n",
       "    <tr>\n",
       "      <th>6ish</th>\n",
       "      <td>-0.017222</td>\n",
       "      <td>-0.112735</td>\n",
       "      <td>-0.033021</td>\n",
       "      <td>-0.114874</td>\n",
       "      <td>0.052748</td>\n",
       "      <td>-0.071254</td>\n",
       "      <td>0.151022</td>\n",
       "      <td>0.081040</td>\n",
       "      <td>-0.187811</td>\n",
       "      <td>0.025410</td>\n",
       "      <td>...</td>\n",
       "      <td>-0.059854</td>\n",
       "      <td>-0.059272</td>\n",
       "      <td>0.109360</td>\n",
       "      <td>0.082985</td>\n",
       "      <td>-0.034286</td>\n",
       "      <td>-0.033175</td>\n",
       "      <td>-0.077177</td>\n",
       "      <td>-0.063898</td>\n",
       "      <td>0.092159</td>\n",
       "      <td>-0.040095</td>\n",
       "    </tr>\n",
       "    <tr>\n",
       "      <th>bobby_qs</th>\n",
       "      <td>-0.018655</td>\n",
       "      <td>0.232200</td>\n",
       "      <td>-0.007310</td>\n",
       "      <td>0.175889</td>\n",
       "      <td>0.007578</td>\n",
       "      <td>-0.088639</td>\n",
       "      <td>0.036944</td>\n",
       "      <td>0.137551</td>\n",
       "      <td>-0.060862</td>\n",
       "      <td>0.052952</td>\n",
       "      <td>...</td>\n",
       "      <td>-0.145991</td>\n",
       "      <td>0.052175</td>\n",
       "      <td>0.155651</td>\n",
       "      <td>-0.044059</td>\n",
       "      <td>0.107036</td>\n",
       "      <td>0.105823</td>\n",
       "      <td>-0.137205</td>\n",
       "      <td>-0.057718</td>\n",
       "      <td>-0.022302</td>\n",
       "      <td>-0.153051</td>\n",
       "    </tr>\n",
       "    <tr>\n",
       "      <th>runny_egg</th>\n",
       "      <td>0.037520</td>\n",
       "      <td>-0.071909</td>\n",
       "      <td>0.055932</td>\n",
       "      <td>-0.017844</td>\n",
       "      <td>0.054255</td>\n",
       "      <td>-0.026767</td>\n",
       "      <td>0.073918</td>\n",
       "      <td>-0.057225</td>\n",
       "      <td>-0.068527</td>\n",
       "      <td>-0.165187</td>\n",
       "      <td>...</td>\n",
       "      <td>-0.101340</td>\n",
       "      <td>-0.026490</td>\n",
       "      <td>0.001019</td>\n",
       "      <td>-0.285303</td>\n",
       "      <td>0.091015</td>\n",
       "      <td>-0.008174</td>\n",
       "      <td>0.051514</td>\n",
       "      <td>-0.005396</td>\n",
       "      <td>-0.099769</td>\n",
       "      <td>-0.026948</td>\n",
       "    </tr>\n",
       "    <tr>\n",
       "      <th>buffets</th>\n",
       "      <td>-0.013833</td>\n",
       "      <td>-0.008375</td>\n",
       "      <td>-0.021122</td>\n",
       "      <td>0.016032</td>\n",
       "      <td>0.053972</td>\n",
       "      <td>0.129398</td>\n",
       "      <td>-0.067014</td>\n",
       "      <td>0.112863</td>\n",
       "      <td>0.022801</td>\n",
       "      <td>-0.151803</td>\n",
       "      <td>...</td>\n",
       "      <td>-0.068006</td>\n",
       "      <td>-0.003186</td>\n",
       "      <td>0.191869</td>\n",
       "      <td>-0.169404</td>\n",
       "      <td>0.189421</td>\n",
       "      <td>0.151361</td>\n",
       "      <td>-0.142516</td>\n",
       "      <td>0.110151</td>\n",
       "      <td>-0.005102</td>\n",
       "      <td>-0.048852</td>\n",
       "    </tr>\n",
       "    <tr>\n",
       "      <th>aileen</th>\n",
       "      <td>0.117803</td>\n",
       "      <td>0.004942</td>\n",
       "      <td>0.066435</td>\n",
       "      <td>0.034498</td>\n",
       "      <td>0.089002</td>\n",
       "      <td>-0.020874</td>\n",
       "      <td>0.139839</td>\n",
       "      <td>-0.004116</td>\n",
       "      <td>0.191844</td>\n",
       "      <td>0.035595</td>\n",
       "      <td>...</td>\n",
       "      <td>0.034228</td>\n",
       "      <td>0.043083</td>\n",
       "      <td>0.010600</td>\n",
       "      <td>0.030982</td>\n",
       "      <td>-0.051053</td>\n",
       "      <td>-0.068126</td>\n",
       "      <td>-0.177819</td>\n",
       "      <td>0.103190</td>\n",
       "      <td>-0.085634</td>\n",
       "      <td>-0.009405</td>\n",
       "    </tr>\n",
       "    <tr>\n",
       "      <th>shopping_district</th>\n",
       "      <td>-0.014735</td>\n",
       "      <td>0.059887</td>\n",
       "      <td>-0.035171</td>\n",
       "      <td>0.079610</td>\n",
       "      <td>-0.085418</td>\n",
       "      <td>0.116329</td>\n",
       "      <td>0.004054</td>\n",
       "      <td>0.060161</td>\n",
       "      <td>0.042818</td>\n",
       "      <td>-0.021512</td>\n",
       "      <td>...</td>\n",
       "      <td>0.070603</td>\n",
       "      <td>0.007302</td>\n",
       "      <td>0.206597</td>\n",
       "      <td>0.016567</td>\n",
       "      <td>0.004530</td>\n",
       "      <td>0.159482</td>\n",
       "      <td>-0.012149</td>\n",
       "      <td>0.195476</td>\n",
       "      <td>-0.065303</td>\n",
       "      <td>-0.031955</td>\n",
       "    </tr>\n",
       "    <tr>\n",
       "      <th>deviate</th>\n",
       "      <td>-0.101273</td>\n",
       "      <td>0.130971</td>\n",
       "      <td>-0.008858</td>\n",
       "      <td>0.122338</td>\n",
       "      <td>0.001312</td>\n",
       "      <td>-0.135160</td>\n",
       "      <td>0.099635</td>\n",
       "      <td>0.083538</td>\n",
       "      <td>-0.040661</td>\n",
       "      <td>0.112373</td>\n",
       "      <td>...</td>\n",
       "      <td>-0.110208</td>\n",
       "      <td>-0.004361</td>\n",
       "      <td>0.092776</td>\n",
       "      <td>-0.121442</td>\n",
       "      <td>0.081459</td>\n",
       "      <td>0.153187</td>\n",
       "      <td>-0.066102</td>\n",
       "      <td>0.032723</td>\n",
       "      <td>-0.146476</td>\n",
       "      <td>-0.119470</td>\n",
       "    </tr>\n",
       "    <tr>\n",
       "      <th>yummmy</th>\n",
       "      <td>0.233449</td>\n",
       "      <td>-0.026253</td>\n",
       "      <td>-0.016055</td>\n",
       "      <td>0.009745</td>\n",
       "      <td>-0.109079</td>\n",
       "      <td>-0.032652</td>\n",
       "      <td>-0.014965</td>\n",
       "      <td>-0.133404</td>\n",
       "      <td>-0.060008</td>\n",
       "      <td>-0.095580</td>\n",
       "      <td>...</td>\n",
       "      <td>-0.051473</td>\n",
       "      <td>-0.036159</td>\n",
       "      <td>0.083140</td>\n",
       "      <td>-0.010606</td>\n",
       "      <td>0.035531</td>\n",
       "      <td>-0.079342</td>\n",
       "      <td>-0.217489</td>\n",
       "      <td>-0.045258</td>\n",
       "      <td>0.015288</td>\n",
       "      <td>0.066815</td>\n",
       "    </tr>\n",
       "    <tr>\n",
       "      <th>waver_between</th>\n",
       "      <td>0.102329</td>\n",
       "      <td>0.077566</td>\n",
       "      <td>0.066139</td>\n",
       "      <td>-0.009320</td>\n",
       "      <td>0.030752</td>\n",
       "      <td>-0.068458</td>\n",
       "      <td>0.093068</td>\n",
       "      <td>0.083667</td>\n",
       "      <td>-0.088740</td>\n",
       "      <td>-0.134089</td>\n",
       "      <td>...</td>\n",
       "      <td>-0.199925</td>\n",
       "      <td>0.082120</td>\n",
       "      <td>-0.066139</td>\n",
       "      <td>0.063321</td>\n",
       "      <td>0.209005</td>\n",
       "      <td>-0.089807</td>\n",
       "      <td>-0.194636</td>\n",
       "      <td>-0.044476</td>\n",
       "      <td>-0.060768</td>\n",
       "      <td>0.074259</td>\n",
       "    </tr>\n",
       "    <tr>\n",
       "      <th>eiffel_tower</th>\n",
       "      <td>0.163862</td>\n",
       "      <td>-0.099029</td>\n",
       "      <td>0.030033</td>\n",
       "      <td>0.038324</td>\n",
       "      <td>-0.083547</td>\n",
       "      <td>0.007195</td>\n",
       "      <td>0.185270</td>\n",
       "      <td>0.023874</td>\n",
       "      <td>0.017657</td>\n",
       "      <td>-0.141521</td>\n",
       "      <td>...</td>\n",
       "      <td>-0.000444</td>\n",
       "      <td>-0.028921</td>\n",
       "      <td>0.024681</td>\n",
       "      <td>-0.099864</td>\n",
       "      <td>0.087001</td>\n",
       "      <td>0.024413</td>\n",
       "      <td>0.054042</td>\n",
       "      <td>0.047271</td>\n",
       "      <td>-0.140110</td>\n",
       "      <td>-0.176451</td>\n",
       "    </tr>\n",
       "    <tr>\n",
       "      <th>c+</th>\n",
       "      <td>0.101056</td>\n",
       "      <td>-0.088536</td>\n",
       "      <td>0.132189</td>\n",
       "      <td>0.000867</td>\n",
       "      <td>-0.101045</td>\n",
       "      <td>-0.043300</td>\n",
       "      <td>0.157300</td>\n",
       "      <td>-0.090755</td>\n",
       "      <td>0.067679</td>\n",
       "      <td>-0.120366</td>\n",
       "      <td>...</td>\n",
       "      <td>-0.245083</td>\n",
       "      <td>0.012083</td>\n",
       "      <td>0.005960</td>\n",
       "      <td>-0.078715</td>\n",
       "      <td>0.094734</td>\n",
       "      <td>-0.047365</td>\n",
       "      <td>-0.289057</td>\n",
       "      <td>-0.049314</td>\n",
       "      <td>-0.088786</td>\n",
       "      <td>0.018017</td>\n",
       "    </tr>\n",
       "    <tr>\n",
       "      <th>bopper</th>\n",
       "      <td>0.003084</td>\n",
       "      <td>0.032154</td>\n",
       "      <td>0.069466</td>\n",
       "      <td>-0.026017</td>\n",
       "      <td>-0.184615</td>\n",
       "      <td>-0.097299</td>\n",
       "      <td>0.147529</td>\n",
       "      <td>0.100757</td>\n",
       "      <td>-0.162129</td>\n",
       "      <td>-0.165253</td>\n",
       "      <td>...</td>\n",
       "      <td>-0.265498</td>\n",
       "      <td>-0.134850</td>\n",
       "      <td>0.061608</td>\n",
       "      <td>-0.036811</td>\n",
       "      <td>-0.041029</td>\n",
       "      <td>0.083798</td>\n",
       "      <td>-0.044939</td>\n",
       "      <td>0.001696</td>\n",
       "      <td>0.001035</td>\n",
       "      <td>0.031316</td>\n",
       "    </tr>\n",
       "    <tr>\n",
       "      <th>nonchalant</th>\n",
       "      <td>-0.237281</td>\n",
       "      <td>0.133649</td>\n",
       "      <td>0.023012</td>\n",
       "      <td>-0.010815</td>\n",
       "      <td>-0.179346</td>\n",
       "      <td>-0.101442</td>\n",
       "      <td>0.047226</td>\n",
       "      <td>0.039851</td>\n",
       "      <td>-0.038325</td>\n",
       "      <td>-0.140550</td>\n",
       "      <td>...</td>\n",
       "      <td>-0.121801</td>\n",
       "      <td>0.011014</td>\n",
       "      <td>0.046640</td>\n",
       "      <td>-0.066013</td>\n",
       "      <td>-0.068597</td>\n",
       "      <td>0.088625</td>\n",
       "      <td>-0.194496</td>\n",
       "      <td>-0.050903</td>\n",
       "      <td>0.069577</td>\n",
       "      <td>-0.090172</td>\n",
       "    </tr>\n",
       "    <tr>\n",
       "      <th>muck</th>\n",
       "      <td>-0.057392</td>\n",
       "      <td>0.148548</td>\n",
       "      <td>0.052888</td>\n",
       "      <td>-0.020212</td>\n",
       "      <td>-0.120123</td>\n",
       "      <td>0.195696</td>\n",
       "      <td>0.041123</td>\n",
       "      <td>0.016967</td>\n",
       "      <td>0.133468</td>\n",
       "      <td>-0.068974</td>\n",
       "      <td>...</td>\n",
       "      <td>0.062309</td>\n",
       "      <td>0.039563</td>\n",
       "      <td>0.066969</td>\n",
       "      <td>0.058117</td>\n",
       "      <td>0.026594</td>\n",
       "      <td>0.242005</td>\n",
       "      <td>-0.119496</td>\n",
       "      <td>0.029167</td>\n",
       "      <td>-0.167598</td>\n",
       "      <td>0.053039</td>\n",
       "    </tr>\n",
       "    <tr>\n",
       "      <th>pulpy</th>\n",
       "      <td>0.075844</td>\n",
       "      <td>-0.029356</td>\n",
       "      <td>-0.006729</td>\n",
       "      <td>-0.089143</td>\n",
       "      <td>-0.040493</td>\n",
       "      <td>-0.151665</td>\n",
       "      <td>-0.022088</td>\n",
       "      <td>-0.062293</td>\n",
       "      <td>-0.016807</td>\n",
       "      <td>0.106820</td>\n",
       "      <td>...</td>\n",
       "      <td>-0.016783</td>\n",
       "      <td>0.062382</td>\n",
       "      <td>0.026185</td>\n",
       "      <td>-0.087829</td>\n",
       "      <td>0.026232</td>\n",
       "      <td>-0.073482</td>\n",
       "      <td>-0.150929</td>\n",
       "      <td>-0.042992</td>\n",
       "      <td>0.009032</td>\n",
       "      <td>0.081622</td>\n",
       "    </tr>\n",
       "    <tr>\n",
       "      <th>silicon</th>\n",
       "      <td>-0.018285</td>\n",
       "      <td>0.031911</td>\n",
       "      <td>-0.094612</td>\n",
       "      <td>-0.058291</td>\n",
       "      <td>0.090906</td>\n",
       "      <td>0.181076</td>\n",
       "      <td>-0.002545</td>\n",
       "      <td>0.202550</td>\n",
       "      <td>-0.058177</td>\n",
       "      <td>-0.127498</td>\n",
       "      <td>...</td>\n",
       "      <td>0.042286</td>\n",
       "      <td>0.038178</td>\n",
       "      <td>0.129646</td>\n",
       "      <td>0.048690</td>\n",
       "      <td>-0.082774</td>\n",
       "      <td>0.118920</td>\n",
       "      <td>-0.035983</td>\n",
       "      <td>-0.087313</td>\n",
       "      <td>-0.033542</td>\n",
       "      <td>-0.013033</td>\n",
       "    </tr>\n",
       "    <tr>\n",
       "      <th>frigid</th>\n",
       "      <td>0.181937</td>\n",
       "      <td>-0.122518</td>\n",
       "      <td>-0.020188</td>\n",
       "      <td>0.030580</td>\n",
       "      <td>-0.114525</td>\n",
       "      <td>0.157483</td>\n",
       "      <td>0.022293</td>\n",
       "      <td>-0.022812</td>\n",
       "      <td>-0.102554</td>\n",
       "      <td>0.077692</td>\n",
       "      <td>...</td>\n",
       "      <td>-0.055082</td>\n",
       "      <td>-0.051157</td>\n",
       "      <td>0.092957</td>\n",
       "      <td>0.037300</td>\n",
       "      <td>0.020138</td>\n",
       "      <td>0.047334</td>\n",
       "      <td>-0.078385</td>\n",
       "      <td>-0.134873</td>\n",
       "      <td>0.083176</td>\n",
       "      <td>-0.110039</td>\n",
       "    </tr>\n",
       "    <tr>\n",
       "      <th>sour_dough_bread</th>\n",
       "      <td>-0.042429</td>\n",
       "      <td>-0.120812</td>\n",
       "      <td>0.111920</td>\n",
       "      <td>-0.020433</td>\n",
       "      <td>-0.068570</td>\n",
       "      <td>-0.063681</td>\n",
       "      <td>0.053423</td>\n",
       "      <td>-0.099901</td>\n",
       "      <td>-0.062424</td>\n",
       "      <td>0.072043</td>\n",
       "      <td>...</td>\n",
       "      <td>0.026662</td>\n",
       "      <td>0.053460</td>\n",
       "      <td>0.029816</td>\n",
       "      <td>-0.160351</td>\n",
       "      <td>-0.031650</td>\n",
       "      <td>-0.020589</td>\n",
       "      <td>0.015112</td>\n",
       "      <td>0.036034</td>\n",
       "      <td>-0.120633</td>\n",
       "      <td>0.144461</td>\n",
       "    </tr>\n",
       "    <tr>\n",
       "      <th>heat_stroke</th>\n",
       "      <td>-0.012750</td>\n",
       "      <td>0.112744</td>\n",
       "      <td>-0.099647</td>\n",
       "      <td>-0.023570</td>\n",
       "      <td>0.030827</td>\n",
       "      <td>0.017248</td>\n",
       "      <td>-0.025583</td>\n",
       "      <td>0.205732</td>\n",
       "      <td>-0.092978</td>\n",
       "      <td>0.039627</td>\n",
       "      <td>...</td>\n",
       "      <td>0.022427</td>\n",
       "      <td>-0.031578</td>\n",
       "      <td>0.124687</td>\n",
       "      <td>0.011289</td>\n",
       "      <td>0.070108</td>\n",
       "      <td>-0.015435</td>\n",
       "      <td>-0.028164</td>\n",
       "      <td>-0.115840</td>\n",
       "      <td>-0.036228</td>\n",
       "      <td>-0.108522</td>\n",
       "    </tr>\n",
       "    <tr>\n",
       "      <th>ramon</th>\n",
       "      <td>0.071448</td>\n",
       "      <td>0.070395</td>\n",
       "      <td>-0.017845</td>\n",
       "      <td>-0.078277</td>\n",
       "      <td>0.008182</td>\n",
       "      <td>0.077524</td>\n",
       "      <td>-0.147524</td>\n",
       "      <td>0.103873</td>\n",
       "      <td>-0.095494</td>\n",
       "      <td>-0.072023</td>\n",
       "      <td>...</td>\n",
       "      <td>-0.211237</td>\n",
       "      <td>0.085172</td>\n",
       "      <td>0.066275</td>\n",
       "      <td>-0.096389</td>\n",
       "      <td>-0.091058</td>\n",
       "      <td>0.163323</td>\n",
       "      <td>-0.021285</td>\n",
       "      <td>0.107377</td>\n",
       "      <td>0.091687</td>\n",
       "      <td>0.038711</td>\n",
       "    </tr>\n",
       "    <tr>\n",
       "      <th>silicon_valley</th>\n",
       "      <td>-0.031728</td>\n",
       "      <td>0.065986</td>\n",
       "      <td>-0.090782</td>\n",
       "      <td>0.093325</td>\n",
       "      <td>0.054855</td>\n",
       "      <td>0.185095</td>\n",
       "      <td>-0.112917</td>\n",
       "      <td>0.059399</td>\n",
       "      <td>0.016507</td>\n",
       "      <td>-0.005258</td>\n",
       "      <td>...</td>\n",
       "      <td>-0.048936</td>\n",
       "      <td>0.111810</td>\n",
       "      <td>0.178782</td>\n",
       "      <td>0.043527</td>\n",
       "      <td>0.049112</td>\n",
       "      <td>0.246829</td>\n",
       "      <td>-0.093993</td>\n",
       "      <td>0.046331</td>\n",
       "      <td>-0.113538</td>\n",
       "      <td>-0.043634</td>\n",
       "    </tr>\n",
       "    <tr>\n",
       "      <th>midwife</th>\n",
       "      <td>0.032607</td>\n",
       "      <td>0.118445</td>\n",
       "      <td>0.058979</td>\n",
       "      <td>-0.049641</td>\n",
       "      <td>-0.074549</td>\n",
       "      <td>0.102043</td>\n",
       "      <td>-0.030820</td>\n",
       "      <td>0.117244</td>\n",
       "      <td>0.110391</td>\n",
       "      <td>0.137871</td>\n",
       "      <td>...</td>\n",
       "      <td>-0.123808</td>\n",
       "      <td>0.070572</td>\n",
       "      <td>0.148157</td>\n",
       "      <td>-0.029353</td>\n",
       "      <td>-0.038571</td>\n",
       "      <td>-0.002871</td>\n",
       "      <td>-0.142739</td>\n",
       "      <td>0.080955</td>\n",
       "      <td>0.018275</td>\n",
       "      <td>-0.003718</td>\n",
       "    </tr>\n",
       "    <tr>\n",
       "      <th>turo</th>\n",
       "      <td>-0.002872</td>\n",
       "      <td>0.100616</td>\n",
       "      <td>0.024775</td>\n",
       "      <td>0.042064</td>\n",
       "      <td>-0.181024</td>\n",
       "      <td>-0.045325</td>\n",
       "      <td>-0.091078</td>\n",
       "      <td>0.118898</td>\n",
       "      <td>0.041361</td>\n",
       "      <td>-0.031164</td>\n",
       "      <td>...</td>\n",
       "      <td>-0.179149</td>\n",
       "      <td>0.067998</td>\n",
       "      <td>-0.028800</td>\n",
       "      <td>-0.053362</td>\n",
       "      <td>0.008514</td>\n",
       "      <td>0.192740</td>\n",
       "      <td>0.013435</td>\n",
       "      <td>0.146319</td>\n",
       "      <td>-0.071122</td>\n",
       "      <td>-0.123050</td>\n",
       "    </tr>\n",
       "    <tr>\n",
       "      <th>lobster_pot_pie</th>\n",
       "      <td>0.065933</td>\n",
       "      <td>-0.074196</td>\n",
       "      <td>0.006678</td>\n",
       "      <td>0.072824</td>\n",
       "      <td>0.030685</td>\n",
       "      <td>-0.179539</td>\n",
       "      <td>0.043215</td>\n",
       "      <td>0.011328</td>\n",
       "      <td>0.124498</td>\n",
       "      <td>-0.087628</td>\n",
       "      <td>...</td>\n",
       "      <td>0.013610</td>\n",
       "      <td>-0.019410</td>\n",
       "      <td>0.063683</td>\n",
       "      <td>-0.086567</td>\n",
       "      <td>-0.010810</td>\n",
       "      <td>-0.042191</td>\n",
       "      <td>-0.021020</td>\n",
       "      <td>-0.005881</td>\n",
       "      <td>-0.108963</td>\n",
       "      <td>0.054508</td>\n",
       "    </tr>\n",
       "    <tr>\n",
       "      <th>random_n00b</th>\n",
       "      <td>0.135806</td>\n",
       "      <td>0.082153</td>\n",
       "      <td>0.068016</td>\n",
       "      <td>-0.159726</td>\n",
       "      <td>0.017755</td>\n",
       "      <td>-0.030525</td>\n",
       "      <td>0.163407</td>\n",
       "      <td>-0.026765</td>\n",
       "      <td>0.093306</td>\n",
       "      <td>0.049933</td>\n",
       "      <td>...</td>\n",
       "      <td>0.113413</td>\n",
       "      <td>-0.079203</td>\n",
       "      <td>0.039033</td>\n",
       "      <td>-0.002216</td>\n",
       "      <td>0.061233</td>\n",
       "      <td>-0.087782</td>\n",
       "      <td>0.133817</td>\n",
       "      <td>-0.063097</td>\n",
       "      <td>-0.100745</td>\n",
       "      <td>-0.112946</td>\n",
       "    </tr>\n",
       "  </tbody>\n",
       "</table>\n",
       "<p>23940 rows × 100 columns</p>\n",
       "</div>"
      ],
      "text/plain": [
       "                          0         1         2         3         4   \\\n",
       ".                  -0.254288 -0.008166  0.096933  0.120253  0.203089   \n",
       "be                 -0.169987 -0.037755  0.031239  0.086343 -0.041922   \n",
       "the                -0.224838 -0.031757  0.066099 -0.000337 -0.089664   \n",
       ",                  -0.084222 -0.241057  0.153468  0.030384  0.073891   \n",
       "and                -0.130864 -0.106706  0.319187 -0.020662 -0.026065   \n",
       "i                  -0.036812 -0.001789  0.098743  0.033161  0.108806   \n",
       "a                  -0.159124  0.026329  0.090037  0.041029  0.130571   \n",
       "to                 -0.069858  0.147919  0.108706  0.095508 -0.095533   \n",
       "have               -0.052769  0.006958  0.188641 -0.106268  0.022796   \n",
       "it                 -0.147424  0.040524 -0.021452 -0.023354  0.014061   \n",
       "of                 -0.116245 -0.057022  0.102051  0.068979 -0.117034   \n",
       "not                -0.028029  0.059914  0.053211  0.127409  0.061184   \n",
       "for                -0.072769  0.227003  0.059333 -0.032289  0.134825   \n",
       "in                  0.153031 -0.028704 -0.012960  0.120877  0.001708   \n",
       "!                   0.015920 -0.007115 -0.068639  0.090752  0.035376   \n",
       "that               -0.009020  0.076674  0.087441  0.024179 -0.108594   \n",
       "you                -0.008593  0.077229  0.162490 -0.001409 -0.068088   \n",
       "my                 -0.005201  0.111229 -0.074745 -0.102532  0.064264   \n",
       "with               -0.039787 -0.002619  0.189819 -0.151708 -0.082709   \n",
       "but                -0.111960 -0.081612  0.162756  0.061740  0.058034   \n",
       "this               -0.113050  0.150875 -0.075848  0.108963 -0.003334   \n",
       "they               -0.110876 -0.052425  0.122954  0.082089  0.060970   \n",
       "good               -0.010751  0.003195  0.061726  0.012054  0.018434   \n",
       "we                 -0.127540 -0.039386  0.069177  0.054355  0.101220   \n",
       "do                  0.088346  0.017565  0.067525 -0.033308 -0.042622   \n",
       "on                  0.034108 -0.059613  0.203343  0.071404 -0.067242   \n",
       "-                  -0.107891 -0.124730  0.073622  0.003487 -0.010522   \n",
       "place              -0.072572  0.101745 -0.002463  0.137321 -0.037302   \n",
       "go                 -0.056979  0.019585  0.063406 -0.110641 -0.081678   \n",
       "so                 -0.057930 -0.064302  0.085985 -0.034025  0.008980   \n",
       "...                      ...       ...       ...       ...       ...   \n",
       "mango_lemonade      0.117700 -0.163586  0.090167  0.022168 -0.190930   \n",
       "proper_temperature  0.063529 -0.122419 -0.074329 -0.024282 -0.117734   \n",
       "stewardess          0.035735  0.193419  0.045338  0.015221 -0.139772   \n",
       "scop                0.027196  0.186026 -0.115418  0.068632 -0.025751   \n",
       "spontaneously       0.015049  0.060245  0.082024  0.026028 -0.076437   \n",
       "6ish               -0.017222 -0.112735 -0.033021 -0.114874  0.052748   \n",
       "bobby_qs           -0.018655  0.232200 -0.007310  0.175889  0.007578   \n",
       "runny_egg           0.037520 -0.071909  0.055932 -0.017844  0.054255   \n",
       "buffets            -0.013833 -0.008375 -0.021122  0.016032  0.053972   \n",
       "aileen              0.117803  0.004942  0.066435  0.034498  0.089002   \n",
       "shopping_district  -0.014735  0.059887 -0.035171  0.079610 -0.085418   \n",
       "deviate            -0.101273  0.130971 -0.008858  0.122338  0.001312   \n",
       "yummmy              0.233449 -0.026253 -0.016055  0.009745 -0.109079   \n",
       "waver_between       0.102329  0.077566  0.066139 -0.009320  0.030752   \n",
       "eiffel_tower        0.163862 -0.099029  0.030033  0.038324 -0.083547   \n",
       "c+                  0.101056 -0.088536  0.132189  0.000867 -0.101045   \n",
       "bopper              0.003084  0.032154  0.069466 -0.026017 -0.184615   \n",
       "nonchalant         -0.237281  0.133649  0.023012 -0.010815 -0.179346   \n",
       "muck               -0.057392  0.148548  0.052888 -0.020212 -0.120123   \n",
       "pulpy               0.075844 -0.029356 -0.006729 -0.089143 -0.040493   \n",
       "silicon            -0.018285  0.031911 -0.094612 -0.058291  0.090906   \n",
       "frigid              0.181937 -0.122518 -0.020188  0.030580 -0.114525   \n",
       "sour_dough_bread   -0.042429 -0.120812  0.111920 -0.020433 -0.068570   \n",
       "heat_stroke        -0.012750  0.112744 -0.099647 -0.023570  0.030827   \n",
       "ramon               0.071448  0.070395 -0.017845 -0.078277  0.008182   \n",
       "silicon_valley     -0.031728  0.065986 -0.090782  0.093325  0.054855   \n",
       "midwife             0.032607  0.118445  0.058979 -0.049641 -0.074549   \n",
       "turo               -0.002872  0.100616  0.024775  0.042064 -0.181024   \n",
       "lobster_pot_pie     0.065933 -0.074196  0.006678  0.072824  0.030685   \n",
       "random_n00b         0.135806  0.082153  0.068016 -0.159726  0.017755   \n",
       "\n",
       "                          5         6         7         8         9   \\\n",
       ".                   0.109891  0.088139 -0.015824 -0.048591  0.144771   \n",
       "be                 -0.004628  0.190583  0.079585  0.024429  0.043859   \n",
       "the                 0.152004  0.063224  0.059955  0.083353  0.011475   \n",
       ",                  -0.003068  0.075903  0.008140 -0.059969 -0.059622   \n",
       "and                 0.130232  0.028848 -0.036718 -0.045193  0.106748   \n",
       "i                  -0.060845  0.010600  0.112932 -0.107017  0.162365   \n",
       "a                  -0.074993  0.253993 -0.123532  0.067198  0.206722   \n",
       "to                 -0.012318  0.081875  0.158887  0.032820  0.106667   \n",
       "have               -0.091381  0.042286 -0.018741  0.029946  0.037364   \n",
       "it                 -0.041111  0.062585 -0.015974 -0.083464  0.055700   \n",
       "of                  0.088000  0.015665  0.131196 -0.041459  0.097331   \n",
       "not                -0.146929  0.123728  0.073398  0.002686 -0.052973   \n",
       "for                 0.043138  0.121079  0.049012 -0.019052  0.022416   \n",
       "in                  0.154358  0.064325  0.203225  0.070433  0.089105   \n",
       "!                   0.099293  0.024236 -0.171282 -0.155684  0.067542   \n",
       "that               -0.209398  0.097588  0.030460  0.037259  0.028843   \n",
       "you                 0.080187  0.097681  0.160474 -0.160049  0.198934   \n",
       "my                  0.075235  0.018320  0.051427 -0.027090  0.139025   \n",
       "with                0.065047  0.124531  0.031408  0.034773 -0.031225   \n",
       "but                -0.025575  0.136825  0.052041  0.062357  0.002552   \n",
       "this               -0.108763  0.124957  0.096957  0.136000 -0.065902   \n",
       "they               -0.096973 -0.019732 -0.007418 -0.069265  0.210709   \n",
       "good                0.043065 -0.025598 -0.088500 -0.019108  0.067020   \n",
       "we                 -0.056925 -0.012542  0.040202 -0.109838  0.118005   \n",
       "do                  0.000333  0.208777 -0.021872 -0.035658  0.002089   \n",
       "on                  0.051876  0.197740  0.135977 -0.026019  0.076386   \n",
       "-                   0.046858  0.083362 -0.066744 -0.064284 -0.107305   \n",
       "place              -0.027995  0.040581  0.066791 -0.127034 -0.004785   \n",
       "go                 -0.147352  0.132148  0.002229 -0.076421  0.214568   \n",
       "so                 -0.022764  0.193141  0.026369 -0.044061  0.060970   \n",
       "...                      ...       ...       ...       ...       ...   \n",
       "mango_lemonade     -0.067859 -0.013369 -0.177154 -0.039387  0.095124   \n",
       "proper_temperature  0.130729  0.161275  0.095504  0.046662  0.107188   \n",
       "stewardess          0.084004  0.073915 -0.065431  0.071323 -0.006385   \n",
       "scop               -0.076825  0.144311  0.165415 -0.078594  0.090775   \n",
       "spontaneously       0.139282  0.068989  0.222726  0.011868  0.135953   \n",
       "6ish               -0.071254  0.151022  0.081040 -0.187811  0.025410   \n",
       "bobby_qs           -0.088639  0.036944  0.137551 -0.060862  0.052952   \n",
       "runny_egg          -0.026767  0.073918 -0.057225 -0.068527 -0.165187   \n",
       "buffets             0.129398 -0.067014  0.112863  0.022801 -0.151803   \n",
       "aileen             -0.020874  0.139839 -0.004116  0.191844  0.035595   \n",
       "shopping_district   0.116329  0.004054  0.060161  0.042818 -0.021512   \n",
       "deviate            -0.135160  0.099635  0.083538 -0.040661  0.112373   \n",
       "yummmy             -0.032652 -0.014965 -0.133404 -0.060008 -0.095580   \n",
       "waver_between      -0.068458  0.093068  0.083667 -0.088740 -0.134089   \n",
       "eiffel_tower        0.007195  0.185270  0.023874  0.017657 -0.141521   \n",
       "c+                 -0.043300  0.157300 -0.090755  0.067679 -0.120366   \n",
       "bopper             -0.097299  0.147529  0.100757 -0.162129 -0.165253   \n",
       "nonchalant         -0.101442  0.047226  0.039851 -0.038325 -0.140550   \n",
       "muck                0.195696  0.041123  0.016967  0.133468 -0.068974   \n",
       "pulpy              -0.151665 -0.022088 -0.062293 -0.016807  0.106820   \n",
       "silicon             0.181076 -0.002545  0.202550 -0.058177 -0.127498   \n",
       "frigid              0.157483  0.022293 -0.022812 -0.102554  0.077692   \n",
       "sour_dough_bread   -0.063681  0.053423 -0.099901 -0.062424  0.072043   \n",
       "heat_stroke         0.017248 -0.025583  0.205732 -0.092978  0.039627   \n",
       "ramon               0.077524 -0.147524  0.103873 -0.095494 -0.072023   \n",
       "silicon_valley      0.185095 -0.112917  0.059399  0.016507 -0.005258   \n",
       "midwife             0.102043 -0.030820  0.117244  0.110391  0.137871   \n",
       "turo               -0.045325 -0.091078  0.118898  0.041361 -0.031164   \n",
       "lobster_pot_pie    -0.179539  0.043215  0.011328  0.124498 -0.087628   \n",
       "random_n00b        -0.030525  0.163407 -0.026765  0.093306  0.049933   \n",
       "\n",
       "                      ...           90        91        92        93  \\\n",
       ".                     ...     0.027867 -0.092910  0.063256 -0.030933   \n",
       "be                    ...    -0.299139  0.029100  0.102870 -0.106142   \n",
       "the                   ...    -0.064983 -0.119364  0.097833  0.074799   \n",
       ",                     ...    -0.092725 -0.075149  0.058186 -0.079363   \n",
       "and                   ...    -0.077935 -0.116944 -0.068429  0.034556   \n",
       "i                     ...    -0.008071 -0.045966 -0.033461 -0.155408   \n",
       "a                     ...     0.043978 -0.077543 -0.067460 -0.005895   \n",
       "to                    ...    -0.114423 -0.008895 -0.083843  0.157734   \n",
       "have                  ...    -0.145475  0.107154  0.170398 -0.025789   \n",
       "it                    ...    -0.011148 -0.220539  0.076913 -0.036763   \n",
       "of                    ...    -0.028372 -0.008502 -0.048226  0.167795   \n",
       "not                   ...    -0.078730 -0.031932  0.178455  0.031951   \n",
       "for                   ...    -0.063334 -0.074183 -0.064450  0.006609   \n",
       "in                    ...     0.013702 -0.089008  0.044212 -0.020910   \n",
       "!                     ...    -0.077179 -0.111616  0.171760 -0.020728   \n",
       "that                  ...    -0.058589 -0.160952  0.065222  0.009797   \n",
       "you                   ...     0.055350 -0.078875  0.091349 -0.071281   \n",
       "my                    ...    -0.024804 -0.127248  0.068173 -0.063541   \n",
       "with                  ...     0.079845 -0.019438 -0.024237  0.174277   \n",
       "but                   ...    -0.065209 -0.075470 -0.003502 -0.195081   \n",
       "this                  ...     0.048325 -0.233468  0.157574  0.000088   \n",
       "they                  ...    -0.112594 -0.043078  0.082907 -0.102599   \n",
       "good                  ...    -0.000666  0.000682  0.049886  0.065574   \n",
       "we                    ...    -0.021304  0.007585 -0.013805 -0.067316   \n",
       "do                    ...    -0.061098  0.023965  0.018958 -0.023734   \n",
       "on                    ...     0.073342 -0.016444 -0.093454  0.188277   \n",
       "-                     ...    -0.142191 -0.128903 -0.051688 -0.003151   \n",
       "place                 ...    -0.138536 -0.186387  0.240998  0.008538   \n",
       "go                    ...    -0.054014 -0.141861  0.166002  0.009919   \n",
       "so                    ...    -0.129624 -0.079995 -0.023068  0.036023   \n",
       "...                   ...          ...       ...       ...       ...   \n",
       "mango_lemonade        ...     0.065652 -0.075142 -0.041146 -0.002097   \n",
       "proper_temperature    ...     0.067250  0.116292 -0.094147  0.041815   \n",
       "stewardess            ...    -0.088564  0.102465  0.043440 -0.068528   \n",
       "scop                  ...    -0.134952 -0.190418  0.033782  0.034904   \n",
       "spontaneously         ...    -0.075005 -0.055069  0.089894  0.137033   \n",
       "6ish                  ...    -0.059854 -0.059272  0.109360  0.082985   \n",
       "bobby_qs              ...    -0.145991  0.052175  0.155651 -0.044059   \n",
       "runny_egg             ...    -0.101340 -0.026490  0.001019 -0.285303   \n",
       "buffets               ...    -0.068006 -0.003186  0.191869 -0.169404   \n",
       "aileen                ...     0.034228  0.043083  0.010600  0.030982   \n",
       "shopping_district     ...     0.070603  0.007302  0.206597  0.016567   \n",
       "deviate               ...    -0.110208 -0.004361  0.092776 -0.121442   \n",
       "yummmy                ...    -0.051473 -0.036159  0.083140 -0.010606   \n",
       "waver_between         ...    -0.199925  0.082120 -0.066139  0.063321   \n",
       "eiffel_tower          ...    -0.000444 -0.028921  0.024681 -0.099864   \n",
       "c+                    ...    -0.245083  0.012083  0.005960 -0.078715   \n",
       "bopper                ...    -0.265498 -0.134850  0.061608 -0.036811   \n",
       "nonchalant            ...    -0.121801  0.011014  0.046640 -0.066013   \n",
       "muck                  ...     0.062309  0.039563  0.066969  0.058117   \n",
       "pulpy                 ...    -0.016783  0.062382  0.026185 -0.087829   \n",
       "silicon               ...     0.042286  0.038178  0.129646  0.048690   \n",
       "frigid                ...    -0.055082 -0.051157  0.092957  0.037300   \n",
       "sour_dough_bread      ...     0.026662  0.053460  0.029816 -0.160351   \n",
       "heat_stroke           ...     0.022427 -0.031578  0.124687  0.011289   \n",
       "ramon                 ...    -0.211237  0.085172  0.066275 -0.096389   \n",
       "silicon_valley        ...    -0.048936  0.111810  0.178782  0.043527   \n",
       "midwife               ...    -0.123808  0.070572  0.148157 -0.029353   \n",
       "turo                  ...    -0.179149  0.067998 -0.028800 -0.053362   \n",
       "lobster_pot_pie       ...     0.013610 -0.019410  0.063683 -0.086567   \n",
       "random_n00b           ...     0.113413 -0.079203  0.039033 -0.002216   \n",
       "\n",
       "                          94        95        96        97        98        99  \n",
       ".                  -0.052652  0.007322 -0.079695  0.090100  0.084017  0.076051  \n",
       "be                 -0.061285 -0.032494  0.003788  0.081990 -0.135785 -0.035845  \n",
       "the                -0.110316  0.068887  0.100405  0.083792 -0.023126 -0.128029  \n",
       ",                  -0.098208 -0.010734 -0.072859  0.155270 -0.037007 -0.040295  \n",
       "and                -0.185711 -0.035680 -0.154883  0.071010  0.014853  0.087299  \n",
       "i                  -0.019195  0.029607 -0.256207 -0.087891  0.060058 -0.122758  \n",
       "a                  -0.068900  0.058941 -0.233234  0.064196 -0.157664 -0.109600  \n",
       "to                 -0.086326  0.115300  0.068325  0.003174  0.103649 -0.079623  \n",
       "have               -0.090797 -0.070032 -0.169535 -0.065836 -0.068351 -0.168688  \n",
       "it                 -0.141299  0.095313 -0.154693 -0.034851 -0.034097 -0.139978  \n",
       "of                 -0.070317  0.145727 -0.092282 -0.046559 -0.072093 -0.151417  \n",
       "not                -0.137206 -0.016284 -0.201291  0.032437 -0.211178 -0.094082  \n",
       "for                 0.002746 -0.023285  0.018982 -0.034134 -0.002575 -0.106469  \n",
       "in                 -0.070783  0.146732 -0.068713 -0.104801  0.046713 -0.052775  \n",
       "!                   0.087132  0.030464 -0.147284  0.038236  0.187549  0.085674  \n",
       "that               -0.166165  0.207121 -0.060879 -0.068779  0.012976 -0.166199  \n",
       "you                 0.008958  0.001028 -0.243446 -0.061607 -0.142132 -0.158324  \n",
       "my                 -0.083094  0.026758 -0.279338  0.159026  0.177395  0.035129  \n",
       "with               -0.247447 -0.118780  0.024092  0.005244 -0.059696 -0.060294  \n",
       "but                -0.000105 -0.010880 -0.195400 -0.054093 -0.114218 -0.033690  \n",
       "this               -0.058896  0.235687 -0.209736 -0.032646  0.022783 -0.159577  \n",
       "they               -0.194757  0.018308 -0.103851 -0.014974 -0.036729 -0.108376  \n",
       "good                0.009957  0.028708 -0.165895 -0.035162 -0.053935 -0.040618  \n",
       "we                 -0.099122  0.028271 -0.109085 -0.030749 -0.009849 -0.189756  \n",
       "do                  0.018893  0.126058 -0.059949 -0.039346 -0.045478 -0.109674  \n",
       "on                 -0.019787  0.147751 -0.134598 -0.012672  0.085532  0.003268  \n",
       "-                  -0.102432  0.112567 -0.245901  0.016943  0.097135  0.050772  \n",
       "place               0.076003 -0.065291 -0.283148  0.080416 -0.070483 -0.041105  \n",
       "go                  0.181963  0.110672 -0.194917 -0.070442  0.036393 -0.015277  \n",
       "so                 -0.135313  0.055976 -0.191369 -0.046893 -0.071527  0.024945  \n",
       "...                      ...       ...       ...       ...       ...       ...  \n",
       "mango_lemonade     -0.056011 -0.147545 -0.106158 -0.035662 -0.043170  0.181901  \n",
       "proper_temperature -0.088402  0.031001  0.021841  0.011320 -0.088031 -0.183428  \n",
       "stewardess         -0.013787  0.124121  0.010681 -0.002531  0.091423 -0.081411  \n",
       "scop                0.074676  0.168433 -0.166941 -0.047646  0.017784 -0.094015  \n",
       "spontaneously       0.034510  0.038039 -0.100744  0.062949  0.086101  0.041080  \n",
       "6ish               -0.034286 -0.033175 -0.077177 -0.063898  0.092159 -0.040095  \n",
       "bobby_qs            0.107036  0.105823 -0.137205 -0.057718 -0.022302 -0.153051  \n",
       "runny_egg           0.091015 -0.008174  0.051514 -0.005396 -0.099769 -0.026948  \n",
       "buffets             0.189421  0.151361 -0.142516  0.110151 -0.005102 -0.048852  \n",
       "aileen             -0.051053 -0.068126 -0.177819  0.103190 -0.085634 -0.009405  \n",
       "shopping_district   0.004530  0.159482 -0.012149  0.195476 -0.065303 -0.031955  \n",
       "deviate             0.081459  0.153187 -0.066102  0.032723 -0.146476 -0.119470  \n",
       "yummmy              0.035531 -0.079342 -0.217489 -0.045258  0.015288  0.066815  \n",
       "waver_between       0.209005 -0.089807 -0.194636 -0.044476 -0.060768  0.074259  \n",
       "eiffel_tower        0.087001  0.024413  0.054042  0.047271 -0.140110 -0.176451  \n",
       "c+                  0.094734 -0.047365 -0.289057 -0.049314 -0.088786  0.018017  \n",
       "bopper             -0.041029  0.083798 -0.044939  0.001696  0.001035  0.031316  \n",
       "nonchalant         -0.068597  0.088625 -0.194496 -0.050903  0.069577 -0.090172  \n",
       "muck                0.026594  0.242005 -0.119496  0.029167 -0.167598  0.053039  \n",
       "pulpy               0.026232 -0.073482 -0.150929 -0.042992  0.009032  0.081622  \n",
       "silicon            -0.082774  0.118920 -0.035983 -0.087313 -0.033542 -0.013033  \n",
       "frigid              0.020138  0.047334 -0.078385 -0.134873  0.083176 -0.110039  \n",
       "sour_dough_bread   -0.031650 -0.020589  0.015112  0.036034 -0.120633  0.144461  \n",
       "heat_stroke         0.070108 -0.015435 -0.028164 -0.115840 -0.036228 -0.108522  \n",
       "ramon              -0.091058  0.163323 -0.021285  0.107377  0.091687  0.038711  \n",
       "silicon_valley      0.049112  0.246829 -0.093993  0.046331 -0.113538 -0.043634  \n",
       "midwife            -0.038571 -0.002871 -0.142739  0.080955  0.018275 -0.003718  \n",
       "turo                0.008514  0.192740  0.013435  0.146319 -0.071122 -0.123050  \n",
       "lobster_pot_pie    -0.010810 -0.042191 -0.021020 -0.005881 -0.108963  0.054508  \n",
       "random_n00b         0.061233 -0.087782  0.133817 -0.063097 -0.100745 -0.112946  \n",
       "\n",
       "[23940 rows x 100 columns]"
      ]
     },
     "execution_count": 46,
     "metadata": {},
     "output_type": "execute_result"
    }
   ],
   "source": [
    "# build a list of the terms, integer indices,\n",
    "# and term counts from the word2vec model vocabulary\n",
    "ordered_vocab = [\n",
    "    (term, voc.index, voc.count)\n",
    "    for term, voc in word2vec.wv.vocab.items()\n",
    "    ]\n",
    "\n",
    "# sort by the term counts, so the most common terms appear first\n",
    "ordered_vocab = sorted(ordered_vocab, key=lambda vocab_element: -vocab_element[-1])\n",
    "\n",
    "# unzip the terms, integer indices, and counts into separate lists\n",
    "ordered_terms, term_indices, term_counts = zip(*ordered_vocab)\n",
    "\n",
    "# create a DataFrame with the word2vec vectors as data,\n",
    "# and the terms as row labels\n",
    "word_vectors = pd.DataFrame(word2vec.wv.vectors_norm[term_indices, :],\n",
    "                            index=ordered_terms)\n",
    "\n",
    "word_vectors"
   ]
  },
  {
   "cell_type": "markdown",
   "metadata": {},
   "source": [
    "What a wall of numbers! This DataFrame has one row for each term in the vocabulary and 100 colums. Our model has learned a quantitative vector representation for each term, as expected.\n",
    "\n",
    "Put another way, our model has \"embedded\" the terms into a 100-dimensional vector space."
   ]
  },
  {
   "cell_type": "markdown",
   "metadata": {},
   "source": [
    "### So... what can we do with all these numbers?\n",
    "The first thing we can use them for is to simply look up related words and phrases for a given term of interest."
   ]
  },
  {
   "cell_type": "code",
   "execution_count": 47,
   "metadata": {
    "collapsed": true
   },
   "outputs": [],
   "source": [
    "def get_related_terms(token, topn=10):\n",
    "    \"\"\"\n",
    "    look up the topn most similar terms to token\n",
    "    and print them as a formatted list\n",
    "    \"\"\"\n",
    "\n",
    "    for word, similarity in word2vec.wv.most_similar(positive=[token], topn=topn):\n",
    "\n",
    "        print(f'{word:20} {round(similarity, 3)}')"
   ]
  },
  {
   "cell_type": "markdown",
   "metadata": {},
   "source": [
    "### What things are like Burger King?"
   ]
  },
  {
   "cell_type": "code",
   "execution_count": 48,
   "metadata": {},
   "outputs": [
    {
     "name": "stdout",
     "output_type": "stream",
     "text": [
      "mcdonalds            0.807\n",
      "mcdonald_'s          0.802\n",
      "wendy_'s             0.785\n",
      "denny_'s             0.753\n",
      "bk                   0.701\n",
      "taco_bell            0.677\n",
      "panda_express        0.677\n",
      "subway               0.674\n",
      "sbarro               0.672\n",
      "kfc                  0.67\n"
     ]
    }
   ],
   "source": [
    "get_related_terms('burger_king')"
   ]
  },
  {
   "cell_type": "markdown",
   "metadata": {},
   "source": [
    "The model has learned that fast food restaurants are similar to each other! In particular, *mcdonalds* and *wendy's* are the most similar to Burger King, according to this dataset. In addition, the model has found that alternate spellings for the same entities are probably related, such as *mcdonalds*, *mcdonald's* and *mcd's*."
   ]
  },
  {
   "cell_type": "markdown",
   "metadata": {},
   "source": [
    "### When is happy hour?"
   ]
  },
  {
   "cell_type": "code",
   "execution_count": 49,
   "metadata": {},
   "outputs": [
    {
     "name": "stdout",
     "output_type": "stream",
     "text": [
      "hh                   0.909\n",
      "reverse_happy_hour   0.85\n",
      "during_happy_hour    0.795\n",
      "happy_hr             0.716\n",
      "until_7_p.m.         0.694\n",
      "happy_hour-          0.69\n",
      "sunday_brunch        0.651\n",
      "mon                  0.645\n",
      "during_hh            0.644\n",
      "happy_hours          0.643\n"
     ]
    }
   ],
   "source": [
    "get_related_terms('happy_hour')"
   ]
  },
  {
   "cell_type": "markdown",
   "metadata": {},
   "source": [
    "The model has noticed several alternate spellings for happy hour, such as *hh* and *happy hr*, and assesses them as highly related. If you were looking for reviews about happy hour, such alternate spellings would be very helpful to know.\n",
    "\n",
    "Taking a deeper look &mdash; the model has turned up phrases like *3-6pm*, *4-7pm*, and *mon-fri*, too. This is especially interesting, because the model has no advance knowledge at all about what happy hour is, and what time of day it should be. But simply by scanning through restaurant reviews, the model has discovered that the concept of happy hour has something very important to do with that block of time around 3-7pm on weekdays."
   ]
  },
  {
   "cell_type": "markdown",
   "metadata": {},
   "source": [
    "### Let's make pasta tonight. Which style do you want?"
   ]
  },
  {
   "cell_type": "code",
   "execution_count": 50,
   "metadata": {},
   "outputs": [
    {
     "name": "stdout",
     "output_type": "stream",
     "text": [
      "pasta_dish           0.807\n",
      "angel_hair_pasta     0.772\n",
      "meatball             0.764\n",
      "penne                0.759\n",
      "pesto                0.757\n",
      "lasagna              0.755\n",
      "spaghetti            0.755\n",
      "mizithra_cheese      0.753\n",
      "fettucine            0.748\n",
      "alfredo              0.746\n",
      "salad                0.742\n",
      "spinach              0.735\n",
      "eggplant_parmesan    0.735\n",
      "ravioli              0.724\n",
      "risotto              0.719\n",
      "tortellini           0.719\n",
      "chicken_marsala      0.716\n",
      "gnocchi              0.716\n",
      "rigatoni             0.716\n",
      "carbonara            0.715\n"
     ]
    }
   ],
   "source": [
    "get_related_terms('pasta', topn=20)"
   ]
  },
  {
   "cell_type": "markdown",
   "metadata": {},
   "source": [
    "## Word algebra!\n",
    "No self-respecting word2vec demo would be complete without a healthy dose of *word algebra*, also known as *analogy completion*.\n",
    "\n",
    "The core idea is that once words are represented as numerical vectors, you can do math with them. The mathematical procedure goes like this:\n",
    "1. Provide a set of words or phrases that you'd like to add or subtract.\n",
    "1. Look up the vectors that represent those terms in the word vector model.\n",
    "1. Add and subtract those vectors to produce a new, combined vector.\n",
    "1. Look up the most similar vector(s) to this new, combined vector via cosine similarity.\n",
    "1. Return the word(s) associated with the similar vector(s).\n",
    "\n",
    "But more generally, you can think of the vectors that represent each word as encoding some information about the *meaning* or *concepts* of the word. What happens when you ask the model to combine the meaning and concepts of words in new ways? Let's see."
   ]
  },
  {
   "cell_type": "code",
   "execution_count": 51,
   "metadata": {
    "collapsed": true
   },
   "outputs": [],
   "source": [
    "def word_algebra(add=[], subtract=[], topn=1):\n",
    "    \"\"\"\n",
    "    combine the vectors associated with the words provided\n",
    "    in add= and subtract=, look up the topn most similar\n",
    "    terms to the combined vector, and print the result(s)\n",
    "    \"\"\"\n",
    "    answers = word2vec.wv.most_similar(positive=add, negative=subtract, topn=topn)\n",
    "    \n",
    "    for term, similarity in answers:\n",
    "        print(term)"
   ]
  },
  {
   "cell_type": "markdown",
   "metadata": {},
   "source": [
    "### breakfast + lunch = ?\n",
    "Let's start with a softball."
   ]
  },
  {
   "cell_type": "code",
   "execution_count": 52,
   "metadata": {},
   "outputs": [
    {
     "name": "stdout",
     "output_type": "stream",
     "text": [
      "brunch\n"
     ]
    }
   ],
   "source": [
    "word_algebra(add=['breakfast', 'lunch'])"
   ]
  },
  {
   "cell_type": "markdown",
   "metadata": {},
   "source": [
    "OK, so the model knows that *brunch* is a combination of *breakfast* and *lunch*. What else?"
   ]
  },
  {
   "cell_type": "markdown",
   "metadata": {},
   "source": [
    "### lunch - day + night = ?"
   ]
  },
  {
   "cell_type": "code",
   "execution_count": 53,
   "metadata": {},
   "outputs": [
    {
     "name": "stdout",
     "output_type": "stream",
     "text": [
      "dinner\n"
     ]
    }
   ],
   "source": [
    "word_algebra(add=['lunch', 'night'], subtract=['day'])"
   ]
  },
  {
   "cell_type": "markdown",
   "metadata": {},
   "source": [
    "Now we're getting a bit more nuanced. The model has discovered that:\n",
    "- Both *lunch* and *dinner* are meals\n",
    "- The main difference between them is time of day\n",
    "- Day and night are times of day\n",
    "- Lunch is associated with day, and dinner is associated with night\n",
    "\n",
    "What else?"
   ]
  },
  {
   "cell_type": "markdown",
   "metadata": {},
   "source": [
    "### burrito - mexican + chinese = ?"
   ]
  },
  {
   "cell_type": "code",
   "execution_count": 54,
   "metadata": {},
   "outputs": [
    {
     "name": "stdout",
     "output_type": "stream",
     "text": [
      "lo_mein\n"
     ]
    }
   ],
   "source": [
    "word_algebra(add=['burrito', 'chinese'], subtract=['mexican'])"
   ]
  },
  {
   "cell_type": "markdown",
   "metadata": {},
   "source": [
    "Here's an entirely new and different type of relationship that the model has learned.\n",
    "\n",
    "- It knows that burritos are an example of Mexican food\n",
    "- It knows that Mexican and Chinese are both styles of food\n",
    "- If you subtract *Mexican* from *burrito*, you're left with something like the concept of a *\"a type of food\"*, which is represented as a new vector\n",
    "- If you add that new *\"a type of food\"* vector to _Chinese_, and look up a nearby vector, you get *lo mein*.\n",
    "\n",
    "What else?"
   ]
  },
  {
   "cell_type": "markdown",
   "metadata": {},
   "source": [
    "### bun - american + mexican = ?"
   ]
  },
  {
   "cell_type": "code",
   "execution_count": 55,
   "metadata": {},
   "outputs": [
    {
     "name": "stdout",
     "output_type": "stream",
     "text": [
      "tortilla\n"
     ]
    }
   ],
   "source": [
    "word_algebra(add=['bun', 'mexican'], subtract=['american'])"
   ]
  },
  {
   "cell_type": "markdown",
   "metadata": {},
   "source": [
    "The model knows that both *buns* and *tortillas* are the doughy thing that goes on the outside of your real food, and that the primary difference between them is the style of food they're associated with.\n",
    "\n",
    "What else?"
   ]
  },
  {
   "cell_type": "markdown",
   "metadata": {},
   "source": [
    "### filet - beef + seafood = ?"
   ]
  },
  {
   "cell_type": "code",
   "execution_count": 56,
   "metadata": {},
   "outputs": [
    {
     "name": "stdout",
     "output_type": "stream",
     "text": [
      "lobster_tail\n"
     ]
    }
   ],
   "source": [
    "word_algebra(add=['filet', 'seafood'], subtract=['beef'])"
   ]
  },
  {
   "cell_type": "markdown",
   "metadata": {},
   "source": [
    "The model has learned a concept of *delicacy*. If you take _filet_ and subtract _beef_ from it, you're left with a vector that roughly corresponds to delicacy. If you add the delicacy vector to *seafood*, you get *lobster tail*.\n",
    "\n",
    "What else?"
   ]
  },
  {
   "cell_type": "markdown",
   "metadata": {},
   "source": [
    "### Applebee's + x = ?"
   ]
  },
  {
   "cell_type": "code",
   "execution_count": 57,
   "metadata": {},
   "outputs": [
    {
     "name": "stdout",
     "output_type": "stream",
     "text": [
      "olive_garden\n"
     ]
    }
   ],
   "source": [
    "word_algebra(add=[\"applebee_'s\", 'italian'])"
   ]
  },
  {
   "cell_type": "code",
   "execution_count": 58,
   "metadata": {},
   "outputs": [
    {
     "name": "stdout",
     "output_type": "stream",
     "text": [
      "ihop\n"
     ]
    }
   ],
   "source": [
    "word_algebra(add=[\"applebee_'s\", 'breakfast'])"
   ]
  },
  {
   "cell_type": "code",
   "execution_count": 59,
   "metadata": {},
   "outputs": [
    {
     "name": "stdout",
     "output_type": "stream",
     "text": [
      "cheesecake_factory\n"
     ]
    }
   ],
   "source": [
    "word_algebra(add=[\"applebee_'s\", 'cheesecake'])"
   ]
  },
  {
   "cell_type": "markdown",
   "metadata": {},
   "source": [
    "## Word Vector Visualization with t-SNE"
   ]
  },
  {
   "cell_type": "markdown",
   "metadata": {},
   "source": [
    "[t-Distributed Stochastic Neighbor Embedding](https://lvdmaaten.github.io/publications/papers/JMLR_2008.pdf), or t-SNE for short, is a dimensionality reduction technique to assist with visualizing high-dimensional datasets. It attempts to map high-dimensional data onto a low two- or three-dimensional representation such that the relative distances between points are preserved as closely as possible in both high-dimensional and low-dimensional space.\n",
    "\n",
    "scikit-learn provides a convenient implementation of the t-SNE algorithm with its [`TSNE`](http://scikit-learn.org/stable/modules/generated/sklearn.manifold.TSNE.html) class."
   ]
  },
  {
   "cell_type": "code",
   "execution_count": 60,
   "metadata": {
    "collapsed": true
   },
   "outputs": [],
   "source": [
    "from sklearn.manifold import TSNE"
   ]
  },
  {
   "cell_type": "markdown",
   "metadata": {},
   "source": [
    "Our input for t-SNE will be the DataFrame of word vectors we created before. Let's first:\n",
    "\n",
    "- Drop punctuation and stopwords — it's probably not too interesting to visualize the, of, or, and so on\n",
    "- Take only the 5,000 most frequent terms in the vocabulary — no need to visualize all terms right now."
   ]
  },
  {
   "cell_type": "code",
   "execution_count": 61,
   "metadata": {
    "collapsed": true
   },
   "outputs": [],
   "source": [
    "from string import punctuation\n",
    "\n",
    "punct_and_stop = set.union(set(punctuation), nlp.Defaults.stop_words)\n",
    "\n",
    "tsne_input = word_vectors.drop(punct_and_stop, errors='ignore')\n",
    "tsne_input = tsne_input.head(5000)"
   ]
  },
  {
   "cell_type": "code",
   "execution_count": 62,
   "metadata": {},
   "outputs": [
    {
     "data": {
      "text/html": [
       "<div>\n",
       "<style>\n",
       "    .dataframe thead tr:only-child th {\n",
       "        text-align: right;\n",
       "    }\n",
       "\n",
       "    .dataframe thead th {\n",
       "        text-align: left;\n",
       "    }\n",
       "\n",
       "    .dataframe tbody tr th {\n",
       "        vertical-align: top;\n",
       "    }\n",
       "</style>\n",
       "<table border=\"1\" class=\"dataframe\">\n",
       "  <thead>\n",
       "    <tr style=\"text-align: right;\">\n",
       "      <th></th>\n",
       "      <th>0</th>\n",
       "      <th>1</th>\n",
       "      <th>2</th>\n",
       "      <th>3</th>\n",
       "      <th>4</th>\n",
       "      <th>5</th>\n",
       "      <th>6</th>\n",
       "      <th>7</th>\n",
       "      <th>8</th>\n",
       "      <th>9</th>\n",
       "      <th>...</th>\n",
       "      <th>90</th>\n",
       "      <th>91</th>\n",
       "      <th>92</th>\n",
       "      <th>93</th>\n",
       "      <th>94</th>\n",
       "      <th>95</th>\n",
       "      <th>96</th>\n",
       "      <th>97</th>\n",
       "      <th>98</th>\n",
       "      <th>99</th>\n",
       "    </tr>\n",
       "  </thead>\n",
       "  <tbody>\n",
       "    <tr>\n",
       "      <th>good</th>\n",
       "      <td>-0.010751</td>\n",
       "      <td>0.003195</td>\n",
       "      <td>0.061726</td>\n",
       "      <td>0.012054</td>\n",
       "      <td>0.018434</td>\n",
       "      <td>0.043065</td>\n",
       "      <td>-0.025598</td>\n",
       "      <td>-0.088500</td>\n",
       "      <td>-0.019108</td>\n",
       "      <td>0.067020</td>\n",
       "      <td>...</td>\n",
       "      <td>-0.000666</td>\n",
       "      <td>0.000682</td>\n",
       "      <td>0.049886</td>\n",
       "      <td>0.065574</td>\n",
       "      <td>0.009957</td>\n",
       "      <td>0.028708</td>\n",
       "      <td>-0.165895</td>\n",
       "      <td>-0.035162</td>\n",
       "      <td>-0.053935</td>\n",
       "      <td>-0.040618</td>\n",
       "    </tr>\n",
       "    <tr>\n",
       "      <th>place</th>\n",
       "      <td>-0.072572</td>\n",
       "      <td>0.101745</td>\n",
       "      <td>-0.002463</td>\n",
       "      <td>0.137321</td>\n",
       "      <td>-0.037302</td>\n",
       "      <td>-0.027995</td>\n",
       "      <td>0.040581</td>\n",
       "      <td>0.066791</td>\n",
       "      <td>-0.127034</td>\n",
       "      <td>-0.004785</td>\n",
       "      <td>...</td>\n",
       "      <td>-0.138536</td>\n",
       "      <td>-0.186387</td>\n",
       "      <td>0.240998</td>\n",
       "      <td>0.008538</td>\n",
       "      <td>0.076003</td>\n",
       "      <td>-0.065291</td>\n",
       "      <td>-0.283148</td>\n",
       "      <td>0.080416</td>\n",
       "      <td>-0.070483</td>\n",
       "      <td>-0.041105</td>\n",
       "    </tr>\n",
       "    <tr>\n",
       "      <th>food</th>\n",
       "      <td>-0.140375</td>\n",
       "      <td>0.015928</td>\n",
       "      <td>-0.078567</td>\n",
       "      <td>-0.003502</td>\n",
       "      <td>-0.045927</td>\n",
       "      <td>0.152604</td>\n",
       "      <td>0.029936</td>\n",
       "      <td>-0.105862</td>\n",
       "      <td>0.006941</td>\n",
       "      <td>0.118307</td>\n",
       "      <td>...</td>\n",
       "      <td>-0.016753</td>\n",
       "      <td>0.000615</td>\n",
       "      <td>0.094833</td>\n",
       "      <td>-0.030300</td>\n",
       "      <td>-0.004086</td>\n",
       "      <td>-0.054307</td>\n",
       "      <td>-0.043243</td>\n",
       "      <td>0.165271</td>\n",
       "      <td>0.001989</td>\n",
       "      <td>-0.205273</td>\n",
       "    </tr>\n",
       "    <tr>\n",
       "      <th>like</th>\n",
       "      <td>-0.026877</td>\n",
       "      <td>0.068767</td>\n",
       "      <td>0.263107</td>\n",
       "      <td>0.052399</td>\n",
       "      <td>-0.021948</td>\n",
       "      <td>-0.109308</td>\n",
       "      <td>0.065365</td>\n",
       "      <td>0.019362</td>\n",
       "      <td>0.013777</td>\n",
       "      <td>0.036759</td>\n",
       "      <td>...</td>\n",
       "      <td>-0.281176</td>\n",
       "      <td>0.067463</td>\n",
       "      <td>-0.047427</td>\n",
       "      <td>-0.040918</td>\n",
       "      <td>0.019139</td>\n",
       "      <td>0.192089</td>\n",
       "      <td>-0.010476</td>\n",
       "      <td>0.025508</td>\n",
       "      <td>-0.015460</td>\n",
       "      <td>-0.126650</td>\n",
       "    </tr>\n",
       "    <tr>\n",
       "      <th>great</th>\n",
       "      <td>-0.095316</td>\n",
       "      <td>-0.040160</td>\n",
       "      <td>0.062136</td>\n",
       "      <td>0.067663</td>\n",
       "      <td>-0.058903</td>\n",
       "      <td>0.051150</td>\n",
       "      <td>0.007506</td>\n",
       "      <td>-0.148531</td>\n",
       "      <td>0.013340</td>\n",
       "      <td>0.030207</td>\n",
       "      <td>...</td>\n",
       "      <td>0.029164</td>\n",
       "      <td>0.141338</td>\n",
       "      <td>0.127930</td>\n",
       "      <td>0.222855</td>\n",
       "      <td>0.005930</td>\n",
       "      <td>0.070921</td>\n",
       "      <td>-0.200842</td>\n",
       "      <td>0.014155</td>\n",
       "      <td>-0.074503</td>\n",
       "      <td>-0.101075</td>\n",
       "    </tr>\n",
       "  </tbody>\n",
       "</table>\n",
       "<p>5 rows × 100 columns</p>\n",
       "</div>"
      ],
      "text/plain": [
       "             0         1         2         3         4         5         6   \\\n",
       "good  -0.010751  0.003195  0.061726  0.012054  0.018434  0.043065 -0.025598   \n",
       "place -0.072572  0.101745 -0.002463  0.137321 -0.037302 -0.027995  0.040581   \n",
       "food  -0.140375  0.015928 -0.078567 -0.003502 -0.045927  0.152604  0.029936   \n",
       "like  -0.026877  0.068767  0.263107  0.052399 -0.021948 -0.109308  0.065365   \n",
       "great -0.095316 -0.040160  0.062136  0.067663 -0.058903  0.051150  0.007506   \n",
       "\n",
       "             7         8         9     ...           90        91        92  \\\n",
       "good  -0.088500 -0.019108  0.067020    ...    -0.000666  0.000682  0.049886   \n",
       "place  0.066791 -0.127034 -0.004785    ...    -0.138536 -0.186387  0.240998   \n",
       "food  -0.105862  0.006941  0.118307    ...    -0.016753  0.000615  0.094833   \n",
       "like   0.019362  0.013777  0.036759    ...    -0.281176  0.067463 -0.047427   \n",
       "great -0.148531  0.013340  0.030207    ...     0.029164  0.141338  0.127930   \n",
       "\n",
       "             93        94        95        96        97        98        99  \n",
       "good   0.065574  0.009957  0.028708 -0.165895 -0.035162 -0.053935 -0.040618  \n",
       "place  0.008538  0.076003 -0.065291 -0.283148  0.080416 -0.070483 -0.041105  \n",
       "food  -0.030300 -0.004086 -0.054307 -0.043243  0.165271  0.001989 -0.205273  \n",
       "like  -0.040918  0.019139  0.192089 -0.010476  0.025508 -0.015460 -0.126650  \n",
       "great  0.222855  0.005930  0.070921 -0.200842  0.014155 -0.074503 -0.101075  \n",
       "\n",
       "[5 rows x 100 columns]"
      ]
     },
     "execution_count": 62,
     "metadata": {},
     "output_type": "execute_result"
    }
   ],
   "source": [
    "tsne_input.head()"
   ]
  },
  {
   "cell_type": "markdown",
   "metadata": {},
   "source": [
    "Next, we'll \"train\" a `TSNE` model on our 100-dimensional word vectors. We'll use it to generate a two-dimensional representation that preserves the spatial relationships in the original data as much as possible."
   ]
  },
  {
   "cell_type": "code",
   "execution_count": 63,
   "metadata": {
    "collapsed": true
   },
   "outputs": [],
   "source": [
    "import pickle\n",
    "\n",
    "tsne_filepath = 'tsne_model'\n",
    "tsne_vectors_filepath = 'tsne_vectors.npy'"
   ]
  },
  {
   "cell_type": "code",
   "execution_count": 64,
   "metadata": {},
   "outputs": [
    {
     "name": "stdout",
     "output_type": "stream",
     "text": [
      "CPU times: user 5 µs, sys: 0 ns, total: 5 µs\n",
      "Wall time: 10 µs\n"
     ]
    }
   ],
   "source": [
    "%%time\n",
    "\n",
    "execute = False\n",
    "\n",
    "if execute:\n",
    "    \n",
    "    tsne = TSNE()\n",
    "    tsne_vectors = tsne.fit_transform(tsne_input.values)\n",
    "    \n",
    "    with open(tsne_filepath, 'wb') as f:\n",
    "        pickle.dump(tsne, f)\n",
    "\n",
    "    pd.np.save(tsne_vectors_filepath, tsne_vectors)"
   ]
  },
  {
   "cell_type": "markdown",
   "metadata": {},
   "source": [
    "```CPU times: user 1min 42s, sys: 10.8 s, total: 1min 53s\n",
    "Wall time: 1min 53s```"
   ]
  },
  {
   "cell_type": "code",
   "execution_count": 65,
   "metadata": {
    "collapsed": true
   },
   "outputs": [],
   "source": [
    "with open(tsne_filepath, 'rb') as f:\n",
    "    tsne = pickle.load(f)\n",
    "    \n",
    "tsne_vectors = pd.np.load(tsne_vectors_filepath)\n",
    "\n",
    "tsne_vectors = pd.DataFrame(\n",
    "    tsne_vectors,\n",
    "    index=pd.Index(tsne_input.index),\n",
    "    columns=['x_coord', 'y_coord']\n",
    "    )"
   ]
  },
  {
   "cell_type": "markdown",
   "metadata": {},
   "source": [
    "Now we have a two-dimensional representation of our data! Let's preview the new coordinates."
   ]
  },
  {
   "cell_type": "code",
   "execution_count": 66,
   "metadata": {},
   "outputs": [
    {
     "data": {
      "text/html": [
       "<div>\n",
       "<style>\n",
       "    .dataframe thead tr:only-child th {\n",
       "        text-align: right;\n",
       "    }\n",
       "\n",
       "    .dataframe thead th {\n",
       "        text-align: left;\n",
       "    }\n",
       "\n",
       "    .dataframe tbody tr th {\n",
       "        vertical-align: top;\n",
       "    }\n",
       "</style>\n",
       "<table border=\"1\" class=\"dataframe\">\n",
       "  <thead>\n",
       "    <tr style=\"text-align: right;\">\n",
       "      <th></th>\n",
       "      <th>x_coord</th>\n",
       "      <th>y_coord</th>\n",
       "    </tr>\n",
       "  </thead>\n",
       "  <tbody>\n",
       "    <tr>\n",
       "      <th>good</th>\n",
       "      <td>20.968317</td>\n",
       "      <td>28.874466</td>\n",
       "    </tr>\n",
       "    <tr>\n",
       "      <th>place</th>\n",
       "      <td>-11.629225</td>\n",
       "      <td>43.165817</td>\n",
       "    </tr>\n",
       "    <tr>\n",
       "      <th>food</th>\n",
       "      <td>-31.311211</td>\n",
       "      <td>36.447498</td>\n",
       "    </tr>\n",
       "    <tr>\n",
       "      <th>like</th>\n",
       "      <td>16.364672</td>\n",
       "      <td>42.780750</td>\n",
       "    </tr>\n",
       "    <tr>\n",
       "      <th>great</th>\n",
       "      <td>18.449545</td>\n",
       "      <td>29.140442</td>\n",
       "    </tr>\n",
       "  </tbody>\n",
       "</table>\n",
       "</div>"
      ],
      "text/plain": [
       "         x_coord    y_coord\n",
       "good   20.968317  28.874466\n",
       "place -11.629225  43.165817\n",
       "food  -31.311211  36.447498\n",
       "like   16.364672  42.780750\n",
       "great  18.449545  29.140442"
      ]
     },
     "execution_count": 66,
     "metadata": {},
     "output_type": "execute_result"
    }
   ],
   "source": [
    "tsne_vectors.head()"
   ]
  },
  {
   "cell_type": "code",
   "execution_count": 67,
   "metadata": {
    "collapsed": true
   },
   "outputs": [],
   "source": [
    "tsne_vectors['word'] = tsne_vectors.index"
   ]
  },
  {
   "cell_type": "markdown",
   "metadata": {},
   "source": [
    "### Plotting with Bokeh"
   ]
  },
  {
   "cell_type": "markdown",
   "metadata": {},
   "source": [
    "Bokeh is an interactive visualization library in Python that targets web browsers for presentation. We can use Bokeh to create an interactive plot of our t-SNE word vectors to help us explore and understand the relationships our word2vec model has learned from our Yelp data."
   ]
  },
  {
   "cell_type": "code",
   "execution_count": 68,
   "metadata": {},
   "outputs": [
    {
     "data": {
      "text/html": [
       "\n",
       "    <div class=\"bk-root\">\n",
       "        <a href=\"http://bokeh.pydata.org\" target=\"_blank\" class=\"bk-logo bk-logo-small bk-logo-notebook\"></a>\n",
       "        <span id=\"82a5fd8e-feea-40b3-90ca-6fcbdba370a4\">Loading BokehJS ...</span>\n",
       "    </div>"
      ]
     },
     "metadata": {},
     "output_type": "display_data"
    },
    {
     "data": {
      "application/javascript": [
       "\n",
       "(function(global) {\n",
       "  function now() {\n",
       "    return new Date();\n",
       "  }\n",
       "\n",
       "  var force = true;\n",
       "\n",
       "  if (typeof (window._bokeh_onload_callbacks) === \"undefined\" || force === true) {\n",
       "    window._bokeh_onload_callbacks = [];\n",
       "    window._bokeh_is_loading = undefined;\n",
       "  }\n",
       "\n",
       "\n",
       "  \n",
       "  if (typeof (window._bokeh_timeout) === \"undefined\" || force === true) {\n",
       "    window._bokeh_timeout = Date.now() + 5000;\n",
       "    window._bokeh_failed_load = false;\n",
       "  }\n",
       "\n",
       "  var NB_LOAD_WARNING = {'data': {'text/html':\n",
       "     \"<div style='background-color: #fdd'>\\n\"+\n",
       "     \"<p>\\n\"+\n",
       "     \"BokehJS does not appear to have successfully loaded. If loading BokehJS from CDN, this \\n\"+\n",
       "     \"may be due to a slow or bad network connection. Possible fixes:\\n\"+\n",
       "     \"</p>\\n\"+\n",
       "     \"<ul>\\n\"+\n",
       "     \"<li>re-rerun `output_notebook()` to attempt to load from CDN again, or</li>\\n\"+\n",
       "     \"<li>use INLINE resources instead, as so:</li>\\n\"+\n",
       "     \"</ul>\\n\"+\n",
       "     \"<code>\\n\"+\n",
       "     \"from bokeh.resources import INLINE\\n\"+\n",
       "     \"output_notebook(resources=INLINE)\\n\"+\n",
       "     \"</code>\\n\"+\n",
       "     \"</div>\"}};\n",
       "\n",
       "  function display_loaded() {\n",
       "    if (window.Bokeh !== undefined) {\n",
       "      var el = document.getElementById(\"82a5fd8e-feea-40b3-90ca-6fcbdba370a4\");\n",
       "      el.textContent = \"BokehJS \" + Bokeh.version + \" successfully loaded.\";\n",
       "    } else if (Date.now() < window._bokeh_timeout) {\n",
       "      setTimeout(display_loaded, 100)\n",
       "    }\n",
       "  }\n",
       "\n",
       "  function run_callbacks() {\n",
       "    try {\n",
       "      window._bokeh_onload_callbacks.forEach(function(callback) { callback() });\n",
       "    }\n",
       "    finally {\n",
       "      delete window._bokeh_onload_callbacks\n",
       "    }\n",
       "    console.info(\"Bokeh: all callbacks have finished\");\n",
       "  }\n",
       "\n",
       "  function load_libs(js_urls, callback) {\n",
       "    window._bokeh_onload_callbacks.push(callback);\n",
       "    if (window._bokeh_is_loading > 0) {\n",
       "      console.log(\"Bokeh: BokehJS is being loaded, scheduling callback at\", now());\n",
       "      return null;\n",
       "    }\n",
       "    if (js_urls == null || js_urls.length === 0) {\n",
       "      run_callbacks();\n",
       "      return null;\n",
       "    }\n",
       "    console.log(\"Bokeh: BokehJS not loaded, scheduling load and callback at\", now());\n",
       "    window._bokeh_is_loading = js_urls.length;\n",
       "    for (var i = 0; i < js_urls.length; i++) {\n",
       "      var url = js_urls[i];\n",
       "      var s = document.createElement('script');\n",
       "      s.src = url;\n",
       "      s.async = false;\n",
       "      s.onreadystatechange = s.onload = function() {\n",
       "        window._bokeh_is_loading--;\n",
       "        if (window._bokeh_is_loading === 0) {\n",
       "          console.log(\"Bokeh: all BokehJS libraries loaded\");\n",
       "          run_callbacks()\n",
       "        }\n",
       "      };\n",
       "      s.onerror = function() {\n",
       "        console.warn(\"failed to load library \" + url);\n",
       "      };\n",
       "      console.log(\"Bokeh: injecting script tag for BokehJS library: \", url);\n",
       "      document.getElementsByTagName(\"head\")[0].appendChild(s);\n",
       "    }\n",
       "  };var element = document.getElementById(\"82a5fd8e-feea-40b3-90ca-6fcbdba370a4\");\n",
       "  if (element == null) {\n",
       "    console.log(\"Bokeh: ERROR: autoload.js configured with elementid '82a5fd8e-feea-40b3-90ca-6fcbdba370a4' but no matching script tag was found. \")\n",
       "    return false;\n",
       "  }\n",
       "\n",
       "  var js_urls = [\"https://cdn.pydata.org/bokeh/release/bokeh-0.12.6.min.js\", \"https://cdn.pydata.org/bokeh/release/bokeh-widgets-0.12.6.min.js\"];\n",
       "\n",
       "  var inline_js = [\n",
       "    function(Bokeh) {\n",
       "      Bokeh.set_log_level(\"info\");\n",
       "    },\n",
       "    \n",
       "    function(Bokeh) {\n",
       "      \n",
       "    },\n",
       "    \n",
       "    function(Bokeh) {\n",
       "      \n",
       "      document.getElementById(\"82a5fd8e-feea-40b3-90ca-6fcbdba370a4\").textContent = \"BokehJS is loading...\";\n",
       "    },\n",
       "    function(Bokeh) {\n",
       "      console.log(\"Bokeh: injecting CSS: https://cdn.pydata.org/bokeh/release/bokeh-0.12.6.min.css\");\n",
       "      Bokeh.embed.inject_css(\"https://cdn.pydata.org/bokeh/release/bokeh-0.12.6.min.css\");\n",
       "      console.log(\"Bokeh: injecting CSS: https://cdn.pydata.org/bokeh/release/bokeh-widgets-0.12.6.min.css\");\n",
       "      Bokeh.embed.inject_css(\"https://cdn.pydata.org/bokeh/release/bokeh-widgets-0.12.6.min.css\");\n",
       "    }\n",
       "  ];\n",
       "\n",
       "  function run_inline_js() {\n",
       "    \n",
       "    if ((window.Bokeh !== undefined) || (force === true)) {\n",
       "      for (var i = 0; i < inline_js.length; i++) {\n",
       "        inline_js[i](window.Bokeh);\n",
       "      }if (force === true) {\n",
       "        display_loaded();\n",
       "      }} else if (Date.now() < window._bokeh_timeout) {\n",
       "      setTimeout(run_inline_js, 100);\n",
       "    } else if (!window._bokeh_failed_load) {\n",
       "      console.log(\"Bokeh: BokehJS failed to load within specified timeout.\");\n",
       "      window._bokeh_failed_load = true;\n",
       "    } else if (force !== true) {\n",
       "      var cell = $(document.getElementById(\"82a5fd8e-feea-40b3-90ca-6fcbdba370a4\")).parents('.cell').data().cell;\n",
       "      cell.output_area.append_execute_result(NB_LOAD_WARNING)\n",
       "    }\n",
       "\n",
       "  }\n",
       "\n",
       "  if (window._bokeh_is_loading === 0) {\n",
       "    console.log(\"Bokeh: BokehJS loaded, going straight to plotting\");\n",
       "    run_inline_js();\n",
       "  } else {\n",
       "    load_libs(js_urls, function() {\n",
       "      console.log(\"Bokeh: BokehJS plotting callback run at\", now());\n",
       "      run_inline_js();\n",
       "    });\n",
       "  }\n",
       "}(this));"
      ]
     },
     "metadata": {},
     "output_type": "display_data"
    }
   ],
   "source": [
    "from bokeh.plotting import figure, show, output_notebook\n",
    "from bokeh.models import HoverTool, ColumnDataSource, value\n",
    "\n",
    "output_notebook()"
   ]
  },
  {
   "cell_type": "code",
   "execution_count": 69,
   "metadata": {},
   "outputs": [
    {
     "data": {
      "text/html": [
       "\n",
       "\n",
       "    <div class=\"bk-root\">\n",
       "        <div class=\"bk-plotdiv\" id=\"84d8e639-5eba-4c4e-8ca3-cda23ceff42e\"></div>\n",
       "    </div>\n",
       "<script type=\"text/javascript\">\n",
       "  \n",
       "  (function(global) {\n",
       "    function now() {\n",
       "      return new Date();\n",
       "    }\n",
       "  \n",
       "    var force = false;\n",
       "  \n",
       "    if (typeof (window._bokeh_onload_callbacks) === \"undefined\" || force === true) {\n",
       "      window._bokeh_onload_callbacks = [];\n",
       "      window._bokeh_is_loading = undefined;\n",
       "    }\n",
       "  \n",
       "  \n",
       "    \n",
       "    if (typeof (window._bokeh_timeout) === \"undefined\" || force === true) {\n",
       "      window._bokeh_timeout = Date.now() + 0;\n",
       "      window._bokeh_failed_load = false;\n",
       "    }\n",
       "  \n",
       "    var NB_LOAD_WARNING = {'data': {'text/html':\n",
       "       \"<div style='background-color: #fdd'>\\n\"+\n",
       "       \"<p>\\n\"+\n",
       "       \"BokehJS does not appear to have successfully loaded. If loading BokehJS from CDN, this \\n\"+\n",
       "       \"may be due to a slow or bad network connection. Possible fixes:\\n\"+\n",
       "       \"</p>\\n\"+\n",
       "       \"<ul>\\n\"+\n",
       "       \"<li>re-rerun `output_notebook()` to attempt to load from CDN again, or</li>\\n\"+\n",
       "       \"<li>use INLINE resources instead, as so:</li>\\n\"+\n",
       "       \"</ul>\\n\"+\n",
       "       \"<code>\\n\"+\n",
       "       \"from bokeh.resources import INLINE\\n\"+\n",
       "       \"output_notebook(resources=INLINE)\\n\"+\n",
       "       \"</code>\\n\"+\n",
       "       \"</div>\"}};\n",
       "  \n",
       "    function display_loaded() {\n",
       "      if (window.Bokeh !== undefined) {\n",
       "        var el = document.getElementById(\"84d8e639-5eba-4c4e-8ca3-cda23ceff42e\");\n",
       "        el.textContent = \"BokehJS \" + Bokeh.version + \" successfully loaded.\";\n",
       "      } else if (Date.now() < window._bokeh_timeout) {\n",
       "        setTimeout(display_loaded, 100)\n",
       "      }\n",
       "    }\n",
       "  \n",
       "    function run_callbacks() {\n",
       "      try {\n",
       "        window._bokeh_onload_callbacks.forEach(function(callback) { callback() });\n",
       "      }\n",
       "      finally {\n",
       "        delete window._bokeh_onload_callbacks\n",
       "      }\n",
       "      console.info(\"Bokeh: all callbacks have finished\");\n",
       "    }\n",
       "  \n",
       "    function load_libs(js_urls, callback) {\n",
       "      window._bokeh_onload_callbacks.push(callback);\n",
       "      if (window._bokeh_is_loading > 0) {\n",
       "        console.log(\"Bokeh: BokehJS is being loaded, scheduling callback at\", now());\n",
       "        return null;\n",
       "      }\n",
       "      if (js_urls == null || js_urls.length === 0) {\n",
       "        run_callbacks();\n",
       "        return null;\n",
       "      }\n",
       "      console.log(\"Bokeh: BokehJS not loaded, scheduling load and callback at\", now());\n",
       "      window._bokeh_is_loading = js_urls.length;\n",
       "      for (var i = 0; i < js_urls.length; i++) {\n",
       "        var url = js_urls[i];\n",
       "        var s = document.createElement('script');\n",
       "        s.src = url;\n",
       "        s.async = false;\n",
       "        s.onreadystatechange = s.onload = function() {\n",
       "          window._bokeh_is_loading--;\n",
       "          if (window._bokeh_is_loading === 0) {\n",
       "            console.log(\"Bokeh: all BokehJS libraries loaded\");\n",
       "            run_callbacks()\n",
       "          }\n",
       "        };\n",
       "        s.onerror = function() {\n",
       "          console.warn(\"failed to load library \" + url);\n",
       "        };\n",
       "        console.log(\"Bokeh: injecting script tag for BokehJS library: \", url);\n",
       "        document.getElementsByTagName(\"head\")[0].appendChild(s);\n",
       "      }\n",
       "    };var element = document.getElementById(\"84d8e639-5eba-4c4e-8ca3-cda23ceff42e\");\n",
       "    if (element == null) {\n",
       "      console.log(\"Bokeh: ERROR: autoload.js configured with elementid '84d8e639-5eba-4c4e-8ca3-cda23ceff42e' but no matching script tag was found. \")\n",
       "      return false;\n",
       "    }\n",
       "  \n",
       "    var js_urls = [];\n",
       "  \n",
       "    var inline_js = [\n",
       "      function(Bokeh) {\n",
       "        (function() {\n",
       "          var fn = function() {\n",
       "            var docs_json = {\"f88262ec-6b47-4033-a097-1d295b6d78cc\":{\"roots\":{\"references\":[{\"attributes\":{\"plot\":{\"id\":\"a8761417-667e-4651-a31b-185930f4193e\",\"subtype\":\"Figure\",\"type\":\"Plot\"}},\"id\":\"2921117a-ec33-496f-8d4c-f410707f72fb\",\"type\":\"ResizeTool\"},{\"attributes\":{\"plot\":{\"id\":\"a8761417-667e-4651-a31b-185930f4193e\",\"subtype\":\"Figure\",\"type\":\"Plot\"}},\"id\":\"b3837a1f-9446-4ad2-8c67-3fd4d93c77ac\",\"type\":\"ResetTool\"},{\"attributes\":{},\"id\":\"08318b82-a9ee-4943-90d5-6fef455ab870\",\"type\":\"LinearScale\"},{\"attributes\":{\"data_source\":{\"id\":\"ba0e1a67-ff47-47c4-a5c7-a4ac323cda98\",\"type\":\"ColumnDataSource\"},\"glyph\":{\"id\":\"5944e2c2-5df2-46c0-9d47-5ba60ae74715\",\"type\":\"Circle\"},\"hover_glyph\":{\"id\":\"dad6a0b9-2ec8-4db6-9ace-fa35262dadef\",\"type\":\"Circle\"},\"muted_glyph\":null,\"nonselection_glyph\":{\"id\":\"7e7e8dd3-69a3-4709-abdc-b2fcce05e5d2\",\"type\":\"Circle\"},\"selection_glyph\":null},\"id\":\"f299a1a5-fd21-45d9-a173-46d6122c772e\",\"type\":\"GlyphRenderer\"},{\"attributes\":{\"fill_alpha\":{\"value\":0.1},\"fill_color\":{\"value\":\"#1f77b4\"},\"line_alpha\":{\"value\":0.1},\"line_color\":{\"value\":\"#1f77b4\"},\"size\":{\"units\":\"screen\",\"value\":10},\"x\":{\"field\":\"x_coord\"},\"y\":{\"field\":\"y_coord\"}},\"id\":\"7e7e8dd3-69a3-4709-abdc-b2fcce05e5d2\",\"type\":\"Circle\"},{\"attributes\":{\"fill_alpha\":{\"value\":0.1},\"fill_color\":{\"value\":\"blue\"},\"line_alpha\":{\"value\":0.2},\"line_color\":{\"value\":\"blue\"},\"size\":{\"units\":\"screen\",\"value\":10},\"x\":{\"field\":\"x_coord\"},\"y\":{\"field\":\"y_coord\"}},\"id\":\"5944e2c2-5df2-46c0-9d47-5ba60ae74715\",\"type\":\"Circle\"},{\"attributes\":{\"bottom_units\":\"screen\",\"fill_alpha\":{\"value\":0.5},\"fill_color\":{\"value\":\"lightgrey\"},\"left_units\":\"screen\",\"level\":\"overlay\",\"line_alpha\":{\"value\":1.0},\"line_color\":{\"value\":\"black\"},\"line_dash\":[4,4],\"line_width\":{\"value\":2},\"plot\":null,\"render_mode\":\"css\",\"right_units\":\"screen\",\"top_units\":\"screen\"},\"id\":\"2556bd3f-69a0-4d7b-a1fe-baa1176e2883\",\"type\":\"BoxAnnotation\"},{\"attributes\":{\"below\":[{\"id\":\"6ef32869-b4bd-408e-a64b-8180d9d2f1e1\",\"type\":\"LinearAxis\"}],\"left\":[{\"id\":\"9efe3997-7cb3-4141-aa9e-06cf67b05367\",\"type\":\"LinearAxis\"}],\"outline_line_color\":{\"value\":null},\"plot_height\":800,\"plot_width\":800,\"renderers\":[{\"id\":\"6ef32869-b4bd-408e-a64b-8180d9d2f1e1\",\"type\":\"LinearAxis\"},{\"id\":\"bb9707cb-10ea-45c4-bdcf-d91d3e694282\",\"type\":\"Grid\"},{\"id\":\"9efe3997-7cb3-4141-aa9e-06cf67b05367\",\"type\":\"LinearAxis\"},{\"id\":\"1779d56b-d025-445b-95af-7a7238c3b481\",\"type\":\"Grid\"},{\"id\":\"37e1e06d-e1fb-49ea-a0a4-e70d1f660575\",\"type\":\"BoxAnnotation\"},{\"id\":\"2556bd3f-69a0-4d7b-a1fe-baa1176e2883\",\"type\":\"BoxAnnotation\"},{\"id\":\"f299a1a5-fd21-45d9-a173-46d6122c772e\",\"type\":\"GlyphRenderer\"}],\"title\":{\"id\":\"1c08baaf-4a6e-4dbb-884f-754cfcaf7256\",\"type\":\"Title\"},\"tool_events\":{\"id\":\"eb689050-04c5-42d5-a86b-49f2855bd7b5\",\"type\":\"ToolEvents\"},\"toolbar\":{\"id\":\"003bf639-0ef0-4159-83dd-ca01985ac073\",\"type\":\"Toolbar\"},\"x_range\":{\"id\":\"d1f837a9-4e57-40f8-8ece-c33521e3bbbd\",\"type\":\"DataRange1d\"},\"x_scale\":{\"id\":\"ee3cc7a3-1fac-4e4b-9885-0ab0a2be6afb\",\"type\":\"LinearScale\"},\"y_range\":{\"id\":\"60cf94c1-d84d-4e0b-bc94-e4c47f4aabac\",\"type\":\"DataRange1d\"},\"y_scale\":{\"id\":\"08318b82-a9ee-4943-90d5-6fef455ab870\",\"type\":\"LinearScale\"}},\"id\":\"a8761417-667e-4651-a31b-185930f4193e\",\"subtype\":\"Figure\",\"type\":\"Plot\"},{\"attributes\":{},\"id\":\"ee3cc7a3-1fac-4e4b-9885-0ab0a2be6afb\",\"type\":\"LinearScale\"},{\"attributes\":{\"formatter\":{\"id\":\"1dee7d4b-b7d1-4dcc-bf1f-aed315c9bcfa\",\"type\":\"BasicTickFormatter\"},\"plot\":{\"id\":\"a8761417-667e-4651-a31b-185930f4193e\",\"subtype\":\"Figure\",\"type\":\"Plot\"},\"ticker\":{\"id\":\"dd689edc-7f51-4765-b4f0-bed98d41b1a5\",\"type\":\"BasicTicker\"},\"visible\":false},\"id\":\"6ef32869-b4bd-408e-a64b-8180d9d2f1e1\",\"type\":\"LinearAxis\"},{\"attributes\":{},\"id\":\"dd689edc-7f51-4765-b4f0-bed98d41b1a5\",\"type\":\"BasicTicker\"},{\"attributes\":{},\"id\":\"1dee7d4b-b7d1-4dcc-bf1f-aed315c9bcfa\",\"type\":\"BasicTickFormatter\"},{\"attributes\":{\"grid_line_color\":{\"value\":null},\"plot\":{\"id\":\"a8761417-667e-4651-a31b-185930f4193e\",\"subtype\":\"Figure\",\"type\":\"Plot\"},\"ticker\":{\"id\":\"dd689edc-7f51-4765-b4f0-bed98d41b1a5\",\"type\":\"BasicTicker\"}},\"id\":\"bb9707cb-10ea-45c4-bdcf-d91d3e694282\",\"type\":\"Grid\"},{\"attributes\":{\"fill_color\":{\"value\":\"#1f77b4\"},\"size\":{\"units\":\"screen\",\"value\":10},\"x\":{\"field\":\"x_coord\"},\"y\":{\"field\":\"y_coord\"}},\"id\":\"dad6a0b9-2ec8-4db6-9ace-fa35262dadef\",\"type\":\"Circle\"},{\"attributes\":{\"formatter\":{\"id\":\"fe28e6f5-690e-469c-b320-bfd54037b3a2\",\"type\":\"BasicTickFormatter\"},\"plot\":{\"id\":\"a8761417-667e-4651-a31b-185930f4193e\",\"subtype\":\"Figure\",\"type\":\"Plot\"},\"ticker\":{\"id\":\"3a5fa357-b8b0-4bd2-b4a8-829bf574ef23\",\"type\":\"BasicTicker\"},\"visible\":false},\"id\":\"9efe3997-7cb3-4141-aa9e-06cf67b05367\",\"type\":\"LinearAxis\"},{\"attributes\":{},\"id\":\"fe28e6f5-690e-469c-b320-bfd54037b3a2\",\"type\":\"BasicTickFormatter\"},{\"attributes\":{},\"id\":\"3a5fa357-b8b0-4bd2-b4a8-829bf574ef23\",\"type\":\"BasicTicker\"},{\"attributes\":{\"dimension\":1,\"grid_line_color\":{\"value\":null},\"plot\":{\"id\":\"a8761417-667e-4651-a31b-185930f4193e\",\"subtype\":\"Figure\",\"type\":\"Plot\"},\"ticker\":{\"id\":\"3a5fa357-b8b0-4bd2-b4a8-829bf574ef23\",\"type\":\"BasicTicker\"}},\"id\":\"1779d56b-d025-445b-95af-7a7238c3b481\",\"type\":\"Grid\"},{\"attributes\":{\"plot\":{\"id\":\"a8761417-667e-4651-a31b-185930f4193e\",\"subtype\":\"Figure\",\"type\":\"Plot\"}},\"id\":\"f24f04ac-a9e3-426b-9e3c-854e00e80b67\",\"type\":\"PanTool\"},{\"attributes\":{\"plot\":null,\"text\":\"t-SNE Word Embeddings\",\"text_font_size\":{\"value\":\"16pt\"}},\"id\":\"1c08baaf-4a6e-4dbb-884f-754cfcaf7256\",\"type\":\"Title\"},{\"attributes\":{\"bottom_units\":\"screen\",\"fill_alpha\":{\"value\":0.5},\"fill_color\":{\"value\":\"lightgrey\"},\"left_units\":\"screen\",\"level\":\"overlay\",\"line_alpha\":{\"value\":1.0},\"line_color\":{\"value\":\"black\"},\"line_dash\":[4,4],\"line_width\":{\"value\":2},\"plot\":null,\"render_mode\":\"css\",\"right_units\":\"screen\",\"top_units\":\"screen\"},\"id\":\"37e1e06d-e1fb-49ea-a0a4-e70d1f660575\",\"type\":\"BoxAnnotation\"},{\"attributes\":{\"callback\":null},\"id\":\"d1f837a9-4e57-40f8-8ece-c33521e3bbbd\",\"type\":\"DataRange1d\"},{\"attributes\":{},\"id\":\"eb689050-04c5-42d5-a86b-49f2855bd7b5\",\"type\":\"ToolEvents\"},{\"attributes\":{\"plot\":{\"id\":\"a8761417-667e-4651-a31b-185930f4193e\",\"subtype\":\"Figure\",\"type\":\"Plot\"}},\"id\":\"240080a4-1a19-487a-bd46-e699112b681f\",\"type\":\"WheelZoomTool\"},{\"attributes\":{\"active_drag\":\"auto\",\"active_inspect\":\"auto\",\"active_scroll\":{\"id\":\"240080a4-1a19-487a-bd46-e699112b681f\",\"type\":\"WheelZoomTool\"},\"active_tap\":\"auto\",\"tools\":[{\"id\":\"f24f04ac-a9e3-426b-9e3c-854e00e80b67\",\"type\":\"PanTool\"},{\"id\":\"240080a4-1a19-487a-bd46-e699112b681f\",\"type\":\"WheelZoomTool\"},{\"id\":\"460fa617-25fb-4254-9367-473c3a2a28ae\",\"type\":\"BoxZoomTool\"},{\"id\":\"7d6ff102-bc62-4ff6-84c8-b2e07eb04f7d\",\"type\":\"BoxSelectTool\"},{\"id\":\"2921117a-ec33-496f-8d4c-f410707f72fb\",\"type\":\"ResizeTool\"},{\"id\":\"b3837a1f-9446-4ad2-8c67-3fd4d93c77ac\",\"type\":\"ResetTool\"},{\"id\":\"d5c96287-dc7c-4e31-94a3-f91b80dbd541\",\"type\":\"HoverTool\"}]},\"id\":\"003bf639-0ef0-4159-83dd-ca01985ac073\",\"type\":\"Toolbar\"},{\"attributes\":{\"overlay\":{\"id\":\"37e1e06d-e1fb-49ea-a0a4-e70d1f660575\",\"type\":\"BoxAnnotation\"},\"plot\":{\"id\":\"a8761417-667e-4651-a31b-185930f4193e\",\"subtype\":\"Figure\",\"type\":\"Plot\"}},\"id\":\"460fa617-25fb-4254-9367-473c3a2a28ae\",\"type\":\"BoxZoomTool\"},{\"attributes\":{\"callback\":null,\"plot\":{\"id\":\"a8761417-667e-4651-a31b-185930f4193e\",\"subtype\":\"Figure\",\"type\":\"Plot\"},\"tooltips\":\"@word\"},\"id\":\"d5c96287-dc7c-4e31-94a3-f91b80dbd541\",\"type\":\"HoverTool\"},{\"attributes\":{\"callback\":null,\"overlay\":{\"id\":\"2556bd3f-69a0-4d7b-a1fe-baa1176e2883\",\"type\":\"BoxAnnotation\"},\"plot\":{\"id\":\"a8761417-667e-4651-a31b-185930f4193e\",\"subtype\":\"Figure\",\"type\":\"Plot\"},\"renderers\":[{\"id\":\"f299a1a5-fd21-45d9-a173-46d6122c772e\",\"type\":\"GlyphRenderer\"}]},\"id\":\"7d6ff102-bc62-4ff6-84c8-b2e07eb04f7d\",\"type\":\"BoxSelectTool\"},{\"attributes\":{\"callback\":null},\"id\":\"60cf94c1-d84d-4e0b-bc94-e4c47f4aabac\",\"type\":\"DataRange1d\"},{\"attributes\":{\"callback\":null,\"column_names\":[\"x_coord\",\"y_coord\",\"word\",\"index\"],\"data\":{\"index\":[\"good\",\"place\",\"food\",\"like\",\"great\",\"time\",\"...\",\"order\",\"come\",\"try\",\"service\",\"love\",\"think\",\"eat\",\"nice\",\"'s\",\"restaurant\",\"know\",\"want\",\"look\",\"little\",\"find\",\"drink\",\"menu\",\"thing\",\"people\",\"price\",\"wait\",\"pretty\",\"bar\",\"friendly\",\"way\",\"day\",\"pizza\",\"staff\",\"friend\",\"table\",\"lunch\",\"ask\",\"taste\",\"feel\",\"need\",\"chicken\",\"work\",\"delicious\",\"bad\",\"lot\",\"meal\",\"use\",\"right\",\"experience\",\"definitely\",\"salad\",\"fresh\",\"sure\",\"enjoy\",\"location\",\"tell\",\"small\",\"sandwich\",\"flavor\",\"new\",\"amazing\",\"serve\",\"bit\",\"visit\",\"fry\",\"burger\",\"area\",\"dish\",\"dinner\",\"sauce\",\"2\",\"favorite\",\"review\",\"check\",\"leave\",\"walk\",\"awesome\",\"big\",\"beer\",\"bring\",\"....\",\"cheese\",\"night\",\"tasty\",\"..\",\"store\",\"year\",\"3\",\"home\",\"start\",\"long\",\"sit\",\"clean\",\"meat\",\"atmosphere\",\"phoenix\",\"close\",\"open\",\"hot\",\"special\",\"breakfast\",\"kind\",\"room\",\"cool\",\"selection\",\"wine\",\"actually\",\"ok\",\"worth\",\"item\",\"different\",\"decide\",\"probably\",\"pay\",\"excellent\",\"offer\",\"maybe\",\"expect\",\"coffee\",\"fun\",\"let\",\"spot\",\"hour\",\"inside\",\"super\",\"perfect\",\"large\",\"seat\",\"recommend\",\"usually\",\"sushi\",\"server\",\"plate\",\"bread\",\"couple\",\"stuff\",\"sweet\",\"stop\",\"buy\",\"huge\",\"half\",\"old\",\"quality\",\"kid\",\"guy\",\"4\",\"owner\",\"dessert\",\"live\",\"house\",\"--\",\"run\",\"help\",\"decent\",\"happy_hour\",\"free\",\"happy\",\"drive\",\"cheap\",\"week\",\"oh\",\"busy\",\"family\",\"overall\",\"add\",\"hard\",\"cook\",\"outside\",\"choice\",\"waitress\",\"patio\",\"line\",\"shop\",\"husband\",\"mexican\",\"hear\",\"fast\",\"spicy\",\"appetizer\",\"return\",\"yes\",\"mean\",\"scottsdale\",\"option\",\"wonderful\",\"stay\",\"course\",\"especially\",\"town\",\"roll\",\"taco\",\"fantastic\",\"include\",\"water\",\"finally\",\"salsa\",\"watch\",\"care\",\"chip\",\"business\",\"rice\",\"steak\",\"customer\",\"point\",\"deal\",\"quick\",\"change\",\"wish\",\"5\",\"at_least\",\"soup\",\"fill\",\"spend\",\"car\",\"fish\",\"star\",\"high\",\"light\",\"more_than\",\"wrong\",\"choose\",\"arrive\",\"far\",\"today\",\"portion\",\"plus\",\"wife\",\"fact\",\"waiter\",\"guess\",\"real\",\"local\",\"glass\",\"decor\",\"second\",\"instead\",\"regular\",\"play\",\"turn\",\"reason\",\"remember\",\"extra\",\"miss\",\"thank\",\"yummy\",\"crowd\",\"easy\",\"end\",\"shrimp\",\"veggie\",\"fan\",\"money\",\"able\",\"girl\",\"group\",\"1\",\"style\",\"okay\",\"read\",\"music\",\"share\",\"beef\",\"manager\",\"helpful\",\"hand\",\"piece\",\"hotel\",\"head\",\"type\",\"egg\",\"dog\",\"hit\",\"door\",\"size\",\"parking\",\"etc\",\"entree\",\"away\",\"job\",\"end_up\",\"person\",\"wall\",\"happen\",\"bacon\",\"stand\",\"valley\",\"cold\",\"charge\",\"counter\",\"party\",\"man\",\"absolutely\",\"fine\",\"employee\",\"mention\",\"finish\",\"weekend\",\"notice\",\"grill\",\"dry\",\"bite\",\"treat\",\"bowl\",\"problem\",\"street\",\"plenty\",\":)\",\"cut\",\"game\",\"warm\",\"forget\",\"meet\",\"mind\",\"bartender\",\"arizona\",\"yelp\",\"kitchen\",\"disappoint\",\"bean\",\"pool\",\"list\",\"beautiful\",\"tomato\",\"believe\",\"bottle\",\"variety\",\"attentive\",\"slice\",\"seriously\",\"pick\",\"slow\",\"our_server\",\"wing\",\"sign\",\"talk\",\"10\",\"trip\",\"month\",\"soon\",\"cute\",\"mix\",\"chain\",\"book\",\"burrito\",\"date\",\"white\",\"tip\",\"chinese\",\"lack\",\"expensive\",\"impressed\",\"bill\",\"sell\",\"space\",\"stick\",\"ambiance\",\"pork\",\"average\",\"even_though\",\"quickly\",\"park\",\"az\",\"life\",\"thai\",\"early\",\"green\",\"ice_cream\",\"highly_recommend\",\"unique\",\"5_star\",\"cup\",\"simple\",\"sound\",\"wow\",\"customer_service\",\"extremely\",\"consider\",\"pack\",\"later\",\"past\",\"write\",\"better\",\"twice\",\"lady\",\"comfortable\",\"evening\",\"cost\",\"topping\",\"rest\",\"grab\",\"receive\",\"near\",\"totally\",\"flavorful\",\"interesting\",\"ready\",\"late\",\"entire\",\"glad\",\"issue\",\"bland\",\"joint\",\"potato\",\"tempe\",\"pasta\",\"6\",\"mom\",\"ton\",\"morning\",\"world\",\"plan\",\"ingredient\",\"hope\",\"pass\",\"bbq\",\"base\",\"smell\",\"onion\",\"pick_up\",\"chef\",\"bathroom\",\"chocolate\",\"cover\",\"crispy\",\"available\",\"set\",\"italian\",\"cake\",\"word\",\"neighborhood\",\"product\",\"suggest\",\"break\",\"movie\",\"short\",\"standard\",\"low\",\".....\",\"purchase\",\"recently\",\"reasonable\",\"loud\",\"last_night\",\"tender\",\"rock\",\"healthy\",\"margarita\",\"unfortunately\",\"face\",\"class\",\"red\",\"figure\",\"boyfriend\",\"reservation\",\"yum\",\"hungry\",\"event\",\"sample\",\"hold\",\"minute\",\"woman\",\"fix\",\"completely\",\"vegetarian\",\"pho\",\"crust\",\"case\",\"wrap\",\"eye\",\"tea\",\"sorry\",\"understand\",\"hate\",\"prefer\",\"buffet\",\"mushroom\",\"bag\",\"provide\",\"view\",\"question\",\"office\",\"soft\",\"realize\",\"compare\",\"tv\",\"explain\",\"simply\",\"cocktail\",\"desert\",\"die\",\"excited\",\"number\",\"speak\",\"downtown\",\"locate\",\"spice\",\"company\",\"appreciate\",\"agree\",\"send\",\"true\",\"greasy\",\"beat\",\"$_5\",\"whatev\",\"note\",\"deliver\",\"noodle\",\"truly\",\"certainly\",\"sausage\",\"cookie\",\"suppose\",\"crazy\",\"chance\",\"authentic\",\"combo\",\"garlic\",\"value\",\"pleasant\",\"club\",\"box\",\"save\",\"building\",\"middle\",\"weird\",\"smile\",\"throw\",\"birthday\",\"sort\",\"dark\",\"split\",\"disappointed\",\"sunday\",\"tiny\",\"city\",\"state\",\"kinda\",\"chair\",\"best\",\"hop\",\"idea\",\"parking_lot\",\"vibe\",\"corner\",\"lose\",\"suck\",\"stop_by\",\"refill\",\"fruit\",\"establishment\",\"vegetable\",\"terrible\",\"surprise\",\"fabulous\",\"airport\",\"horrible\",\"pull\",\"coupon\",\"8\",\"daughter\",\"prepare\",\"folk\",\"wear\",\"seafood\",\"outstanding\",\"salmon\",\"butter\",\"perfectly\",\"hang_out\",\"yeah\",\"hummus\",\"allow\",\"immediately\",\"literally\",\"less_than\",\"window\",\"summer\",\"lovely\",\"seating\",\"drop\",\"dollar\",\"phone\",\"section\",\"rude\",\"carry\",\"pop\",\"honestly\",\"crave\",\"request\",\"friday\",\"brunch\",\"saturday\",\"continue\",\"card\",\"7\",\"kick\",\"conversation\",\"fairly\",\"sale\",\"basically\",\"apparently\",\"dirty\",\"mall\",\"solid\",\"catch\",\"dress\",\"follow\",\"surprised\",\"child\",\"salty\",\"slightly\",\"salt\",\"hair\",\"heat\",\"$_10\",\"damn\",\"non_-\",\"shot\",\"sit_down\",\"easily\",\"hostess\",\"look_forward\",\"opinion\",\"pepper\",\"usual\",\"picture\",\"booth\",\"incredible\",\"typical\",\"strong\",\"soda\",\"mediocre\",\"normally\",\"cupcake\",\"combination\",\"dressing\",\"guest\",\"avoid\",\"4_star\",\"rush\",\"asian\",\"floor\",\"creamy\",\"casual\",\"level\",\"talk_about\",\"boy\",\"total\",\"modern\",\"thick\",\"color\",\"fall\",\"sub\",\"market\",\"professional\",\"remind_me\",\"mouth\",\"lettuce\",\"pie\",\"poor\",\"homemade\",\"dip\",\"tortilla\",\"son\",\"imagine\",\"thin\",\"traditional\",\"medium\",\"fit\",\"patron\",\"begin\",\"waffle\",\"curry\",\"vegan\",\"learn\",\"bun\",\"bagel\",\"recommendation\",\"despite\",\"rib\",\"art\",\"tap\",\"addition\",\"mood\",\"sad\",\"avocado\",\"girlfriend\",\"tonight\",\"welcome\",\"wonder\",\"season\",\"cafe\",\"quiet\",\"guacamole\",\"s\",\"bunch\",\"rich\",\"round\",\"pancake\",\"year_ago\",\"answer\",\"complete\",\"texture\",\"fair\",\"original\",\"burn\",\"yogurt\",\"toast\",\"nearly\",\"exactly\",\"cozy\",\"fancy\",\"obviously\",\"resort\",\"touch\",\"pair\",\"bed\",\"baby\",\"online\",\"hole\",\"similar\",\"ticket\",\"theater\",\"shoe\",\"appear\",\"frequent\",\"comment\",\"shopping\",\"hell\",\"relax\",\"basic\",\"spa\",\"heart\",\"bother\",\"update\",\"diner\",\"step\",\"double\",\"rate\",\"buck\",\"odd\",\"normal\",\"young\",\"melt\",\"chili\",\"juicy\",\"10_minute\",\"saturday_night\",\"strawberry\",\"friday_night\",\"sister\",\"corn\",\"heaven\",\"somewhat\",\"post\",\"hey\",\"knowledgeable\",\"black\",\"cash\",\"hot_dog\",\"w/\",\"strip_mall\",\"gym\",\"starbucks\",\"pricey\",\"attention\",\"accommodate\",\"awful\",\"attitude\",\"enter\",\"create\",\"hubby\",\"ice\",\"fat\",\"design\",\"funny\",\"possible\",\"n\",\"tofu\",\"heavy\",\"dining\",\"next_door\",\"stock\",\"by_far\",\"app\",\"main\",\"concept\",\"admit\",\"waste\",\"delish\",\"plain\",\"describe\",\"crisp\",\"travel\",\"generally\",\"indian\",\"incredibly\",\"country\",\"disappointing\",\"organic\",\"3_star\",\"tend\",\"interior\",\"yesterday\",\"weather\",\"pleased\",\"pita\",\"version\",\"foot\",\"wash\",\"difficult\",\"win\",\"lol\",\"honest\",\"chandler\",\"15_minute\",\"feature\",\"snack\",\"listen\",\"smoke\",\"clear\",\"opt\",\"bruschetta\",\"mini\",\"afternoon\",\"american\",\"future\",\"actual\",\"fly\",\"feeling\",\"apple\",\"hip\",\"produce\",\"classic\",\"build\",\"particular\",\"giant\",\"moment\",\"spinach\",\"crowded\",\"massage\",\"chicago\",\"willing\",\"mac\",\"single\",\"enchilada\",\"nothing_special\",\"gross\",\"gyro\",\"handle\",\"flight\",\"matter\",\"nearby\",\"search\",\"chat\",\"limited\",\"center\",\"din\",\"load\",\"ride\",\"hang\",\"greet\",\"blow\",\"complain\",\"shirt\",\"chipotle\",\"dance\",\"refreshing\",\"parent\",\"clothe\",\"sense\",\"oil\",\"delivery\",\"rare\",\"mistake\",\"gelato\",\"clearly\",\"band\",\"perfection\",\"turkey\",\"affordable\",\"tasting\",\"tough\",\"management\",\"gravy\",\"suggestion\",\"deli\",\"environment\",\"20_minute\",\"mile\",\"donut\",\"lemon\",\"bake\",\"skip\",\"set_up\",\"support\",\"vietnamese\",\"host\",\"20\",\"chill\",\"straight\",\"machine\",\"barely\",\"nail\",\"japanese\",\"bike\",\"moist\",\"consistently\",\"manage\",\"cream\",\"pastry\",\"strange\",\"detail\",\"lounge\",\"anymore\",\"sweet_potato_fry\",\"personally\",\"age\",\"sun\",\"generous\",\"broth\",\"convenient\",\"12\",\"discover\",\"sit_outside\",\"replace\",\"soggy\",\"trendy\",\"$_20\",\"dine\",\"reasonably_price\",\"discount\",\"martini\",\"meh\",\"tuna\",\"15\",\"quesadilla\",\"overpriced\",\"ass\",\"five_star\",\"school\",\"ground\",\"dozen\",\"1/2\",\"grocery_store\",\"sugar\",\"venue\",\"scene\",\"pour\",\"sized\",\"nicely\",\"ball\",\"fire\",\"mother\",\"lobster\",\"efficient\",\"story\",\"big_fan\",\"crunchy\",\"pesto\",\"impressive\",\"joke\",\"deserve\",\"complaint\",\"presentation\",\"la\",\"road\",\"groupon\",\"crap\",\"expectation\",\"crab\",\"lucky\",\"dad\",\"process\",\"rather_than\",\"beverage\",\"calamari\",\"top_notch\",\"general\",\"team\",\"shake\",\"annoying\",\"self\",\"lamb\",\"rating\",\"cashier\",\"alright\",\"present\",\"orange\",\"dining_experience\",\"certain\",\"satisfied\",\"prompt\",\"multiple\",\"alcohol\",\"30_minute\",\"typically\",\"consistent\",\"feed\",\"patient\",\"beer_selection\",\"duck\",\"spring_roll\",\"assume\",\"bf\",\"upscale\",\"scallop\",\"mesa\",\"prepared\",\"awhile\",\"only_complaint\",\"ham\",\"old_town\",\"dining_room\",\"leftover\",\"30\",\"jalapeno\",\"carne_asada\",\"olive\",\"live_music\",\"surprisingly\",\"honey\",\"meatball\",\"paper\",\"air\",\"attempt\",\"lobby\",\"adult\",\"brand\",\"ridiculous\",\"crepe\",\"laugh\",\"......\",\"grow\",\"separate\",\"facility\",\"truck\",\"particularly\",\"fail\",\"hike\",\"banana\",\"omg\",\"pricing\",\"bright\",\"phx\",\"last_week\",\"california\",\"basil\",\"bakery\",\"greek\",\"reasonable_price\",\"slider\",\"ahead\",\"fry_rice\",\"unlike\",\"pleasantly_surprised\",\"exactly_what\",\"drunk\",\"north\",\"god\",\"hand_down\",\"act\",\"specialty\",\"popular\",\"luck\",\"mess\",\"pickle\",\"setting\",\"match\",\"sick\",\"candy\",\"positive\",\"mark\",\"coffee_shop\",\"no_problem\",\"filling\",\"anyways\",\"chewy\",\"gift\",\"frozen\",\"mayo\",\"wine_list\",\"attend\",\"register\",\"par\",\"rave_about\",\"grow_up\",\"luckily\",\"block\",\"apologize\",\"brother\",\"dig\",\"creative\",\"tire\",\"occasion\",\"enjoyable\",\"5_minute\",\"count\",\"difference\",\"package\",\"possibly\",\"push\",\"random\",\"biscuit\",\"bone\",\"sport\",\"important\",\"omelet\",\"appointment\",\"result\",\"fare\",\"furniture\",\"dead\",\"outdoor\",\"goat_cheese\",\"shit\",\"everything_else\",\"lead\",\"platter\",\"personal\",\"doctor\",\"9\",\"hopefully\",\"offering\",\"stadium\",\"dude\",\"correct\",\"inexpensive\",\"sadly\",\"craving\",\"dream\",\"complain_about\",\"repair\",\"display\",\"wedding\",\"mozzarella\",\"form\",\"pet\",\"mill\",\"cucumber\",\"compliment\",\"polite\",\"packed\",\"restroom\",\"daily\",\"tour\",\"some_sort\",\"t\",\"trail\",\"onion_ring\",\"kill\",\"promise\",\"desire\",\"overly\",\"ambience\",\"situation\",\"blue\",\"boring\",\"train\",\"pre_-\",\"hat\",\"huge_fan\",\"garden\",\"pad_thai\",\"fault\",\"body\",\"complimentary\",\"gourmet\",\"goodness\",\"your_mouth\",\"seasoning\",\"french\",\"board\",\"opportunity\",\"anything_else\",\"switch\",\"depend_on\",\"doubt\",\"safe\",\"brisket\",\"thought\",\"hype\",\"exceptional\",\"stomach\",\"terrific\",\"layout\",\"these_guy\",\"station\",\"invite\",\"dive\",\"fish_taco\",\"phenomenal\",\"photo\",\"shape\",\"range\",\"highlight\",\"knock\",\"improve\",\"salon\",\"front_desk\",\"lover\",\"likely\",\"ya\",\"overcook\",\"earlier\",\"$_6\",\"downtown_phoenix\",\"asu\",\"right_away\",\"espresso\",\"schedule\",\"sport_bar\",\"entrance\",\"ice_tea\",\"pineapple\",\"animal\",\"ignore\",\"tell_him\",\"2_star\",\"member\",\"something_else\",\"pain\",\"dr.\",\"scoop\",\"few_minute\",\"gorgeous\",\"filet\",\"prior\",\"theme\",\"website\",\"term\",\"grocery\",\"mango\",\"major\",\"negative\",\"coconut\",\"judge\",\"french_toast\",\"egg_roll\",\"juice\",\"subway\",\"anywhere_else\",\"impress\",\"hint\",\"spectacular\",\"disappointment\",\"system\",\"flat\",\"fee\",\"carrot\",\"cream_cheese\",\"ring\",\"pasty\",\"satisfy\",\"claim\",\"excuse\",\"classy\",\"lemonade\",\"milk\",\"brew\",\"delightful\",\"example\",\"site\",\"gem\",\"remove\",\"raw\",\"effort\",\"french_fry\",\"meeting\",\"swear\",\"monday\",\"mild\",\"paint\",\"coworker\",\"superb\",\"needless\",\"key\",\"warn\",\"inform\",\"blend\",\"b\",\"rarely\",\"join\",\"advice\",\"community\",\"cheesecake\",\"score\",\"celebrate\",\"starter\",\"skin\",\"smooth\",\"valet\",\"$_8\",\"shame\",\"co_-_worker\",\"mixed\",\"steal\",\"require\",\"lay\",\"interested\",\"black_bean\",\"chorizo\",\"mustard\",\"cheesy\",\"college\",\"forever\",\"no_longer\",\"high_quality\",\"settle\",\"limit\",\"costco\",\"pink\",\"cooking\",\"song\",\"lie\",\"mash_potato\",\"test\",\"treatment\",\"credit\",\"$_15\",\"2nd\",\"$_7\",\"worker\",\"trouble\",\"couch\",\"spread\",\"nice_touch\",\"central\",\"favor\",\"dj\",\"buddy\",\"wise\",\"sake\",\"email\",\"target\",\"rent\",\"brown\",\"spacious\",\"recipe\",\"lighting\",\"crappy\",\"boba\",\"law\",\"ruin\",\"quaint\",\"freeze\",\"hide\",\"sip\",\"venture\",\"savory\",\"cart\",\"$_1\",\"select\",\"cuisine\",\"alot\",\"chop\",\"neat\",\"broccoli\",\"nasty\",\"mid\",\"sprinkle\",\"sangria\",\"consist\",\"everyone_else\",\"hamburger\",\"basket\",\"hipster\",\"everyday\",\"property\",\"chunk\",\"jump\",\"museum\",\"concern\",\"clothing\",\"pedicure\",\"draw\",\"olive_oil\",\"intimate\",\"portion_size\",\"wood\",\":(\",\"shower\",\"guac\",\"camelback\",\"raise\",\"45_minute\",\"large_group\",\"bonus\",\"roast\",\"cilantro\",\"alternative\",\"hurry\",\"decision\",\"force\",\"korean\",\"pile\",\"$_12\",\"lime\",\"deep\",\"vanilla\",\"dim_sum\",\"student\",\"calorie\",\"tree\",\"approach\",\"fork\",\"sleep\",\"heck\",\"ranch\",\"quote\",\"four_star\",\"rat\",\"u\",\"uncomfortable\",\"corporate\",\"cat\",\"new_york\",\"tired\",\"farm\",\"focus\",\"bbq_sauce\",\";)\",\"leg\",\"refuse\",\"mint\",\"strip\",\"w_/\",\"prosciutto\",\"credit_card\",\"tuesday\",\"vodka\",\"ginger\",\"pitcher\",\"frequently\",\"flower\",\"right_amount\",\"big_deal\",\"south\",\"regret\",\"balance\",\"stage\",\"asparagus\",\"relaxed\",\"vacation\",\"staple\",\"disgusting\",\"mountain\",\"bomb\",\"computer\",\"charming\",\"grease\",\"plastic\",\"client\",\"upgrade\",\"grill_cheese\",\"y\",\"nut\",\"hurt\",\"somewhere_else\",\"equally\",\"smoothie\",\"sweet_potato\",\"aisle\",\"pleasure\",\"someone_else\",\"fluffy\",\"btw\",\"herb\",\"trust\",\"gilbert\",\"exist\",\"ny\",\"challenge\",\"eggplant\",\"fight\",\"patty\",\"previous\",\"potential\",\"sooo\",\"starve\",\"reach\",\"50\",\"bet\",\"blast\",\"1st\",\"$_9\",\"popcorn\",\"consistency\",\"dough\",\"o\",\"southwest\",\"no_complaint\",\"pita_jungle\",\"remain\",\"at_least_once\",\"killer\",\"scream\",\"famous\",\"history\",\"contact\",\"breakfast_burrito\",\"tart\",\"holiday\",\"pound\",\"budget\",\"greet_by\",\"sour_cream\",\"crack\",\"finger\",\"main_course\",\"yay\",\"secret\",\"specific\",\"soooo\",\"row\",\"ketchup\",\"torta\",\"east\",\"toss\",\"delight\",\"cater\",\"cinnamon\",\"rack\",\"natural\",\"pull_pork\",\"edge\",\"minus\",\"yell\",\"11\",\"extensive\",\"romantic\",\"weak\",\"batter\",\"during_happy_hour\",\"rule\",\"pretzel\",\"courteous\",\"awkward\",\"pepperoni\",\"fez\",\"memory\",\"re_-\",\"prime_rib\",\"complex\",\"decorate\",\"oven\",\"shade\",\"container\",\"peanut_butter\",\"land\",\"signature\",\"shoot\",\"sour\",\"overprice\",\"diet\",\"late_night\",\"eventually\",\"relatively\",\"tasteless\",\"sashimi\",\"their_website\",\"someone_who\",\"tequila\",\"partner\",\"grant\",\"$_30\",\"outdoor_seating\",\"appeal\",\"west\",\"equipment\",\"repeat\",\"nachos\",\"walk_away\",\"shell\",\"dive_bar\",\"upstairs\",\"brownie\",\":-)\",\"strike\",\"workout\",\"promptly\",\"better_than\",\"cook_perfectly\",\"toy\",\"syrup\",\"everytime\",\"indoor\",\"tamale\",\"eh\",\"thursday\",\"dining_area\",\"picky\",\"latte\",\"little_pricey\",\"practice\",\"destination\",\"constantly\",\"regularly\",\"studio\",\"muffin\",\"lay_back\",\"receipt\",\"combine\",\"introduce\",\"screen\",\"comfy\",\"ago\",\"left\",\"take_advantage\",\"supply\",\"taste_bud\",\"takeout\",\"oyster\",\"recent\",\"refer\",\"print\",\"your_typical\",\"memorable\",\"mess_up\",\"anyone_who\",\"fake\",\"power\",\"numerous\",\"serving\",\"stupid\",\"e\",\"lame\",\"weekday\",\"every_single\",\"light_rail\",\"safeway\",\"regardless\",\"barista\",\"bank\",\"familiar\",\"aside_from\",\"vintage\",\"afraid\",\"obvious\",\"panini\",\"deep_fry\",\"specifically\",\"amazingly\",\"tab\",\"regard\",\"reserve\",\"napkin\",\"exhibit\",\"trust_me\",\"foodie\",\"coke\",\"earth\",\"brie\",\"tooth\",\"stale\",\"traffic\",\"information\",\"wednesday\",\"noise\",\"accept\",\"hash_brown\",\"funky\",\"flatbread\",\"three_star\",\"$_25\",\"pub\",\"winter\",\"um\",\"department\",\"contain\",\"massive\",\"gluten_free\",\"charm\",\"proceed\",\"accompany\",\"tad\",\"arm\",\"address\",\"mojito\",\"caramel\",\"sing\",\"steam\",\"handful\",\"spring\",\"apartment\",\"cheeseburger\",\"waitstaff\",\"dentist\",\"health\",\"fiance\",\"hire\",\"individual\",\"eatery\",\"library\",\"pretentious\",\"security\",\"bear\",\"christmas\",\"condiment\",\"gold\",\"energy\",\"tax\",\"hearty\",\"entertainment\",\"stellar\",\"flavorless\",\"microwave\",\"green_chile\",\"fresh_ingredient\",\"relaxing\",\"outdoor_patio\",\"temperature\",\"raspberry\",\"nacho\",\"character\",\"tear\",\"winner\",\"freak\",\"description\",\"vehicle\",\"neighbor\",\"gal\",\"highly\",\"1_star\",\"overwhelming\",\"longer\",\"frozen_yogurt\",\"slide\",\"lock\",\"blue_cheese\",\"fave\",\"plant\",\"above_average\",\"suit\",\"cabbage\",\"iced_tea\",\"falafel\",\"adorable\",\"direction\",\"personable\",\"weekly\",\"other_reviewer\",\"range_from\",\"private\",\"till\",\"yelp_review\",\"yelper\",\"careful\",\"and/or\",\"snob\",\"tray\",\"baked\",\"lately\",\"drinking\",\"glendale\",\"afford\",\"fool\",\"w\",\"liquor\",\"aware\",\"nyc\",\"booze\",\"fav\",\"fridge\",\"plentiful\",\"current\",\"gate\",\"towel\",\"exception\",\"free_wifi\",\"layer\",\"expand\",\"short_rib\",\"personality\",\"high_end\",\"exciting\",\"gas\",\"divine\",\"feta\",\"noisy\",\"originally\",\"remind\",\"denny_'s\",\"earn\",\"sundays\",\"refund\",\"haha\",\"opening\",\"upset\",\"desk\",\"rid\",\"date_night\",\"common\",\"old_school\",\"calzone\",\"hello\",\"peanut\",\"char\",\"stack\",\"comparison\",\"study\",\"ridiculously\",\"def\",\"vet\",\"heavenly\",\"buttery\",\"take_forever\",\"karaoke\",\"mediterranean\",\"hh\",\"fatty\",\"pot\",\"100_%\",\"got\",\"steakhouse\",\"ceiling\",\"overlook\",\"call_ahead\",\"scale\",\"press\",\"write_home_about\",\"seasonal\",\"blah\",\"internet\",\"bus\",\"omelette\",\"thankfully\",\"dipping_sauce\",\"spaghetti\",\"boot\",\"crunch\",\"soul\",\"walmart\",\"thin_crust\",\"note_:\",\"inspire\",\"beware\",\"year_old\",\"cause\",\"artist\",\"buzz\",\"d\",\"frosting\",\"concert\",\"soy\",\"practically\",\"potato_salad\",\"shelf\",\"necessary\",\"access\",\"oily\",\"chick\",\"pint\",\"caesar_salad\",\"biltmore\",\"wet\",\"oh_yeah\",\"membership\",\"inviting\",\"bloody_mary\",\"jewelry\",\"tune\",\"insist\",\"bit_pricey\",\"cherry\",\"jack\",\"occasionally\",\"cornbread\",\"control\",\"theatre\",\"tangy\",\"special_occasion\",\"coleslaw\",\"response\",\"draft\",\"urban\",\"four_peaks\",\"accord\",\"blame\",\"surround\",\"lux\",\"edible\",\"bitter\",\"wanna\",\"slight\",\"knowledge\",\"yoga\",\"weight\",\"reply\",\"pant\",\"substitute\",\"advertise\",\"clientele\",\"encounter\",\"cramped\",\"father\",\"blueberry\",\"fountain\",\"anytime\",\"tight\",\"green_bean\",\"jean\",\"yellow\",\"companion\",\"lazy\",\"indulge\",\"candle\",\"gf\",\"mail\",\"respect\",\"spanish\",\"$_50\",\"involve\",\"craft\",\"red_sauce\",\"artichoke\",\"unusual\",\"laptop\",\"additional\",\"soak\",\"ugh\",\"report\",\"factor\",\"trash\",\"benefit\",\"vendor\",\"taco_bell\",\"hardly\",\"appropriate\",\"messy\",\"haircut\",\"mike\",\"orange_chicken\",\"collection\",\"oregano_'s\",\"pan\",\"english\",\"accessory\",\"welcoming\",\"no_idea\",\"drive_thru\",\"polish\",\"north_scottsdale\",\"training\",\"comp\",\"old_town_scottsdale\",\"worthy\",\"period\",\"confirm\",\"mexico\",\"prove\",\"confused\",\"convince\",\"goody\",\"cajun\",\"instructor\",\"condition\",\"arugula\",\"crew\",\"fresh_fruit\",\"bargain\",\"recall\",\"sight\",\"properly\",\"central_phoenix\",\"drive_through\",\"quantity\",\"cibo\",\"mister\",\"tucson\",\"program\",\"sunday_morning\",\"shock\",\"driver\",\"rip\",\"tempura\",\"irish\",\"week_ago\",\"record\",\"pei_wei\",\"appetite\",\"hook\",\"#_1\",\"ravioli\",\"definately\",\"cross\",\"cuz\",\"sucker\",\"non\",\"vegas\",\"bread_pudding\",\"chile\",\"spoon\",\"sweat\",\"sampler\",\"peach\",\"shopping_center\",\"brewery\",\"burro\",\"consume\",\"every_bite\",\"interest\",\"everybody\",\"activity\",\"jam\",\"tall\",\"under_$\",\"edamame\",\"sink\",\"scramble\",\"rough\",\"film\",\"berry\",\"comfort_food\",\"john\",\"golf\",\"---\",\"guarantee\",\"recognize\",\"terminal\",\"explore\",\"fully\",\"sweetness\",\"mushy\",\"browse\",\"fear\",\"postino\",\"cancel\",\"pure\",\"mission\",\"whip_cream\",\"champagne\",\"large_portion\",\"pace\",\"joe\",\"almond\",\"mimosa\",\"texas\",\"devour\",\"pizzeria_bianco\",\"directly\",\"twist\",\"few_month\",\"speed\",\"generic\",\"church\",\"east_valley\",\"remodel\",\"flow\",\"facial\",\"family_own\",\"beginning\",\"worry\",\"suite\",\"high_school\",\"whole_foods\",\"discuss\",\"dump\",\"happily\",\"magazine\",\"frame\",\"gentleman\",\"dumpling\",\"horchata\",\"liking\",\"m\",\"nope\",\"assure\",\"pig\",\"direct\",\"thi\",\"rosemary\",\"public\",\"smother\",\"belly\",\"front_door\",\"marinate\",\"cheer\",\"policy\",\"ra\",\"fuck\",\"worry_about\",\"square\",\"alas\",\"40\",\"bistro\",\"roasted\",\"hassle\",\"fig\",\"aside\",\"lil\",\"purse\",\"cleanliness\",\"diverse\",\"cheddar\",\"quarter\",\"honor\",\"3rd\",\"improvement\",\"lake\",\"impression\",\"delux\",\"$_40\",\"express\",\"watery\",\"100\",\"satisfying\",\"theirs\",\"crab_cake\",\"research\",\"silly\",\"$_100\",\"60\",\"currently\",\"car_wash\",\"pecan\",\"teach\",\"buffalo\",\"drinks\",\"boutique\",\"yuck\",\"drag\",\"italy\",\"ill\",\"page\",\"action\",\"account\",\"voice\",\"lo\",\"joe_'s\",\"perfectly_cook\",\"culture\",\"mill_ave\",\"custard\",\"nonetheless\",\"medium_rare\",\"chicken_breast\",\"ray\",\"shocked\",\"bummer\",\"different_type\",\"gnocchi\",\"advise\",\"plane\",\"retail\",\"final\",\"pro\",\"maintain\",\"wallet\",\"ikea\",\"eclectic\",\"chic\",\"bird\",\"chris\",\"advance\",\"fajita\",\"hawaiian\",\"notch\",\"grass\",\"respond\",\"sunday_night\",\"knife\",\"grit\",\"f\",\"initially\",\"attractive\",\"background\",\"c\",\"lasagna\",\"stretch\",\"croissant\",\"tech\",\"greek_salad\",\"track\",\"lgo\",\"wander\",\"cousin\",\"news\",\"king\",\"competition\",\"risotto\",\"only_downside\",\"previously\",\"drop_off\",\"pretty_darn\",\"concoction\",\"amazed\",\"amenity\",\"bench\",\"no_idea_what\",\"operate\",\"trade\",\"3.5_star\",\"label\",\"entirely\",\"sexy\",\"brand_new\",\"ordinary\",\"impossible\",\"wide\",\"majority\",\"san_francisco\",\"carpet\",\"ceviche\",\"tie\",\"wonderfully\",\"scary\",\"vinegar\",\"message\",\"german\",\"screw\",\"wild\",\"comparable\",\"protein\",\"-_ish\",\"zero\",\"tomorrow\",\"smart\",\"creme_brulee\",\"fashion\",\"filet_mignon\",\"entertaining\",\"decoration\",\"ear\",\"gift_card\",\"mussel\",\"mainly\",\"native\",\"dance_floor\",\"bug\",\"pork_chop\",\"punch\",\"stay_away_from\",\"east_coast\",\"race\",\"million\",\"ensure\",\"paradise\",\"yep\",\"most_likely\",\"bump\",\"field\",\"bitch\",\"butt\",\"delay\",\"yo\",\"blt\",\"fries\",\"unbelievable\",\"ac\",\"cry\",\"trick\",\"argue\",\"adventurous\",\"setup\",\"grub\",\"halibut\",\"metal\",\"month_ago\",\"screw_up\",\"bottom_line\",\"southern\",\"preparation\",\"wide_variety\",\"bianco\",\"parmesan\",\"spring_training\",\"coat\",\"teacher\",\"ordering\",\"slaw\",\"sticky\",\"boss\",\"overpower\",\"mixture\",\"g\",\"darn\",\"cleaning\",\"impeccable\",\"pump\",\"apply\",\"reason_why\",\"mirror\",\"fireplace\",\"garage\",\"acknowledge\",\"retro\",\"clam\",\"burger_joint\",\"lane\",\"downstairs\",\"custom\",\"i'm\",\"disappear\",\"dr\",\"kudo\",\"ah\",\"fyi\",\".......\",\"encourage\",\"jar\",\"thanks\",\"conference\",\"zucchini\",\"cole_slaw\",\"hooked\",\"exit\",\"seek\",\"aka\",\"swim\",\"closer\",\"drizzle\",\"greet_us\",\"ghetto\",\"tiramisu\",\"distance\",\"attach\",\"associate\",\"proper\",\"palate\",\"prime\",\"spill\",\"visitor\",\"premium\",\"gay\",\"creation\",\"roof\",\"fortunately\",\"few_week_ago\",\"tuck_away\",\"purpose\",\"b_/_c\",\"grimaldi_'s\",\"meatloaf\",\"entertain\",\"adequate\",\"adventure\",\"content\",\"splurge\",\"mcdonald_'s\",\"walnut\",\"saturday_morning\",\"x\",\"rum\",\"video\",\"bell\",\"local_business\",\"food_court\",\"de\",\"rain\",\"tacos\",\"san_diego\",\"eater\",\"understand_why\",\"festival\",\"surround_by\",\"organize\",\"pressure\",\"resist\",\"america\",\"toe\",\"pasta_dish\",\"pear\",\"relate\",\"wax\",\"far_away\",\"nervous\",\"san\",\"delectable\",\"shout\",\"semi_-\",\"stone\",\"necessarily\",\"reviewer\",\"unit\",\"slip\",\"wifi\",\"noon\",\"brown_rice\",\"seattle\",\"pocket\",\"golden\",\"project\",\"aj_'s\",\"large_party\",\"neck\",\"industry\",\"stew\",\"island\",\"chocolate_cake\",\"insurance\",\"vig\",\"pay_attention\",\"connect\",\"sunday_afternoon\",\"tongue\",\"green_chili\",\"pistachio\",\"five_guy\",\"sea\",\"lean\",\"frankly\",\"vary\",\"salami\",\"mmmm\",\"staff_member\",\"deliciousness\",\"first_impression\",\"squeeze\",\"fucking\",\"thrill\",\"circle\",\"don't\",\"arcadia\",\"fall_apart\",\"thursday_night\",\"chop_salad\",\"mmm\",\"seven\",\"convenience\",\"gas_station\",\"14\",\"guide\",\"slam\",\"genuine\",\"exotic\",\"allergy\",\"beauty\",\"huge_portion\",\"harkins\",\"acceptable\",\"gear\",\"zoo\",\"colorful\",\"mr.\",\"freshness\",\"garnish\",\"carnita\",\"dairy\",\"hospital\",\"appearance\",\"nose\",\"green_tea\",\"painting\",\"spin\",\"chew\",\"nothing_else\",\"cigar\",\"fondue\",\"daily_special\",\"meaty\",\"warning\",\"escape\",\"hub\",\"grandma\",\"sandwhich\",\"prop\",\"generous_portion\",\"replacement\",\"lastly\",\"wake_up\",\"rub\",\"25\",\"outlet\",\"proud\",\"intend\",\"eating\",\"philly\",\"eager\",\"western\",\"damage\",\"pretend\",\"tuesday_night\",\"scratch\",\"economy\",\"lunchtime\",\"comfort\",\"fellow\",\"pastrami\",\"dust\",\"performance\",\"exterior\",\"skill\",\"effect\",\"cuban\",\"trader_joe_'s\",\"magic\",\"slowly\",\"exchange\",\"terribly\",\"dare\",\"pro_:\",\"gluten_-\",\"101\",\"wipe\",\"grind\",\"culinary\",\"climb\",\"annoyed\",\"scrumptious\",\"female\",\"wheat\",\"confusing\",\"hide_gem\",\"button\",\"surprising\",\"essentially\",\"toilet\",\"movie_theater\",\"aspect\",\"float\",\"success\",\"wave\",\"parlor\",\"hour_later\",\"manicure\",\"nature\",\"dislike\",\"occasional\",\"tempt\",\"red_onion\",\"ahwatukee\",\"mad\",\"confuse\",\"closed\",\"red_velvet\",\"skeptical\",\"risk\",\"golf_course\",\"airline\",\"mac_&_cheese\",\"con\",\"jerk\",\"truth\",\"maintenance\",\"wheel\",\"'em\",\"$_2.50\",\"obnoxious\",\"casino\",\"miso_soup\",\"horse\",\"lively\",\"raman\",\"fall_off\",\"tourist\",\"stress\",\"ability\",\"corn_tortilla\",\"teriyaki\",\"surely\",\"/_c\",\"citrus\",\"branch\",\"courtyard\",\"downside\",\"enormous\",\"artwork\",\"joy\",\"hesitate\",\"correctly\",\"cowboy\",\"soap\",\"cream_sauce\",\"bang\",\"hunt\",\"$_13\",\"demand\",\"session\",\"sunset\",\"model\",\"stylist\",\"free_wi_-_fi\",\"milkshake\",\"p.s.\",\"uh\",\"main_dish\",\"soy_sauce\",\"inch\",\"spirit\",\"volume\",\"hmmm\",\"manner\",\"ideal\",\"shoulder\",\"perform\",\"ha\",\"3.5\",\"ample\",\"peruse\",\"veg\",\"border\",\"habit\",\"mocha\",\"pork_belly\",\"no_matter_what\",\"legit\",\"boston\",\"curious\",\"carb\",\"rotate\",\"skinny\",\"trek\",\"$_14\",\"totally_worth\",\"soo\",\"ugly\",\"sprout\",\"$_11\",\"dirt\",\"albeit\",\"rotation\",\"degree\",\"garbage\",\"blow_away\",\"ship\",\"architecture\",\"adore\",\"peak\",\"silverware\",\"contemporary\",\"decline\",\"struggle\",\"resident\",\"white_rice\",\"minimal\",\"instantly\",\"freaking\",\"march\",\"franchise\",\"creepy\",\"july\",\"steep\",\"minor\",\"sheet\",\"lick\",\"sprouts\",\"increase\",\"football\",\"=)\",\"living_room\",\"real_deal\",\"sunday_brunch\",\"info\",\"absolute\",\"decadent\",\"pic\",\"grade\",\"merchandise\",\"naan\",\"sooooo\",\"attract\",\"pillow\",\"player\",\"somebody\",\"egg_benedict\",\"fair_price\",\"lesson\",\"freshly_make\",\"whip\",\"death\",\"previous_review\",\"pip_hot\",\"ihop\",\"airy\",\"copy\",\"cracker\",\"middle_eastern\",\"tempe_marketplace\",\"pita_bread\",\"roosevelt\",\"mcdonalds\",\"40_minute\",\"knowledgable\",\"sum\",\"drown\",\"gigantic\",\"quick_bite\",\"trio\",\"saturdays\",\"cent\",\"thrilled\",\"addict\",\"import\",\"category\",\"locally\",\"bath\",\"baseball\",\"minimum\",\"18\",\"monday_night\",\"justify\",\"last_weekend\",\"ricotta\",\"smoky\",\"puppy\",\"commercial\",\"gooey\",\"indicate\",\"shuttle\",\"per_person\",\"seat_right_away\",\"award\",\"16\",\"home_depot\",\"matt_'s\",\"dear\",\"drip\",\"sushi_chef\",\"tool\",\"mass\",\"personal_favorite\",\"vegetarian_option\",\"ratio\",\"thanksgiving\",\"nurse\",\"insane\",\"china\",\"anticipate\",\"ipa\",\"hood\",\"path\",\"saturday_afternoon\",\"wtf\",\"ps\",\"tone\",\"plaza\",\"five_minute\",\"leaf\",\"loaf\",\"scramble_egg\",\"informative\",\"route\",\"yard\",\"red_pepper\",\"anyone_else\",\"sooner\",\"red_wine\",\"ease\",\"sigh\",\"birthday_party\",\"holy\",\"fusion\",\"desert_ridge\",\"thousand\",\"mojo\",\"fine_dining\",\"cd\",\"as_oppose\",\"junk\",\"boat\",\"tub\",\"pull_pork_sandwich\",\"panda_express\",\"yelpers\",\"accent\",\"paradise_bakery\",\"ten_minute\",\"camera\",\"wtf_?\",\"rip_off\",\"designer\",\"flour\",\"skillet\",\"thomas\",\"grand\",\"update_:\",\"ultimate\",\"hi\",\"spoil\",\"roast_beef\",\"human\",\"calm\",\"initial\",\"fruity\",\"genius\",\"feel_welcome\",\"cafeteria\",\"male\",\"dumb\",\"occupy\",\"cooler\",\"mac_n_cheese\",\"flaky\",\"angry\",\"thoroughly_enjoy\",\"thumb_up\",\"smoker\",\"element\",\"text\",\"southwestern\",\"barbecue\",\"beautifully\",\"colleague\",\"rose\",\"pedi\",\"skewer\",\"breath\",\"hangover\",\"dancing\",\"ale\",\"thai_basil\",\"ahi\",\"ribeye\",\"feast\",\"smoking\",\"aroma\",\"chips\",\"west_side\",\"lackluster\",\"lunch_rush\",\"yea\",\"sens\",\"within_walking_distance\",\"smashburger\",\"hesitant\",\"perfect_amount\",\"bucket\",\"marinara\",\"high_expectation\",\"breading\",\"survive\",\"crab_puff\",\"id\",\"homey\",\"j\",\"nightmare\",\"wonder_why\",\"tacky\",\"pumpkin\",\"navigate\",\"liquid\",\"elegant\",\"wednesday_night\",\"put_together\",\"stain\",\"exercise\",\"cheesesteak\",\"cab\",\"-the\",\"skimp\",\"beg\",\"master\",\"reliable\",\"construction\",\"macaroni\",\"assist\",\"pizzeria\",\"file\",\"pico_de_gallo\",\"rank\",\"sundae\",\"jerk_chicken\",\"exact\",\"passion\",\"material\",\"closet\",\"pad\",\"25_minute\",\"television\",\"apart\",\"loose\",\"thorough\",\"preference\",\"an_appointment\",\"regular_basis\",\"mechanic\",\"cow\",\"midnight\",\"$_18\",\"norm\",\"elevator\",\"reality\",\"industrial\",\"assortment\",\"narrow\",\"olive_garden\",\"operation\",\"no_matter_how\",\"reflect\",\"phone_call\",\"annoy\",\"naturally\",\"wasabi\",\"another_shot\",\"mile_away\",\"cell_phone\",\"expert\",\"infuse\",\"digress\",\"catfish\",\"tattoo\",\"campus\",\"pharmacy\",\"pushy\",\"boo\",\"impress_by\",\"rental\",\"vinaigrette\",\"suspect\",\"mash\",\"brat\",\"sat\",\"sliced\",\"stair\",\"undercook\",\"letter\",\"unfortunate\",\"rustic\",\"ad\",\"cactus\",\"battery\",\"bouncer\",\"appetizing\",\"university\",\"david\",\"glaze\",\"lucky_enough\",\"gorgonzola\",\"unable\",\"california_roll\",\"varied\",\"costume\",\"seemingly\",\"truffle\",\"where_else\",\"firm\",\"flat_bread\",\"thank_god\",\"thank_goodness\",\"complement\",\"street_taco\",\"relative\",\"upon_enter\",\"carne_asada_burrito\",\"shady\",\"a+\",\"garlic_bread\",\"frustrating\",\"clerk\",\"pride\",\"arena\",\"brick\",\"k\",\"poorly\",\"ballpark\",\"social\",\"badly\",\"bedroom\",\"beach\",\"toddler\",\"locally_own\",\"outrageous\",\"bust\",\"independent\",\"cranberry\",\"endless\",\"filthy\",\"chunky\",\"pomegranate\",\"marry\",\"dog_park\",\"straw\",\"forth\",\"gather\",\"chile_relleno\",\"gladly\",\"shea\",\"supermarket\",\"patience\",\"well_prepared\",\"teenager\",\"source\",\"chocolate_chip_cookie\",\"blood\",\"equal\",\"hangout\",\"runny\",\"week_later\",\"rubbery\",\"80\",\"oatmeal\",\"volunteer\",\"speaker\",\"chase\",\"hilarious\",\"tummy\",\"fold\",\"shift\",\"overwhelmed\",\"stumble_upon\",\"4th\",\"brush\",\"water_glass\",\"shopper\",\"most_importantly\",\"superior\",\"gun\",\"beet\",\"baguette\",\"map\",\"$_35\",\"nigiri\",\"5th\",\"flour_tortilla\",\"seating_area\",\"treasure\",\"monthly\",\"tube\",\"supposedly\",\"hmm\",\"cheese_crisp\",\"smoke_salmon\",\"belong\",\"draft_beer\",\"only_negative\",\"unlimited\",\"peanut_sauce\",\"craft_beer\",\"jazz\",\"tomato_soup\",\"tom\",\"concerned\",\"genuinely\",\"open_late\",\"delicate\",\"oil_change\",\"$_16\",\"grill_onion\",\"accurate\",\"unfriendly\",\"ahi_tuna\",\"picnic\",\"lightly\",\"boil\",\"reheat\",\"spell\",\"mixed_drink\",\"baklava\",\"drench\",\"length\",\"scone\",\"anniversary\",\"this_past_weekend\",\"veal\",\"5_p.m.\",\"outdoors\",\"dense\",\"shave\",\"diet_coke\",\"fried\",\"little_gem\",\"corned_beef\",\"exceptionally\",\"l\",\"carne_asada_taco\",\"smokey\",\"decade\",\"#_2\",\"mmmmm\",\"hawaii\",\"praise\",\"burst\",\"tradition\",\"lower\",\"fishy\",\"sneak\",\"penny\",\"flan\",\"pea\",\"diamond\",\"catering\",\"7_p.m.\",\"wonton\",\"turkey_burger\",\"compete\",\"cartel\",\"witness\",\"chai\",\"italian_beef\",\"lettuce_wrap\",\"sea_bass\",\"ethnic\",\"24_hour\",\"prescription\",\"fabric\",\"wedge\",\"uber\",\"snag\",\"convert\",\"develop\",\"lousy\",\"peep\",\"baked_potato\",\"organized\",\"entry\",\"alive\",\"5-star\",\"planet\",\"adjust\",\"jukebox\",\"grape\",\"r\",\"exceed\",\"15_min\",\"scott\",\"mex\",\"poster\",\"indian_school\",\"crown\",\"2011\",\"watermelon\",\"signage\",\"froyo\",\"keg\",\"reasonably\",\"checkout\",\"another_chance\",\"nutella\",\"tony\",\"save_room\",\"picky_about\",\"aunt\",\"hotdog\",\"chocolate_chip\",\"nail_salon\",\"er\",\"nordstrom\",\"grateful\",\"mouth_water\",\"swanky\",\"flip\",\"title\",\"hashbrown\",\"bbq_pork\",\"sf\",\"temp\",\"sear\",\"vote\",\"bay_area\",\"$_1.50\",\"rise\",\"turkey_sandwich\",\"em\",\"crush\",\"spare\",\"deck\",\"measure\",\"spit\",\"brain\",\"anybody\",\"few_year_ago\",\"belt\",\"freeway\",\"nothing_fancy\",\"tortilla_chip\",\"root\",\"towner\",\"vanilla_ice_cream\",\"bubble\",\"michael\",\"dave\",\"disaster\",\"english_muffin\",\"runner\",\"balcony\",\"day_ago\",\"amc\",\"magical\",\"successful\",\"fire_pit\",\"whatsoever\",\"mellow\",\"cap\",\"corn_bread\",\"freshly\",\"no_doubt\",\"wide_selection\",\"arrival\",\"old_fashioned\",\"solution\",\"balsamic\",\"hallway\",\"prevent\",\"dd\",\"resemble\",\"intense\",\"wildflower\",\"inconsistent\",\"locker_room\",\"tostada\",\"instrument\",\"weigh\",\"shitty\",\"spicy_tuna\",\"tuck\",\"worth_every_penny\",\"sky_harbor\",\"seasoned\",\"nothing_spectacular\",\"byob\",\"hippie\",\"cave_creek\",\"thin_crust_pizza\",\"inedible\",\"$_3.50\",\"acoustic\",\"steve\",\"piss\",\"heater\",\"queso\",\"snap\",\"difference_between\",\"reward\",\"cheesecake_factory\",\"stir_fry\",\"scared\",\"tapa\",\"dim\",\"huh_?\",\"stay_away\",\"guinness\",\"heel\",\"bat\",\"reminiscent\",\"sketchy\",\"district\",\"food_network\",\"april\",\"aioli\",\"6_p.m.\",\"don\",\"triple\",\"hill\",\"drive_past\",\"cons_:\",\"til\",\"chilly\",\"west_valley\",\"stare\",\"perk\",\"organization\",\"tow\",\"10_min\",\"$_60\",\"mole\",\"specialize\",\"cappuccino\",\"lukewarm\",\"leak\",\"sorbet\",\"grain\",\"accompany_by\",\"celery\",\"yup\",\"20_min\",\"matt\",\"duty\",\"mondays\",\"aid\",\"vs.\",\"ultimately\",\"connoisseur\",\"filipino\",\"bore\",\"30_min\",\"vip\",\"ice_cold\",\"dang\",\"sand\",\"tho\",\"breeze\",\"unexpected\",\"surrounding\",\"posh\",\"birthday_dinner\",\"european\",\"stranger\",\"gallo_blanco\",\"bulk\",\"wander_around\",\"ice_coffee\",\"lip\",\"june\",\"definite\",\"quit\",\"munch\",\"swing\",\"payment\",\"expire\",\"crusty\",\"trend\",\"bored\",\"subtle\",\"kink\",\"13\",\"inventory\",\"peace\",\"instal\",\"grandmother\",\"gin\",\"fashion_square\",\"represent\",\"8_p.m.\",\"shampoo\",\"teen\",\"resturant\",\"town_guest\",\"dark_chocolate\",\"smash\",\"stuffy\",\"dvd\",\"upbeat\",\"apologetic\",\"succulent\",\"us_airways\",\"price_tag\",\"speedy\",\"horseradish\",\"few_month_ago\",\"boast\",\"tan\",\"linger\",\"dime\",\"quiche\",\"stuffed\",\"chimichanga\",\"overdone\",\"this_particular_location\",\"dealership\",\"pinch\",\"thoroughly\",\"mongolian_beef\",\"no_matter\",\"appealing\",\"ethiopian\",\"competitive\",\"enthusiastic\",\"august\",\"cheerful\",\"bowling\",\"(_i.e.\",\"instance\",\"reputation\",\"fresh_mozzarella\",\"imo\",\"warehouse\",\"gift_shop\",\"plantain\",\"error\",\"purple\",\"spray\",\"technician\",\"dining_companion\",\"frank\",\"sweet_tea\",\"extend\",\"roommate\",\"alley\",\"scan\",\"tile\",\"warranty\",\"tank\",\"warrant\",\"brilliant\",\"hanny_'s\",\"addictive\",\"hall\",\"doughy\",\"tapas\",\"pit\",\"shortly_after\",\"reduce\",\"lo_'s\",\"caramelized_onion\",\"drunken\",\"outfit\",\"family_member\",\"squash\",\"channel\",\"attendant\",\"october\",\"insanely\",\"max\",\"tag\",\"2012\",\"guitar\",\"absolute_favorite\",\"worried\",\"connection\",\"determine\",\"adjacent\",\"blow_away_by\",\"image\",\"orange_juice\",\"sakana\",\"presence\",\"monster\",\"red_curry\",\"unprofessional\",\"december\",\"mug\",\"2010\",\"suddenly\",\"empanada\",\"suffer\",\"un_-\",\"med\",\"melt_cheese\",\"20_year\",\"utensil\",\"challenging\",\"shred\",\"sour_soup\",\"plug\",\"river\",\"vs\",\"clue\",\"goal\",\"root_beer\",\"metro\",\"routine\",\"los_angeles\",\"excitement\",\"additionally\",\"relish\",\"chompie_'s\",\"ground_beef\",\"farmer_'s_market\",\"green_onion\",\"arrange\",\"childhood\",\"doughnut\",\"grilled\",\"competitor\",\"gracious\",\"ultra\",\"tuesdays\",\"enchiladas\",\"canned\",\"cop\",\"6_month\",\"sirloin\",\"iphone\",\"tot\",\"surgery\",\"wal_-_mart\",\"leather\",\"granola\",\"zipps\",\"houston_'s\",\"cheese_enchilada\",\"lolo_'s\",\"bottom_line_:\",\":d\",\"go_downhill\",\"whiskey\",\"stumble\",\"9_p.m.\",\"extreme\",\"bum\",\"dangerous\",\"customize\",\"spicy_tuna_roll\",\"japan\",\"wooden\",\"auto\",\"bummed\",\"contrast\",\"shall\",\"stir\",\"cure\",\"delighted\",\"pizza_hut\",\"drool\",\"provolone\",\"bc\",\"bob\",\"cali\",\"tower\",\"goat\",\"fuss\",\"celebration\",\"gallery\",\"fro_-\",\"luxury\",\"unhappy\",\"stall\",\"turf\",\"hash\",\"rival\",\"gift_certificate\",\"skimpy\",\"peaceful\",\"situate\",\"eggroll\",\"solo\",\"partake\",\"whim\",\"weeknight\",\"brews\",\"shiny\",\"procedure\",\"waiting\",\"21\",\"80_'s\",\"tee\",\"seal\",\"midwest\",\"barber\",\"drinker\",\"occur\",\"freezer\",\"scenery\",\"fridays\",\"wine_tasting\",\"3_p.m.\",\"contract\",\"heavily\",\"inconvenience\",\"sparse\",\"jelly\",\"filiberto_'s\",\"sloppy\",\"bliss\",\"yogurtland\",\"forgive\",\"rave_review\",\"red_velvet_cake\",\"bevmo\",\"instruction\",\"interrupt\",\"sex\",\"high_hope\",\"50_%_off\",\"stylish\",\"facebook\",\"afterward\",\"creativity\",\"engage\",\"hana\",\"tortilla_soup\",\"feta_cheese\",\"understanding\",\"jacket\",\"oddly\",\"essence\",\"macayo_'s\",\"scent\",\"relationship\",\"cooked\",\"flat_screen\",\"batch\",\"chimi\",\"green_curry\",\"makeup\",\"........\",\"spotty\",\"scrap\",\"pickup\",\"icing\",\"well_seasoned\",\"reverse_happy_hour\",\"playing\",\"must_admit\",\"urge\",\"stroll\",\"say_hello\",\"police\",\"bookstore\",\"sleek\",\"fourth\",\"cinnamon_roll\",\"chicken_finger\",\"an_additional\",\"oj\",\"fellow_yelper\",\"fab\",\"loss\",\"right_next_door\",\"blanket\",\"constant\",\"seat_immediately\",\"america_'s\",\"sauteed\",\"interact\",\"crumble\",\"slap\",\"artichoke_dip\",\"potato_chip\",\"lb\",\"silver\",\"pup\",\"idiot\",\"iron\",\"lamp\",\"yellow_curry\",\"confusion\",\"pleasant_surprise\",\"min\",\"opposite\",\"our_anniversary\",\"trim\",\"4_p.m.\",\"phoenician\",\"assorted\",\"estimate\",\"carolina_'s\",\"sourdough\",\"biased\",\"margherita\",\"c'mon\",\"bell_pepper\",\"guy_behind\",\"humor\",\"cash_register\",\"flag\",\"alcoholic\",\"live_band\",\"churro\",\"quality_ingredient\",\"lard\",\"duh\",\"intimidate\",\"bean_sprout\",\"stingray\",\"authenticity\",\"resolve\",\"10_p.m.\",\"dressed\",\"quirky\",\"spiciness\",\"handy\",\"teriyaki_chicken\",\"rice_noodle\",\"caprese\",\"kiss\",\"someplace\",\"embarrassed\",\"officially\",\"savor\",\"lotion\",\"noca\",\"disagree\",\"stink\",\"pricy\",\"harsh\",\"looking\",\"position\",\"accidentally\",\"blind\",\"ounce\",\"deny\",\"thankful\",\"quest\",\"wi_-_fi\",\"ex\",\"faux\",\"distract\",\"sonic\",\"bold\",\"i.\",\"lap\",\"electronic\",\"educate\",\"gain\",\"exquisite\",\"google\",\"ticoz\",\"primarily\",\"conveniently_locate\",\"admission\",\"cereal\",\"reference\",\"hunger\",\"renovation\",\"underneath\",\"liberty_market\",\"curtain\",\"competent\",\"chase_field\",\"chicken_strip\",\"la_carte\",\"unassuming\",\"moderate\",\"yellowtail\",\"rave\",\"main_reason\",\"extremely_helpful\",\"sticker\",\"greeting\",\"windsor\",\"limp\",\"chinese_buffet\",\"trainer\",\"peoria\",\"thinking\",\"wings\",\"spinach_salad\",\"preserve\",\"behavior\",\"negative_review\",\"sky\",\"dice\",\"5_buck\",\"al\",\"north_phoenix\",\"jim\",\"yard_house\",\"region\",\"2_p.m.\",\"link\",\"sofa\",\"make_an_appointment\",\"$_200\",\"concession\",\"total_wine\",\"miso\",\"cannoli\",\"port\",\"downright\",\"countless\",\"talented\",\"blue_moon\",\"grand_opening\",\"dealer\",\"fillet\",\"luggage\",\"goodwill\",\"senior\",\"reading\",\"-_esque\",\"foie_gra\",\"marinara_sauce\",\"refrigerator\",\"accomodating\",\"dingy\",\"freakin\",\"thrift_store\",\"george\",\"timing\",\"glance\",\"novelty\",\"substance\",\"transport\",\"standout\",\"americanized\",\"breast\",\"donate\",\"umbrella\",\"st._francis\",\"gallon\",\"splash\",\"live_closer\",\"active\",\"pathetic\",\"wendy_'s\",\"b.\",\"versus\",\"lifetime\",\";-)\",\"bourbon\",\"shove\",\"hot_tub\",\"creme\",\"backyard\",\"care_less\",\"deliciously\",\"automatically\",\"hidden\",\"unbelievably\",\"italian_sausage\",\"faster\",\"overhear\",\"bizarre\",\"shin\",\"statement\",\"variation\",\"thirsty\",\"cougar\",\"machaca\",\"insult\",\"1/2_star\",\"block_away\",\"friendliness\",\"brief\",\"execution\",\"miserable\",\"beloved\",\"influence\",\"politely\",\"apart_from\",\"niece\",\"_______\",\"caprese_salad\",\"blonde\",\"receptionist\",\"bleu_cheese\",\"sweet_tooth\",\"mcdowell\",\"caesar\",\"kevin\",\"second_chance\",\"bind\",\"pricey_side\",\"pudding\",\"brave\",\"transfer\",\"alike\",\"carefully\",\"january\",\"technique\",\"authentic_mexican_food\",\"lift\",\"flame\",\"knee\",\"owe\",\"fond\",\"las_vegas\",\"pbr\",\"partial\",\"apology\",\"mastro_'s\",\"talent\",\"postino_'s\",\"admittedly\",\"lobster_bisque\",\"bro\",\"cube\",\"conclusion\",\"aforementioned\",\"factory\",\"lentil\",\"someday\",\"behold\",\"inventive\",\"national\",\"egg_white\",\"debate\",\"gringo\",\"patronize\",\"surface\",\"bustle\",\"antique\",\"vision\",\"forward\",\"unpleasant\",\"bud\",\"drug\",\"status\",\"stool\",\"waterfall\",\"spotless\",\"sophisticated\",\"hula_'s\",\"freakin_'\",\"irritated\",\"treadmill\",\"blackberry\",\"depth\",\"code\",\"yikes\",\"pronounce\",\"jason\",\"slab\",\"bean_dip\",\"carrot_cake\",\"air_conditioning\",\"brake\",\"kale\",\"participate\",\"17\",\"picnic_table\",\"college_student\",\"unacceptable\",\"polenta\",\"function\",\"food_poisoning\",\"healthy_option\",\"canal\",\"fitness\",\"unpretentious\",\"pm\",\"cenpho\",\"zinburger\",\"dash\",\"uncle\",\"business_trip\",\"tavern\",\"asap\",\"allergic\",\"addiction\",\"50_%\",\"cowboy_ciao\",\"randomly\",\"sugary\",\"fate\",\"sweet_republic\",\"spinato_'s\",\"comforting\",\"intention\",\"raisin\",\"dipping\",\"perfectly_cooked\",\"2009\",\"bin\",\"overflow\",\"minute_later\",\"collect\",\"lawn\",\"hair_cut\",\"$_17\",\"brian\",\"near_future\",\"let_alone\",\"install\",\"array\",\"ted_'s\",\"kindly\",\"stamp\",\"crouton\",\"headache\",\"caper\",\"halloween\",\"debit_card\",\"cheat\",\"observe\",\"maker\",\"pico\",\"lush\",\"flash\",\"lodge\",\"echo\",\"cheddar_cheese\",\"timely_manner\",\"camp\",\"cod\",\"priority\",\"trout\",\"waffle_house\",\"crawl\",\"below_average\",\"faf\",\"tvs\",\"underwhelming\",\"valet_parking\",\"flair\",\"journey\",\"enhance\",\"cotton_candy\",\"gentle\",\"anytime_soon\",\"q\",\"positive_review\",\"explanation\",\"clinic\",\"crumb\",\"marketing\",\"soak_up\",\"arrangement\",\"paul\",\"handmade\",\"vacuum\",\"la_fitness\",\"november\",\"low_key\",\"incident\",\"durant_'s\",\"paperwork\",\"waiting_area\",\"star_rating\",\"scar\",\"muscle\",\"addicting\",\"painful\",\"coach\",\"reuben\",\"skirt\",\"green_pepper\",\"drain\",\"flavour\",\"el\",\"nibble\",\"z\",\"pee\",\"jeff\",\"license\",\"surf\",\"pal\",\"scottsdale_road\",\"radio\",\"video_game\",\"step_into\",\"promotion\",\"honesty\",\"palette\",\"execute\",\"shy\",\"caring\",\"inform_us\",\"promote\",\"rescue\",\"packet\",\"privacy\",\"kick_ass\",\"atop\",\"well_maintain\",\"fried_rice\",\"nosh\",\"sunny\",\"mill_avenue\",\"chemical\",\"sharp\",\"4.5_star\",\"cardboard\",\"nestle\",\"language\",\"alert\",\"safety\",\"90_%\",\"pen\",\"stuffing\",\"roughly\",\"br\",\"macy_'s\",\"village\",\"longer_than\",\"kids\",\"newbie\",\"gosh\",\"league\",\"premise\",\"northern\",\"manhattan\",\"sock\",\"prawn\",\"concrete\",\"wind\",\"robert\",\"foam\",\"court\",\"pond\",\"brussel_sprout\",\"gumbo\",\"secondly\",\"van\",\"snooty\",\"esp\",\"steer\",\"i've\",\"caffeine\",\"visible\",\"experienced\",\"swiss\",\"lounge_area\",\"sidewalk\",\"lo_mein\",\"starbuck\",\"accessible\",\"ribs\",\"release\",\"uniform\",\"convenient_location\",\"extraordinary\",\"picky_eater\",\"marshmallow\",\"flat_screen_tv\",\"jalepeno\",\"sorta\",\"cider\",\"confident\",\"overcharge\",\"locale\",\"tropical\",\"plethora\",\"pre\",\"powder\",\"loudly\",\"frustrated\",\"filter\",\"glorious\",\"newspaper\",\"annual\",\"shut\",\"marg\",\"an_assortment\",\"feedback\",\"no_frill\",\"baseline\",\"comfortably\",\"tiki\",\"india\",\"white_chocolate\",\"only_gripe\",\"combo_plate\",\"indie\",\"ryan\",\"70\",\"timely\",\"mask\",\"menudo\",\"loop\",\"cone\",\"dunno\",\"humble_pie\",\"vinyl\",\"stingy\",\"rosa\",\"loud_music\",\"hooter\",\"11_a.m.\",\"pissed\",\"unimpressed\",\"dancer\",\"lid\",\"apparent\",\"culver_'s\",\"heap\",\"eggs\",\"shrimp_cocktail\",\"forgettable\",\"assistance\",\"substantial\",\"gut\",\"butcher\",\"stunning\",\"kierland\",\"queen\",\"roy_'s\",\"sour_chicken\",\"transaction\",\"bs\",\"outing\",\"repeatedly\",\"say_hi\",\"tempting\",\"rant\",\"unhealthy\",\"comic\",\"carafe\",\"stiff\",\"burger_king\",\"crash\",\"$_80\",\"paste\",\"melon\",\"cracker_barrel\",\"equivalent\",\"$_5.00\",\"progress\",\"obsess\",\"innovative\",\"divey\",\"logo\",\"reception\",\"tj_'s\",\"sampling\",\"sub_par\",\"hospitality\",\"downtown_scottsdale\",\"gyro_meat\",\"unnecessary\",\"perspective\",\"tail\",\"p\",\"gyros\",\"flavoring\",\"lola\",\"sensitive\",\"h\",\"bowling_alley\",\"lease\",\"affect\",\"desperate\",\"coconut_milk\",\"prep\",\"pat\",\"an_absolute\",\"breathe\",\"asshole\",\"shine\",\"expense\",\"prize\",\"separately\",\"cigarette\",\"exam\",\"long_story_short\",\"passenger\",\"grocery_shopping\",\"refri_bean\",\"free_refill\",\"hustle\",\"battle\",\"snobby\",\"chopstick\",\"french_dip\",\"spiced\",\"heat_lamp\",\"douche\",\"eggs_benedict\",\"grace\",\"cauliflower\",\"marriott\",\"extra_charge\",\"westgate\",\"seed\",\"overbearing\",\"pregnant\",\"2008\",\"swing_by\",\"structure\",\"dimly_light\",\"musician\",\"nap\",\"scottsdale_quarter\",\"fuel\",\"lox\",\"james\",\"technically\",\"deep_dish\",\"$_4.50\",\"kabob\",\"sporting_event\",\"v\",\"gyoza\",\"strictly\",\"kelly\",\"haunt\",\"10_buck\",\"snotty\",\"voucher\",\"roomy\",\"vast\",\"rear\",\"chicken_tikka_masala\",\"alfredo\",\"pepperoni_pizza\",\"few_minute_later\",\"umm\",\"matt_'s_big\",\"modest\",\"redeem\",\"capacity\",\"rowdy\",\"crab_leg\",\"questionable\",\"gps\",\"kiddo\",\"carne\",\"fence\",\"chow_mein\",\"interaction\",\"parking_garage\",\"british\",\"squid\",\"amy\",\"margaritas\",\"fry_pickle\",\"new_mexico\",\"rye\",\"mat\",\"fresh_air\",\"yasu\",\"ranch_dressing\",\"richardson_'s\",\"suffice\",\"proximity\",\"well_organized\",\"destroy\",\"valentine_'s_day\",\"rental_car\",\"shredded_beef\",\"mystery\",\"courtesy\",\"d\\u00e9cor\",\"thursdays\",\"poke\",\"rob\",\"complicated\",\"outback\",\"$_7.50\",\"con_:\",\"pairing\",\"responsible\",\"understaffed\",\"chart\",\"possibility\",\"merely\",\"component\",\"profit\",\"useful\",\"pb\",\"mon\",\"hiking\",\"remarkable\",\"portions\",\"football_game\",\"clueless\",\"merry\",\"baja\",\"yc_'s\",\"yelp_event\",\"invest\",\"whoa\",\"accident\",\"reaction\",\"filibertos\",\"pose\",\"upon_arrival\",\"proof\",\"cvs\",\"domestic\",\"differently\",\"clam_chowder\",\"tilapia\",\"consumer\",\"cob\",\"revisit\",\"6:30\",\"method\",\"soda_fountain\",\"outside_seating\",\"washington\",\"especially_consider\",\"red_bean\",\"young_man\",\"undercooked\",\"sauerkraut\",\"carnivore\",\"noodles\",\"horribly\",\"nephew\",\"shut_down\",\"kfc\",\"pork_tenderloin\",\"rabbit\",\"fennel\",\"inquire_about\",\"commit\",\"awesomeness\",\"free_sample\",\"$_75\",\"overwhelm\",\"rail\",\"mama\",\"self_serve\",\"hazelnut\",\"5_min\",\"no_exception\",\"friday_evening\",\"moon\",\"dryer\",\"sapporo\",\"pin\",\"september\",\"bull\",\"ho\",\"secure\",\"relief\",\"inattentive\",\"identify\",\"definition\",\"cave\",\"2.5_star\",\"petsmart\",\"iced_coffee\",\"phone_number\",\"hardly_any\",\"saving\",\"sweaty\",\"st\",\"certificate\",\"long_ago\",\"overrated\",\"no_further\",\"sound_system\",\"jared\",\"nerve\",\"sauna\",\"seat_promptly\",\"filler\",\"height\",\"scallion\",\"gratuity\",\"beet_salad\",\"series\",\"2.5\",\"artsy\",\"approximately\",\"ross\",\"sea_salt\",\"patio_seating\",\"neglect\",\"mildly\",\"storm\",\"noise_level\",\"mound\",\"adopt\",\"mere\",\"lemongrass\",\"succeed\",\"slack\",\"cheese_curd\",\"focaccia\",\"college_kid\",\"red_robin\",\"from_scratch\",\"tater_tot\",\"young_lady\",\"dull\",\"no_idea_how\",\"europe\",\"sum_up\",\"motel\",\"ummm\",\"excite\",\"announce\",\"friends\",\"margherita_pizza\",\"a.\",\"nod\",\"piano\",\"medical\",\"galore\",\"thai_tea\",\"salt_caramel\",\"20_%\",\"scare\",\"monkey\",\"overly_sweet\",\"24\",\"arrive_early\",\"kitschy\",\"la_bocca\",\"chompies\",\"caribbean\",\"remark\",\"walgreens\",\"mainly_because\",\"kale_salad\",\"sonoran\",\"l.a.\",\"spoiled\",\"unsure\",\"peel\",\"expose\",\"$_6.50\",\"macaroon\",\"no_apology\",\"gripe\",\"kona\",\"most_recent\",\"subject\",\"drift\",\"angel\",\"critical\",\"recently_move\",\"pollo\",\"consider_myself\",\"naked\",\"mr\",\"junkie\",\"barrel\",\"tenderloin\",\"pleasing\",\"discussion\",\"octopus\",\"papago\",\"frustration\",\"sesame\",\"eyebrow\",\"flo_'s\",\"waiting_room\",\"meaning\",\"highly_suggest\",\"pa\",\"communicate\",\"uninspired\",\"rep\",\"swirl\",\"upside\",\"elbow\",\"utterly\",\"mayonnaise\",\"oz\",\"thoughtful\",\"grapefruit\",\"#_3\",\"responsive\",\"tasteful\",\"difficulty\",\"-_ness\",\"pinot_noir\",\"french_onion_soup\",\"barbeque\",\"gm\",\"toffee\",\"glow\",\"penne\",\"packaging\",\"living\",\"east_side\",\"cabana\",\"giggle\",\"playground\",\"bring_cash\",\"ocean\",\"fox\",\"mural\",\"adorn\",\"clarendon\",\"hispanic\",\"professionalism\",\"circle_k\",\"evil\",\"broken\",\"sunglass\",\"deluxe\",\":p\",\"panda\",\"lee_'s\",\"closing\",\"cruise\",\"irish_pub\",\"garlicky\",\"saturday_evening\",\"only_drawback\",\"70_'s\",\"international\",\"latin\",\"doc\",\"distinct\",\"90\",\"munchie\",\"meter\",\"less_expensive\",\"flag_down\",\"florist\",\"oasis\",\"bee\",\"farmer_market\",\"subpar\",\"tzatziki\",\"hot_pot\",\"cultural\",\"45_min\",\"concerned_about\",\"piercing\",\"iceberg_lettuce\",\"twin\",\"s.\",\"more_importantly\",\"parking_situation\",\"cast\",\"string\",\"potsticker\",\"wedge_salad\",\"inner\",\"anthem\",\"chandelier\",\"blanco\",\"save_money\",\"mary\",\"sam\",\"south_mountain\",\"attraction\",\"punk\",\"unreal\",\"loyal\",\"puff\",\"singer\",\"1_p.m.\",\"ipod\",\"no_worry\",\"summary\",\"scrub\",\"peek\",\"royal\",\"ownership\",\"justice\",\"authentic_mexican\",\"supplement\",\"explode\",\"10_a.m.\",\"austin\",\"maple\",\"fellow_yelpers\",\"open_24_hour\",\"sedona\",\"0\",\"=_=_=_=\",\"baker\",\"cpk\",\"convention\",\"hyatt\",\"sober\",\"appropriately\",\"paris\",\"cloud\",\"applebee_'s\",\"beef_brisket\",\"hip_hop\",\"communication\",\"pancetta\",\"fade\",\"zone\",\"extensive_menu\",\"pot_sticker\",\"mingle\",\"fixing\",\"sir\",\"clock\",\"slather\",\"herb_box\",\"benedict\",\"scotch\",\"carmel\",\"entr\\u00e9e\",\"jalape\\u00f1o\",\"clever\",\"glove\",\"immediate\",\"refried_bean\",\"habanero\",\"useless\",\"dispenser\",\"energetic\",\"rope\",\"bicycle\",\"malt\",\"landscape\",\"sesame_chicken\",\"basement\",\"macaroni_salad\",\"bottled_water\",\"first_timer\",\"eric\",\"renovate\",\"await\",\"your_wallet\",\"dedicate\",\"strength\",\"lamb_chop\",\"mochi\",\"dental\",\"$_22\",\"locker\",\"mahi_mahi\",\"jealous\",\"utilize\",\"mixed_green\",\"obscure\",\"chino_bandido\",\"grumpy\",\"red_chile\",\"fluke\",\"nick\",\"anxious\",\"holy_crap\",\"loyal_customer\",\"swap\",\"worried_about\",\"hamachi\",\"sam_'s\",\"recent_visit\",\"understandable\",\"msg\",\"chicago_dog\",\"deter\",\"scottsdale_rd\",\"gel\",\"core\",\"lord\",\"jumbo\",\"digital\",\"angle\",\"artisan\",\"cobb_salad\",\"attire\",\"dick\",\"dragon\",\"3/4\",\"inhale\",\"therapist\",\"fri\",\"douse\",\"hilton\",\"jewel\",\"hefty\",\"bloom\",\"ginormous\",\"caliber\",\"sticky_rice\",\"sublime\",\"approve\",\"graduate\",\"josh\",\"epic\",\"mate\",\"other_yelpers\",\"hookah\",\"90_minute\",\"ave\",\"ppl\",\"tolerate\",\"emergency\",\"rokerij\",\"chalk\",\"no_clue\",\"essential\",\"experiment\",\"early_morning\",\"noodle_soup\",\"splitting\",\"compensate\",\"dissapoint\",\"fortune\",\"key_lime_pie\",\"oregano\",\"alter\",\"busser\",\"truffle_oil\",\"injury\",\"mobile\",\"wok\",\"rainbow\",\"tastebud\",\"ben\",\"an_oil_change\",\"rim\",\"satisfaction\",\"ma\",\"tim\",\"sweet_tomatoes\",\"sweeten\",\"1/3\",\"7th_ave\",\"proportion\",\"tex_-\",\"amber\",\"punch_card\",\"pupusa\",\"twitter\",\"thailand\",\"i.e.\",\"condo\",\"nicely_decorate\",\"singing\",\"cram\",\"favs\",\"butternut_squash\",\"solely\",\"ooze\",\"overhead\",\"worthwhile\",\"prob\",\"comedy\",\"nightclub\",\"$_150\",\"inquire\",\"post_office\",\"bubbly\",\"shortly\",\"45\",\"camelback_mountain\",\"mega\",\"c.\",\"sizzling\",\"concierge\",\"st.\",\"bloody\",\"antipasto\",\"marketplace\",\"live_nearby\",\"bread_basket\",\"memorabilia\",\"significantly\",\"arcade\",\"support_local_business\",\"support_local\",\"orient\",\"jacuzzi\",\"poolside\",\"verde\",\"make_eye_contact\",\"attack\",\"ace\",\"gelato_spot\",\"cityscape\",\"goodyear\",\"defiantly\",\"denver\",\"hungover\",\"pipe\",\"bento_box\",\"linen\",\"pate\",\"outta\",\"churn\",\"appt\",\"inspection\",\"radish\",\"sized_portion\",\"throat\",\"solve\",\"peppery\",\"magnificent\",\"confidence\",\"2007\",\"least_favorite\",\"co_-\",\"bare\",\"zen\",\"accompaniment\",\"mashed_potato\",\"chuck\",\"au_jus\",\"february\",\"achieve\",\"bay\",\"carly_'s\",\"bravo\",\"pepsi\",\"11:30\",\"overload\",\"altogether\",\"amusing\",\"writing\",\"kiltlifter\",\"az88\",\"bonus_point\",\"beginner\",\"refresh\",\"10_minute_later\",\"gum\",\"france\",\"princess\",\"employ\",\"co\",\"instant\",\"heated\",\"soooooo\",\"insert\",\"earthy\",\"kung_pao\",\"coin\",\"brow\",\"saucy\",\"electric\",\"bday\",\"theory\",\"department_store\",\"thumb\",\"apricot\",\"fast_forward\",\"precious\",\"stroller\",\"big_mistake\",\"outdated\",\"device\",\"atrocious\",\"aim\",\"assemble\",\"new_york_style\",\"pot_roast\",\"barrio\",\"private_room\",\"socialize\",\"4.5\",\"doll\",\"fountain_drink\",\"1/4\",\"episode\",\"palm\",\"stout\",\"chutney\",\"cork\",\"sack\",\"qualify\",\"gap\",\"shrug\",\"ashamed\",\"leek\",\"thai_iced_tea\",\"caution\",\"era\",\"most_recent_visit\",\"barrio_cafe\",\"thigh\",\"balloon\",\"existent\",\"abundant\",\"hug\",\"dedicated\",\"seaweed\",\"bra\",\"jade_red_chicken\",\"smelly\",\"laden\",\"aged\",\"housekeeping\",\"local_artist\",\"basketball\",\"rad\",\"bj_'s\",\"on_several_occasion\",\"pearl\",\"jimmy_john_'s\",\"brooklyn\",\"expansive\",\"education\",\"shopping_cart\",\"slimy\",\"incompetent\",\"dock\",\"partially\",\"jamaican\",\"frost\",\"buttermilk\",\"carne_adovada\",\"mattress\",\"incorrect\",\"bud_light\",\"gluten\",\"nostalgia\",\"escargot\",\"installation\",\"pet_peeve\",\"total_bill\",\"then_proceed\",\"smack\",\"slightly_sweet\",\"eel\",\"tent\",\"valley_ho\",\"thus_far\",\"coating\",\"parking_space\",\"sriracha\",\"baja_fresh\",\"extra_mile\",\"happiness\",\"addicted\",\"rolls\",\"musical\",\"heather\",\"wound_up\",\"audience\",\"dc\",\"article\",\"traveler\",\"fresh_basil\",\"friday_afternoon\",\"qt\",\"passable\",\"meantime\",\"gang\",\"lowe_'s\",\"mmmmmm\",\"wine_pairing\",\"uni\",\"pleasantly\",\"working\",\"petite\",\"wrapper\",\"overnight\",\"culinary_dropout\",\"rib_eye\",\"alteration\",\"hong_kong\",\"micro\",\"sudden\",\"historic\",\"bass\",\"notify\",\"relleno\",\"chocolate_cover\",\"lee_lee_'s\",\"roast_chicken\",\"sis\",\"tonic\",\"faint\",\"celebrity\",\"5:30\",\"decently\",\"faith\",\"anti_-\",\"sweater\",\"bosa\",\"frozen_custard\",\"woohoo\",\"$_300\",\"americano\",\"production\",\"darts\",\"mo\",\"swallow\"],\"word\":[\"good\",\"place\",\"food\",\"like\",\"great\",\"time\",\"...\",\"order\",\"come\",\"try\",\"service\",\"love\",\"think\",\"eat\",\"nice\",\"'s\",\"restaurant\",\"know\",\"want\",\"look\",\"little\",\"find\",\"drink\",\"menu\",\"thing\",\"people\",\"price\",\"wait\",\"pretty\",\"bar\",\"friendly\",\"way\",\"day\",\"pizza\",\"staff\",\"friend\",\"table\",\"lunch\",\"ask\",\"taste\",\"feel\",\"need\",\"chicken\",\"work\",\"delicious\",\"bad\",\"lot\",\"meal\",\"use\",\"right\",\"experience\",\"definitely\",\"salad\",\"fresh\",\"sure\",\"enjoy\",\"location\",\"tell\",\"small\",\"sandwich\",\"flavor\",\"new\",\"amazing\",\"serve\",\"bit\",\"visit\",\"fry\",\"burger\",\"area\",\"dish\",\"dinner\",\"sauce\",\"2\",\"favorite\",\"review\",\"check\",\"leave\",\"walk\",\"awesome\",\"big\",\"beer\",\"bring\",\"....\",\"cheese\",\"night\",\"tasty\",\"..\",\"store\",\"year\",\"3\",\"home\",\"start\",\"long\",\"sit\",\"clean\",\"meat\",\"atmosphere\",\"phoenix\",\"close\",\"open\",\"hot\",\"special\",\"breakfast\",\"kind\",\"room\",\"cool\",\"selection\",\"wine\",\"actually\",\"ok\",\"worth\",\"item\",\"different\",\"decide\",\"probably\",\"pay\",\"excellent\",\"offer\",\"maybe\",\"expect\",\"coffee\",\"fun\",\"let\",\"spot\",\"hour\",\"inside\",\"super\",\"perfect\",\"large\",\"seat\",\"recommend\",\"usually\",\"sushi\",\"server\",\"plate\",\"bread\",\"couple\",\"stuff\",\"sweet\",\"stop\",\"buy\",\"huge\",\"half\",\"old\",\"quality\",\"kid\",\"guy\",\"4\",\"owner\",\"dessert\",\"live\",\"house\",\"--\",\"run\",\"help\",\"decent\",\"happy_hour\",\"free\",\"happy\",\"drive\",\"cheap\",\"week\",\"oh\",\"busy\",\"family\",\"overall\",\"add\",\"hard\",\"cook\",\"outside\",\"choice\",\"waitress\",\"patio\",\"line\",\"shop\",\"husband\",\"mexican\",\"hear\",\"fast\",\"spicy\",\"appetizer\",\"return\",\"yes\",\"mean\",\"scottsdale\",\"option\",\"wonderful\",\"stay\",\"course\",\"especially\",\"town\",\"roll\",\"taco\",\"fantastic\",\"include\",\"water\",\"finally\",\"salsa\",\"watch\",\"care\",\"chip\",\"business\",\"rice\",\"steak\",\"customer\",\"point\",\"deal\",\"quick\",\"change\",\"wish\",\"5\",\"at_least\",\"soup\",\"fill\",\"spend\",\"car\",\"fish\",\"star\",\"high\",\"light\",\"more_than\",\"wrong\",\"choose\",\"arrive\",\"far\",\"today\",\"portion\",\"plus\",\"wife\",\"fact\",\"waiter\",\"guess\",\"real\",\"local\",\"glass\",\"decor\",\"second\",\"instead\",\"regular\",\"play\",\"turn\",\"reason\",\"remember\",\"extra\",\"miss\",\"thank\",\"yummy\",\"crowd\",\"easy\",\"end\",\"shrimp\",\"veggie\",\"fan\",\"money\",\"able\",\"girl\",\"group\",\"1\",\"style\",\"okay\",\"read\",\"music\",\"share\",\"beef\",\"manager\",\"helpful\",\"hand\",\"piece\",\"hotel\",\"head\",\"type\",\"egg\",\"dog\",\"hit\",\"door\",\"size\",\"parking\",\"etc\",\"entree\",\"away\",\"job\",\"end_up\",\"person\",\"wall\",\"happen\",\"bacon\",\"stand\",\"valley\",\"cold\",\"charge\",\"counter\",\"party\",\"man\",\"absolutely\",\"fine\",\"employee\",\"mention\",\"finish\",\"weekend\",\"notice\",\"grill\",\"dry\",\"bite\",\"treat\",\"bowl\",\"problem\",\"street\",\"plenty\",\":)\",\"cut\",\"game\",\"warm\",\"forget\",\"meet\",\"mind\",\"bartender\",\"arizona\",\"yelp\",\"kitchen\",\"disappoint\",\"bean\",\"pool\",\"list\",\"beautiful\",\"tomato\",\"believe\",\"bottle\",\"variety\",\"attentive\",\"slice\",\"seriously\",\"pick\",\"slow\",\"our_server\",\"wing\",\"sign\",\"talk\",\"10\",\"trip\",\"month\",\"soon\",\"cute\",\"mix\",\"chain\",\"book\",\"burrito\",\"date\",\"white\",\"tip\",\"chinese\",\"lack\",\"expensive\",\"impressed\",\"bill\",\"sell\",\"space\",\"stick\",\"ambiance\",\"pork\",\"average\",\"even_though\",\"quickly\",\"park\",\"az\",\"life\",\"thai\",\"early\",\"green\",\"ice_cream\",\"highly_recommend\",\"unique\",\"5_star\",\"cup\",\"simple\",\"sound\",\"wow\",\"customer_service\",\"extremely\",\"consider\",\"pack\",\"later\",\"past\",\"write\",\"better\",\"twice\",\"lady\",\"comfortable\",\"evening\",\"cost\",\"topping\",\"rest\",\"grab\",\"receive\",\"near\",\"totally\",\"flavorful\",\"interesting\",\"ready\",\"late\",\"entire\",\"glad\",\"issue\",\"bland\",\"joint\",\"potato\",\"tempe\",\"pasta\",\"6\",\"mom\",\"ton\",\"morning\",\"world\",\"plan\",\"ingredient\",\"hope\",\"pass\",\"bbq\",\"base\",\"smell\",\"onion\",\"pick_up\",\"chef\",\"bathroom\",\"chocolate\",\"cover\",\"crispy\",\"available\",\"set\",\"italian\",\"cake\",\"word\",\"neighborhood\",\"product\",\"suggest\",\"break\",\"movie\",\"short\",\"standard\",\"low\",\".....\",\"purchase\",\"recently\",\"reasonable\",\"loud\",\"last_night\",\"tender\",\"rock\",\"healthy\",\"margarita\",\"unfortunately\",\"face\",\"class\",\"red\",\"figure\",\"boyfriend\",\"reservation\",\"yum\",\"hungry\",\"event\",\"sample\",\"hold\",\"minute\",\"woman\",\"fix\",\"completely\",\"vegetarian\",\"pho\",\"crust\",\"case\",\"wrap\",\"eye\",\"tea\",\"sorry\",\"understand\",\"hate\",\"prefer\",\"buffet\",\"mushroom\",\"bag\",\"provide\",\"view\",\"question\",\"office\",\"soft\",\"realize\",\"compare\",\"tv\",\"explain\",\"simply\",\"cocktail\",\"desert\",\"die\",\"excited\",\"number\",\"speak\",\"downtown\",\"locate\",\"spice\",\"company\",\"appreciate\",\"agree\",\"send\",\"true\",\"greasy\",\"beat\",\"$_5\",\"whatev\",\"note\",\"deliver\",\"noodle\",\"truly\",\"certainly\",\"sausage\",\"cookie\",\"suppose\",\"crazy\",\"chance\",\"authentic\",\"combo\",\"garlic\",\"value\",\"pleasant\",\"club\",\"box\",\"save\",\"building\",\"middle\",\"weird\",\"smile\",\"throw\",\"birthday\",\"sort\",\"dark\",\"split\",\"disappointed\",\"sunday\",\"tiny\",\"city\",\"state\",\"kinda\",\"chair\",\"best\",\"hop\",\"idea\",\"parking_lot\",\"vibe\",\"corner\",\"lose\",\"suck\",\"stop_by\",\"refill\",\"fruit\",\"establishment\",\"vegetable\",\"terrible\",\"surprise\",\"fabulous\",\"airport\",\"horrible\",\"pull\",\"coupon\",\"8\",\"daughter\",\"prepare\",\"folk\",\"wear\",\"seafood\",\"outstanding\",\"salmon\",\"butter\",\"perfectly\",\"hang_out\",\"yeah\",\"hummus\",\"allow\",\"immediately\",\"literally\",\"less_than\",\"window\",\"summer\",\"lovely\",\"seating\",\"drop\",\"dollar\",\"phone\",\"section\",\"rude\",\"carry\",\"pop\",\"honestly\",\"crave\",\"request\",\"friday\",\"brunch\",\"saturday\",\"continue\",\"card\",\"7\",\"kick\",\"conversation\",\"fairly\",\"sale\",\"basically\",\"apparently\",\"dirty\",\"mall\",\"solid\",\"catch\",\"dress\",\"follow\",\"surprised\",\"child\",\"salty\",\"slightly\",\"salt\",\"hair\",\"heat\",\"$_10\",\"damn\",\"non_-\",\"shot\",\"sit_down\",\"easily\",\"hostess\",\"look_forward\",\"opinion\",\"pepper\",\"usual\",\"picture\",\"booth\",\"incredible\",\"typical\",\"strong\",\"soda\",\"mediocre\",\"normally\",\"cupcake\",\"combination\",\"dressing\",\"guest\",\"avoid\",\"4_star\",\"rush\",\"asian\",\"floor\",\"creamy\",\"casual\",\"level\",\"talk_about\",\"boy\",\"total\",\"modern\",\"thick\",\"color\",\"fall\",\"sub\",\"market\",\"professional\",\"remind_me\",\"mouth\",\"lettuce\",\"pie\",\"poor\",\"homemade\",\"dip\",\"tortilla\",\"son\",\"imagine\",\"thin\",\"traditional\",\"medium\",\"fit\",\"patron\",\"begin\",\"waffle\",\"curry\",\"vegan\",\"learn\",\"bun\",\"bagel\",\"recommendation\",\"despite\",\"rib\",\"art\",\"tap\",\"addition\",\"mood\",\"sad\",\"avocado\",\"girlfriend\",\"tonight\",\"welcome\",\"wonder\",\"season\",\"cafe\",\"quiet\",\"guacamole\",\"s\",\"bunch\",\"rich\",\"round\",\"pancake\",\"year_ago\",\"answer\",\"complete\",\"texture\",\"fair\",\"original\",\"burn\",\"yogurt\",\"toast\",\"nearly\",\"exactly\",\"cozy\",\"fancy\",\"obviously\",\"resort\",\"touch\",\"pair\",\"bed\",\"baby\",\"online\",\"hole\",\"similar\",\"ticket\",\"theater\",\"shoe\",\"appear\",\"frequent\",\"comment\",\"shopping\",\"hell\",\"relax\",\"basic\",\"spa\",\"heart\",\"bother\",\"update\",\"diner\",\"step\",\"double\",\"rate\",\"buck\",\"odd\",\"normal\",\"young\",\"melt\",\"chili\",\"juicy\",\"10_minute\",\"saturday_night\",\"strawberry\",\"friday_night\",\"sister\",\"corn\",\"heaven\",\"somewhat\",\"post\",\"hey\",\"knowledgeable\",\"black\",\"cash\",\"hot_dog\",\"w/\",\"strip_mall\",\"gym\",\"starbucks\",\"pricey\",\"attention\",\"accommodate\",\"awful\",\"attitude\",\"enter\",\"create\",\"hubby\",\"ice\",\"fat\",\"design\",\"funny\",\"possible\",\"n\",\"tofu\",\"heavy\",\"dining\",\"next_door\",\"stock\",\"by_far\",\"app\",\"main\",\"concept\",\"admit\",\"waste\",\"delish\",\"plain\",\"describe\",\"crisp\",\"travel\",\"generally\",\"indian\",\"incredibly\",\"country\",\"disappointing\",\"organic\",\"3_star\",\"tend\",\"interior\",\"yesterday\",\"weather\",\"pleased\",\"pita\",\"version\",\"foot\",\"wash\",\"difficult\",\"win\",\"lol\",\"honest\",\"chandler\",\"15_minute\",\"feature\",\"snack\",\"listen\",\"smoke\",\"clear\",\"opt\",\"bruschetta\",\"mini\",\"afternoon\",\"american\",\"future\",\"actual\",\"fly\",\"feeling\",\"apple\",\"hip\",\"produce\",\"classic\",\"build\",\"particular\",\"giant\",\"moment\",\"spinach\",\"crowded\",\"massage\",\"chicago\",\"willing\",\"mac\",\"single\",\"enchilada\",\"nothing_special\",\"gross\",\"gyro\",\"handle\",\"flight\",\"matter\",\"nearby\",\"search\",\"chat\",\"limited\",\"center\",\"din\",\"load\",\"ride\",\"hang\",\"greet\",\"blow\",\"complain\",\"shirt\",\"chipotle\",\"dance\",\"refreshing\",\"parent\",\"clothe\",\"sense\",\"oil\",\"delivery\",\"rare\",\"mistake\",\"gelato\",\"clearly\",\"band\",\"perfection\",\"turkey\",\"affordable\",\"tasting\",\"tough\",\"management\",\"gravy\",\"suggestion\",\"deli\",\"environment\",\"20_minute\",\"mile\",\"donut\",\"lemon\",\"bake\",\"skip\",\"set_up\",\"support\",\"vietnamese\",\"host\",\"20\",\"chill\",\"straight\",\"machine\",\"barely\",\"nail\",\"japanese\",\"bike\",\"moist\",\"consistently\",\"manage\",\"cream\",\"pastry\",\"strange\",\"detail\",\"lounge\",\"anymore\",\"sweet_potato_fry\",\"personally\",\"age\",\"sun\",\"generous\",\"broth\",\"convenient\",\"12\",\"discover\",\"sit_outside\",\"replace\",\"soggy\",\"trendy\",\"$_20\",\"dine\",\"reasonably_price\",\"discount\",\"martini\",\"meh\",\"tuna\",\"15\",\"quesadilla\",\"overpriced\",\"ass\",\"five_star\",\"school\",\"ground\",\"dozen\",\"1/2\",\"grocery_store\",\"sugar\",\"venue\",\"scene\",\"pour\",\"sized\",\"nicely\",\"ball\",\"fire\",\"mother\",\"lobster\",\"efficient\",\"story\",\"big_fan\",\"crunchy\",\"pesto\",\"impressive\",\"joke\",\"deserve\",\"complaint\",\"presentation\",\"la\",\"road\",\"groupon\",\"crap\",\"expectation\",\"crab\",\"lucky\",\"dad\",\"process\",\"rather_than\",\"beverage\",\"calamari\",\"top_notch\",\"general\",\"team\",\"shake\",\"annoying\",\"self\",\"lamb\",\"rating\",\"cashier\",\"alright\",\"present\",\"orange\",\"dining_experience\",\"certain\",\"satisfied\",\"prompt\",\"multiple\",\"alcohol\",\"30_minute\",\"typically\",\"consistent\",\"feed\",\"patient\",\"beer_selection\",\"duck\",\"spring_roll\",\"assume\",\"bf\",\"upscale\",\"scallop\",\"mesa\",\"prepared\",\"awhile\",\"only_complaint\",\"ham\",\"old_town\",\"dining_room\",\"leftover\",\"30\",\"jalapeno\",\"carne_asada\",\"olive\",\"live_music\",\"surprisingly\",\"honey\",\"meatball\",\"paper\",\"air\",\"attempt\",\"lobby\",\"adult\",\"brand\",\"ridiculous\",\"crepe\",\"laugh\",\"......\",\"grow\",\"separate\",\"facility\",\"truck\",\"particularly\",\"fail\",\"hike\",\"banana\",\"omg\",\"pricing\",\"bright\",\"phx\",\"last_week\",\"california\",\"basil\",\"bakery\",\"greek\",\"reasonable_price\",\"slider\",\"ahead\",\"fry_rice\",\"unlike\",\"pleasantly_surprised\",\"exactly_what\",\"drunk\",\"north\",\"god\",\"hand_down\",\"act\",\"specialty\",\"popular\",\"luck\",\"mess\",\"pickle\",\"setting\",\"match\",\"sick\",\"candy\",\"positive\",\"mark\",\"coffee_shop\",\"no_problem\",\"filling\",\"anyways\",\"chewy\",\"gift\",\"frozen\",\"mayo\",\"wine_list\",\"attend\",\"register\",\"par\",\"rave_about\",\"grow_up\",\"luckily\",\"block\",\"apologize\",\"brother\",\"dig\",\"creative\",\"tire\",\"occasion\",\"enjoyable\",\"5_minute\",\"count\",\"difference\",\"package\",\"possibly\",\"push\",\"random\",\"biscuit\",\"bone\",\"sport\",\"important\",\"omelet\",\"appointment\",\"result\",\"fare\",\"furniture\",\"dead\",\"outdoor\",\"goat_cheese\",\"shit\",\"everything_else\",\"lead\",\"platter\",\"personal\",\"doctor\",\"9\",\"hopefully\",\"offering\",\"stadium\",\"dude\",\"correct\",\"inexpensive\",\"sadly\",\"craving\",\"dream\",\"complain_about\",\"repair\",\"display\",\"wedding\",\"mozzarella\",\"form\",\"pet\",\"mill\",\"cucumber\",\"compliment\",\"polite\",\"packed\",\"restroom\",\"daily\",\"tour\",\"some_sort\",\"t\",\"trail\",\"onion_ring\",\"kill\",\"promise\",\"desire\",\"overly\",\"ambience\",\"situation\",\"blue\",\"boring\",\"train\",\"pre_-\",\"hat\",\"huge_fan\",\"garden\",\"pad_thai\",\"fault\",\"body\",\"complimentary\",\"gourmet\",\"goodness\",\"your_mouth\",\"seasoning\",\"french\",\"board\",\"opportunity\",\"anything_else\",\"switch\",\"depend_on\",\"doubt\",\"safe\",\"brisket\",\"thought\",\"hype\",\"exceptional\",\"stomach\",\"terrific\",\"layout\",\"these_guy\",\"station\",\"invite\",\"dive\",\"fish_taco\",\"phenomenal\",\"photo\",\"shape\",\"range\",\"highlight\",\"knock\",\"improve\",\"salon\",\"front_desk\",\"lover\",\"likely\",\"ya\",\"overcook\",\"earlier\",\"$_6\",\"downtown_phoenix\",\"asu\",\"right_away\",\"espresso\",\"schedule\",\"sport_bar\",\"entrance\",\"ice_tea\",\"pineapple\",\"animal\",\"ignore\",\"tell_him\",\"2_star\",\"member\",\"something_else\",\"pain\",\"dr.\",\"scoop\",\"few_minute\",\"gorgeous\",\"filet\",\"prior\",\"theme\",\"website\",\"term\",\"grocery\",\"mango\",\"major\",\"negative\",\"coconut\",\"judge\",\"french_toast\",\"egg_roll\",\"juice\",\"subway\",\"anywhere_else\",\"impress\",\"hint\",\"spectacular\",\"disappointment\",\"system\",\"flat\",\"fee\",\"carrot\",\"cream_cheese\",\"ring\",\"pasty\",\"satisfy\",\"claim\",\"excuse\",\"classy\",\"lemonade\",\"milk\",\"brew\",\"delightful\",\"example\",\"site\",\"gem\",\"remove\",\"raw\",\"effort\",\"french_fry\",\"meeting\",\"swear\",\"monday\",\"mild\",\"paint\",\"coworker\",\"superb\",\"needless\",\"key\",\"warn\",\"inform\",\"blend\",\"b\",\"rarely\",\"join\",\"advice\",\"community\",\"cheesecake\",\"score\",\"celebrate\",\"starter\",\"skin\",\"smooth\",\"valet\",\"$_8\",\"shame\",\"co_-_worker\",\"mixed\",\"steal\",\"require\",\"lay\",\"interested\",\"black_bean\",\"chorizo\",\"mustard\",\"cheesy\",\"college\",\"forever\",\"no_longer\",\"high_quality\",\"settle\",\"limit\",\"costco\",\"pink\",\"cooking\",\"song\",\"lie\",\"mash_potato\",\"test\",\"treatment\",\"credit\",\"$_15\",\"2nd\",\"$_7\",\"worker\",\"trouble\",\"couch\",\"spread\",\"nice_touch\",\"central\",\"favor\",\"dj\",\"buddy\",\"wise\",\"sake\",\"email\",\"target\",\"rent\",\"brown\",\"spacious\",\"recipe\",\"lighting\",\"crappy\",\"boba\",\"law\",\"ruin\",\"quaint\",\"freeze\",\"hide\",\"sip\",\"venture\",\"savory\",\"cart\",\"$_1\",\"select\",\"cuisine\",\"alot\",\"chop\",\"neat\",\"broccoli\",\"nasty\",\"mid\",\"sprinkle\",\"sangria\",\"consist\",\"everyone_else\",\"hamburger\",\"basket\",\"hipster\",\"everyday\",\"property\",\"chunk\",\"jump\",\"museum\",\"concern\",\"clothing\",\"pedicure\",\"draw\",\"olive_oil\",\"intimate\",\"portion_size\",\"wood\",\":(\",\"shower\",\"guac\",\"camelback\",\"raise\",\"45_minute\",\"large_group\",\"bonus\",\"roast\",\"cilantro\",\"alternative\",\"hurry\",\"decision\",\"force\",\"korean\",\"pile\",\"$_12\",\"lime\",\"deep\",\"vanilla\",\"dim_sum\",\"student\",\"calorie\",\"tree\",\"approach\",\"fork\",\"sleep\",\"heck\",\"ranch\",\"quote\",\"four_star\",\"rat\",\"u\",\"uncomfortable\",\"corporate\",\"cat\",\"new_york\",\"tired\",\"farm\",\"focus\",\"bbq_sauce\",\";)\",\"leg\",\"refuse\",\"mint\",\"strip\",\"w_/\",\"prosciutto\",\"credit_card\",\"tuesday\",\"vodka\",\"ginger\",\"pitcher\",\"frequently\",\"flower\",\"right_amount\",\"big_deal\",\"south\",\"regret\",\"balance\",\"stage\",\"asparagus\",\"relaxed\",\"vacation\",\"staple\",\"disgusting\",\"mountain\",\"bomb\",\"computer\",\"charming\",\"grease\",\"plastic\",\"client\",\"upgrade\",\"grill_cheese\",\"y\",\"nut\",\"hurt\",\"somewhere_else\",\"equally\",\"smoothie\",\"sweet_potato\",\"aisle\",\"pleasure\",\"someone_else\",\"fluffy\",\"btw\",\"herb\",\"trust\",\"gilbert\",\"exist\",\"ny\",\"challenge\",\"eggplant\",\"fight\",\"patty\",\"previous\",\"potential\",\"sooo\",\"starve\",\"reach\",\"50\",\"bet\",\"blast\",\"1st\",\"$_9\",\"popcorn\",\"consistency\",\"dough\",\"o\",\"southwest\",\"no_complaint\",\"pita_jungle\",\"remain\",\"at_least_once\",\"killer\",\"scream\",\"famous\",\"history\",\"contact\",\"breakfast_burrito\",\"tart\",\"holiday\",\"pound\",\"budget\",\"greet_by\",\"sour_cream\",\"crack\",\"finger\",\"main_course\",\"yay\",\"secret\",\"specific\",\"soooo\",\"row\",\"ketchup\",\"torta\",\"east\",\"toss\",\"delight\",\"cater\",\"cinnamon\",\"rack\",\"natural\",\"pull_pork\",\"edge\",\"minus\",\"yell\",\"11\",\"extensive\",\"romantic\",\"weak\",\"batter\",\"during_happy_hour\",\"rule\",\"pretzel\",\"courteous\",\"awkward\",\"pepperoni\",\"fez\",\"memory\",\"re_-\",\"prime_rib\",\"complex\",\"decorate\",\"oven\",\"shade\",\"container\",\"peanut_butter\",\"land\",\"signature\",\"shoot\",\"sour\",\"overprice\",\"diet\",\"late_night\",\"eventually\",\"relatively\",\"tasteless\",\"sashimi\",\"their_website\",\"someone_who\",\"tequila\",\"partner\",\"grant\",\"$_30\",\"outdoor_seating\",\"appeal\",\"west\",\"equipment\",\"repeat\",\"nachos\",\"walk_away\",\"shell\",\"dive_bar\",\"upstairs\",\"brownie\",\":-)\",\"strike\",\"workout\",\"promptly\",\"better_than\",\"cook_perfectly\",\"toy\",\"syrup\",\"everytime\",\"indoor\",\"tamale\",\"eh\",\"thursday\",\"dining_area\",\"picky\",\"latte\",\"little_pricey\",\"practice\",\"destination\",\"constantly\",\"regularly\",\"studio\",\"muffin\",\"lay_back\",\"receipt\",\"combine\",\"introduce\",\"screen\",\"comfy\",\"ago\",\"left\",\"take_advantage\",\"supply\",\"taste_bud\",\"takeout\",\"oyster\",\"recent\",\"refer\",\"print\",\"your_typical\",\"memorable\",\"mess_up\",\"anyone_who\",\"fake\",\"power\",\"numerous\",\"serving\",\"stupid\",\"e\",\"lame\",\"weekday\",\"every_single\",\"light_rail\",\"safeway\",\"regardless\",\"barista\",\"bank\",\"familiar\",\"aside_from\",\"vintage\",\"afraid\",\"obvious\",\"panini\",\"deep_fry\",\"specifically\",\"amazingly\",\"tab\",\"regard\",\"reserve\",\"napkin\",\"exhibit\",\"trust_me\",\"foodie\",\"coke\",\"earth\",\"brie\",\"tooth\",\"stale\",\"traffic\",\"information\",\"wednesday\",\"noise\",\"accept\",\"hash_brown\",\"funky\",\"flatbread\",\"three_star\",\"$_25\",\"pub\",\"winter\",\"um\",\"department\",\"contain\",\"massive\",\"gluten_free\",\"charm\",\"proceed\",\"accompany\",\"tad\",\"arm\",\"address\",\"mojito\",\"caramel\",\"sing\",\"steam\",\"handful\",\"spring\",\"apartment\",\"cheeseburger\",\"waitstaff\",\"dentist\",\"health\",\"fiance\",\"hire\",\"individual\",\"eatery\",\"library\",\"pretentious\",\"security\",\"bear\",\"christmas\",\"condiment\",\"gold\",\"energy\",\"tax\",\"hearty\",\"entertainment\",\"stellar\",\"flavorless\",\"microwave\",\"green_chile\",\"fresh_ingredient\",\"relaxing\",\"outdoor_patio\",\"temperature\",\"raspberry\",\"nacho\",\"character\",\"tear\",\"winner\",\"freak\",\"description\",\"vehicle\",\"neighbor\",\"gal\",\"highly\",\"1_star\",\"overwhelming\",\"longer\",\"frozen_yogurt\",\"slide\",\"lock\",\"blue_cheese\",\"fave\",\"plant\",\"above_average\",\"suit\",\"cabbage\",\"iced_tea\",\"falafel\",\"adorable\",\"direction\",\"personable\",\"weekly\",\"other_reviewer\",\"range_from\",\"private\",\"till\",\"yelp_review\",\"yelper\",\"careful\",\"and/or\",\"snob\",\"tray\",\"baked\",\"lately\",\"drinking\",\"glendale\",\"afford\",\"fool\",\"w\",\"liquor\",\"aware\",\"nyc\",\"booze\",\"fav\",\"fridge\",\"plentiful\",\"current\",\"gate\",\"towel\",\"exception\",\"free_wifi\",\"layer\",\"expand\",\"short_rib\",\"personality\",\"high_end\",\"exciting\",\"gas\",\"divine\",\"feta\",\"noisy\",\"originally\",\"remind\",\"denny_'s\",\"earn\",\"sundays\",\"refund\",\"haha\",\"opening\",\"upset\",\"desk\",\"rid\",\"date_night\",\"common\",\"old_school\",\"calzone\",\"hello\",\"peanut\",\"char\",\"stack\",\"comparison\",\"study\",\"ridiculously\",\"def\",\"vet\",\"heavenly\",\"buttery\",\"take_forever\",\"karaoke\",\"mediterranean\",\"hh\",\"fatty\",\"pot\",\"100_%\",\"got\",\"steakhouse\",\"ceiling\",\"overlook\",\"call_ahead\",\"scale\",\"press\",\"write_home_about\",\"seasonal\",\"blah\",\"internet\",\"bus\",\"omelette\",\"thankfully\",\"dipping_sauce\",\"spaghetti\",\"boot\",\"crunch\",\"soul\",\"walmart\",\"thin_crust\",\"note_:\",\"inspire\",\"beware\",\"year_old\",\"cause\",\"artist\",\"buzz\",\"d\",\"frosting\",\"concert\",\"soy\",\"practically\",\"potato_salad\",\"shelf\",\"necessary\",\"access\",\"oily\",\"chick\",\"pint\",\"caesar_salad\",\"biltmore\",\"wet\",\"oh_yeah\",\"membership\",\"inviting\",\"bloody_mary\",\"jewelry\",\"tune\",\"insist\",\"bit_pricey\",\"cherry\",\"jack\",\"occasionally\",\"cornbread\",\"control\",\"theatre\",\"tangy\",\"special_occasion\",\"coleslaw\",\"response\",\"draft\",\"urban\",\"four_peaks\",\"accord\",\"blame\",\"surround\",\"lux\",\"edible\",\"bitter\",\"wanna\",\"slight\",\"knowledge\",\"yoga\",\"weight\",\"reply\",\"pant\",\"substitute\",\"advertise\",\"clientele\",\"encounter\",\"cramped\",\"father\",\"blueberry\",\"fountain\",\"anytime\",\"tight\",\"green_bean\",\"jean\",\"yellow\",\"companion\",\"lazy\",\"indulge\",\"candle\",\"gf\",\"mail\",\"respect\",\"spanish\",\"$_50\",\"involve\",\"craft\",\"red_sauce\",\"artichoke\",\"unusual\",\"laptop\",\"additional\",\"soak\",\"ugh\",\"report\",\"factor\",\"trash\",\"benefit\",\"vendor\",\"taco_bell\",\"hardly\",\"appropriate\",\"messy\",\"haircut\",\"mike\",\"orange_chicken\",\"collection\",\"oregano_'s\",\"pan\",\"english\",\"accessory\",\"welcoming\",\"no_idea\",\"drive_thru\",\"polish\",\"north_scottsdale\",\"training\",\"comp\",\"old_town_scottsdale\",\"worthy\",\"period\",\"confirm\",\"mexico\",\"prove\",\"confused\",\"convince\",\"goody\",\"cajun\",\"instructor\",\"condition\",\"arugula\",\"crew\",\"fresh_fruit\",\"bargain\",\"recall\",\"sight\",\"properly\",\"central_phoenix\",\"drive_through\",\"quantity\",\"cibo\",\"mister\",\"tucson\",\"program\",\"sunday_morning\",\"shock\",\"driver\",\"rip\",\"tempura\",\"irish\",\"week_ago\",\"record\",\"pei_wei\",\"appetite\",\"hook\",\"#_1\",\"ravioli\",\"definately\",\"cross\",\"cuz\",\"sucker\",\"non\",\"vegas\",\"bread_pudding\",\"chile\",\"spoon\",\"sweat\",\"sampler\",\"peach\",\"shopping_center\",\"brewery\",\"burro\",\"consume\",\"every_bite\",\"interest\",\"everybody\",\"activity\",\"jam\",\"tall\",\"under_$\",\"edamame\",\"sink\",\"scramble\",\"rough\",\"film\",\"berry\",\"comfort_food\",\"john\",\"golf\",\"---\",\"guarantee\",\"recognize\",\"terminal\",\"explore\",\"fully\",\"sweetness\",\"mushy\",\"browse\",\"fear\",\"postino\",\"cancel\",\"pure\",\"mission\",\"whip_cream\",\"champagne\",\"large_portion\",\"pace\",\"joe\",\"almond\",\"mimosa\",\"texas\",\"devour\",\"pizzeria_bianco\",\"directly\",\"twist\",\"few_month\",\"speed\",\"generic\",\"church\",\"east_valley\",\"remodel\",\"flow\",\"facial\",\"family_own\",\"beginning\",\"worry\",\"suite\",\"high_school\",\"whole_foods\",\"discuss\",\"dump\",\"happily\",\"magazine\",\"frame\",\"gentleman\",\"dumpling\",\"horchata\",\"liking\",\"m\",\"nope\",\"assure\",\"pig\",\"direct\",\"thi\",\"rosemary\",\"public\",\"smother\",\"belly\",\"front_door\",\"marinate\",\"cheer\",\"policy\",\"ra\",\"fuck\",\"worry_about\",\"square\",\"alas\",\"40\",\"bistro\",\"roasted\",\"hassle\",\"fig\",\"aside\",\"lil\",\"purse\",\"cleanliness\",\"diverse\",\"cheddar\",\"quarter\",\"honor\",\"3rd\",\"improvement\",\"lake\",\"impression\",\"delux\",\"$_40\",\"express\",\"watery\",\"100\",\"satisfying\",\"theirs\",\"crab_cake\",\"research\",\"silly\",\"$_100\",\"60\",\"currently\",\"car_wash\",\"pecan\",\"teach\",\"buffalo\",\"drinks\",\"boutique\",\"yuck\",\"drag\",\"italy\",\"ill\",\"page\",\"action\",\"account\",\"voice\",\"lo\",\"joe_'s\",\"perfectly_cook\",\"culture\",\"mill_ave\",\"custard\",\"nonetheless\",\"medium_rare\",\"chicken_breast\",\"ray\",\"shocked\",\"bummer\",\"different_type\",\"gnocchi\",\"advise\",\"plane\",\"retail\",\"final\",\"pro\",\"maintain\",\"wallet\",\"ikea\",\"eclectic\",\"chic\",\"bird\",\"chris\",\"advance\",\"fajita\",\"hawaiian\",\"notch\",\"grass\",\"respond\",\"sunday_night\",\"knife\",\"grit\",\"f\",\"initially\",\"attractive\",\"background\",\"c\",\"lasagna\",\"stretch\",\"croissant\",\"tech\",\"greek_salad\",\"track\",\"lgo\",\"wander\",\"cousin\",\"news\",\"king\",\"competition\",\"risotto\",\"only_downside\",\"previously\",\"drop_off\",\"pretty_darn\",\"concoction\",\"amazed\",\"amenity\",\"bench\",\"no_idea_what\",\"operate\",\"trade\",\"3.5_star\",\"label\",\"entirely\",\"sexy\",\"brand_new\",\"ordinary\",\"impossible\",\"wide\",\"majority\",\"san_francisco\",\"carpet\",\"ceviche\",\"tie\",\"wonderfully\",\"scary\",\"vinegar\",\"message\",\"german\",\"screw\",\"wild\",\"comparable\",\"protein\",\"-_ish\",\"zero\",\"tomorrow\",\"smart\",\"creme_brulee\",\"fashion\",\"filet_mignon\",\"entertaining\",\"decoration\",\"ear\",\"gift_card\",\"mussel\",\"mainly\",\"native\",\"dance_floor\",\"bug\",\"pork_chop\",\"punch\",\"stay_away_from\",\"east_coast\",\"race\",\"million\",\"ensure\",\"paradise\",\"yep\",\"most_likely\",\"bump\",\"field\",\"bitch\",\"butt\",\"delay\",\"yo\",\"blt\",\"fries\",\"unbelievable\",\"ac\",\"cry\",\"trick\",\"argue\",\"adventurous\",\"setup\",\"grub\",\"halibut\",\"metal\",\"month_ago\",\"screw_up\",\"bottom_line\",\"southern\",\"preparation\",\"wide_variety\",\"bianco\",\"parmesan\",\"spring_training\",\"coat\",\"teacher\",\"ordering\",\"slaw\",\"sticky\",\"boss\",\"overpower\",\"mixture\",\"g\",\"darn\",\"cleaning\",\"impeccable\",\"pump\",\"apply\",\"reason_why\",\"mirror\",\"fireplace\",\"garage\",\"acknowledge\",\"retro\",\"clam\",\"burger_joint\",\"lane\",\"downstairs\",\"custom\",\"i'm\",\"disappear\",\"dr\",\"kudo\",\"ah\",\"fyi\",\".......\",\"encourage\",\"jar\",\"thanks\",\"conference\",\"zucchini\",\"cole_slaw\",\"hooked\",\"exit\",\"seek\",\"aka\",\"swim\",\"closer\",\"drizzle\",\"greet_us\",\"ghetto\",\"tiramisu\",\"distance\",\"attach\",\"associate\",\"proper\",\"palate\",\"prime\",\"spill\",\"visitor\",\"premium\",\"gay\",\"creation\",\"roof\",\"fortunately\",\"few_week_ago\",\"tuck_away\",\"purpose\",\"b_/_c\",\"grimaldi_'s\",\"meatloaf\",\"entertain\",\"adequate\",\"adventure\",\"content\",\"splurge\",\"mcdonald_'s\",\"walnut\",\"saturday_morning\",\"x\",\"rum\",\"video\",\"bell\",\"local_business\",\"food_court\",\"de\",\"rain\",\"tacos\",\"san_diego\",\"eater\",\"understand_why\",\"festival\",\"surround_by\",\"organize\",\"pressure\",\"resist\",\"america\",\"toe\",\"pasta_dish\",\"pear\",\"relate\",\"wax\",\"far_away\",\"nervous\",\"san\",\"delectable\",\"shout\",\"semi_-\",\"stone\",\"necessarily\",\"reviewer\",\"unit\",\"slip\",\"wifi\",\"noon\",\"brown_rice\",\"seattle\",\"pocket\",\"golden\",\"project\",\"aj_'s\",\"large_party\",\"neck\",\"industry\",\"stew\",\"island\",\"chocolate_cake\",\"insurance\",\"vig\",\"pay_attention\",\"connect\",\"sunday_afternoon\",\"tongue\",\"green_chili\",\"pistachio\",\"five_guy\",\"sea\",\"lean\",\"frankly\",\"vary\",\"salami\",\"mmmm\",\"staff_member\",\"deliciousness\",\"first_impression\",\"squeeze\",\"fucking\",\"thrill\",\"circle\",\"don't\",\"arcadia\",\"fall_apart\",\"thursday_night\",\"chop_salad\",\"mmm\",\"seven\",\"convenience\",\"gas_station\",\"14\",\"guide\",\"slam\",\"genuine\",\"exotic\",\"allergy\",\"beauty\",\"huge_portion\",\"harkins\",\"acceptable\",\"gear\",\"zoo\",\"colorful\",\"mr.\",\"freshness\",\"garnish\",\"carnita\",\"dairy\",\"hospital\",\"appearance\",\"nose\",\"green_tea\",\"painting\",\"spin\",\"chew\",\"nothing_else\",\"cigar\",\"fondue\",\"daily_special\",\"meaty\",\"warning\",\"escape\",\"hub\",\"grandma\",\"sandwhich\",\"prop\",\"generous_portion\",\"replacement\",\"lastly\",\"wake_up\",\"rub\",\"25\",\"outlet\",\"proud\",\"intend\",\"eating\",\"philly\",\"eager\",\"western\",\"damage\",\"pretend\",\"tuesday_night\",\"scratch\",\"economy\",\"lunchtime\",\"comfort\",\"fellow\",\"pastrami\",\"dust\",\"performance\",\"exterior\",\"skill\",\"effect\",\"cuban\",\"trader_joe_'s\",\"magic\",\"slowly\",\"exchange\",\"terribly\",\"dare\",\"pro_:\",\"gluten_-\",\"101\",\"wipe\",\"grind\",\"culinary\",\"climb\",\"annoyed\",\"scrumptious\",\"female\",\"wheat\",\"confusing\",\"hide_gem\",\"button\",\"surprising\",\"essentially\",\"toilet\",\"movie_theater\",\"aspect\",\"float\",\"success\",\"wave\",\"parlor\",\"hour_later\",\"manicure\",\"nature\",\"dislike\",\"occasional\",\"tempt\",\"red_onion\",\"ahwatukee\",\"mad\",\"confuse\",\"closed\",\"red_velvet\",\"skeptical\",\"risk\",\"golf_course\",\"airline\",\"mac_&_cheese\",\"con\",\"jerk\",\"truth\",\"maintenance\",\"wheel\",\"'em\",\"$_2.50\",\"obnoxious\",\"casino\",\"miso_soup\",\"horse\",\"lively\",\"raman\",\"fall_off\",\"tourist\",\"stress\",\"ability\",\"corn_tortilla\",\"teriyaki\",\"surely\",\"/_c\",\"citrus\",\"branch\",\"courtyard\",\"downside\",\"enormous\",\"artwork\",\"joy\",\"hesitate\",\"correctly\",\"cowboy\",\"soap\",\"cream_sauce\",\"bang\",\"hunt\",\"$_13\",\"demand\",\"session\",\"sunset\",\"model\",\"stylist\",\"free_wi_-_fi\",\"milkshake\",\"p.s.\",\"uh\",\"main_dish\",\"soy_sauce\",\"inch\",\"spirit\",\"volume\",\"hmmm\",\"manner\",\"ideal\",\"shoulder\",\"perform\",\"ha\",\"3.5\",\"ample\",\"peruse\",\"veg\",\"border\",\"habit\",\"mocha\",\"pork_belly\",\"no_matter_what\",\"legit\",\"boston\",\"curious\",\"carb\",\"rotate\",\"skinny\",\"trek\",\"$_14\",\"totally_worth\",\"soo\",\"ugly\",\"sprout\",\"$_11\",\"dirt\",\"albeit\",\"rotation\",\"degree\",\"garbage\",\"blow_away\",\"ship\",\"architecture\",\"adore\",\"peak\",\"silverware\",\"contemporary\",\"decline\",\"struggle\",\"resident\",\"white_rice\",\"minimal\",\"instantly\",\"freaking\",\"march\",\"franchise\",\"creepy\",\"july\",\"steep\",\"minor\",\"sheet\",\"lick\",\"sprouts\",\"increase\",\"football\",\"=)\",\"living_room\",\"real_deal\",\"sunday_brunch\",\"info\",\"absolute\",\"decadent\",\"pic\",\"grade\",\"merchandise\",\"naan\",\"sooooo\",\"attract\",\"pillow\",\"player\",\"somebody\",\"egg_benedict\",\"fair_price\",\"lesson\",\"freshly_make\",\"whip\",\"death\",\"previous_review\",\"pip_hot\",\"ihop\",\"airy\",\"copy\",\"cracker\",\"middle_eastern\",\"tempe_marketplace\",\"pita_bread\",\"roosevelt\",\"mcdonalds\",\"40_minute\",\"knowledgable\",\"sum\",\"drown\",\"gigantic\",\"quick_bite\",\"trio\",\"saturdays\",\"cent\",\"thrilled\",\"addict\",\"import\",\"category\",\"locally\",\"bath\",\"baseball\",\"minimum\",\"18\",\"monday_night\",\"justify\",\"last_weekend\",\"ricotta\",\"smoky\",\"puppy\",\"commercial\",\"gooey\",\"indicate\",\"shuttle\",\"per_person\",\"seat_right_away\",\"award\",\"16\",\"home_depot\",\"matt_'s\",\"dear\",\"drip\",\"sushi_chef\",\"tool\",\"mass\",\"personal_favorite\",\"vegetarian_option\",\"ratio\",\"thanksgiving\",\"nurse\",\"insane\",\"china\",\"anticipate\",\"ipa\",\"hood\",\"path\",\"saturday_afternoon\",\"wtf\",\"ps\",\"tone\",\"plaza\",\"five_minute\",\"leaf\",\"loaf\",\"scramble_egg\",\"informative\",\"route\",\"yard\",\"red_pepper\",\"anyone_else\",\"sooner\",\"red_wine\",\"ease\",\"sigh\",\"birthday_party\",\"holy\",\"fusion\",\"desert_ridge\",\"thousand\",\"mojo\",\"fine_dining\",\"cd\",\"as_oppose\",\"junk\",\"boat\",\"tub\",\"pull_pork_sandwich\",\"panda_express\",\"yelpers\",\"accent\",\"paradise_bakery\",\"ten_minute\",\"camera\",\"wtf_?\",\"rip_off\",\"designer\",\"flour\",\"skillet\",\"thomas\",\"grand\",\"update_:\",\"ultimate\",\"hi\",\"spoil\",\"roast_beef\",\"human\",\"calm\",\"initial\",\"fruity\",\"genius\",\"feel_welcome\",\"cafeteria\",\"male\",\"dumb\",\"occupy\",\"cooler\",\"mac_n_cheese\",\"flaky\",\"angry\",\"thoroughly_enjoy\",\"thumb_up\",\"smoker\",\"element\",\"text\",\"southwestern\",\"barbecue\",\"beautifully\",\"colleague\",\"rose\",\"pedi\",\"skewer\",\"breath\",\"hangover\",\"dancing\",\"ale\",\"thai_basil\",\"ahi\",\"ribeye\",\"feast\",\"smoking\",\"aroma\",\"chips\",\"west_side\",\"lackluster\",\"lunch_rush\",\"yea\",\"sens\",\"within_walking_distance\",\"smashburger\",\"hesitant\",\"perfect_amount\",\"bucket\",\"marinara\",\"high_expectation\",\"breading\",\"survive\",\"crab_puff\",\"id\",\"homey\",\"j\",\"nightmare\",\"wonder_why\",\"tacky\",\"pumpkin\",\"navigate\",\"liquid\",\"elegant\",\"wednesday_night\",\"put_together\",\"stain\",\"exercise\",\"cheesesteak\",\"cab\",\"-the\",\"skimp\",\"beg\",\"master\",\"reliable\",\"construction\",\"macaroni\",\"assist\",\"pizzeria\",\"file\",\"pico_de_gallo\",\"rank\",\"sundae\",\"jerk_chicken\",\"exact\",\"passion\",\"material\",\"closet\",\"pad\",\"25_minute\",\"television\",\"apart\",\"loose\",\"thorough\",\"preference\",\"an_appointment\",\"regular_basis\",\"mechanic\",\"cow\",\"midnight\",\"$_18\",\"norm\",\"elevator\",\"reality\",\"industrial\",\"assortment\",\"narrow\",\"olive_garden\",\"operation\",\"no_matter_how\",\"reflect\",\"phone_call\",\"annoy\",\"naturally\",\"wasabi\",\"another_shot\",\"mile_away\",\"cell_phone\",\"expert\",\"infuse\",\"digress\",\"catfish\",\"tattoo\",\"campus\",\"pharmacy\",\"pushy\",\"boo\",\"impress_by\",\"rental\",\"vinaigrette\",\"suspect\",\"mash\",\"brat\",\"sat\",\"sliced\",\"stair\",\"undercook\",\"letter\",\"unfortunate\",\"rustic\",\"ad\",\"cactus\",\"battery\",\"bouncer\",\"appetizing\",\"university\",\"david\",\"glaze\",\"lucky_enough\",\"gorgonzola\",\"unable\",\"california_roll\",\"varied\",\"costume\",\"seemingly\",\"truffle\",\"where_else\",\"firm\",\"flat_bread\",\"thank_god\",\"thank_goodness\",\"complement\",\"street_taco\",\"relative\",\"upon_enter\",\"carne_asada_burrito\",\"shady\",\"a+\",\"garlic_bread\",\"frustrating\",\"clerk\",\"pride\",\"arena\",\"brick\",\"k\",\"poorly\",\"ballpark\",\"social\",\"badly\",\"bedroom\",\"beach\",\"toddler\",\"locally_own\",\"outrageous\",\"bust\",\"independent\",\"cranberry\",\"endless\",\"filthy\",\"chunky\",\"pomegranate\",\"marry\",\"dog_park\",\"straw\",\"forth\",\"gather\",\"chile_relleno\",\"gladly\",\"shea\",\"supermarket\",\"patience\",\"well_prepared\",\"teenager\",\"source\",\"chocolate_chip_cookie\",\"blood\",\"equal\",\"hangout\",\"runny\",\"week_later\",\"rubbery\",\"80\",\"oatmeal\",\"volunteer\",\"speaker\",\"chase\",\"hilarious\",\"tummy\",\"fold\",\"shift\",\"overwhelmed\",\"stumble_upon\",\"4th\",\"brush\",\"water_glass\",\"shopper\",\"most_importantly\",\"superior\",\"gun\",\"beet\",\"baguette\",\"map\",\"$_35\",\"nigiri\",\"5th\",\"flour_tortilla\",\"seating_area\",\"treasure\",\"monthly\",\"tube\",\"supposedly\",\"hmm\",\"cheese_crisp\",\"smoke_salmon\",\"belong\",\"draft_beer\",\"only_negative\",\"unlimited\",\"peanut_sauce\",\"craft_beer\",\"jazz\",\"tomato_soup\",\"tom\",\"concerned\",\"genuinely\",\"open_late\",\"delicate\",\"oil_change\",\"$_16\",\"grill_onion\",\"accurate\",\"unfriendly\",\"ahi_tuna\",\"picnic\",\"lightly\",\"boil\",\"reheat\",\"spell\",\"mixed_drink\",\"baklava\",\"drench\",\"length\",\"scone\",\"anniversary\",\"this_past_weekend\",\"veal\",\"5_p.m.\",\"outdoors\",\"dense\",\"shave\",\"diet_coke\",\"fried\",\"little_gem\",\"corned_beef\",\"exceptionally\",\"l\",\"carne_asada_taco\",\"smokey\",\"decade\",\"#_2\",\"mmmmm\",\"hawaii\",\"praise\",\"burst\",\"tradition\",\"lower\",\"fishy\",\"sneak\",\"penny\",\"flan\",\"pea\",\"diamond\",\"catering\",\"7_p.m.\",\"wonton\",\"turkey_burger\",\"compete\",\"cartel\",\"witness\",\"chai\",\"italian_beef\",\"lettuce_wrap\",\"sea_bass\",\"ethnic\",\"24_hour\",\"prescription\",\"fabric\",\"wedge\",\"uber\",\"snag\",\"convert\",\"develop\",\"lousy\",\"peep\",\"baked_potato\",\"organized\",\"entry\",\"alive\",\"5-star\",\"planet\",\"adjust\",\"jukebox\",\"grape\",\"r\",\"exceed\",\"15_min\",\"scott\",\"mex\",\"poster\",\"indian_school\",\"crown\",\"2011\",\"watermelon\",\"signage\",\"froyo\",\"keg\",\"reasonably\",\"checkout\",\"another_chance\",\"nutella\",\"tony\",\"save_room\",\"picky_about\",\"aunt\",\"hotdog\",\"chocolate_chip\",\"nail_salon\",\"er\",\"nordstrom\",\"grateful\",\"mouth_water\",\"swanky\",\"flip\",\"title\",\"hashbrown\",\"bbq_pork\",\"sf\",\"temp\",\"sear\",\"vote\",\"bay_area\",\"$_1.50\",\"rise\",\"turkey_sandwich\",\"em\",\"crush\",\"spare\",\"deck\",\"measure\",\"spit\",\"brain\",\"anybody\",\"few_year_ago\",\"belt\",\"freeway\",\"nothing_fancy\",\"tortilla_chip\",\"root\",\"towner\",\"vanilla_ice_cream\",\"bubble\",\"michael\",\"dave\",\"disaster\",\"english_muffin\",\"runner\",\"balcony\",\"day_ago\",\"amc\",\"magical\",\"successful\",\"fire_pit\",\"whatsoever\",\"mellow\",\"cap\",\"corn_bread\",\"freshly\",\"no_doubt\",\"wide_selection\",\"arrival\",\"old_fashioned\",\"solution\",\"balsamic\",\"hallway\",\"prevent\",\"dd\",\"resemble\",\"intense\",\"wildflower\",\"inconsistent\",\"locker_room\",\"tostada\",\"instrument\",\"weigh\",\"shitty\",\"spicy_tuna\",\"tuck\",\"worth_every_penny\",\"sky_harbor\",\"seasoned\",\"nothing_spectacular\",\"byob\",\"hippie\",\"cave_creek\",\"thin_crust_pizza\",\"inedible\",\"$_3.50\",\"acoustic\",\"steve\",\"piss\",\"heater\",\"queso\",\"snap\",\"difference_between\",\"reward\",\"cheesecake_factory\",\"stir_fry\",\"scared\",\"tapa\",\"dim\",\"huh_?\",\"stay_away\",\"guinness\",\"heel\",\"bat\",\"reminiscent\",\"sketchy\",\"district\",\"food_network\",\"april\",\"aioli\",\"6_p.m.\",\"don\",\"triple\",\"hill\",\"drive_past\",\"cons_:\",\"til\",\"chilly\",\"west_valley\",\"stare\",\"perk\",\"organization\",\"tow\",\"10_min\",\"$_60\",\"mole\",\"specialize\",\"cappuccino\",\"lukewarm\",\"leak\",\"sorbet\",\"grain\",\"accompany_by\",\"celery\",\"yup\",\"20_min\",\"matt\",\"duty\",\"mondays\",\"aid\",\"vs.\",\"ultimately\",\"connoisseur\",\"filipino\",\"bore\",\"30_min\",\"vip\",\"ice_cold\",\"dang\",\"sand\",\"tho\",\"breeze\",\"unexpected\",\"surrounding\",\"posh\",\"birthday_dinner\",\"european\",\"stranger\",\"gallo_blanco\",\"bulk\",\"wander_around\",\"ice_coffee\",\"lip\",\"june\",\"definite\",\"quit\",\"munch\",\"swing\",\"payment\",\"expire\",\"crusty\",\"trend\",\"bored\",\"subtle\",\"kink\",\"13\",\"inventory\",\"peace\",\"instal\",\"grandmother\",\"gin\",\"fashion_square\",\"represent\",\"8_p.m.\",\"shampoo\",\"teen\",\"resturant\",\"town_guest\",\"dark_chocolate\",\"smash\",\"stuffy\",\"dvd\",\"upbeat\",\"apologetic\",\"succulent\",\"us_airways\",\"price_tag\",\"speedy\",\"horseradish\",\"few_month_ago\",\"boast\",\"tan\",\"linger\",\"dime\",\"quiche\",\"stuffed\",\"chimichanga\",\"overdone\",\"this_particular_location\",\"dealership\",\"pinch\",\"thoroughly\",\"mongolian_beef\",\"no_matter\",\"appealing\",\"ethiopian\",\"competitive\",\"enthusiastic\",\"august\",\"cheerful\",\"bowling\",\"(_i.e.\",\"instance\",\"reputation\",\"fresh_mozzarella\",\"imo\",\"warehouse\",\"gift_shop\",\"plantain\",\"error\",\"purple\",\"spray\",\"technician\",\"dining_companion\",\"frank\",\"sweet_tea\",\"extend\",\"roommate\",\"alley\",\"scan\",\"tile\",\"warranty\",\"tank\",\"warrant\",\"brilliant\",\"hanny_'s\",\"addictive\",\"hall\",\"doughy\",\"tapas\",\"pit\",\"shortly_after\",\"reduce\",\"lo_'s\",\"caramelized_onion\",\"drunken\",\"outfit\",\"family_member\",\"squash\",\"channel\",\"attendant\",\"october\",\"insanely\",\"max\",\"tag\",\"2012\",\"guitar\",\"absolute_favorite\",\"worried\",\"connection\",\"determine\",\"adjacent\",\"blow_away_by\",\"image\",\"orange_juice\",\"sakana\",\"presence\",\"monster\",\"red_curry\",\"unprofessional\",\"december\",\"mug\",\"2010\",\"suddenly\",\"empanada\",\"suffer\",\"un_-\",\"med\",\"melt_cheese\",\"20_year\",\"utensil\",\"challenging\",\"shred\",\"sour_soup\",\"plug\",\"river\",\"vs\",\"clue\",\"goal\",\"root_beer\",\"metro\",\"routine\",\"los_angeles\",\"excitement\",\"additionally\",\"relish\",\"chompie_'s\",\"ground_beef\",\"farmer_'s_market\",\"green_onion\",\"arrange\",\"childhood\",\"doughnut\",\"grilled\",\"competitor\",\"gracious\",\"ultra\",\"tuesdays\",\"enchiladas\",\"canned\",\"cop\",\"6_month\",\"sirloin\",\"iphone\",\"tot\",\"surgery\",\"wal_-_mart\",\"leather\",\"granola\",\"zipps\",\"houston_'s\",\"cheese_enchilada\",\"lolo_'s\",\"bottom_line_:\",\":d\",\"go_downhill\",\"whiskey\",\"stumble\",\"9_p.m.\",\"extreme\",\"bum\",\"dangerous\",\"customize\",\"spicy_tuna_roll\",\"japan\",\"wooden\",\"auto\",\"bummed\",\"contrast\",\"shall\",\"stir\",\"cure\",\"delighted\",\"pizza_hut\",\"drool\",\"provolone\",\"bc\",\"bob\",\"cali\",\"tower\",\"goat\",\"fuss\",\"celebration\",\"gallery\",\"fro_-\",\"luxury\",\"unhappy\",\"stall\",\"turf\",\"hash\",\"rival\",\"gift_certificate\",\"skimpy\",\"peaceful\",\"situate\",\"eggroll\",\"solo\",\"partake\",\"whim\",\"weeknight\",\"brews\",\"shiny\",\"procedure\",\"waiting\",\"21\",\"80_'s\",\"tee\",\"seal\",\"midwest\",\"barber\",\"drinker\",\"occur\",\"freezer\",\"scenery\",\"fridays\",\"wine_tasting\",\"3_p.m.\",\"contract\",\"heavily\",\"inconvenience\",\"sparse\",\"jelly\",\"filiberto_'s\",\"sloppy\",\"bliss\",\"yogurtland\",\"forgive\",\"rave_review\",\"red_velvet_cake\",\"bevmo\",\"instruction\",\"interrupt\",\"sex\",\"high_hope\",\"50_%_off\",\"stylish\",\"facebook\",\"afterward\",\"creativity\",\"engage\",\"hana\",\"tortilla_soup\",\"feta_cheese\",\"understanding\",\"jacket\",\"oddly\",\"essence\",\"macayo_'s\",\"scent\",\"relationship\",\"cooked\",\"flat_screen\",\"batch\",\"chimi\",\"green_curry\",\"makeup\",\"........\",\"spotty\",\"scrap\",\"pickup\",\"icing\",\"well_seasoned\",\"reverse_happy_hour\",\"playing\",\"must_admit\",\"urge\",\"stroll\",\"say_hello\",\"police\",\"bookstore\",\"sleek\",\"fourth\",\"cinnamon_roll\",\"chicken_finger\",\"an_additional\",\"oj\",\"fellow_yelper\",\"fab\",\"loss\",\"right_next_door\",\"blanket\",\"constant\",\"seat_immediately\",\"america_'s\",\"sauteed\",\"interact\",\"crumble\",\"slap\",\"artichoke_dip\",\"potato_chip\",\"lb\",\"silver\",\"pup\",\"idiot\",\"iron\",\"lamp\",\"yellow_curry\",\"confusion\",\"pleasant_surprise\",\"min\",\"opposite\",\"our_anniversary\",\"trim\",\"4_p.m.\",\"phoenician\",\"assorted\",\"estimate\",\"carolina_'s\",\"sourdough\",\"biased\",\"margherita\",\"c'mon\",\"bell_pepper\",\"guy_behind\",\"humor\",\"cash_register\",\"flag\",\"alcoholic\",\"live_band\",\"churro\",\"quality_ingredient\",\"lard\",\"duh\",\"intimidate\",\"bean_sprout\",\"stingray\",\"authenticity\",\"resolve\",\"10_p.m.\",\"dressed\",\"quirky\",\"spiciness\",\"handy\",\"teriyaki_chicken\",\"rice_noodle\",\"caprese\",\"kiss\",\"someplace\",\"embarrassed\",\"officially\",\"savor\",\"lotion\",\"noca\",\"disagree\",\"stink\",\"pricy\",\"harsh\",\"looking\",\"position\",\"accidentally\",\"blind\",\"ounce\",\"deny\",\"thankful\",\"quest\",\"wi_-_fi\",\"ex\",\"faux\",\"distract\",\"sonic\",\"bold\",\"i.\",\"lap\",\"electronic\",\"educate\",\"gain\",\"exquisite\",\"google\",\"ticoz\",\"primarily\",\"conveniently_locate\",\"admission\",\"cereal\",\"reference\",\"hunger\",\"renovation\",\"underneath\",\"liberty_market\",\"curtain\",\"competent\",\"chase_field\",\"chicken_strip\",\"la_carte\",\"unassuming\",\"moderate\",\"yellowtail\",\"rave\",\"main_reason\",\"extremely_helpful\",\"sticker\",\"greeting\",\"windsor\",\"limp\",\"chinese_buffet\",\"trainer\",\"peoria\",\"thinking\",\"wings\",\"spinach_salad\",\"preserve\",\"behavior\",\"negative_review\",\"sky\",\"dice\",\"5_buck\",\"al\",\"north_phoenix\",\"jim\",\"yard_house\",\"region\",\"2_p.m.\",\"link\",\"sofa\",\"make_an_appointment\",\"$_200\",\"concession\",\"total_wine\",\"miso\",\"cannoli\",\"port\",\"downright\",\"countless\",\"talented\",\"blue_moon\",\"grand_opening\",\"dealer\",\"fillet\",\"luggage\",\"goodwill\",\"senior\",\"reading\",\"-_esque\",\"foie_gra\",\"marinara_sauce\",\"refrigerator\",\"accomodating\",\"dingy\",\"freakin\",\"thrift_store\",\"george\",\"timing\",\"glance\",\"novelty\",\"substance\",\"transport\",\"standout\",\"americanized\",\"breast\",\"donate\",\"umbrella\",\"st._francis\",\"gallon\",\"splash\",\"live_closer\",\"active\",\"pathetic\",\"wendy_'s\",\"b.\",\"versus\",\"lifetime\",\";-)\",\"bourbon\",\"shove\",\"hot_tub\",\"creme\",\"backyard\",\"care_less\",\"deliciously\",\"automatically\",\"hidden\",\"unbelievably\",\"italian_sausage\",\"faster\",\"overhear\",\"bizarre\",\"shin\",\"statement\",\"variation\",\"thirsty\",\"cougar\",\"machaca\",\"insult\",\"1/2_star\",\"block_away\",\"friendliness\",\"brief\",\"execution\",\"miserable\",\"beloved\",\"influence\",\"politely\",\"apart_from\",\"niece\",\"_______\",\"caprese_salad\",\"blonde\",\"receptionist\",\"bleu_cheese\",\"sweet_tooth\",\"mcdowell\",\"caesar\",\"kevin\",\"second_chance\",\"bind\",\"pricey_side\",\"pudding\",\"brave\",\"transfer\",\"alike\",\"carefully\",\"january\",\"technique\",\"authentic_mexican_food\",\"lift\",\"flame\",\"knee\",\"owe\",\"fond\",\"las_vegas\",\"pbr\",\"partial\",\"apology\",\"mastro_'s\",\"talent\",\"postino_'s\",\"admittedly\",\"lobster_bisque\",\"bro\",\"cube\",\"conclusion\",\"aforementioned\",\"factory\",\"lentil\",\"someday\",\"behold\",\"inventive\",\"national\",\"egg_white\",\"debate\",\"gringo\",\"patronize\",\"surface\",\"bustle\",\"antique\",\"vision\",\"forward\",\"unpleasant\",\"bud\",\"drug\",\"status\",\"stool\",\"waterfall\",\"spotless\",\"sophisticated\",\"hula_'s\",\"freakin_'\",\"irritated\",\"treadmill\",\"blackberry\",\"depth\",\"code\",\"yikes\",\"pronounce\",\"jason\",\"slab\",\"bean_dip\",\"carrot_cake\",\"air_conditioning\",\"brake\",\"kale\",\"participate\",\"17\",\"picnic_table\",\"college_student\",\"unacceptable\",\"polenta\",\"function\",\"food_poisoning\",\"healthy_option\",\"canal\",\"fitness\",\"unpretentious\",\"pm\",\"cenpho\",\"zinburger\",\"dash\",\"uncle\",\"business_trip\",\"tavern\",\"asap\",\"allergic\",\"addiction\",\"50_%\",\"cowboy_ciao\",\"randomly\",\"sugary\",\"fate\",\"sweet_republic\",\"spinato_'s\",\"comforting\",\"intention\",\"raisin\",\"dipping\",\"perfectly_cooked\",\"2009\",\"bin\",\"overflow\",\"minute_later\",\"collect\",\"lawn\",\"hair_cut\",\"$_17\",\"brian\",\"near_future\",\"let_alone\",\"install\",\"array\",\"ted_'s\",\"kindly\",\"stamp\",\"crouton\",\"headache\",\"caper\",\"halloween\",\"debit_card\",\"cheat\",\"observe\",\"maker\",\"pico\",\"lush\",\"flash\",\"lodge\",\"echo\",\"cheddar_cheese\",\"timely_manner\",\"camp\",\"cod\",\"priority\",\"trout\",\"waffle_house\",\"crawl\",\"below_average\",\"faf\",\"tvs\",\"underwhelming\",\"valet_parking\",\"flair\",\"journey\",\"enhance\",\"cotton_candy\",\"gentle\",\"anytime_soon\",\"q\",\"positive_review\",\"explanation\",\"clinic\",\"crumb\",\"marketing\",\"soak_up\",\"arrangement\",\"paul\",\"handmade\",\"vacuum\",\"la_fitness\",\"november\",\"low_key\",\"incident\",\"durant_'s\",\"paperwork\",\"waiting_area\",\"star_rating\",\"scar\",\"muscle\",\"addicting\",\"painful\",\"coach\",\"reuben\",\"skirt\",\"green_pepper\",\"drain\",\"flavour\",\"el\",\"nibble\",\"z\",\"pee\",\"jeff\",\"license\",\"surf\",\"pal\",\"scottsdale_road\",\"radio\",\"video_game\",\"step_into\",\"promotion\",\"honesty\",\"palette\",\"execute\",\"shy\",\"caring\",\"inform_us\",\"promote\",\"rescue\",\"packet\",\"privacy\",\"kick_ass\",\"atop\",\"well_maintain\",\"fried_rice\",\"nosh\",\"sunny\",\"mill_avenue\",\"chemical\",\"sharp\",\"4.5_star\",\"cardboard\",\"nestle\",\"language\",\"alert\",\"safety\",\"90_%\",\"pen\",\"stuffing\",\"roughly\",\"br\",\"macy_'s\",\"village\",\"longer_than\",\"kids\",\"newbie\",\"gosh\",\"league\",\"premise\",\"northern\",\"manhattan\",\"sock\",\"prawn\",\"concrete\",\"wind\",\"robert\",\"foam\",\"court\",\"pond\",\"brussel_sprout\",\"gumbo\",\"secondly\",\"van\",\"snooty\",\"esp\",\"steer\",\"i've\",\"caffeine\",\"visible\",\"experienced\",\"swiss\",\"lounge_area\",\"sidewalk\",\"lo_mein\",\"starbuck\",\"accessible\",\"ribs\",\"release\",\"uniform\",\"convenient_location\",\"extraordinary\",\"picky_eater\",\"marshmallow\",\"flat_screen_tv\",\"jalepeno\",\"sorta\",\"cider\",\"confident\",\"overcharge\",\"locale\",\"tropical\",\"plethora\",\"pre\",\"powder\",\"loudly\",\"frustrated\",\"filter\",\"glorious\",\"newspaper\",\"annual\",\"shut\",\"marg\",\"an_assortment\",\"feedback\",\"no_frill\",\"baseline\",\"comfortably\",\"tiki\",\"india\",\"white_chocolate\",\"only_gripe\",\"combo_plate\",\"indie\",\"ryan\",\"70\",\"timely\",\"mask\",\"menudo\",\"loop\",\"cone\",\"dunno\",\"humble_pie\",\"vinyl\",\"stingy\",\"rosa\",\"loud_music\",\"hooter\",\"11_a.m.\",\"pissed\",\"unimpressed\",\"dancer\",\"lid\",\"apparent\",\"culver_'s\",\"heap\",\"eggs\",\"shrimp_cocktail\",\"forgettable\",\"assistance\",\"substantial\",\"gut\",\"butcher\",\"stunning\",\"kierland\",\"queen\",\"roy_'s\",\"sour_chicken\",\"transaction\",\"bs\",\"outing\",\"repeatedly\",\"say_hi\",\"tempting\",\"rant\",\"unhealthy\",\"comic\",\"carafe\",\"stiff\",\"burger_king\",\"crash\",\"$_80\",\"paste\",\"melon\",\"cracker_barrel\",\"equivalent\",\"$_5.00\",\"progress\",\"obsess\",\"innovative\",\"divey\",\"logo\",\"reception\",\"tj_'s\",\"sampling\",\"sub_par\",\"hospitality\",\"downtown_scottsdale\",\"gyro_meat\",\"unnecessary\",\"perspective\",\"tail\",\"p\",\"gyros\",\"flavoring\",\"lola\",\"sensitive\",\"h\",\"bowling_alley\",\"lease\",\"affect\",\"desperate\",\"coconut_milk\",\"prep\",\"pat\",\"an_absolute\",\"breathe\",\"asshole\",\"shine\",\"expense\",\"prize\",\"separately\",\"cigarette\",\"exam\",\"long_story_short\",\"passenger\",\"grocery_shopping\",\"refri_bean\",\"free_refill\",\"hustle\",\"battle\",\"snobby\",\"chopstick\",\"french_dip\",\"spiced\",\"heat_lamp\",\"douche\",\"eggs_benedict\",\"grace\",\"cauliflower\",\"marriott\",\"extra_charge\",\"westgate\",\"seed\",\"overbearing\",\"pregnant\",\"2008\",\"swing_by\",\"structure\",\"dimly_light\",\"musician\",\"nap\",\"scottsdale_quarter\",\"fuel\",\"lox\",\"james\",\"technically\",\"deep_dish\",\"$_4.50\",\"kabob\",\"sporting_event\",\"v\",\"gyoza\",\"strictly\",\"kelly\",\"haunt\",\"10_buck\",\"snotty\",\"voucher\",\"roomy\",\"vast\",\"rear\",\"chicken_tikka_masala\",\"alfredo\",\"pepperoni_pizza\",\"few_minute_later\",\"umm\",\"matt_'s_big\",\"modest\",\"redeem\",\"capacity\",\"rowdy\",\"crab_leg\",\"questionable\",\"gps\",\"kiddo\",\"carne\",\"fence\",\"chow_mein\",\"interaction\",\"parking_garage\",\"british\",\"squid\",\"amy\",\"margaritas\",\"fry_pickle\",\"new_mexico\",\"rye\",\"mat\",\"fresh_air\",\"yasu\",\"ranch_dressing\",\"richardson_'s\",\"suffice\",\"proximity\",\"well_organized\",\"destroy\",\"valentine_'s_day\",\"rental_car\",\"shredded_beef\",\"mystery\",\"courtesy\",\"d\\u00e9cor\",\"thursdays\",\"poke\",\"rob\",\"complicated\",\"outback\",\"$_7.50\",\"con_:\",\"pairing\",\"responsible\",\"understaffed\",\"chart\",\"possibility\",\"merely\",\"component\",\"profit\",\"useful\",\"pb\",\"mon\",\"hiking\",\"remarkable\",\"portions\",\"football_game\",\"clueless\",\"merry\",\"baja\",\"yc_'s\",\"yelp_event\",\"invest\",\"whoa\",\"accident\",\"reaction\",\"filibertos\",\"pose\",\"upon_arrival\",\"proof\",\"cvs\",\"domestic\",\"differently\",\"clam_chowder\",\"tilapia\",\"consumer\",\"cob\",\"revisit\",\"6:30\",\"method\",\"soda_fountain\",\"outside_seating\",\"washington\",\"especially_consider\",\"red_bean\",\"young_man\",\"undercooked\",\"sauerkraut\",\"carnivore\",\"noodles\",\"horribly\",\"nephew\",\"shut_down\",\"kfc\",\"pork_tenderloin\",\"rabbit\",\"fennel\",\"inquire_about\",\"commit\",\"awesomeness\",\"free_sample\",\"$_75\",\"overwhelm\",\"rail\",\"mama\",\"self_serve\",\"hazelnut\",\"5_min\",\"no_exception\",\"friday_evening\",\"moon\",\"dryer\",\"sapporo\",\"pin\",\"september\",\"bull\",\"ho\",\"secure\",\"relief\",\"inattentive\",\"identify\",\"definition\",\"cave\",\"2.5_star\",\"petsmart\",\"iced_coffee\",\"phone_number\",\"hardly_any\",\"saving\",\"sweaty\",\"st\",\"certificate\",\"long_ago\",\"overrated\",\"no_further\",\"sound_system\",\"jared\",\"nerve\",\"sauna\",\"seat_promptly\",\"filler\",\"height\",\"scallion\",\"gratuity\",\"beet_salad\",\"series\",\"2.5\",\"artsy\",\"approximately\",\"ross\",\"sea_salt\",\"patio_seating\",\"neglect\",\"mildly\",\"storm\",\"noise_level\",\"mound\",\"adopt\",\"mere\",\"lemongrass\",\"succeed\",\"slack\",\"cheese_curd\",\"focaccia\",\"college_kid\",\"red_robin\",\"from_scratch\",\"tater_tot\",\"young_lady\",\"dull\",\"no_idea_how\",\"europe\",\"sum_up\",\"motel\",\"ummm\",\"excite\",\"announce\",\"friends\",\"margherita_pizza\",\"a.\",\"nod\",\"piano\",\"medical\",\"galore\",\"thai_tea\",\"salt_caramel\",\"20_%\",\"scare\",\"monkey\",\"overly_sweet\",\"24\",\"arrive_early\",\"kitschy\",\"la_bocca\",\"chompies\",\"caribbean\",\"remark\",\"walgreens\",\"mainly_because\",\"kale_salad\",\"sonoran\",\"l.a.\",\"spoiled\",\"unsure\",\"peel\",\"expose\",\"$_6.50\",\"macaroon\",\"no_apology\",\"gripe\",\"kona\",\"most_recent\",\"subject\",\"drift\",\"angel\",\"critical\",\"recently_move\",\"pollo\",\"consider_myself\",\"naked\",\"mr\",\"junkie\",\"barrel\",\"tenderloin\",\"pleasing\",\"discussion\",\"octopus\",\"papago\",\"frustration\",\"sesame\",\"eyebrow\",\"flo_'s\",\"waiting_room\",\"meaning\",\"highly_suggest\",\"pa\",\"communicate\",\"uninspired\",\"rep\",\"swirl\",\"upside\",\"elbow\",\"utterly\",\"mayonnaise\",\"oz\",\"thoughtful\",\"grapefruit\",\"#_3\",\"responsive\",\"tasteful\",\"difficulty\",\"-_ness\",\"pinot_noir\",\"french_onion_soup\",\"barbeque\",\"gm\",\"toffee\",\"glow\",\"penne\",\"packaging\",\"living\",\"east_side\",\"cabana\",\"giggle\",\"playground\",\"bring_cash\",\"ocean\",\"fox\",\"mural\",\"adorn\",\"clarendon\",\"hispanic\",\"professionalism\",\"circle_k\",\"evil\",\"broken\",\"sunglass\",\"deluxe\",\":p\",\"panda\",\"lee_'s\",\"closing\",\"cruise\",\"irish_pub\",\"garlicky\",\"saturday_evening\",\"only_drawback\",\"70_'s\",\"international\",\"latin\",\"doc\",\"distinct\",\"90\",\"munchie\",\"meter\",\"less_expensive\",\"flag_down\",\"florist\",\"oasis\",\"bee\",\"farmer_market\",\"subpar\",\"tzatziki\",\"hot_pot\",\"cultural\",\"45_min\",\"concerned_about\",\"piercing\",\"iceberg_lettuce\",\"twin\",\"s.\",\"more_importantly\",\"parking_situation\",\"cast\",\"string\",\"potsticker\",\"wedge_salad\",\"inner\",\"anthem\",\"chandelier\",\"blanco\",\"save_money\",\"mary\",\"sam\",\"south_mountain\",\"attraction\",\"punk\",\"unreal\",\"loyal\",\"puff\",\"singer\",\"1_p.m.\",\"ipod\",\"no_worry\",\"summary\",\"scrub\",\"peek\",\"royal\",\"ownership\",\"justice\",\"authentic_mexican\",\"supplement\",\"explode\",\"10_a.m.\",\"austin\",\"maple\",\"fellow_yelpers\",\"open_24_hour\",\"sedona\",\"0\",\"=_=_=_=\",\"baker\",\"cpk\",\"convention\",\"hyatt\",\"sober\",\"appropriately\",\"paris\",\"cloud\",\"applebee_'s\",\"beef_brisket\",\"hip_hop\",\"communication\",\"pancetta\",\"fade\",\"zone\",\"extensive_menu\",\"pot_sticker\",\"mingle\",\"fixing\",\"sir\",\"clock\",\"slather\",\"herb_box\",\"benedict\",\"scotch\",\"carmel\",\"entr\\u00e9e\",\"jalape\\u00f1o\",\"clever\",\"glove\",\"immediate\",\"refried_bean\",\"habanero\",\"useless\",\"dispenser\",\"energetic\",\"rope\",\"bicycle\",\"malt\",\"landscape\",\"sesame_chicken\",\"basement\",\"macaroni_salad\",\"bottled_water\",\"first_timer\",\"eric\",\"renovate\",\"await\",\"your_wallet\",\"dedicate\",\"strength\",\"lamb_chop\",\"mochi\",\"dental\",\"$_22\",\"locker\",\"mahi_mahi\",\"jealous\",\"utilize\",\"mixed_green\",\"obscure\",\"chino_bandido\",\"grumpy\",\"red_chile\",\"fluke\",\"nick\",\"anxious\",\"holy_crap\",\"loyal_customer\",\"swap\",\"worried_about\",\"hamachi\",\"sam_'s\",\"recent_visit\",\"understandable\",\"msg\",\"chicago_dog\",\"deter\",\"scottsdale_rd\",\"gel\",\"core\",\"lord\",\"jumbo\",\"digital\",\"angle\",\"artisan\",\"cobb_salad\",\"attire\",\"dick\",\"dragon\",\"3/4\",\"inhale\",\"therapist\",\"fri\",\"douse\",\"hilton\",\"jewel\",\"hefty\",\"bloom\",\"ginormous\",\"caliber\",\"sticky_rice\",\"sublime\",\"approve\",\"graduate\",\"josh\",\"epic\",\"mate\",\"other_yelpers\",\"hookah\",\"90_minute\",\"ave\",\"ppl\",\"tolerate\",\"emergency\",\"rokerij\",\"chalk\",\"no_clue\",\"essential\",\"experiment\",\"early_morning\",\"noodle_soup\",\"splitting\",\"compensate\",\"dissapoint\",\"fortune\",\"key_lime_pie\",\"oregano\",\"alter\",\"busser\",\"truffle_oil\",\"injury\",\"mobile\",\"wok\",\"rainbow\",\"tastebud\",\"ben\",\"an_oil_change\",\"rim\",\"satisfaction\",\"ma\",\"tim\",\"sweet_tomatoes\",\"sweeten\",\"1/3\",\"7th_ave\",\"proportion\",\"tex_-\",\"amber\",\"punch_card\",\"pupusa\",\"twitter\",\"thailand\",\"i.e.\",\"condo\",\"nicely_decorate\",\"singing\",\"cram\",\"favs\",\"butternut_squash\",\"solely\",\"ooze\",\"overhead\",\"worthwhile\",\"prob\",\"comedy\",\"nightclub\",\"$_150\",\"inquire\",\"post_office\",\"bubbly\",\"shortly\",\"45\",\"camelback_mountain\",\"mega\",\"c.\",\"sizzling\",\"concierge\",\"st.\",\"bloody\",\"antipasto\",\"marketplace\",\"live_nearby\",\"bread_basket\",\"memorabilia\",\"significantly\",\"arcade\",\"support_local_business\",\"support_local\",\"orient\",\"jacuzzi\",\"poolside\",\"verde\",\"make_eye_contact\",\"attack\",\"ace\",\"gelato_spot\",\"cityscape\",\"goodyear\",\"defiantly\",\"denver\",\"hungover\",\"pipe\",\"bento_box\",\"linen\",\"pate\",\"outta\",\"churn\",\"appt\",\"inspection\",\"radish\",\"sized_portion\",\"throat\",\"solve\",\"peppery\",\"magnificent\",\"confidence\",\"2007\",\"least_favorite\",\"co_-\",\"bare\",\"zen\",\"accompaniment\",\"mashed_potato\",\"chuck\",\"au_jus\",\"february\",\"achieve\",\"bay\",\"carly_'s\",\"bravo\",\"pepsi\",\"11:30\",\"overload\",\"altogether\",\"amusing\",\"writing\",\"kiltlifter\",\"az88\",\"bonus_point\",\"beginner\",\"refresh\",\"10_minute_later\",\"gum\",\"france\",\"princess\",\"employ\",\"co\",\"instant\",\"heated\",\"soooooo\",\"insert\",\"earthy\",\"kung_pao\",\"coin\",\"brow\",\"saucy\",\"electric\",\"bday\",\"theory\",\"department_store\",\"thumb\",\"apricot\",\"fast_forward\",\"precious\",\"stroller\",\"big_mistake\",\"outdated\",\"device\",\"atrocious\",\"aim\",\"assemble\",\"new_york_style\",\"pot_roast\",\"barrio\",\"private_room\",\"socialize\",\"4.5\",\"doll\",\"fountain_drink\",\"1/4\",\"episode\",\"palm\",\"stout\",\"chutney\",\"cork\",\"sack\",\"qualify\",\"gap\",\"shrug\",\"ashamed\",\"leek\",\"thai_iced_tea\",\"caution\",\"era\",\"most_recent_visit\",\"barrio_cafe\",\"thigh\",\"balloon\",\"existent\",\"abundant\",\"hug\",\"dedicated\",\"seaweed\",\"bra\",\"jade_red_chicken\",\"smelly\",\"laden\",\"aged\",\"housekeeping\",\"local_artist\",\"basketball\",\"rad\",\"bj_'s\",\"on_several_occasion\",\"pearl\",\"jimmy_john_'s\",\"brooklyn\",\"expansive\",\"education\",\"shopping_cart\",\"slimy\",\"incompetent\",\"dock\",\"partially\",\"jamaican\",\"frost\",\"buttermilk\",\"carne_adovada\",\"mattress\",\"incorrect\",\"bud_light\",\"gluten\",\"nostalgia\",\"escargot\",\"installation\",\"pet_peeve\",\"total_bill\",\"then_proceed\",\"smack\",\"slightly_sweet\",\"eel\",\"tent\",\"valley_ho\",\"thus_far\",\"coating\",\"parking_space\",\"sriracha\",\"baja_fresh\",\"extra_mile\",\"happiness\",\"addicted\",\"rolls\",\"musical\",\"heather\",\"wound_up\",\"audience\",\"dc\",\"article\",\"traveler\",\"fresh_basil\",\"friday_afternoon\",\"qt\",\"passable\",\"meantime\",\"gang\",\"lowe_'s\",\"mmmmmm\",\"wine_pairing\",\"uni\",\"pleasantly\",\"working\",\"petite\",\"wrapper\",\"overnight\",\"culinary_dropout\",\"rib_eye\",\"alteration\",\"hong_kong\",\"micro\",\"sudden\",\"historic\",\"bass\",\"notify\",\"relleno\",\"chocolate_cover\",\"lee_lee_'s\",\"roast_chicken\",\"sis\",\"tonic\",\"faint\",\"celebrity\",\"5:30\",\"decently\",\"faith\",\"anti_-\",\"sweater\",\"bosa\",\"frozen_custard\",\"woohoo\",\"$_300\",\"americano\",\"production\",\"darts\",\"mo\",\"swallow\"],\"x_coord\":{\"__ndarray__\":\"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\",\"dtype\":\"float32\",\"shape\":[5000]},\"y_coord\":{\"__ndarray__\":\"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\",\"dtype\":\"float32\",\"shape\":[5000]}}},\"id\":\"ba0e1a67-ff47-47c4-a5c7-a4ac323cda98\",\"type\":\"ColumnDataSource\"}],\"root_ids\":[\"a8761417-667e-4651-a31b-185930f4193e\"]},\"title\":\"Bokeh Application\",\"version\":\"0.12.6\"}};\n",
       "            var render_items = [{\"docid\":\"f88262ec-6b47-4033-a097-1d295b6d78cc\",\"elementid\":\"84d8e639-5eba-4c4e-8ca3-cda23ceff42e\",\"modelid\":\"a8761417-667e-4651-a31b-185930f4193e\"}];\n",
       "            \n",
       "            Bokeh.embed.embed_items(docs_json, render_items);\n",
       "          };\n",
       "          if (document.readyState != \"loading\") fn();\n",
       "          else document.addEventListener(\"DOMContentLoaded\", fn);\n",
       "        })();\n",
       "      },\n",
       "      function(Bokeh) {\n",
       "      }\n",
       "    ];\n",
       "  \n",
       "    function run_inline_js() {\n",
       "      \n",
       "      if ((window.Bokeh !== undefined) || (force === true)) {\n",
       "        for (var i = 0; i < inline_js.length; i++) {\n",
       "          inline_js[i](window.Bokeh);\n",
       "        }if (force === true) {\n",
       "          display_loaded();\n",
       "        }} else if (Date.now() < window._bokeh_timeout) {\n",
       "        setTimeout(run_inline_js, 100);\n",
       "      } else if (!window._bokeh_failed_load) {\n",
       "        console.log(\"Bokeh: BokehJS failed to load within specified timeout.\");\n",
       "        window._bokeh_failed_load = true;\n",
       "      } else if (force !== true) {\n",
       "        var cell = $(document.getElementById(\"84d8e639-5eba-4c4e-8ca3-cda23ceff42e\")).parents('.cell').data().cell;\n",
       "        cell.output_area.append_execute_result(NB_LOAD_WARNING)\n",
       "      }\n",
       "  \n",
       "    }\n",
       "  \n",
       "    if (window._bokeh_is_loading === 0) {\n",
       "      console.log(\"Bokeh: BokehJS loaded, going straight to plotting\");\n",
       "      run_inline_js();\n",
       "    } else {\n",
       "      load_libs(js_urls, function() {\n",
       "        console.log(\"Bokeh: BokehJS plotting callback run at\", now());\n",
       "        run_inline_js();\n",
       "      });\n",
       "    }\n",
       "  }(this));\n",
       "</script>"
      ]
     },
     "metadata": {},
     "output_type": "display_data"
    }
   ],
   "source": [
    "# add our DataFrame as a ColumnDataSource for Bokeh\n",
    "plot_data = ColumnDataSource(tsne_vectors)\n",
    "\n",
    "# create the plot and configure the\n",
    "# title, dimensions, and tools\n",
    "tsne_plot = figure(\n",
    "    title='t-SNE Word Embeddings',\n",
    "    plot_width=800,\n",
    "    plot_height=800,\n",
    "    tools=('pan, wheel_zoom, box_zoom, box_select, resize, reset'),\n",
    "    active_scroll='wheel_zoom'\n",
    "    )\n",
    "\n",
    "# add a hover tool to display words on roll-over\n",
    "tsne_plot.add_tools(HoverTool(tooltips = '@word'))\n",
    "\n",
    "# draw the words as circles on the plot\n",
    "tsne_plot.circle(\n",
    "    'x_coord',\n",
    "    'y_coord',\n",
    "    source=plot_data,\n",
    "    color='blue',\n",
    "    line_alpha=0.2,\n",
    "    fill_alpha=0.1,\n",
    "    size=10,\n",
    "    hover_line_color='black'\n",
    "    )\n",
    "\n",
    "# configure visual elements of the plot\n",
    "tsne_plot.title.text_font_size = value('16pt')\n",
    "tsne_plot.xaxis.visible = False\n",
    "tsne_plot.yaxis.visible = False\n",
    "tsne_plot.grid.grid_line_color = None\n",
    "tsne_plot.outline_line_color = None\n",
    "\n",
    "# engage!\n",
    "show(tsne_plot);"
   ]
  },
  {
   "cell_type": "markdown",
   "metadata": {},
   "source": [
    "In this plot, every word or token is represented as a light blue circle. You can navigate the plot using the tools displayed in the upper right: zoom, pan, select, etc. Hovering your mouse pointer over one or more circles on the plot will display the words the circles represent.\n",
    "\n",
    "Areas of dense clustering indicate that the model has found a group of words it believes are highly similar. Words in neighboring clusters might be more loosely related to each other. Words that are distant from each other are not related, according to the model (note that this is not the same this as being _dissimilar_).\n",
    "\n",
    "Spend some time playing with this plot to gain a bit of intuition for the meanings for words and relationships between words that the word2vec model has learned from our dataset!"
   ]
  },
  {
   "cell_type": "markdown",
   "metadata": {},
   "source": [
    "## Predicting Useful Votes with Neural Networks in Keras"
   ]
  },
  {
   "cell_type": "markdown",
   "metadata": {},
   "source": [
    "Finally, we are ready to build a neural network model to predict whether a review is likely to get any useful votes. We'll use the Keras neural network library as a high-level interface for TensorFlow. Our neural network will use the word vector embeddings we've learned in the previous section as an initial _Embedding_ layer in its model architecture."
   ]
  },
  {
   "cell_type": "markdown",
   "metadata": {},
   "source": [
    "Let's first import everything we'll need from Keras."
   ]
  },
  {
   "cell_type": "code",
   "execution_count": 70,
   "metadata": {},
   "outputs": [
    {
     "name": "stderr",
     "output_type": "stream",
     "text": [
      "Using TensorFlow backend.\n"
     ]
    }
   ],
   "source": [
    "from keras.preprocessing.sequence import pad_sequences\n",
    "from keras.models import Sequential, load_model\n",
    "from keras.layers import Dense, Dropout, Activation\n",
    "from keras.layers import Embedding\n",
    "from keras.layers import LSTM, Bidirectional\n",
    "from keras.layers import Conv1D, MaxPooling1D"
   ]
  },
  {
   "cell_type": "markdown",
   "metadata": {},
   "source": [
    "Next, we'll read in the normalized text from our reviews we pre-processed earlier in the notebook. Each review will be read in as a list of lemmatized tokens.\n",
    "\n",
    "Since this is a smallish dataset, for convenience, we'll simply read all of the data into RAM. If we needed to work with a larger dataset, we could stream the data from disk, only holding a subset of the reviews in memory at once."
   ]
  },
  {
   "cell_type": "code",
   "execution_count": 71,
   "metadata": {
    "collapsed": true
   },
   "outputs": [],
   "source": [
    "transformed_reviews = list(LineSentence(transformed_reviews_filepath))"
   ]
  },
  {
   "cell_type": "code",
   "execution_count": 72,
   "metadata": {},
   "outputs": [
    {
     "name": "stdout",
     "output_type": "stream",
     "text": [
      "['love', 'the', 'gyro', 'plate', '.', 'rice', 'be', 'so', 'good', 'and', 'i', 'also', 'dig', 'their', 'candy', 'selection', ':)']\n"
     ]
    }
   ],
   "source": [
    "sample_review_id = 2\n",
    "\n",
    "print(transformed_reviews[sample_review_id])"
   ]
  },
  {
   "cell_type": "markdown",
   "metadata": {},
   "source": [
    "#### Prepare the training data"
   ]
  },
  {
   "cell_type": "markdown",
   "metadata": {},
   "source": [
    "Like other machine learning models, neural networks work with numbers, not raw text. Keras will expect our input data to be a sequence of integer IDs corresponding to the tokens in the original text.\n",
    "\n",
    "Fortunately, our word2vec model has already learned the vocabulary from our text data and assigned an integer index to each token. We can reuse its dictionary for our integer IDs in our Keras model."
   ]
  },
  {
   "cell_type": "code",
   "execution_count": 73,
   "metadata": {},
   "outputs": [
    {
     "data": {
      "text/plain": [
       "67"
      ]
     },
     "execution_count": 73,
     "metadata": {},
     "output_type": "execute_result"
    }
   ],
   "source": [
    "word2vec.wv.vocab['love'].index"
   ]
  },
  {
   "cell_type": "markdown",
   "metadata": {},
   "source": [
    "We'll define a function to generate sequences of integer IDs for us. This function will accept a sequence of tokens, loop through them, and look up the integer ID for each one. It will return a new list containing the word2vec model IDs for the token sequence.\n",
    "\n",
    "Like most things in Python, the word2vec model starts assigning integer IDs to tokens with the number 0, and counts up from there. We'll add 1 to all of the IDs, so that the ID 0 is reserved for (1) tokens that aren't in the model's vocabulary, and (2) sequence padding, which we'll see in the next section."
   ]
  },
  {
   "cell_type": "code",
   "execution_count": 74,
   "metadata": {
    "collapsed": true
   },
   "outputs": [],
   "source": [
    "def generate_seq(text):\n",
    "\n",
    "    seq = []\n",
    "\n",
    "    for token in text:\n",
    "        try:\n",
    "            # add 1 to all token ids\n",
    "            # reserve id 0 for out-of-vocabulary & sequence padding\n",
    "            seq.append(word2vec.wv.vocab[token].index + 1)\n",
    "        except KeyError:\n",
    "            # if token is not in model vocabulary,\n",
    "            # use 0 as a placeholder id\n",
    "            seq.append(0)\n",
    "            \n",
    "    return seq"
   ]
  },
  {
   "cell_type": "markdown",
   "metadata": {},
   "source": [
    "Let's test our new function."
   ]
  },
  {
   "cell_type": "code",
   "execution_count": 75,
   "metadata": {},
   "outputs": [
    {
     "data": {
      "text/html": [
       "<div>\n",
       "<style>\n",
       "    .dataframe thead tr:only-child th {\n",
       "        text-align: right;\n",
       "    }\n",
       "\n",
       "    .dataframe thead th {\n",
       "        text-align: left;\n",
       "    }\n",
       "\n",
       "    .dataframe tbody tr th {\n",
       "        vertical-align: top;\n",
       "    }\n",
       "</style>\n",
       "<table border=\"1\" class=\"dataframe\">\n",
       "  <thead>\n",
       "    <tr style=\"text-align: right;\">\n",
       "      <th></th>\n",
       "      <th>token</th>\n",
       "      <th>id</th>\n",
       "    </tr>\n",
       "  </thead>\n",
       "  <tbody>\n",
       "    <tr>\n",
       "      <th>0</th>\n",
       "      <td>love</td>\n",
       "      <td>68</td>\n",
       "    </tr>\n",
       "    <tr>\n",
       "      <th>1</th>\n",
       "      <td>the</td>\n",
       "      <td>3</td>\n",
       "    </tr>\n",
       "    <tr>\n",
       "      <th>2</th>\n",
       "      <td>gyro</td>\n",
       "      <td>1058</td>\n",
       "    </tr>\n",
       "    <tr>\n",
       "      <th>3</th>\n",
       "      <td>plate</td>\n",
       "      <td>277</td>\n",
       "    </tr>\n",
       "    <tr>\n",
       "      <th>4</th>\n",
       "      <td>.</td>\n",
       "      <td>1</td>\n",
       "    </tr>\n",
       "    <tr>\n",
       "      <th>5</th>\n",
       "      <td>rice</td>\n",
       "      <td>362</td>\n",
       "    </tr>\n",
       "    <tr>\n",
       "      <th>6</th>\n",
       "      <td>be</td>\n",
       "      <td>2</td>\n",
       "    </tr>\n",
       "    <tr>\n",
       "      <th>7</th>\n",
       "      <td>so</td>\n",
       "      <td>30</td>\n",
       "    </tr>\n",
       "    <tr>\n",
       "      <th>8</th>\n",
       "      <td>good</td>\n",
       "      <td>23</td>\n",
       "    </tr>\n",
       "    <tr>\n",
       "      <th>9</th>\n",
       "      <td>and</td>\n",
       "      <td>5</td>\n",
       "    </tr>\n",
       "    <tr>\n",
       "      <th>10</th>\n",
       "      <td>i</td>\n",
       "      <td>6</td>\n",
       "    </tr>\n",
       "    <tr>\n",
       "      <th>11</th>\n",
       "      <td>also</td>\n",
       "      <td>76</td>\n",
       "    </tr>\n",
       "    <tr>\n",
       "      <th>12</th>\n",
       "      <td>dig</td>\n",
       "      <td>1316</td>\n",
       "    </tr>\n",
       "    <tr>\n",
       "      <th>13</th>\n",
       "      <td>their</td>\n",
       "      <td>55</td>\n",
       "    </tr>\n",
       "    <tr>\n",
       "      <th>14</th>\n",
       "      <td>candy</td>\n",
       "      <td>1294</td>\n",
       "    </tr>\n",
       "    <tr>\n",
       "      <th>15</th>\n",
       "      <td>selection</td>\n",
       "      <td>235</td>\n",
       "    </tr>\n",
       "    <tr>\n",
       "      <th>16</th>\n",
       "      <td>:)</td>\n",
       "      <td>479</td>\n",
       "    </tr>\n",
       "  </tbody>\n",
       "</table>\n",
       "</div>"
      ],
      "text/plain": [
       "        token    id\n",
       "0        love    68\n",
       "1         the     3\n",
       "2        gyro  1058\n",
       "3       plate   277\n",
       "4           .     1\n",
       "5        rice   362\n",
       "6          be     2\n",
       "7          so    30\n",
       "8        good    23\n",
       "9         and     5\n",
       "10          i     6\n",
       "11       also    76\n",
       "12        dig  1316\n",
       "13      their    55\n",
       "14      candy  1294\n",
       "15  selection   235\n",
       "16         :)   479"
      ]
     },
     "execution_count": 75,
     "metadata": {},
     "output_type": "execute_result"
    }
   ],
   "source": [
    "seq = generate_seq(transformed_reviews[sample_review_id])\n",
    "\n",
    "pd.DataFrame(\n",
    "    [transformed_reviews[sample_review_id], seq],\n",
    "    index=['token', 'id']\n",
    "    ).T"
   ]
  },
  {
   "cell_type": "markdown",
   "metadata": {},
   "source": [
    "We can use our function to generate a token ID sequence for every review in our dataset. We're left with a list of lists, where each list is a token ID sequence for one review."
   ]
  },
  {
   "cell_type": "code",
   "execution_count": 76,
   "metadata": {
    "collapsed": true
   },
   "outputs": [],
   "source": [
    "seqs = [generate_seq(text) for text in transformed_reviews]"
   ]
  },
  {
   "cell_type": "code",
   "execution_count": 77,
   "metadata": {},
   "outputs": [
    {
     "data": {
      "text/plain": [
       "[68, 3, 1058, 277, 1, 362, 2, 30, 23, 5, 6, 76, 1316, 55, 1294, 235, 479]"
      ]
     },
     "execution_count": 77,
     "metadata": {},
     "output_type": "execute_result"
    }
   ],
   "source": [
    "seqs[sample_review_id]"
   ]
  },
  {
   "cell_type": "markdown",
   "metadata": {},
   "source": [
    "An inconvenient fact of life in Keras and TensorFlow is that Keras expects all of the input data to have the same size and shape. This isn't much of a problem, for, say, image data that can easily be resized, or structured data with a fixed schema.\n",
    "\n",
    "Yelp reviews can and do have different lengths, so our input data is not naturally the same size and shape:"
   ]
  },
  {
   "cell_type": "code",
   "execution_count": 78,
   "metadata": {},
   "outputs": [
    {
     "name": "stdout",
     "output_type": "stream",
     "text": [
      "The average sequence length is 147.1 tokens\n",
      "The longest sequence is 1144 tokens\n"
     ]
    }
   ],
   "source": [
    "avg_length = sum((len(seq) for seq in seqs)) / len(seqs)\n",
    "longest = max((len(seq) for seq in seqs))\n",
    "\n",
    "print(f'The average sequence length is {avg_length:.1f} tokens')\n",
    "print(f'The longest sequence is {longest} tokens')"
   ]
  },
  {
   "cell_type": "markdown",
   "metadata": {},
   "source": [
    "The typical way to get around this is to use a workaround called _sequence padding_. We will choose a fixed length and resize all of our token ID sequences to match this length.\n",
    "\n",
    "If a sequence is shorter than the fixed length, we'll _pad_ the sequence with extra zeros until it matches the chosen length. If a sequence is longer than the designated length, the extra length will be chopped off and discarded.\n",
    "\n",
    "Keras provides a `pad_sequences` utility function for this purpose."
   ]
  },
  {
   "cell_type": "code",
   "execution_count": 79,
   "metadata": {
    "collapsed": true
   },
   "outputs": [],
   "source": [
    "max_length = 500\n",
    "\n",
    "padded_seqs = pad_sequences(seqs, maxlen=max_length, value=0)"
   ]
  },
  {
   "cell_type": "code",
   "execution_count": 80,
   "metadata": {},
   "outputs": [
    {
     "data": {
      "text/plain": [
       "numpy.ndarray"
      ]
     },
     "execution_count": 80,
     "metadata": {},
     "output_type": "execute_result"
    }
   ],
   "source": [
    "type(padded_seqs)"
   ]
  },
  {
   "cell_type": "markdown",
   "metadata": {},
   "source": [
    "Let's inspect the same sample review &mdash; this time comparing the original text with the padded sequence of token IDs we produced from it."
   ]
  },
  {
   "cell_type": "code",
   "execution_count": 81,
   "metadata": {},
   "outputs": [
    {
     "name": "stdout",
     "output_type": "stream",
     "text": [
      "love the gyro plate . rice be so good and i also dig their candy selection :)\n",
      "\n",
      "0         0\n",
      "1         0\n",
      "2         0\n",
      "3         0\n",
      "4         0\n",
      "5         0\n",
      "6         0\n",
      "7         0\n",
      "8         0\n",
      "9         0\n",
      "10        0\n",
      "11        0\n",
      "12        0\n",
      "13        0\n",
      "14        0\n",
      "15        0\n",
      "16        0\n",
      "17        0\n",
      "18        0\n",
      "19        0\n",
      "20        0\n",
      "21        0\n",
      "22        0\n",
      "23        0\n",
      "24        0\n",
      "25        0\n",
      "26        0\n",
      "27        0\n",
      "28        0\n",
      "29        0\n",
      "       ... \n",
      "470       0\n",
      "471       0\n",
      "472       0\n",
      "473       0\n",
      "474       0\n",
      "475       0\n",
      "476       0\n",
      "477       0\n",
      "478       0\n",
      "479       0\n",
      "480       0\n",
      "481       0\n",
      "482       0\n",
      "483      68\n",
      "484       3\n",
      "485    1058\n",
      "486     277\n",
      "487       1\n",
      "488     362\n",
      "489       2\n",
      "490      30\n",
      "491      23\n",
      "492       5\n",
      "493       6\n",
      "494      76\n",
      "495    1316\n",
      "496      55\n",
      "497    1294\n",
      "498     235\n",
      "499     479\n",
      "Length: 500, dtype: int32\n"
     ]
    }
   ],
   "source": [
    "print(' '.join(transformed_reviews[sample_review_id]))\n",
    "print('')\n",
    "print(pd.Series(padded_seqs[sample_review_id, :]))"
   ]
  },
  {
   "cell_type": "markdown",
   "metadata": {},
   "source": [
    " We see that it's now mostly padding, with the token IDs for real words at the end.\n",
    "\n",
    "Let's look at one more."
   ]
  },
  {
   "cell_type": "code",
   "execution_count": 82,
   "metadata": {},
   "outputs": [
    {
     "name": "stdout",
     "output_type": "stream",
     "text": [
      "rosie , dakota , and i love chaparral_dog_park ! ! ! it be very convenient and surround_by a lot of path , a desert xeriscape , baseball_field , ballpark , and a lake with duck . the scottsdale park and rec dept . do a wonderful job of keep the park clean and shade . you can find trash can and poopy - pick_up mitt locate all over the park and path . the fenced in area be huge to let the dog run , play , and sniff !\n",
      "\n",
      "0          0\n",
      "1          0\n",
      "2          0\n",
      "3          0\n",
      "4          0\n",
      "5          0\n",
      "6          0\n",
      "7          0\n",
      "8          0\n",
      "9          0\n",
      "10         0\n",
      "11         0\n",
      "12         0\n",
      "13         0\n",
      "14         0\n",
      "15         0\n",
      "16         0\n",
      "17         0\n",
      "18         0\n",
      "19         0\n",
      "20         0\n",
      "21         0\n",
      "22         0\n",
      "23         0\n",
      "24         0\n",
      "25         0\n",
      "26         0\n",
      "27         0\n",
      "28         0\n",
      "29         0\n",
      "       ...  \n",
      "470        5\n",
      "471        0\n",
      "472       27\n",
      "473      601\n",
      "474    19805\n",
      "475      686\n",
      "476       42\n",
      "477      114\n",
      "478        3\n",
      "479      536\n",
      "480        5\n",
      "481     2980\n",
      "482        1\n",
      "483        3\n",
      "484    17070\n",
      "485       14\n",
      "486      181\n",
      "487        2\n",
      "488      287\n",
      "489        8\n",
      "490      259\n",
      "491        3\n",
      "492      440\n",
      "493      299\n",
      "494        4\n",
      "495      407\n",
      "496        4\n",
      "497        5\n",
      "498     7153\n",
      "499       15\n",
      "Length: 500, dtype: int32\n"
     ]
    }
   ],
   "source": [
    "print(' '.join(transformed_reviews[sample_review_id + 1]))\n",
    "print('')\n",
    "print(pd.Series(padded_seqs[sample_review_id + 1, :]))"
   ]
  },
  {
   "cell_type": "markdown",
   "metadata": {},
   "source": [
    "The original reviews are different lengths, but as far as Keras is concerned, their size and shape of the sequences are now consistent! These padded sequences will serve as the raw input data to our neural network:"
   ]
  },
  {
   "cell_type": "code",
   "execution_count": 83,
   "metadata": {},
   "outputs": [
    {
     "data": {
      "text/plain": [
       "(229901, 500)"
      ]
     },
     "execution_count": 83,
     "metadata": {},
     "output_type": "execute_result"
    }
   ],
   "source": [
    "padded_seqs.shape"
   ]
  },
  {
   "cell_type": "markdown",
   "metadata": {},
   "source": [
    "#### Prepare the labels"
   ]
  },
  {
   "cell_type": "markdown",
   "metadata": {},
   "source": [
    "Let's turn our attention to the target variable. The `votes.useful` column contains how many useful votes a review received from the Yelp community:"
   ]
  },
  {
   "cell_type": "code",
   "execution_count": 84,
   "metadata": {},
   "outputs": [
    {
     "data": {
      "text/plain": [
       "0    5\n",
       "1    0\n",
       "2    1\n",
       "3    2\n",
       "4    0\n",
       "Name: votes.useful, dtype: int64"
      ]
     },
     "execution_count": 84,
     "metadata": {},
     "output_type": "execute_result"
    }
   ],
   "source": [
    "reviews_df['votes.useful'].head()"
   ]
  },
  {
   "cell_type": "markdown",
   "metadata": {},
   "source": [
    "We'd like to frame this as a classification problem, so we'll transform the `votes.useful` data into a binary variable &mdash; 1 if a review received any useful votes, 0 otherwise."
   ]
  },
  {
   "cell_type": "code",
   "execution_count": 85,
   "metadata": {
    "collapsed": true
   },
   "outputs": [],
   "source": [
    "labels = reviews_df['votes.useful'].apply(bool).astype(int)"
   ]
  },
  {
   "cell_type": "code",
   "execution_count": 86,
   "metadata": {
    "scrolled": true
   },
   "outputs": [
    {
     "data": {
      "text/plain": [
       "0    1\n",
       "1    0\n",
       "2    1\n",
       "3    1\n",
       "4    0\n",
       "Name: votes.useful, dtype: int64"
      ]
     },
     "execution_count": 86,
     "metadata": {},
     "output_type": "execute_result"
    }
   ],
   "source": [
    "labels.head()"
   ]
  },
  {
   "cell_type": "code",
   "execution_count": 87,
   "metadata": {},
   "outputs": [
    {
     "data": {
      "text/plain": [
       "count    229901.000000\n",
       "mean          0.585195\n",
       "std           0.492689\n",
       "min           0.000000\n",
       "25%           0.000000\n",
       "50%           1.000000\n",
       "75%           1.000000\n",
       "max           1.000000\n",
       "Name: votes.useful, dtype: float64"
      ]
     },
     "execution_count": 87,
     "metadata": {},
     "output_type": "execute_result"
    }
   ],
   "source": [
    "labels.describe()"
   ]
  },
  {
   "cell_type": "markdown",
   "metadata": {},
   "source": [
    "Looks like 58% of the reviews in our dataset received at least one useful vote.\n",
    "\n",
    "This provides a helpful baseline: a naive strategy would be to predict 1 for every review. You'd be right 58% of the time! A worthwhile model must at least beat 58% accuracy."
   ]
  },
  {
   "cell_type": "markdown",
   "metadata": {},
   "source": [
    "We'll use the standard `test_train_split` function from scikit-learn to set up our training and testing sets."
   ]
  },
  {
   "cell_type": "code",
   "execution_count": 88,
   "metadata": {
    "collapsed": true
   },
   "outputs": [],
   "source": [
    "from sklearn.model_selection import train_test_split"
   ]
  },
  {
   "cell_type": "code",
   "execution_count": 89,
   "metadata": {
    "collapsed": true
   },
   "outputs": [],
   "source": [
    "X_train, X_test, y_train, y_test = train_test_split(padded_seqs, labels, test_size=0.15, random_state=42)"
   ]
  },
  {
   "cell_type": "markdown",
   "metadata": {},
   "source": [
    "#### Define the network architecture"
   ]
  },
  {
   "cell_type": "markdown",
   "metadata": {},
   "source": [
    "With our training data and labels squared away, we can define the architecture for our neural network."
   ]
  },
  {
   "cell_type": "code",
   "execution_count": 90,
   "metadata": {
    "collapsed": true
   },
   "outputs": [],
   "source": [
    "nn = Sequential()"
   ]
  },
  {
   "cell_type": "markdown",
   "metadata": {},
   "source": [
    "A single example of input data for our network will be one of the token ID sequences we created in the previous section &mdash; in other words, a vector of shape (500, 1)."
   ]
  },
  {
   "cell_type": "markdown",
   "metadata": {},
   "source": [
    "##### Embedding"
   ]
  },
  {
   "cell_type": "markdown",
   "metadata": {},
   "source": [
    "The first layer in our network will be an _Embedding_ layer. The Embedding layer will simply look up the embedding vector for each token ID in the sequence.\n",
    "\n",
    "We can create re-use the word vector embeddings we learned in our word2vec model as the weights for the Embedding layer. This allows the model to \"import\" pre-trained knowledge about the meanings of and relationships between the words before we even start the training process."
   ]
  },
  {
   "cell_type": "markdown",
   "metadata": {},
   "source": [
    "Since we reserved ID 0 for out-of-vocabulary words and sequence padding, we need to add a row of zeros as the first row in the embedding matrix."
   ]
  },
  {
   "cell_type": "code",
   "execution_count": 91,
   "metadata": {},
   "outputs": [
    {
     "data": {
      "text/plain": [
       "(23940, 100)"
      ]
     },
     "execution_count": 91,
     "metadata": {},
     "output_type": "execute_result"
    }
   ],
   "source": [
    "word2vec.wv.vectors.shape"
   ]
  },
  {
   "cell_type": "code",
   "execution_count": 92,
   "metadata": {},
   "outputs": [
    {
     "data": {
      "text/plain": [
       "(23941, 100)"
      ]
     },
     "execution_count": 92,
     "metadata": {},
     "output_type": "execute_result"
    }
   ],
   "source": [
    "embedding_weights = np.vstack((\n",
    "    np.zeros((1, word2vec.wv.vectors.shape[1])),\n",
    "    word2vec.wv.vectors\n",
    "    ))\n",
    "\n",
    "embedding_weights.shape"
   ]
  },
  {
   "cell_type": "markdown",
   "metadata": {},
   "source": [
    "Let's create the Embedding layer and add it to our network like so:"
   ]
  },
  {
   "cell_type": "code",
   "execution_count": 93,
   "metadata": {
    "collapsed": true
   },
   "outputs": [],
   "source": [
    "nn.add(\n",
    "    Embedding(\n",
    "        embedding_weights.shape[0],\n",
    "        embedding_weights.shape[1],\n",
    "        weights=[embedding_weights],\n",
    "        input_length=max_length,\n",
    "        trainable=False\n",
    "        )\n",
    "    )"
   ]
  },
  {
   "cell_type": "markdown",
   "metadata": {},
   "source": [
    "The input to the Embedding layer will be a vector of shape (500, 1). The Embedding layer will replace each token ID with a 100-dimension token vector, so the output from the embedding layer will be a matrix of shape (500, 100)."
   ]
  },
  {
   "cell_type": "markdown",
   "metadata": {},
   "source": [
    "##### Dropout"
   ]
  },
  {
   "cell_type": "markdown",
   "metadata": {},
   "source": [
    "To help combat overfitting, we'll add a _Dropout_ layer next. This layer will randomly set 25% of the values in our (500, 100) matrix to 0."
   ]
  },
  {
   "cell_type": "code",
   "execution_count": 94,
   "metadata": {
    "collapsed": true
   },
   "outputs": [],
   "source": [
    "nn.add(Dropout(0.25))"
   ]
  },
  {
   "cell_type": "markdown",
   "metadata": {},
   "source": [
    "##### Convolution"
   ]
  },
  {
   "cell_type": "markdown",
   "metadata": {},
   "source": [
    "Next up is a _Convolutional_ layer. We set the `convolution_size` to 5, so a single convolution in this layer will accept a window of five word vectors at a time as input &mdash; a (5, 100) subset of the input data. For each of these windows, the convolution will produce a single number as its output value.\n",
    "\n",
    "Since our input data to this layer is a (500, 100) matrix of word vectors, we will apply the convolution over all 496 possible five-vector windows in the input matrix (there are no five-vector windows centered on rows 0, 1, 498, or 499). Since it produces a single output value for each window, when applied across the whole input, the convolution will produce a vector of output values of shape (496, 1).\n",
    "\n",
    "In the full Convolutional layer, we will create 64 separate convolutions and apply all of them as described above. The output from the full layer will be a matrix of shape (496, 64)."
   ]
  },
  {
   "cell_type": "code",
   "execution_count": 95,
   "metadata": {
    "collapsed": true
   },
   "outputs": [],
   "source": [
    "convolutions = 64\n",
    "convolution_size = 5"
   ]
  },
  {
   "cell_type": "code",
   "execution_count": 96,
   "metadata": {
    "collapsed": true
   },
   "outputs": [],
   "source": [
    "nn.add(\n",
    "    Conv1D(\n",
    "        convolutions,\n",
    "        convolution_size,\n",
    "        padding='valid',\n",
    "        activation='relu',\n",
    "        strides=1\n",
    "        )\n",
    "    )"
   ]
  },
  {
   "cell_type": "markdown",
   "metadata": {},
   "source": [
    "You can think of each convolution as a \"feature extractor\". It will learn to look for certain relevant patterns or features in a given window of input data. When a similar feature is present, the convolution will have a high activation value. Otherwise, its activation will be low.\n",
    "\n",
    "[See here](http://www.wildml.com/2015/11/understanding-convolutional-neural-networks-for-nlp/) for more information about the application of convolutional layers for NLP."
   ]
  },
  {
   "cell_type": "markdown",
   "metadata": {},
   "source": [
    "##### Max-pooling"
   ]
  },
  {
   "cell_type": "markdown",
   "metadata": {},
   "source": [
    "After our convolutions, we apply a _max-pooling_ layer. A max-pooling layer down-samples a sequence of input data, returning only the maximum value within a particular window.\n",
    "\n",
    "We'll use a max-pooling window of 4. The pooling operation will apply over the output sequence of each convloution individually. Max-pooling for the output sequence of a single convolution would look like this:\n",
    "\n",
    "```\n",
    "6  1  3  2 | 0  4  9  7 | ... | 3  3  4  1\n",
    "    max          max                max\n",
    "     6            9       ...        4\n",
    "```"
   ]
  },
  {
   "cell_type": "code",
   "execution_count": 97,
   "metadata": {
    "collapsed": true
   },
   "outputs": [],
   "source": [
    "pool_size = 4"
   ]
  },
  {
   "cell_type": "code",
   "execution_count": 98,
   "metadata": {
    "collapsed": true
   },
   "outputs": [],
   "source": [
    "nn.add(\n",
    "    MaxPooling1D(pool_size=pool_size)\n",
    "    )"
   ]
  },
  {
   "cell_type": "markdown",
   "metadata": {},
   "source": [
    "The input data to the max-pooling layer is a matrix of shape (496, 64). The max-pooling layer will down-sample the sequence from each convolution by a factor of 4, so the output from this layer will be (124, 64)."
   ]
  },
  {
   "cell_type": "markdown",
   "metadata": {},
   "source": [
    "##### Bidirectional Recurrent (LSTM)"
   ]
  },
  {
   "cell_type": "markdown",
   "metadata": {},
   "source": [
    "Next, we'll add a _recurrent_ layer &mdash; specifically, an _LSTM_ (Long Short Term Memory) layer. Recurrent layers are designed to read a _sequence_ of input data, _in order_, to detect relevant longer-term patterns or features in the sequence.\n",
    "\n",
    "We'll set the size of our LSTM layer to 70, which means the LSTM will read the input matrix and produce a vector of size (70, 1) that encodes relevant information the LSTM detected.\n",
    "\n",
    "For more information on LSTM layers, [see here](http://colah.github.io/posts/2015-08-Understanding-LSTMs/).\n",
    "\n",
    "We will add one twist to the standard LSTM layer &mdash; we'll make it _bidirectional_. This means we'll really have _two_ LSTM layers operating over the same input sequence. One layer will process the sequence forwards, from first-to-last, and the other will process the sequence backwards, from last-to-first. We'll glue the final vectors from each layer together as the output."
   ]
  },
  {
   "cell_type": "code",
   "execution_count": 99,
   "metadata": {
    "collapsed": true
   },
   "outputs": [],
   "source": [
    "lstm_output_size = 70"
   ]
  },
  {
   "cell_type": "code",
   "execution_count": 100,
   "metadata": {
    "collapsed": true
   },
   "outputs": [],
   "source": [
    "nn.add(\n",
    "    Bidirectional(LSTM(lstm_output_size, dropout=0.2, recurrent_dropout=0.2))\n",
    "    )"
   ]
  },
  {
   "cell_type": "markdown",
   "metadata": {},
   "source": [
    "Since we have two LSTMs reading the same (124, 64) input sequence and each producing a (70, 1) output vector, the final output from this layer will be a vector of size (140, 1)."
   ]
  },
  {
   "cell_type": "markdown",
   "metadata": {},
   "source": [
    "##### Dense layer for final classification"
   ]
  },
  {
   "cell_type": "markdown",
   "metadata": {},
   "source": [
    "Finally, we'll add a single _Dense_ (fully-connected) neuron to perform the final classification. It will accept the (140, 1) vector from the bidirectional LSTM layer as input, and produce a single activation value. Since this is a classification problem, we'll use the _sigmoid_ activation function, so the output is between 0 and 1.\n",
    "\n",
    "The activation value from this layer will serve as the network's overall prediction that a given review receives any useful votes."
   ]
  },
  {
   "cell_type": "code",
   "execution_count": 101,
   "metadata": {
    "collapsed": true
   },
   "outputs": [],
   "source": [
    "nn.add(Dense(1, activation='sigmoid'))"
   ]
  },
  {
   "cell_type": "markdown",
   "metadata": {},
   "source": [
    "Now that the network is complete, let's compile it and view a summary of the network architecture. We'll use the _binary crossentropy_ loss function, also known as the log loss, which is an appropriate choice for a binary classification problem."
   ]
  },
  {
   "cell_type": "code",
   "execution_count": 102,
   "metadata": {
    "collapsed": true
   },
   "outputs": [],
   "source": [
    "nn.compile(\n",
    "    loss='binary_crossentropy',\n",
    "    optimizer='adam',\n",
    "    metrics=['accuracy']\n",
    "    )"
   ]
  },
  {
   "cell_type": "code",
   "execution_count": 103,
   "metadata": {
    "scrolled": true
   },
   "outputs": [
    {
     "name": "stdout",
     "output_type": "stream",
     "text": [
      "_________________________________________________________________\n",
      "Layer (type)                 Output Shape              Param #   \n",
      "=================================================================\n",
      "embedding_1 (Embedding)      (None, 500, 100)          2394100   \n",
      "_________________________________________________________________\n",
      "dropout_1 (Dropout)          (None, 500, 100)          0         \n",
      "_________________________________________________________________\n",
      "conv1d_1 (Conv1D)            (None, 496, 64)           32064     \n",
      "_________________________________________________________________\n",
      "max_pooling1d_1 (MaxPooling1 (None, 124, 64)           0         \n",
      "_________________________________________________________________\n",
      "bidirectional_1 (Bidirection (None, 140)               75600     \n",
      "_________________________________________________________________\n",
      "dense_1 (Dense)              (None, 1)                 141       \n",
      "=================================================================\n",
      "Total params: 2,501,905\n",
      "Trainable params: 107,805\n",
      "Non-trainable params: 2,394,100\n",
      "_________________________________________________________________\n"
     ]
    }
   ],
   "source": [
    "nn.summary()"
   ]
  },
  {
   "cell_type": "markdown",
   "metadata": {},
   "source": [
    "#### Train the model"
   ]
  },
  {
   "cell_type": "code",
   "execution_count": 104,
   "metadata": {
    "collapsed": true
   },
   "outputs": [],
   "source": [
    "neural_network_filepath = 'neural_network_model.h5'"
   ]
  },
  {
   "cell_type": "code",
   "execution_count": 105,
   "metadata": {
    "collapsed": true
   },
   "outputs": [],
   "source": [
    "batch_size = 30\n",
    "epochs = 3"
   ]
  },
  {
   "cell_type": "code",
   "execution_count": 106,
   "metadata": {},
   "outputs": [],
   "source": [
    "execute = False\n",
    "\n",
    "if execute:\n",
    "    \n",
    "    nn.fit(\n",
    "        X_train,\n",
    "        y_train,\n",
    "        batch_size=batch_size,\n",
    "        epochs=epochs,\n",
    "        validation_data=(X_test, y_test)\n",
    "        )\n",
    "    \n",
    "    nn.save(neural_network_filepath)"
   ]
  },
  {
   "cell_type": "markdown",
   "metadata": {},
   "source": [
    "```\n",
    "Train on 195415 samples, validate on 34486 samples\n",
    "Epoch 1/3\n",
    "195415/195415 [==============================] - 1353s - loss: 0.6391 - acc: 0.6331 - val_loss: 0.6345 - val_acc: 0.6393\n",
    "Epoch 2/3\n",
    "195415/195415 [==============================] - 1333s - loss: 0.6361 - acc: 0.6367 - val_loss: 0.6334 - val_acc: 0.6407\n",
    "Epoch 3/3\n",
    "195415/195415 [==============================] - 1338s - loss: 0.6336 - acc: 0.6373 - val_loss: 0.6345 - val_acc: 0.6416\n",
    "```"
   ]
  },
  {
   "cell_type": "code",
   "execution_count": 107,
   "metadata": {
    "collapsed": true
   },
   "outputs": [],
   "source": [
    "nn = load_model(neural_network_filepath)"
   ]
  },
  {
   "cell_type": "markdown",
   "metadata": {},
   "source": [
    "After training for three epochs over the training data, the network's prediction accuracy over the test data is about 64.2%. This is certainly a bit better than the 58% naive baseline. But is it accurate enough to be useful?"
   ]
  },
  {
   "cell_type": "markdown",
   "metadata": {},
   "source": [
    "#### Use the trained model to predict useful reviews"
   ]
  },
  {
   "cell_type": "markdown",
   "metadata": {},
   "source": [
    "Let's use our trained model to make predictions for all the reviews in our original dataset."
   ]
  },
  {
   "cell_type": "code",
   "execution_count": 108,
   "metadata": {
    "collapsed": true
   },
   "outputs": [],
   "source": [
    "predictions_filepath = 'preds.npy'"
   ]
  },
  {
   "cell_type": "code",
   "execution_count": 109,
   "metadata": {},
   "outputs": [
    {
     "name": "stdout",
     "output_type": "stream",
     "text": [
      "CPU times: user 10 µs, sys: 0 ns, total: 10 µs\n",
      "Wall time: 19.3 µs\n"
     ]
    }
   ],
   "source": [
    "%%time\n",
    "\n",
    "execute = False\n",
    "\n",
    "if execute:\n",
    "    \n",
    "    preds = nn.predict(padded_seqs, verbose=1)\n",
    "    \n",
    "    np.save(predictions_filepath, preds)"
   ]
  },
  {
   "cell_type": "markdown",
   "metadata": {},
   "source": [
    "```\n",
    "229901/229901 [==============================] - 754s\n",
    "```"
   ]
  },
  {
   "cell_type": "code",
   "execution_count": 110,
   "metadata": {
    "collapsed": true
   },
   "outputs": [],
   "source": [
    "preds = np.load(predictions_filepath)"
   ]
  },
  {
   "cell_type": "code",
   "execution_count": 111,
   "metadata": {
    "scrolled": true
   },
   "outputs": [
    {
     "data": {
      "text/plain": [
       "(229901, 1)"
      ]
     },
     "execution_count": 111,
     "metadata": {},
     "output_type": "execute_result"
    }
   ],
   "source": [
    "preds.shape"
   ]
  },
  {
   "cell_type": "code",
   "execution_count": 112,
   "metadata": {
    "collapsed": true
   },
   "outputs": [],
   "source": [
    "reviews_df['useful.predicted'] = preds"
   ]
  },
  {
   "cell_type": "code",
   "execution_count": 113,
   "metadata": {
    "collapsed": true
   },
   "outputs": [],
   "source": [
    "sorted_reviews = reviews_df.sort_values('useful.predicted', ascending=False)"
   ]
  },
  {
   "cell_type": "markdown",
   "metadata": {},
   "source": [
    "Let's preview the most useful reviews, as predicted by the model."
   ]
  },
  {
   "cell_type": "code",
   "execution_count": 114,
   "metadata": {
    "scrolled": false
   },
   "outputs": [
    {
     "data": {
      "text/html": [
       "<div>\n",
       "<style>\n",
       "    .dataframe thead tr:only-child th {\n",
       "        text-align: right;\n",
       "    }\n",
       "\n",
       "    .dataframe thead th {\n",
       "        text-align: left;\n",
       "    }\n",
       "\n",
       "    .dataframe tbody tr th {\n",
       "        vertical-align: top;\n",
       "    }\n",
       "</style>\n",
       "<table border=\"1\" class=\"dataframe\">\n",
       "  <thead>\n",
       "    <tr style=\"text-align: right;\">\n",
       "      <th></th>\n",
       "      <th>business_id</th>\n",
       "      <th>date</th>\n",
       "      <th>review_id</th>\n",
       "      <th>stars</th>\n",
       "      <th>text</th>\n",
       "      <th>type</th>\n",
       "      <th>user_id</th>\n",
       "      <th>votes.cool</th>\n",
       "      <th>votes.funny</th>\n",
       "      <th>votes.useful</th>\n",
       "      <th>useful.predicted</th>\n",
       "    </tr>\n",
       "  </thead>\n",
       "  <tbody>\n",
       "    <tr>\n",
       "      <th>155961</th>\n",
       "      <td>f_leeIRar8uNCkk5sAmHRQ</td>\n",
       "      <td>2008-10-09</td>\n",
       "      <td>5h6lRtXvNlwYTU4kZKUdBQ</td>\n",
       "      <td>3</td>\n",
       "      <td>[Scene] \\r\\n\\r\\nIt's 5:45 PM on a Sunday. A ma...</td>\n",
       "      <td>review</td>\n",
       "      <td>HOleI3jz1MLNUJ6cc1x0Pw</td>\n",
       "      <td>7</td>\n",
       "      <td>16</td>\n",
       "      <td>4</td>\n",
       "      <td>0.950890</td>\n",
       "    </tr>\n",
       "    <tr>\n",
       "      <th>197107</th>\n",
       "      <td>vxC3YTLOeGJwrnHcep63FQ</td>\n",
       "      <td>2012-09-17</td>\n",
       "      <td>QBnnWLpktAtJ42rwOwTjTg</td>\n",
       "      <td>4</td>\n",
       "      <td>Yay, a brand new Buffet opened today!     :-))...</td>\n",
       "      <td>review</td>\n",
       "      <td>ikm0UCahtK34LbLCEw4YTw</td>\n",
       "      <td>3</td>\n",
       "      <td>2</td>\n",
       "      <td>6</td>\n",
       "      <td>0.940665</td>\n",
       "    </tr>\n",
       "    <tr>\n",
       "      <th>196029</th>\n",
       "      <td>PLLM4iCYy_OrT-53IZ88Qw</td>\n",
       "      <td>2012-03-13</td>\n",
       "      <td>kjZeix1k5Nw1VWqoId3lzg</td>\n",
       "      <td>4</td>\n",
       "      <td>Eew, a Buffet with no meat?¿?     :-O\\r\\n\\r\\nO...</td>\n",
       "      <td>review</td>\n",
       "      <td>ikm0UCahtK34LbLCEw4YTw</td>\n",
       "      <td>3</td>\n",
       "      <td>2</td>\n",
       "      <td>4</td>\n",
       "      <td>0.939794</td>\n",
       "    </tr>\n",
       "    <tr>\n",
       "      <th>3887</th>\n",
       "      <td>E5dqlvxPw9Q4XFqOMw_lqw</td>\n",
       "      <td>2011-08-03</td>\n",
       "      <td>qT8arKbR7ioofdeh6wJ3SA</td>\n",
       "      <td>4</td>\n",
       "      <td>Decided to stop by for breakfast by myself one...</td>\n",
       "      <td>review</td>\n",
       "      <td>kGgAARL2UmvCcTRfiscjug</td>\n",
       "      <td>4</td>\n",
       "      <td>4</td>\n",
       "      <td>10</td>\n",
       "      <td>0.939739</td>\n",
       "    </tr>\n",
       "    <tr>\n",
       "      <th>58754</th>\n",
       "      <td>VKNl2-aF4n1x7lPVyU-Mag</td>\n",
       "      <td>2011-04-14</td>\n",
       "      <td>SE21xRhgPI3ZIdUq9xIhFQ</td>\n",
       "      <td>5</td>\n",
       "      <td>Was looking for a Mexican joint on Yelp and st...</td>\n",
       "      <td>review</td>\n",
       "      <td>kGgAARL2UmvCcTRfiscjug</td>\n",
       "      <td>16</td>\n",
       "      <td>12</td>\n",
       "      <td>18</td>\n",
       "      <td>0.939562</td>\n",
       "    </tr>\n",
       "  </tbody>\n",
       "</table>\n",
       "</div>"
      ],
      "text/plain": [
       "                   business_id        date               review_id  stars  \\\n",
       "155961  f_leeIRar8uNCkk5sAmHRQ  2008-10-09  5h6lRtXvNlwYTU4kZKUdBQ      3   \n",
       "197107  vxC3YTLOeGJwrnHcep63FQ  2012-09-17  QBnnWLpktAtJ42rwOwTjTg      4   \n",
       "196029  PLLM4iCYy_OrT-53IZ88Qw  2012-03-13  kjZeix1k5Nw1VWqoId3lzg      4   \n",
       "3887    E5dqlvxPw9Q4XFqOMw_lqw  2011-08-03  qT8arKbR7ioofdeh6wJ3SA      4   \n",
       "58754   VKNl2-aF4n1x7lPVyU-Mag  2011-04-14  SE21xRhgPI3ZIdUq9xIhFQ      5   \n",
       "\n",
       "                                                     text    type  \\\n",
       "155961  [Scene] \\r\\n\\r\\nIt's 5:45 PM on a Sunday. A ma...  review   \n",
       "197107  Yay, a brand new Buffet opened today!     :-))...  review   \n",
       "196029  Eew, a Buffet with no meat?¿?     :-O\\r\\n\\r\\nO...  review   \n",
       "3887    Decided to stop by for breakfast by myself one...  review   \n",
       "58754   Was looking for a Mexican joint on Yelp and st...  review   \n",
       "\n",
       "                       user_id  votes.cool  votes.funny  votes.useful  \\\n",
       "155961  HOleI3jz1MLNUJ6cc1x0Pw           7           16             4   \n",
       "197107  ikm0UCahtK34LbLCEw4YTw           3            2             6   \n",
       "196029  ikm0UCahtK34LbLCEw4YTw           3            2             4   \n",
       "3887    kGgAARL2UmvCcTRfiscjug           4            4            10   \n",
       "58754   kGgAARL2UmvCcTRfiscjug          16           12            18   \n",
       "\n",
       "        useful.predicted  \n",
       "155961          0.950890  \n",
       "197107          0.940665  \n",
       "196029          0.939794  \n",
       "3887            0.939739  \n",
       "58754           0.939562  "
      ]
     },
     "execution_count": 114,
     "metadata": {},
     "output_type": "execute_result"
    }
   ],
   "source": [
    "sorted_reviews.head()"
   ]
  },
  {
   "cell_type": "code",
   "execution_count": 115,
   "metadata": {
    "scrolled": false
   },
   "outputs": [
    {
     "name": "stdout",
     "output_type": "stream",
     "text": [
      "Review 155961: \n",
      "\n",
      "[Scene] \r\n",
      "\r\n",
      "It's 5:45 PM on a Sunday. A man and woman are in North Phoenix meeting some friends at Sala Thai for dinner at 6:30. With so much time to spare, they decide to grab an alcoholic beverage. Thanks to Yelp on the man's Blackberry, they see that The Blooze is right down the street. They pull up into the shopping center shared by Big Lots and park in front of the bar. They open the door to find a dimly lit room with a bar to the left. There is only one open seat at the bar, so they decide to order a drink and then go sit at one of the high tables on the right. A man sitting to the right of the open seat turns toward them. As he opens his mouth to speak, the man and woman realize that he is missing all of his front teeth. \r\n",
      "\r\n",
      "Man with no teeth: Take my chair! I'll stand. I've been sitting for hours!\r\n",
      "Woman: Oh no, that's ok. We'll just get our drinks and then go sit over there (points to high tables). \r\n",
      "Man with no teeth: No, please. I insist. Take my chair. Sit at the bar. We're all friendly here. (He struggles to stand up and then kind of shoves the chair towards the man). I mean, unless of course you want to make out or something. \r\n",
      "Man: (Laughs). No, I think we'll be fine. \r\n",
      "(The bartender approaches). \r\n",
      "Bartender: What can I get you two? \r\n",
      "Woman: Two vodka sodas, please. (She and the man sit down in the two chairs). \r\n",
      "Woman (whispering in man's ear): We'll only be here for a minute, so you're ok with sitting here, right?\r\n",
      "Man: Yeah, yeah, it should be fine. \r\n",
      "Man with no teeth (extending hand for shake): Nice to meet you two. My name is Eddie Vedder. \r\n",
      "Woman: Really?\r\n",
      "Man with no teeth: Yeah, like the guy from Pearl Jam.\r\n",
      "Woman: I don't believe you. Can I see your ID?\r\n",
      "Man with no teeth: Yeah, I get this all the time. (Pulls ID from wallet). Here you go. \r\n",
      "Woman (turning to whisper in man's ear): Haha! It's spelled Eddie VeTTer. With two Ts not two Ds. (Hands ID back to man with no teeth). Great!\r\n",
      "Man with no teeth: Yeah, Eddie's my third cousin. My wife didn't believe it when she first met him at our family reunion. She was like you're related to Eddie Vedder the singer? Are you two married? I married my high school sweetheart, Christina. Do you have kids? \r\n",
      "Woman to man (whispering in ear): Oh. My. God. \r\n",
      "Woman to bartender: Can we get our check? \r\n",
      "Bartender (incredulously): Oh, you don't want another round? \r\n",
      "Woman (handing bartender debit card): No, thank you. We're just going down the street to meet some people for dinner. \r\n",
      "Bartender: Sorry, we actually have a $10 minimum to use a card, and your total so far is only $5.50. You might as well \r\n",
      "Woman: Wow, ok. I guess we'll have two more. \r\n",
      "Man with no teeth (who has been staring at bartender's cleavage this whole time): Haha, oops, sorry. I've been skiing the slopes for the last few minutes. \r\n",
      "(Woman squeezes man's hand as if to say OH. MY. GOD. WHAT ARE WE DOING HERE?)\r\n",
      "Man with no teeth: So, anyway, as I was saying, I married my high school sweetheart. We had kids right away. We've been married for 30 years. Except we're separated. We are apart except for the good stuff. He. He. That's right. I'm so glad to hear you don't have kids. It's important to grow the relationship first. \r\n",
      "(Woman keeps glancing around)\r\n",
      "Man with no teeth: If you want to make out, I can leave you alone. \r\n",
      "\r\n",
      "[15 minutes later]\r\n",
      "\r\n",
      "(Man and woman are walking out to car. They turn to each other with looks of disbelief and speak at the same time). \r\n",
      "\r\n",
      "Man: OH. MY. GOD. \r\n",
      "Woman: OH. MY. GOD. \n",
      "\n",
      "Predicted useful: 0.9509\n",
      "Useful votes: 4\n",
      "\n",
      " ------ \n",
      "\n",
      "Review 197107: \n",
      "\n",
      "Yay, a brand new Buffet opened today!     :-))\r\n",
      "\r\n",
      "Had the pleasure of running in the door this morning for the Grand Opening of this new Buffet as soon as it opened for the first time.     :-)     It occupies the former home of Hibachi Grill & Supreme Buffet, & the layout is the same as it was before but of course the menu is somewhat different with new owners.\r\n",
      "\r\n",
      "Mike C. & Robyn N. joined me, & for this first day there were 117 main food items, plus more coming out as we were eating.  There is Sushi, a Mongolian BBQ, & many of the selections we have come to expect from an American \"Chinese\" Buffet.  Some of the special treats for me today were tasty cottage cheese, fresh (not canned) pineapple chunks., & EIGHT kinds of real ice cream & sherbet!\r\n",
      "\r\n",
      "Things were a bit bumpy for their very first day, with issues of getting all of the food out on time & having the various items at the right temperatures, but the food was nicely varied, mostly delicious & the staff was lovely!\r\n",
      "\r\n",
      "I plan to stop back here for lunch again in a couple of weeks & see if it's up to it's 5 Star potential at that time.  Meanwhile, this nice new place IS a welcome addition to the Valley dining scene, so I'd say give it a try & see what you think!     :-))\r\n",
      "\r\n",
      "Weekday Lunch Buffet $7.99 \n",
      "\n",
      "Predicted useful: 0.9407\n",
      "Useful votes: 6\n",
      "\n",
      " ------ \n",
      "\n",
      "Review 196029: \n",
      "\n",
      "Eew, a Buffet with no meat?¿?     :-O\r\n",
      "\r\n",
      "Ok, I knew what I was getting into before driving 18 miles over here because I'm a YELPIE!  (Yeah Yelp!  Have you bought any of our newly released stock yet?  For $23.30 right now you can BE Yelp!  I'm just askin'.)     :-)\r\n",
      "\r\n",
      "Sorry I morphed into Jim Kramer for a moment...  Back on topic, let's get an actual gripe out of the way:  The Sambar soup was the first thing I tried, & it was lukewarm.  There goes a Star right off the bat!     :-O\r\n",
      "\r\n",
      "Ok, so was there anything good about this place, or is it lower than Thiruvananthapuram & we call the mover with the glitziest elephant...  ur, I mean the best Yelp rating, & send these guys packing, pots & pans banging, back to Bangalore?  Well maybe, but first let us consider:\r\n",
      "\r\n",
      "*  You get your choice of a table or a booth in this mid-sized restaurant.  (Yeah booths!)  It's a modern, nice place with a peaceful, comfortable air about it due in part to the excellent acoustics, lighting & layout...  and YES, they were busy!\r\n",
      "\r\n",
      "*  The staff was cheerful, friendly, & the table service just right!  Indian girl, whom unlike the soup was fairly hot (sorry!), had them fix me a Dosa, the latest foofy food around the Valley, in my choice of flavors from a little menu she had with her.  Mine was tasty, with curried potatoes & whatnot inside.\r\n",
      "\r\n",
      "There were only about 17 main food items plus sauces & dressings, but that seemed like enough.  Some of my favorites besides the Dosa were the Sambhar (soup), the Mutter Paneer, Pongal, Biryani Rice, the creamy hot help-yourself tea...  and the Gulab Janum (monkey balls) for dessert?  HARE KRISHNA!  HARE RAMA!  They were SO awesome!!\r\n",
      "\r\n",
      "What a pleasure to eat at this lovely place today with its interesting, different & delicious food!  His Divine Grace A. C. Bhaktivedanta Swami Prabhupada would have approved it & I think you'll like Cafe Krishna too!     :-))\r\n",
      "\r\n",
      "Monday through Thursday Lunch Buffet:  $7.99 \n",
      "\n",
      "Predicted useful: 0.9398\n",
      "Useful votes: 4\n",
      "\n",
      " ------ \n",
      "\n"
     ]
    }
   ],
   "source": [
    "for idx, review in sorted_reviews.iloc[0:3].iterrows():\n",
    "    \n",
    "    print(f'Review {idx}:', '\\n')\n",
    "    print(review['text'], '\\n')\n",
    "    print(f'Predicted useful: {review[\"useful.predicted\"]:.4f}')\n",
    "    print(f'Useful votes: {review[\"votes.useful\"]}')\n",
    "    print('\\n', '------', '\\n')"
   ]
  },
  {
   "cell_type": "markdown",
   "metadata": {},
   "source": [
    "On the other hand, let's preview the least useful reviews, as predicted by the model."
   ]
  },
  {
   "cell_type": "code",
   "execution_count": 116,
   "metadata": {},
   "outputs": [
    {
     "data": {
      "text/html": [
       "<div>\n",
       "<style>\n",
       "    .dataframe thead tr:only-child th {\n",
       "        text-align: right;\n",
       "    }\n",
       "\n",
       "    .dataframe thead th {\n",
       "        text-align: left;\n",
       "    }\n",
       "\n",
       "    .dataframe tbody tr th {\n",
       "        vertical-align: top;\n",
       "    }\n",
       "</style>\n",
       "<table border=\"1\" class=\"dataframe\">\n",
       "  <thead>\n",
       "    <tr style=\"text-align: right;\">\n",
       "      <th></th>\n",
       "      <th>business_id</th>\n",
       "      <th>date</th>\n",
       "      <th>review_id</th>\n",
       "      <th>stars</th>\n",
       "      <th>text</th>\n",
       "      <th>type</th>\n",
       "      <th>user_id</th>\n",
       "      <th>votes.cool</th>\n",
       "      <th>votes.funny</th>\n",
       "      <th>votes.useful</th>\n",
       "      <th>useful.predicted</th>\n",
       "    </tr>\n",
       "  </thead>\n",
       "  <tbody>\n",
       "    <tr>\n",
       "      <th>155221</th>\n",
       "      <td>RmA5zN-Bs89lsTuY6v8W3Q</td>\n",
       "      <td>2012-06-02</td>\n",
       "      <td>DHNMBl8kUOOxYD2AYtcwug</td>\n",
       "      <td>5</td>\n",
       "      <td>We love Tammy!</td>\n",
       "      <td>review</td>\n",
       "      <td>i7b1NSPyvIGwPP6d8v-dkA</td>\n",
       "      <td>0</td>\n",
       "      <td>0</td>\n",
       "      <td>0</td>\n",
       "      <td>0.210678</td>\n",
       "    </tr>\n",
       "    <tr>\n",
       "      <th>91188</th>\n",
       "      <td>Nc6GQOf3sr6zaOm-E0v4_g</td>\n",
       "      <td>2011-06-27</td>\n",
       "      <td>QmNX_DBJ9IVOxmTGHPe5dg</td>\n",
       "      <td>5</td>\n",
       "      <td>Been going here since i was 15 and i love how ...</td>\n",
       "      <td>review</td>\n",
       "      <td>SEPWK9VIxXJ3vUcjGUvdkA</td>\n",
       "      <td>0</td>\n",
       "      <td>0</td>\n",
       "      <td>0</td>\n",
       "      <td>0.210123</td>\n",
       "    </tr>\n",
       "    <tr>\n",
       "      <th>33250</th>\n",
       "      <td>zOJdahdaaLz7DpfdIucslg</td>\n",
       "      <td>2012-04-02</td>\n",
       "      <td>ImVhPN-3vznU-muBEF9DlQ</td>\n",
       "      <td>5</td>\n",
       "      <td>My sons favorite place.</td>\n",
       "      <td>review</td>\n",
       "      <td>_M2Mt2whJMhXc_iPerB6rQ</td>\n",
       "      <td>0</td>\n",
       "      <td>0</td>\n",
       "      <td>0</td>\n",
       "      <td>0.205610</td>\n",
       "    </tr>\n",
       "    <tr>\n",
       "      <th>200593</th>\n",
       "      <td>VdoqSzXlB3rldeW_BIag0w</td>\n",
       "      <td>2011-11-17</td>\n",
       "      <td>PsrXAasDpkLy1i-K6e_ZUQ</td>\n",
       "      <td>5</td>\n",
       "      <td>I love their shellac!</td>\n",
       "      <td>review</td>\n",
       "      <td>4ozupHULqGyO42s3zNUzOQ</td>\n",
       "      <td>2</td>\n",
       "      <td>1</td>\n",
       "      <td>1</td>\n",
       "      <td>0.199734</td>\n",
       "    </tr>\n",
       "    <tr>\n",
       "      <th>13854</th>\n",
       "      <td>EQ4UBZPlLhOGpINRD3oI_g</td>\n",
       "      <td>2011-05-21</td>\n",
       "      <td>M6CDNXF49Vgl7TR3oDrmGg</td>\n",
       "      <td>5</td>\n",
       "      <td>Great job on my pedi!</td>\n",
       "      <td>review</td>\n",
       "      <td>pkIRF1JY08UY-y5Mt93_2Q</td>\n",
       "      <td>0</td>\n",
       "      <td>0</td>\n",
       "      <td>0</td>\n",
       "      <td>0.188988</td>\n",
       "    </tr>\n",
       "  </tbody>\n",
       "</table>\n",
       "</div>"
      ],
      "text/plain": [
       "                   business_id        date               review_id  stars  \\\n",
       "155221  RmA5zN-Bs89lsTuY6v8W3Q  2012-06-02  DHNMBl8kUOOxYD2AYtcwug      5   \n",
       "91188   Nc6GQOf3sr6zaOm-E0v4_g  2011-06-27  QmNX_DBJ9IVOxmTGHPe5dg      5   \n",
       "33250   zOJdahdaaLz7DpfdIucslg  2012-04-02  ImVhPN-3vznU-muBEF9DlQ      5   \n",
       "200593  VdoqSzXlB3rldeW_BIag0w  2011-11-17  PsrXAasDpkLy1i-K6e_ZUQ      5   \n",
       "13854   EQ4UBZPlLhOGpINRD3oI_g  2011-05-21  M6CDNXF49Vgl7TR3oDrmGg      5   \n",
       "\n",
       "                                                     text    type  \\\n",
       "155221                                     We love Tammy!  review   \n",
       "91188   Been going here since i was 15 and i love how ...  review   \n",
       "33250                             My sons favorite place.  review   \n",
       "200593                              I love their shellac!  review   \n",
       "13854                               Great job on my pedi!  review   \n",
       "\n",
       "                       user_id  votes.cool  votes.funny  votes.useful  \\\n",
       "155221  i7b1NSPyvIGwPP6d8v-dkA           0            0             0   \n",
       "91188   SEPWK9VIxXJ3vUcjGUvdkA           0            0             0   \n",
       "33250   _M2Mt2whJMhXc_iPerB6rQ           0            0             0   \n",
       "200593  4ozupHULqGyO42s3zNUzOQ           2            1             1   \n",
       "13854   pkIRF1JY08UY-y5Mt93_2Q           0            0             0   \n",
       "\n",
       "        useful.predicted  \n",
       "155221          0.210678  \n",
       "91188           0.210123  \n",
       "33250           0.205610  \n",
       "200593          0.199734  \n",
       "13854           0.188988  "
      ]
     },
     "execution_count": 116,
     "metadata": {},
     "output_type": "execute_result"
    }
   ],
   "source": [
    "sorted_reviews.tail()"
   ]
  },
  {
   "cell_type": "code",
   "execution_count": 117,
   "metadata": {},
   "outputs": [
    {
     "name": "stdout",
     "output_type": "stream",
     "text": [
      "Review 155221: \n",
      "\n",
      "We love Tammy! \n",
      "\n",
      "Predicted useful: 0.2107\n",
      "Useful votes: 0\n",
      "\n",
      " ------ \n",
      "\n",
      "Review 91188: \n",
      "\n",
      "Been going here since i was 15 and i love how nancy the owner does my nails, eyebrows, and pedicures! \n",
      "\n",
      "Predicted useful: 0.2101\n",
      "Useful votes: 0\n",
      "\n",
      " ------ \n",
      "\n",
      "Review 33250: \n",
      "\n",
      "My sons favorite place. \n",
      "\n",
      "Predicted useful: 0.2056\n",
      "Useful votes: 0\n",
      "\n",
      " ------ \n",
      "\n",
      "Review 200593: \n",
      "\n",
      "I love their shellac! \n",
      "\n",
      "Predicted useful: 0.1997\n",
      "Useful votes: 1\n",
      "\n",
      " ------ \n",
      "\n",
      "Review 13854: \n",
      "\n",
      "Great job on my pedi! \n",
      "\n",
      "Predicted useful: 0.1890\n",
      "Useful votes: 0\n",
      "\n",
      " ------ \n",
      "\n"
     ]
    }
   ],
   "source": [
    "for idx, review in sorted_reviews.iloc[-5:].iterrows():\n",
    "    \n",
    "    print(f'Review {idx}:', '\\n')\n",
    "    print(review['text'], '\\n')\n",
    "    print(f'Predicted useful: {review[\"useful.predicted\"]:.4f}')\n",
    "    print(f'Useful votes: {review[\"votes.useful\"]}')\n",
    "    print('\\n', '------', '\\n')"
   ]
  },
  {
   "cell_type": "markdown",
   "metadata": {},
   "source": [
    "From a qualitative perspective, does it seem like the model is doing a good job predicting which reviews Yelp users are most likely to find useful?"
   ]
  }
 ],
 "metadata": {
  "kernelspec": {
   "display_name": "Python 3",
   "language": "python",
   "name": "python3"
  },
  "language_info": {
   "codemirror_mode": {
    "name": "ipython",
    "version": 3
   },
   "file_extension": ".py",
   "mimetype": "text/x-python",
   "name": "python",
   "nbconvert_exporter": "python",
   "pygments_lexer": "ipython3",
   "version": "3.6.2"
  },
  "varInspector": {
   "cols": {
    "lenName": 16,
    "lenType": 16,
    "lenVar": 40
   },
   "kernels_config": {
    "python": {
     "delete_cmd_postfix": "",
     "delete_cmd_prefix": "del ",
     "library": "var_list.py",
     "varRefreshCmd": "print(var_dic_list())"
    },
    "r": {
     "delete_cmd_postfix": ") ",
     "delete_cmd_prefix": "rm(",
     "library": "var_list.r",
     "varRefreshCmd": "cat(var_dic_list()) "
    }
   },
   "types_to_exclude": [
    "module",
    "function",
    "builtin_function_or_method",
    "instance",
    "_Feature"
   ],
   "window_display": false
  }
 },
 "nbformat": 4,
 "nbformat_minor": 2
}
